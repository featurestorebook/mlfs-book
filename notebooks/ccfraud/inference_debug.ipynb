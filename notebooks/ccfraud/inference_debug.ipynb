{
 "cells": [
  {
   "cell_type": "code",
   "execution_count": null,
   "id": "adad7ae0-e609-4fb3-ac20-fefcd73f7ac0",
   "metadata": {},
   "outputs": [],
   "source": [
    "import sys\n",
    "from pathlib import Path\n",
    "\n",
    "def is_google_colab() -> bool:\n",
    "    if \"google.colab\" in str(get_ipython()):\n",
    "        return True\n",
    "    return False\n",
    "\n",
    "def clone_repository() -> None:\n",
    "    !git clone https://github.com/featurestorebook/mlfs-book.git\n",
    "    %cd mlfs-book\n",
    "\n",
    "def install_dependencies() -> None:\n",
    "    !pip install --upgrade uv\n",
    "    !uv pip install --all-extras --system --requirement pyproject.toml\n",
    "\n",
    "if is_google_colab():\n",
    "    clone_repository()\n",
    "    install_dependencies()\n",
    "    root_dir = str(Path().absolute())\n",
    "    print(\"⛳️ Google Colab environment\")\n",
    "else:\n",
    "    root_dir = str(Path().absolute().parent.parent)\n",
    "    print(\"⛳️ Local environment\")\n",
    "\n",
    "# Add the root directory to the `PYTHONPATH` to use the `mlfs` Python module from the notebook.\n",
    "if root_dir not in sys.path:\n",
    "    print(f\"Adding the following directory to the PYTHONPATH: {root_dir}\")\n",
    "    sys.path.append(root_dir)"
   ]
  },
  {
   "cell_type": "code",
   "execution_count": 1,
   "id": "d5594cfb",
   "metadata": {},
   "outputs": [],
   "source": [
    "import hopsworks\n",
    "import pandas as pd\n",
    "import numpy as np"
   ]
  },
  {
   "cell_type": "code",
   "execution_count": 2,
   "id": "37c3cfc1",
   "metadata": {},
   "outputs": [
    {
     "name": "stdout",
     "output_type": "stream",
     "text": [
      "Connected. Call `.close()` to terminate connection gracefully.\n",
      "\n",
      "Logged in to project, explore it here https://snurran.hops.works/p/15479\n",
      "Connected. Call `.close()` to terminate connection gracefully.\n"
     ]
    }
   ],
   "source": [
    "project = hopsworks.login()\n",
    "fs = project.get_feature_store()"
   ]
  },
  {
   "cell_type": "code",
   "execution_count": 10,
   "id": "e02df021",
   "metadata": {},
   "outputs": [],
   "source": [
    "input_transaction = {\n",
    "    'account_id': '3e348c098166ca93f95803b943bae475',\n",
    "    'amount': 123,\n",
    "    'category': 'Cash Withdrawal',\n",
    "    'city': 'Collinwood',\n",
    "    'latitude': 40.65538,\n",
    "    'longitude': -74.38987\n",
    "}"
   ]
  },
  {
   "cell_type": "code",
   "execution_count": 11,
   "id": "4a9bcacd",
   "metadata": {},
   "outputs": [],
   "source": [
    "fraud_fv = fs.get_feature_view(\"fraud_model_fv\", 1)"
   ]
  },
  {
   "cell_type": "code",
   "execution_count": 12,
   "id": "879a1cbf",
   "metadata": {},
   "outputs": [
    {
     "name": "stdout",
     "output_type": "stream",
     "text": [
      "2024-06-26 13:16:13,735 WARNING: VersionWarning: No training dataset version was provided to initialise serving. Defaulting to version 1.\n",
      "\n",
      "2024-06-26 13:16:13,737 INFO: Default Online Store Client is set to sql.\n",
      "2024-06-26 13:16:14,392 INFO: Initialising Vector Server Online SQL client\n",
      "2024-06-26 13:16:17,508 INFO: Default Online Store Client is set to sql.\n",
      "2024-06-26 13:16:18,124 INFO: Initialising Vector Server Online SQL client\n"
     ]
    }
   ],
   "source": [
    "helpers_df = fraud_fv.get_inference_helper(entry={'account_id': input_transaction['account_id']})"
   ]
  },
  {
   "cell_type": "code",
   "execution_count": 13,
   "id": "879726f2",
   "metadata": {},
   "outputs": [
    {
     "data": {
      "text/html": [
       "<div>\n",
       "<style scoped>\n",
       "    .dataframe tbody tr th:only-of-type {\n",
       "        vertical-align: middle;\n",
       "    }\n",
       "\n",
       "    .dataframe tbody tr th {\n",
       "        vertical-align: top;\n",
       "    }\n",
       "\n",
       "    .dataframe thead th {\n",
       "        text-align: right;\n",
       "    }\n",
       "</style>\n",
       "<table border=\"1\" class=\"dataframe\">\n",
       "  <thead>\n",
       "    <tr style=\"text-align: right;\">\n",
       "      <th></th>\n",
       "      <th>city</th>\n",
       "      <th>last_transaction_datetime</th>\n",
       "      <th>longitude</th>\n",
       "      <th>latitude</th>\n",
       "    </tr>\n",
       "  </thead>\n",
       "  <tbody>\n",
       "    <tr>\n",
       "      <th>0</th>\n",
       "      <td>Opportunity</td>\n",
       "      <td>2024-06-24 04:30:15</td>\n",
       "      <td>-111.78903</td>\n",
       "      <td>33.35283</td>\n",
       "    </tr>\n",
       "  </tbody>\n",
       "</table>\n",
       "</div>"
      ],
      "text/plain": [
       "          city last_transaction_datetime  longitude  latitude\n",
       "0  Opportunity       2024-06-24 04:30:15 -111.78903  33.35283"
      ]
     },
     "execution_count": 13,
     "metadata": {},
     "output_type": "execute_result"
    }
   ],
   "source": [
    "helpers_df"
   ]
  },
  {
   "cell_type": "code",
   "execution_count": 6,
   "id": "c82b8b51",
   "metadata": {},
   "outputs": [],
   "source": [
    "def haversine(lat_1, long_1, lat_2, long_2):\n",
    "    long_diff = long_1 - long_2\n",
    "    lat_diff = lat_1 - lat_2\n",
    "\n",
    "    a = np.sin(lat_diff/2.0)**2\n",
    "    b = np.cos(lat_1) * np.cos(lat_2) * np.sin(long_diff/2.0)**2\n",
    "    return 2*np.arcsin(np.sqrt(a + b))"
   ]
  },
  {
   "cell_type": "code",
   "execution_count": 14,
   "id": "f97b7eca",
   "metadata": {},
   "outputs": [],
   "source": [
    "passed_features = {\n",
    "    \"time_delta_t_minus_1\": ((pd.Timestamp.now() - helpers_df[\"last_transaction_datetime\"]) / np.timedelta64(1, 'D')).iloc[0],\n",
    "    \"loc_delta_t_minus_1\": haversine(helpers_df['latitude'].iloc[0], helpers_df['longitude'].iloc[0], input_transaction['latitude'], input_transaction['longitude']),\n",
    "    \"outside_city\": 0 if helpers_df['city'].iloc[0] == input_transaction['city'] else 1\n",
    "}"
   ]
  },
  {
   "cell_type": "code",
   "execution_count": 15,
   "id": "1c7c3953",
   "metadata": {},
   "outputs": [],
   "source": [
    "passed_features.update(input_transaction)"
   ]
  },
  {
   "cell_type": "code",
   "execution_count": 16,
   "id": "c9bcc0c9",
   "metadata": {},
   "outputs": [
    {
     "name": "stdout",
     "output_type": "stream",
     "text": [
      "2024-06-26 13:16:29,726 INFO: get_feature_vector Online SQL client\n"
     ]
    }
   ],
   "source": [
    "feature_vector = fraud_fv.get_feature_vector(\n",
    "                  entry={'account_id': input_transaction['account_id']},\n",
    "                  passed_features=passed_features,\n",
    "                  return_type=\"pandas\",\n",
    "            )\n"
   ]
  },
  {
   "cell_type": "code",
   "execution_count": 17,
   "id": "2fde20fd",
   "metadata": {},
   "outputs": [
    {
     "data": {
      "text/html": [
       "<div>\n",
       "<style scoped>\n",
       "    .dataframe tbody tr th:only-of-type {\n",
       "        vertical-align: middle;\n",
       "    }\n",
       "\n",
       "    .dataframe tbody tr th {\n",
       "        vertical-align: top;\n",
       "    }\n",
       "\n",
       "    .dataframe thead th {\n",
       "        text-align: right;\n",
       "    }\n",
       "</style>\n",
       "<table border=\"1\" class=\"dataframe\">\n",
       "  <thead>\n",
       "    <tr style=\"text-align: right;\">\n",
       "      <th></th>\n",
       "      <th>amount</th>\n",
       "      <th>category</th>\n",
       "      <th>time_delta_t_minus_1</th>\n",
       "      <th>loc_delta_t_minus_1</th>\n",
       "      <th>outside_city</th>\n",
       "      <th>cc_provider</th>\n",
       "      <th>cc_type</th>\n",
       "      <th>age</th>\n",
       "      <th>cc_expiration_days</th>\n",
       "      <th>count</th>\n",
       "      <th>min_amount</th>\n",
       "      <th>max_amount</th>\n",
       "      <th>mean</th>\n",
       "    </tr>\n",
       "  </thead>\n",
       "  <tbody>\n",
       "    <tr>\n",
       "      <th>0</th>\n",
       "      <td>123.0</td>\n",
       "      <td>2.0</td>\n",
       "      <td>2.36542</td>\n",
       "      <td>1.037706</td>\n",
       "      <td>1.0</td>\n",
       "      <td>0.0</td>\n",
       "      <td>1.0</td>\n",
       "      <td>34.419178</td>\n",
       "      <td>1100.0</td>\n",
       "      <td>1.0</td>\n",
       "      <td>80.45</td>\n",
       "      <td>80.45</td>\n",
       "      <td>80.45</td>\n",
       "    </tr>\n",
       "  </tbody>\n",
       "</table>\n",
       "</div>"
      ],
      "text/plain": [
       "   amount  category  time_delta_t_minus_1  loc_delta_t_minus_1  outside_city  \\\n",
       "0   123.0       2.0               2.36542             1.037706           1.0   \n",
       "\n",
       "   cc_provider  cc_type        age  cc_expiration_days  count  min_amount  \\\n",
       "0          0.0      1.0  34.419178              1100.0    1.0       80.45   \n",
       "\n",
       "   max_amount   mean  \n",
       "0       80.45  80.45  "
      ]
     },
     "execution_count": 17,
     "metadata": {},
     "output_type": "execute_result"
    }
   ],
   "source": [
    "feature_vector"
   ]
  },
  {
   "cell_type": "code",
   "execution_count": null,
   "id": "b4b59975",
   "metadata": {},
   "outputs": [],
   "source": []
  }
 ],
 "metadata": {
  "kernelspec": {
   "display_name": "Python 3 (ipykernel)",
   "language": "python",
   "name": "python3"
  },
  "language_info": {
   "codemirror_mode": {
    "name": "ipython",
    "version": 3
   },
   "file_extension": ".py",
   "mimetype": "text/x-python",
   "name": "python",
   "nbconvert_exporter": "python",
   "pygments_lexer": "ipython3",
   "version": "3.10.0"
  }
 },
 "nbformat": 4,
 "nbformat_minor": 5
}
