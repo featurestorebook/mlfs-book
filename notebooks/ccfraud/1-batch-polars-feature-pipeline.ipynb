{
 "cells": [
  {
   "cell_type": "code",
   "execution_count": 1,
   "id": "677128b5-3af8-411b-8a10-e1aed1ce8c4b",
   "metadata": {},
   "outputs": [
    {
     "name": "stdout",
     "output_type": "stream",
     "text": [
      "⛳️ Local environment\n",
      "Adding the following directory to the PYTHONPATH: /home/jdowling/Projects/mlfs-book/notebooks/ch06/cc-fraud\n"
     ]
    }
   ],
   "source": [
    "import sys\n",
    "from pathlib import Path\n",
    "\n",
    "\n",
    "def is_google_colab() -> bool:\n",
    "    if \"google.colab\" in str(get_ipython()):\n",
    "        return True\n",
    "    return False\n",
    "\n",
    "\n",
    "def clone_repository() -> None:\n",
    "    !git clone https://github.com/featurestorebook/mlfs-book.git\n",
    "    %cd mlfs-book\n",
    "\n",
    "\n",
    "def install_dependencies() -> None:\n",
    "    !pip install --upgrade uv\n",
    "    !uv pip install --all-extras --system --requirement pyproject.toml\n",
    "\n",
    "\n",
    "if is_google_colab():\n",
    "    clone_repository()\n",
    "    install_dependencies()\n",
    "    root_dir = str(Path().absolute())\n",
    "    print(\"Google Colab environment\")\n",
    "else:\n",
    "    root_dir = Path().absolute()\n",
    "    # Strip ~/notebooks/ccfraud from PYTHON_PATH if notebook started in one of these subdirectories\n",
    "    if root_dir.parts[-1:] == ('ccfraud',):\n",
    "        root_dir = Path(*root_dir.parts[:-1])\n",
    "    if root_dir.parts[-1:] == ('notebooks',):\n",
    "        root_dir = Path(*root_dir.parts[:-1])\n",
    "    root_dir = str(root_dir) \n",
    "    print(\"Local environment\")\n",
    "\n",
    "# Add the root directory to the `PYTHONPATH` to use the `recsys` Python module from the notebook.\n",
    "if root_dir not in sys.path:\n",
    "    sys.path.append(root_dir)\n",
    "print(f\"Added the following directory to the PYTHONPATH: {root_dir}\")"
   ]
  },
  {
   "cell_type": "code",
   "execution_count": 2,
   "id": "ff703c64",
   "metadata": {},
   "outputs": [
    {
     "name": "stdout",
     "output_type": "stream",
     "text": [
      "2024-12-30 22:49:25,903 INFO: Initializing external client\n",
      "2024-12-30 22:49:25,903 INFO: Base URL: https://c.app.hopsworks.ai:443\n",
      "2024-12-30 22:49:27,264 INFO: Python Engine initialized.\n",
      "\n",
      "Logged in to project, explore it here https://c.app.hopsworks.ai:443/p/17565\n"
     ]
    }
   ],
   "source": [
    "import hopsworks\n",
    "import pandas as pd\n",
    "from datetime import datetime\n",
    "from datetime import timedelta\n",
    "import polars as pl\n",
    "from hopsworks.hsfs.feature import Feature\n",
    "import mlfs.ccfraud.features\n",
    "from mlfs.config import settings\n",
    "\n",
    "fs = hopsworks.login(api_key_value=settings.HOPSWORKS_API_KEY.get_secret_value()).get_feature_store()\n",
    "\n",
    "accounts_fg = fs.get_feature_group(\"account_details\", version=1)\n",
    "merchants_fg = fs.get_feature_group(\"merchant_details\", version=1)\n",
    "banks_fg = fs.get_feature_group(\"bank_details\", version=1)\n",
    "cards_fg = fs.get_feature_group(\"card_details\", version=1)\n",
    "transactions_fg = fs.get_feature_group(\"credit_card_transactions\", version=1)\n",
    "cc_fraud_fg = fs.get_feature_group(\"cc_fraud\", version=1)"
   ]
  },
  {
   "cell_type": "code",
   "execution_count": 3,
   "id": "dbeb55f1",
   "metadata": {},
   "outputs": [],
   "source": [
    "# For full BACKFILL, change backfill=30\n",
    "backfill=30\n",
    "end_time = datetime.now() + timedelta(days=7)\n",
    "start_time = end_time - timedelta(days=backfill)"
   ]
  },
  {
   "cell_type": "code",
   "execution_count": 4,
   "id": "c2662adc-bcaf-4659-9fd7-6b4ea77e2342",
   "metadata": {},
   "outputs": [
    {
     "name": "stderr",
     "output_type": "stream",
     "text": [
      "/arrow/cpp/src/arrow/status.cc:137: DoAction result was not fully consumed: Cancelled: Flight cancelled call, with message: CANCELLED. Detail: Cancelled\n"
     ]
    },
    {
     "name": "stdout",
     "output_type": "stream",
     "text": [
      "Finished: Reading data from Hopsworks, using Hopsworks Feature Query Service (1.06s) \n"
     ]
    }
   ],
   "source": [
    "banks_df = banks_fg.read()"
   ]
  },
  {
   "cell_type": "code",
   "execution_count": 5,
   "id": "cd0c93ed",
   "metadata": {},
   "outputs": [],
   "source": [
    "def df_by_ts(fg, ts_column, start_time, end_time):\n",
    "    return fg.filter((Feature(ts_column) > start_time) & (Feature(ts_column) < end_time)).read(dataframe_type=\"polars\") "
   ]
  },
  {
   "cell_type": "code",
   "execution_count": 6,
   "id": "2d0e317c",
   "metadata": {},
   "outputs": [
    {
     "name": "stdout",
     "output_type": "stream",
     "text": [
      "Finished: Reading data from Hopsworks, using Hopsworks Feature Query Service (6.71s) \n",
      "shape: (510_000, 7)\n",
      "┌─────────────────┬────────┬─────────────┬────────┬────────────────┬────────────────┬──────────────┐\n",
      "│ t_id            ┆ cc_num ┆ merchant_id ┆ amount ┆ ip_address     ┆ ts             ┆ card_present │\n",
      "│ ---             ┆ ---    ┆ ---         ┆ ---    ┆ ---            ┆ ---            ┆ ---          │\n",
      "│ str             ┆ str    ┆ str         ┆ f64    ┆ str            ┆ datetime[μs,   ┆ bool         │\n",
      "│                 ┆        ┆             ┆        ┆                ┆ Etc/UTC]       ┆              │\n",
      "╞═════════════════╪════════╪═════════════╪════════╪════════════════╪════════════════╪══════════════╡\n",
      "│ 6496e803-4aec-4 ┆ 4356   ┆ 1368        ┆ 123.69 ┆ 115.90.194.134 ┆ 2024-12-18 06: ┆ false        │\n",
      "│ cf5-9f0a-b6f851 ┆        ┆             ┆        ┆ /32            ┆ 42:00.058492   ┆              │\n",
      "│ …               ┆        ┆             ┆        ┆                ┆ UTC            ┆              │\n",
      "│ 1a74ceab-ca03-4 ┆ 5244   ┆ 1250        ┆ 66.62  ┆ 154.178.147.0  ┆ 2024-12-18 23: ┆ false        │\n",
      "│ 667-8707-9c7adb ┆        ┆             ┆        ┆                ┆ 23:48.058492   ┆              │\n",
      "│ …               ┆        ┆             ┆        ┆                ┆ UTC            ┆              │\n",
      "│ e4f25e22-d9ac-4 ┆ 593    ┆ 110         ┆ 113.86 ┆ 73.167.241.177 ┆ 2024-12-23 22: ┆ false        │\n",
      "│ e6e-98d4-af53fe ┆        ┆             ┆        ┆                ┆ 34:14.058492   ┆              │\n",
      "│ …               ┆        ┆             ┆        ┆                ┆ UTC            ┆              │\n",
      "│ bf1691fe-02ee-4 ┆ 6914   ┆ 1990        ┆ 192.46 ┆ 77.198.32.44   ┆ 2024-12-17 02: ┆ false        │\n",
      "│ 582-bb59-772ecb ┆        ┆             ┆        ┆                ┆ 18:40.058492   ┆              │\n",
      "│ …               ┆        ┆             ┆        ┆                ┆ UTC            ┆              │\n",
      "│ 2d360a07-4bf9-4 ┆ 8137   ┆ 451         ┆ 164.67 ┆ 109.32.0.0/11  ┆ 2024-12-20 02: ┆ false        │\n",
      "│ b76-b398-9c661b ┆        ┆             ┆        ┆                ┆ 36:53.058492   ┆              │\n",
      "│ …               ┆        ┆             ┆        ┆                ┆ UTC            ┆              │\n",
      "│ …               ┆ …      ┆ …           ┆ …      ┆ …              ┆ …              ┆ …            │\n",
      "│ 1bd66d08-5859-4 ┆ 5184   ┆ 951         ┆ 218.08 ┆ 36.84.144.110  ┆ 2024-12-23 10: ┆ false        │\n",
      "│ fa5-b907-abc530 ┆        ┆             ┆        ┆                ┆ 24:52.058492   ┆              │\n",
      "│ …               ┆        ┆             ┆        ┆                ┆ UTC            ┆              │\n",
      "│ 769699a2-d899-4 ┆ 7088   ┆ 500         ┆ 119.91 ┆ 58.29.29.68    ┆ 2024-12-24 05: ┆ false        │\n",
      "│ 397-8584-1111d9 ┆        ┆             ┆        ┆                ┆ 57:07.058492   ┆              │\n",
      "│ …               ┆        ┆             ┆        ┆                ┆ UTC            ┆              │\n",
      "│ 6fd936a8-3820-4 ┆ 4374   ┆ 1747        ┆ 38.42  ┆ 35.254.57.118  ┆ 2024-12-26 00: ┆ false        │\n",
      "│ 468-9985-50eda9 ┆        ┆             ┆        ┆                ┆ 42:25.058492   ┆              │\n",
      "│ …               ┆        ┆             ┆        ┆                ┆ UTC            ┆              │\n",
      "│ 57662b4c-689b-4 ┆ 2880   ┆ 1106        ┆ 658.49 ┆ 157.95.176.176 ┆ 2024-12-24 00: ┆ false        │\n",
      "│ a7c-9a4e-e86d95 ┆        ┆             ┆        ┆ /28            ┆ 58:50.058492   ┆              │\n",
      "│ …               ┆        ┆             ┆        ┆                ┆ UTC            ┆              │\n",
      "│ c2ef927c-fed4-4 ┆ 2131   ┆ 172         ┆ 366.53 ┆ 77.124.253.22  ┆ 2024-12-23 15: ┆ false        │\n",
      "│ 40b-9758-8aa6a3 ┆        ┆             ┆        ┆                ┆ 27:54.058492   ┆              │\n",
      "│ …               ┆        ┆             ┆        ┆                ┆ UTC            ┆              │\n",
      "└─────────────────┴────────┴─────────────┴────────┴────────────────┴────────────────┴──────────────┘\n"
     ]
    }
   ],
   "source": [
    "transactions_df = df_by_ts(transactions_fg, \"ts\", start_time, end_time)\n",
    "print(transactions_df)"
   ]
  },
  {
   "cell_type": "code",
   "execution_count": 7,
   "id": "aaf13e26",
   "metadata": {},
   "outputs": [
    {
     "data": {
      "text/html": [
       "<div><style>\n",
       ".dataframe > thead > tr,\n",
       ".dataframe > tbody > tr {\n",
       "  text-align: right;\n",
       "  white-space: pre-wrap;\n",
       "}\n",
       "</style>\n",
       "<small>shape: (1, 7)</small><table border=\"1\" class=\"dataframe\"><thead><tr><th>t_id</th><th>cc_num</th><th>merchant_id</th><th>amount</th><th>ip_address</th><th>ts</th><th>card_present</th></tr><tr><td>u32</td><td>u32</td><td>u32</td><td>u32</td><td>u32</td><td>u32</td><td>u32</td></tr></thead><tbody><tr><td>510000</td><td>510000</td><td>510000</td><td>510000</td><td>510000</td><td>510000</td><td>510000</td></tr></tbody></table></div>"
      ],
      "text/plain": [
       "shape: (1, 7)\n",
       "┌────────┬────────┬─────────────┬────────┬────────────┬────────┬──────────────┐\n",
       "│ t_id   ┆ cc_num ┆ merchant_id ┆ amount ┆ ip_address ┆ ts     ┆ card_present │\n",
       "│ ---    ┆ ---    ┆ ---         ┆ ---    ┆ ---        ┆ ---    ┆ ---          │\n",
       "│ u32    ┆ u32    ┆ u32         ┆ u32    ┆ u32        ┆ u32    ┆ u32          │\n",
       "╞════════╪════════╪═════════════╪════════╪════════════╪════════╪══════════════╡\n",
       "│ 510000 ┆ 510000 ┆ 510000      ┆ 510000 ┆ 510000     ┆ 510000 ┆ 510000       │\n",
       "└────────┴────────┴─────────────┴────────┴────────────┴────────┴──────────────┘"
      ]
     },
     "execution_count": 7,
     "metadata": {},
     "output_type": "execute_result"
    }
   ],
   "source": [
    "transactions_df.count()"
   ]
  },
  {
   "cell_type": "code",
   "execution_count": 8,
   "id": "21d184c3",
   "metadata": {},
   "outputs": [
    {
     "data": {
      "text/html": [
       "<div><style>\n",
       ".dataframe > thead > tr,\n",
       ".dataframe > tbody > tr {\n",
       "  text-align: right;\n",
       "  white-space: pre-wrap;\n",
       "}\n",
       "</style>\n",
       "<small>shape: (5, 7)</small><table border=\"1\" class=\"dataframe\"><thead><tr><th>t_id</th><th>cc_num</th><th>merchant_id</th><th>amount</th><th>ip_address</th><th>ts</th><th>card_present</th></tr><tr><td>str</td><td>str</td><td>str</td><td>f64</td><td>str</td><td>datetime[μs, Etc/UTC]</td><td>bool</td></tr></thead><tbody><tr><td>&quot;6496e803-4aec-4cf5-9f0a-b6f851…</td><td>&quot;4356&quot;</td><td>&quot;1368&quot;</td><td>123.69</td><td>&quot;115.90.194.134/32&quot;</td><td>2024-12-18 06:42:00.058492 UTC</td><td>false</td></tr><tr><td>&quot;1a74ceab-ca03-4667-8707-9c7adb…</td><td>&quot;5244&quot;</td><td>&quot;1250&quot;</td><td>66.62</td><td>&quot;154.178.147.0&quot;</td><td>2024-12-18 23:23:48.058492 UTC</td><td>false</td></tr><tr><td>&quot;e4f25e22-d9ac-4e6e-98d4-af53fe…</td><td>&quot;593&quot;</td><td>&quot;110&quot;</td><td>113.86</td><td>&quot;73.167.241.177&quot;</td><td>2024-12-23 22:34:14.058492 UTC</td><td>false</td></tr><tr><td>&quot;bf1691fe-02ee-4582-bb59-772ecb…</td><td>&quot;6914&quot;</td><td>&quot;1990&quot;</td><td>192.46</td><td>&quot;77.198.32.44&quot;</td><td>2024-12-17 02:18:40.058492 UTC</td><td>false</td></tr><tr><td>&quot;2d360a07-4bf9-4b76-b398-9c661b…</td><td>&quot;8137&quot;</td><td>&quot;451&quot;</td><td>164.67</td><td>&quot;109.32.0.0/11&quot;</td><td>2024-12-20 02:36:53.058492 UTC</td><td>false</td></tr></tbody></table></div>"
      ],
      "text/plain": [
       "shape: (5, 7)\n",
       "┌─────────────────┬────────┬─────────────┬────────┬────────────────┬────────────────┬──────────────┐\n",
       "│ t_id            ┆ cc_num ┆ merchant_id ┆ amount ┆ ip_address     ┆ ts             ┆ card_present │\n",
       "│ ---             ┆ ---    ┆ ---         ┆ ---    ┆ ---            ┆ ---            ┆ ---          │\n",
       "│ str             ┆ str    ┆ str         ┆ f64    ┆ str            ┆ datetime[μs,   ┆ bool         │\n",
       "│                 ┆        ┆             ┆        ┆                ┆ Etc/UTC]       ┆              │\n",
       "╞═════════════════╪════════╪═════════════╪════════╪════════════════╪════════════════╪══════════════╡\n",
       "│ 6496e803-4aec-4 ┆ 4356   ┆ 1368        ┆ 123.69 ┆ 115.90.194.134 ┆ 2024-12-18 06: ┆ false        │\n",
       "│ cf5-9f0a-b6f851 ┆        ┆             ┆        ┆ /32            ┆ 42:00.058492   ┆              │\n",
       "│ …               ┆        ┆             ┆        ┆                ┆ UTC            ┆              │\n",
       "│ 1a74ceab-ca03-4 ┆ 5244   ┆ 1250        ┆ 66.62  ┆ 154.178.147.0  ┆ 2024-12-18 23: ┆ false        │\n",
       "│ 667-8707-9c7adb ┆        ┆             ┆        ┆                ┆ 23:48.058492   ┆              │\n",
       "│ …               ┆        ┆             ┆        ┆                ┆ UTC            ┆              │\n",
       "│ e4f25e22-d9ac-4 ┆ 593    ┆ 110         ┆ 113.86 ┆ 73.167.241.177 ┆ 2024-12-23 22: ┆ false        │\n",
       "│ e6e-98d4-af53fe ┆        ┆             ┆        ┆                ┆ 34:14.058492   ┆              │\n",
       "│ …               ┆        ┆             ┆        ┆                ┆ UTC            ┆              │\n",
       "│ bf1691fe-02ee-4 ┆ 6914   ┆ 1990        ┆ 192.46 ┆ 77.198.32.44   ┆ 2024-12-17 02: ┆ false        │\n",
       "│ 582-bb59-772ecb ┆        ┆             ┆        ┆                ┆ 18:40.058492   ┆              │\n",
       "│ …               ┆        ┆             ┆        ┆                ┆ UTC            ┆              │\n",
       "│ 2d360a07-4bf9-4 ┆ 8137   ┆ 451         ┆ 164.67 ┆ 109.32.0.0/11  ┆ 2024-12-20 02: ┆ false        │\n",
       "│ b76-b398-9c661b ┆        ┆             ┆        ┆                ┆ 36:53.058492   ┆              │\n",
       "│ …               ┆        ┆             ┆        ┆                ┆ UTC            ┆              │\n",
       "└─────────────────┴────────┴─────────────┴────────┴────────────────┴────────────────┴──────────────┘"
      ]
     },
     "execution_count": 8,
     "metadata": {},
     "output_type": "execute_result"
    }
   ],
   "source": [
    "transactions_df.head()"
   ]
  },
  {
   "cell_type": "code",
   "execution_count": 9,
   "id": "84a093ea",
   "metadata": {},
   "outputs": [
    {
     "name": "stdout",
     "output_type": "stream",
     "text": [
      "Finished: Reading data from Hopsworks, using Hopsworks Feature Query Service (1.36s) \n"
     ]
    },
    {
     "data": {
      "text/html": [
       "<div><style>\n",
       ".dataframe > thead > tr,\n",
       ".dataframe > tbody > tr {\n",
       "  text-align: right;\n",
       "  white-space: pre-wrap;\n",
       "}\n",
       "</style>\n",
       "<small>shape: (5, 4)</small><table border=\"1\" class=\"dataframe\"><thead><tr><th>report_id</th><th>t_id</th><th>report_time</th><th>fraud_type</th></tr><tr><td>str</td><td>str</td><td>datetime[μs, Etc/UTC]</td><td>str</td></tr></thead><tbody><tr><td>&quot;30fa98fd-b245-4eac-a6a2-7452ba…</td><td>&quot;27d1491e-1d80-46f9-8698-45c726…</td><td>2024-12-26 23:25:08.058492 UTC</td><td>&quot;Card Not Present&quot;</td></tr><tr><td>&quot;e65aa076-b721-44f9-b913-0978e7…</td><td>&quot;1ed41244-e91f-402d-b5b1-b7afd6…</td><td>2024-12-27 02:23:21.058492 UTC</td><td>&quot;Skimming&quot;</td></tr><tr><td>&quot;cc4fb7cb-346c-44b4-9094-3e81d9…</td><td>&quot;1f302bc7-47dc-4c35-adf3-1f3e5c…</td><td>2024-12-26 23:05:32.058492 UTC</td><td>&quot;Lost/Stolen&quot;</td></tr><tr><td>&quot;b03362f6-4b68-4f59-ac1a-e98bc6…</td><td>&quot;53fcffaf-a93f-495e-8df2-e9e456…</td><td>2024-12-27 17:22:08.058492 UTC</td><td>&quot;Card Not Present&quot;</td></tr><tr><td>&quot;0db8d35f-d19a-4632-a058-099fea…</td><td>&quot;ea37e9a1-c0d7-484c-8cee-feb547…</td><td>2024-12-26 21:41:40.058492 UTC</td><td>&quot;Lost/Stolen&quot;</td></tr></tbody></table></div>"
      ],
      "text/plain": [
       "shape: (5, 4)\n",
       "┌──────────────────────────┬──────────────────────────┬─────────────────────────┬──────────────────┐\n",
       "│ report_id                ┆ t_id                     ┆ report_time             ┆ fraud_type       │\n",
       "│ ---                      ┆ ---                      ┆ ---                     ┆ ---              │\n",
       "│ str                      ┆ str                      ┆ datetime[μs, Etc/UTC]   ┆ str              │\n",
       "╞══════════════════════════╪══════════════════════════╪═════════════════════════╪══════════════════╡\n",
       "│ 30fa98fd-b245-4eac-a6a2- ┆ 27d1491e-1d80-46f9-8698- ┆ 2024-12-26              ┆ Card Not Present │\n",
       "│ 7452ba…                  ┆ 45c726…                  ┆ 23:25:08.058492 UTC     ┆                  │\n",
       "│ e65aa076-b721-44f9-b913- ┆ 1ed41244-e91f-402d-b5b1- ┆ 2024-12-27              ┆ Skimming         │\n",
       "│ 0978e7…                  ┆ b7afd6…                  ┆ 02:23:21.058492 UTC     ┆                  │\n",
       "│ cc4fb7cb-346c-44b4-9094- ┆ 1f302bc7-47dc-4c35-adf3- ┆ 2024-12-26              ┆ Lost/Stolen      │\n",
       "│ 3e81d9…                  ┆ 1f3e5c…                  ┆ 23:05:32.058492 UTC     ┆                  │\n",
       "│ b03362f6-4b68-4f59-ac1a- ┆ 53fcffaf-a93f-495e-8df2- ┆ 2024-12-27              ┆ Card Not Present │\n",
       "│ e98bc6…                  ┆ e9e456…                  ┆ 17:22:08.058492 UTC     ┆                  │\n",
       "│ 0db8d35f-d19a-4632-a058- ┆ ea37e9a1-c0d7-484c-8cee- ┆ 2024-12-26              ┆ Lost/Stolen      │\n",
       "│ 099fea…                  ┆ feb547…                  ┆ 21:41:40.058492 UTC     ┆                  │\n",
       "└──────────────────────────┴──────────────────────────┴─────────────────────────┴──────────────────┘"
      ]
     },
     "execution_count": 9,
     "metadata": {},
     "output_type": "execute_result"
    }
   ],
   "source": [
    "fraud_reports_df = cc_fraud_fg.read(dataframe_type=\"polars\")\n",
    "fraud_reports_df.head()"
   ]
  },
  {
   "cell_type": "code",
   "execution_count": 10,
   "id": "32d85a1d",
   "metadata": {},
   "outputs": [
    {
     "data": {
      "text/html": [
       "<div><style>\n",
       ".dataframe > thead > tr,\n",
       ".dataframe > tbody > tr {\n",
       "  text-align: right;\n",
       "  white-space: pre-wrap;\n",
       "}\n",
       "</style>\n",
       "<small>shape: (1, 4)</small><table border=\"1\" class=\"dataframe\"><thead><tr><th>report_id</th><th>t_id</th><th>report_time</th><th>fraud_type</th></tr><tr><td>u32</td><td>u32</td><td>u32</td><td>u32</td></tr></thead><tbody><tr><td>10000</td><td>10000</td><td>10000</td><td>10000</td></tr></tbody></table></div>"
      ],
      "text/plain": [
       "shape: (1, 4)\n",
       "┌───────────┬───────┬─────────────┬────────────┐\n",
       "│ report_id ┆ t_id  ┆ report_time ┆ fraud_type │\n",
       "│ ---       ┆ ---   ┆ ---         ┆ ---        │\n",
       "│ u32       ┆ u32   ┆ u32         ┆ u32        │\n",
       "╞═══════════╪═══════╪═════════════╪════════════╡\n",
       "│ 10000     ┆ 10000 ┆ 10000       ┆ 10000      │\n",
       "└───────────┴───────┴─────────────┴────────────┘"
      ]
     },
     "execution_count": 10,
     "metadata": {},
     "output_type": "execute_result"
    }
   ],
   "source": [
    "fraud_reports_df.count()"
   ]
  },
  {
   "cell_type": "code",
   "execution_count": 11,
   "id": "e5c0faed",
   "metadata": {},
   "outputs": [
    {
     "data": {
      "text/html": [
       "<div><style>\n",
       ".dataframe > thead > tr,\n",
       ".dataframe > tbody > tr {\n",
       "  text-align: right;\n",
       "  white-space: pre-wrap;\n",
       "}\n",
       "</style>\n",
       "<small>shape: (5, 8)</small><table border=\"1\" class=\"dataframe\"><thead><tr><th>t_id</th><th>cc_num</th><th>merchant_id</th><th>amount</th><th>ip_address</th><th>ts</th><th>card_present</th><th>is_fraud</th></tr><tr><td>str</td><td>str</td><td>str</td><td>f64</td><td>str</td><td>datetime[μs, Etc/UTC]</td><td>bool</td><td>i8</td></tr></thead><tbody><tr><td>&quot;6496e803-4aec-4cf5-9f0a-b6f851…</td><td>&quot;4356&quot;</td><td>&quot;1368&quot;</td><td>123.69</td><td>&quot;115.90.194.134/32&quot;</td><td>2024-12-18 06:42:00.058492 UTC</td><td>false</td><td>0</td></tr><tr><td>&quot;1a74ceab-ca03-4667-8707-9c7adb…</td><td>&quot;5244&quot;</td><td>&quot;1250&quot;</td><td>66.62</td><td>&quot;154.178.147.0&quot;</td><td>2024-12-18 23:23:48.058492 UTC</td><td>false</td><td>0</td></tr><tr><td>&quot;e4f25e22-d9ac-4e6e-98d4-af53fe…</td><td>&quot;593&quot;</td><td>&quot;110&quot;</td><td>113.86</td><td>&quot;73.167.241.177&quot;</td><td>2024-12-23 22:34:14.058492 UTC</td><td>false</td><td>0</td></tr><tr><td>&quot;bf1691fe-02ee-4582-bb59-772ecb…</td><td>&quot;6914&quot;</td><td>&quot;1990&quot;</td><td>192.46</td><td>&quot;77.198.32.44&quot;</td><td>2024-12-17 02:18:40.058492 UTC</td><td>false</td><td>0</td></tr><tr><td>&quot;2d360a07-4bf9-4b76-b398-9c661b…</td><td>&quot;8137&quot;</td><td>&quot;451&quot;</td><td>164.67</td><td>&quot;109.32.0.0/11&quot;</td><td>2024-12-20 02:36:53.058492 UTC</td><td>false</td><td>0</td></tr></tbody></table></div>"
      ],
      "text/plain": [
       "shape: (5, 8)\n",
       "┌─────────────┬────────┬─────────────┬────────┬─────────────┬─────────────┬─────────────┬──────────┐\n",
       "│ t_id        ┆ cc_num ┆ merchant_id ┆ amount ┆ ip_address  ┆ ts          ┆ card_presen ┆ is_fraud │\n",
       "│ ---         ┆ ---    ┆ ---         ┆ ---    ┆ ---         ┆ ---         ┆ t           ┆ ---      │\n",
       "│ str         ┆ str    ┆ str         ┆ f64    ┆ str         ┆ datetime[μs ┆ ---         ┆ i8       │\n",
       "│             ┆        ┆             ┆        ┆             ┆ , Etc/UTC]  ┆ bool        ┆          │\n",
       "╞═════════════╪════════╪═════════════╪════════╪═════════════╪═════════════╪═════════════╪══════════╡\n",
       "│ 6496e803-4a ┆ 4356   ┆ 1368        ┆ 123.69 ┆ 115.90.194. ┆ 2024-12-18  ┆ false       ┆ 0        │\n",
       "│ ec-4cf5-9f0 ┆        ┆             ┆        ┆ 134/32      ┆ 06:42:00.05 ┆             ┆          │\n",
       "│ a-b6f851…   ┆        ┆             ┆        ┆             ┆ 8492 UTC    ┆             ┆          │\n",
       "│ 1a74ceab-ca ┆ 5244   ┆ 1250        ┆ 66.62  ┆ 154.178.147 ┆ 2024-12-18  ┆ false       ┆ 0        │\n",
       "│ 03-4667-870 ┆        ┆             ┆        ┆ .0          ┆ 23:23:48.05 ┆             ┆          │\n",
       "│ 7-9c7adb…   ┆        ┆             ┆        ┆             ┆ 8492 UTC    ┆             ┆          │\n",
       "│ e4f25e22-d9 ┆ 593    ┆ 110         ┆ 113.86 ┆ 73.167.241. ┆ 2024-12-23  ┆ false       ┆ 0        │\n",
       "│ ac-4e6e-98d ┆        ┆             ┆        ┆ 177         ┆ 22:34:14.05 ┆             ┆          │\n",
       "│ 4-af53fe…   ┆        ┆             ┆        ┆             ┆ 8492 UTC    ┆             ┆          │\n",
       "│ bf1691fe-02 ┆ 6914   ┆ 1990        ┆ 192.46 ┆ 77.198.32.4 ┆ 2024-12-17  ┆ false       ┆ 0        │\n",
       "│ ee-4582-bb5 ┆        ┆             ┆        ┆ 4           ┆ 02:18:40.05 ┆             ┆          │\n",
       "│ 9-772ecb…   ┆        ┆             ┆        ┆             ┆ 8492 UTC    ┆             ┆          │\n",
       "│ 2d360a07-4b ┆ 8137   ┆ 451         ┆ 164.67 ┆ 109.32.0.0/ ┆ 2024-12-20  ┆ false       ┆ 0        │\n",
       "│ f9-4b76-b39 ┆        ┆             ┆        ┆ 11          ┆ 02:36:53.05 ┆             ┆          │\n",
       "│ 8-9c661b…   ┆        ┆             ┆        ┆             ┆ 8492 UTC    ┆             ┆          │\n",
       "└─────────────┴────────┴─────────────┴────────┴─────────────┴─────────────┴─────────────┴──────────┘"
      ]
     },
     "execution_count": 11,
     "metadata": {},
     "output_type": "execute_result"
    }
   ],
   "source": [
    "labels_df = transactions_df.join(fraud_reports_df, on=\"t_id\", how=\"left\")\n",
    "\n",
    "# Add the \"is_fraud\" column based on \"fraud_type\"\n",
    "labels_df = labels_df.with_columns(\n",
    "    (pl.col(\"fraud_type\").is_not_null().cast(pl.Int8)).alias(\"is_fraud\")\n",
    ")\n",
    "\n",
    "# Drop columns that are not needed\n",
    "labels_df = labels_df.drop([\"report_id\", \"report_time\", \"fraud_type\"])\n",
    "labels_df.head()"
   ]
  },
  {
   "cell_type": "code",
   "execution_count": 12,
   "id": "9b4619a4-40d9-44ae-ba28-5d5dd730628a",
   "metadata": {},
   "outputs": [
    {
     "data": {
      "text/html": [
       "<div><style>\n",
       ".dataframe > thead > tr,\n",
       ".dataframe > tbody > tr {\n",
       "  text-align: right;\n",
       "  white-space: pre-wrap;\n",
       "}\n",
       "</style>\n",
       "<small>shape: (1, 8)</small><table border=\"1\" class=\"dataframe\"><thead><tr><th>t_id</th><th>cc_num</th><th>merchant_id</th><th>amount</th><th>ip_address</th><th>ts</th><th>card_present</th><th>is_fraud</th></tr><tr><td>u32</td><td>u32</td><td>u32</td><td>u32</td><td>u32</td><td>u32</td><td>u32</td><td>u32</td></tr></thead><tbody><tr><td>510000</td><td>510000</td><td>510000</td><td>510000</td><td>510000</td><td>510000</td><td>510000</td><td>510000</td></tr></tbody></table></div>"
      ],
      "text/plain": [
       "shape: (1, 8)\n",
       "┌────────┬────────┬─────────────┬────────┬────────────┬────────┬──────────────┬──────────┐\n",
       "│ t_id   ┆ cc_num ┆ merchant_id ┆ amount ┆ ip_address ┆ ts     ┆ card_present ┆ is_fraud │\n",
       "│ ---    ┆ ---    ┆ ---         ┆ ---    ┆ ---        ┆ ---    ┆ ---          ┆ ---      │\n",
       "│ u32    ┆ u32    ┆ u32         ┆ u32    ┆ u32        ┆ u32    ┆ u32          ┆ u32      │\n",
       "╞════════╪════════╪═════════════╪════════╪════════════╪════════╪══════════════╪══════════╡\n",
       "│ 510000 ┆ 510000 ┆ 510000      ┆ 510000 ┆ 510000     ┆ 510000 ┆ 510000       ┆ 510000   │\n",
       "└────────┴────────┴─────────────┴────────┴────────────┴────────┴──────────────┴──────────┘"
      ]
     },
     "execution_count": 12,
     "metadata": {},
     "output_type": "execute_result"
    }
   ],
   "source": [
    "labels_df.count()"
   ]
  },
  {
   "cell_type": "code",
   "execution_count": 13,
   "id": "8e6ed035",
   "metadata": {},
   "outputs": [
    {
     "name": "stdout",
     "output_type": "stream",
     "text": [
      "2024-12-30 22:49:46,813 WARNING: DeprecationWarning: `pl.count()` is deprecated. Please use `pl.len()` instead.\n",
      "\n",
      "shape: (2, 2)\n",
      "┌──────────┬────────┐\n",
      "│ is_fraud ┆ count  │\n",
      "│ ---      ┆ ---    │\n",
      "│ i8       ┆ u32    │\n",
      "╞══════════╪════════╡\n",
      "│ 1        ┆ 10000  │\n",
      "│ 0        ┆ 500000 │\n",
      "└──────────┴────────┘\n"
     ]
    }
   ],
   "source": [
    "# Group by \"is_fraud\" and count occurrences\n",
    "grouped_df = labels_df.group_by(\"is_fraud\").agg(\n",
    "    pl.count().alias(\"count\")  # Count all rows in each group\n",
    ")\n",
    "\n",
    "# Display the result\n",
    "print(grouped_df)"
   ]
  },
  {
   "cell_type": "code",
   "execution_count": 14,
   "id": "1526b934",
   "metadata": {},
   "outputs": [
    {
     "name": "stdout",
     "output_type": "stream",
     "text": [
      "<bound method DataFrame.describe of shape: (510_000, 8)\n",
      "┌─────────────┬────────┬─────────────┬────────┬─────────────┬─────────────┬─────────────┬──────────┐\n",
      "│ t_id        ┆ cc_num ┆ merchant_id ┆ amount ┆ ip_address  ┆ ts          ┆ card_presen ┆ is_fraud │\n",
      "│ ---         ┆ ---    ┆ ---         ┆ ---    ┆ ---         ┆ ---         ┆ t           ┆ ---      │\n",
      "│ str         ┆ str    ┆ str         ┆ f64    ┆ str         ┆ datetime[μs ┆ ---         ┆ i8       │\n",
      "│             ┆        ┆             ┆        ┆             ┆ , Etc/UTC]  ┆ bool        ┆          │\n",
      "╞═════════════╪════════╪═════════════╪════════╪═════════════╪═════════════╪═════════════╪══════════╡\n",
      "│ 6496e803-4a ┆ 4356   ┆ 1368        ┆ 123.69 ┆ 115.90.194. ┆ 2024-12-18  ┆ false       ┆ 0        │\n",
      "│ ec-4cf5-9f0 ┆        ┆             ┆        ┆ 134/32      ┆ 06:42:00.05 ┆             ┆          │\n",
      "│ a-b6f851…   ┆        ┆             ┆        ┆             ┆ 8492 UTC    ┆             ┆          │\n",
      "│ 1a74ceab-ca ┆ 5244   ┆ 1250        ┆ 66.62  ┆ 154.178.147 ┆ 2024-12-18  ┆ false       ┆ 0        │\n",
      "│ 03-4667-870 ┆        ┆             ┆        ┆ .0          ┆ 23:23:48.05 ┆             ┆          │\n",
      "│ 7-9c7adb…   ┆        ┆             ┆        ┆             ┆ 8492 UTC    ┆             ┆          │\n",
      "│ e4f25e22-d9 ┆ 593    ┆ 110         ┆ 113.86 ┆ 73.167.241. ┆ 2024-12-23  ┆ false       ┆ 0        │\n",
      "│ ac-4e6e-98d ┆        ┆             ┆        ┆ 177         ┆ 22:34:14.05 ┆             ┆          │\n",
      "│ 4-af53fe…   ┆        ┆             ┆        ┆             ┆ 8492 UTC    ┆             ┆          │\n",
      "│ bf1691fe-02 ┆ 6914   ┆ 1990        ┆ 192.46 ┆ 77.198.32.4 ┆ 2024-12-17  ┆ false       ┆ 0        │\n",
      "│ ee-4582-bb5 ┆        ┆             ┆        ┆ 4           ┆ 02:18:40.05 ┆             ┆          │\n",
      "│ 9-772ecb…   ┆        ┆             ┆        ┆             ┆ 8492 UTC    ┆             ┆          │\n",
      "│ 2d360a07-4b ┆ 8137   ┆ 451         ┆ 164.67 ┆ 109.32.0.0/ ┆ 2024-12-20  ┆ false       ┆ 0        │\n",
      "│ f9-4b76-b39 ┆        ┆             ┆        ┆ 11          ┆ 02:36:53.05 ┆             ┆          │\n",
      "│ 8-9c661b…   ┆        ┆             ┆        ┆             ┆ 8492 UTC    ┆             ┆          │\n",
      "│ …           ┆ …      ┆ …           ┆ …      ┆ …           ┆ …           ┆ …           ┆ …        │\n",
      "│ 1bd66d08-58 ┆ 5184   ┆ 951         ┆ 218.08 ┆ 36.84.144.1 ┆ 2024-12-23  ┆ false       ┆ 0        │\n",
      "│ 59-4fa5-b90 ┆        ┆             ┆        ┆ 10          ┆ 10:24:52.05 ┆             ┆          │\n",
      "│ 7-abc530…   ┆        ┆             ┆        ┆             ┆ 8492 UTC    ┆             ┆          │\n",
      "│ 769699a2-d8 ┆ 7088   ┆ 500         ┆ 119.91 ┆ 58.29.29.68 ┆ 2024-12-24  ┆ false       ┆ 0        │\n",
      "│ 99-4397-858 ┆        ┆             ┆        ┆             ┆ 05:57:07.05 ┆             ┆          │\n",
      "│ 4-1111d9…   ┆        ┆             ┆        ┆             ┆ 8492 UTC    ┆             ┆          │\n",
      "│ 6fd936a8-38 ┆ 4374   ┆ 1747        ┆ 38.42  ┆ 35.254.57.1 ┆ 2024-12-26  ┆ false       ┆ 0        │\n",
      "│ 20-4468-998 ┆        ┆             ┆        ┆ 18          ┆ 00:42:25.05 ┆             ┆          │\n",
      "│ 5-50eda9…   ┆        ┆             ┆        ┆             ┆ 8492 UTC    ┆             ┆          │\n",
      "│ 57662b4c-68 ┆ 2880   ┆ 1106        ┆ 658.49 ┆ 157.95.176. ┆ 2024-12-24  ┆ false       ┆ 0        │\n",
      "│ 9b-4a7c-9a4 ┆        ┆             ┆        ┆ 176/28      ┆ 00:58:50.05 ┆             ┆          │\n",
      "│ e-e86d95…   ┆        ┆             ┆        ┆             ┆ 8492 UTC    ┆             ┆          │\n",
      "│ c2ef927c-fe ┆ 2131   ┆ 172         ┆ 366.53 ┆ 77.124.253. ┆ 2024-12-23  ┆ false       ┆ 0        │\n",
      "│ d4-440b-975 ┆        ┆             ┆        ┆ 22          ┆ 15:27:54.05 ┆             ┆          │\n",
      "│ 8-8aa6a3…   ┆        ┆             ┆        ┆             ┆ 8492 UTC    ┆             ┆          │\n",
      "└─────────────┴────────┴─────────────┴────────┴─────────────┴─────────────┴─────────────┴──────────┘>\n"
     ]
    }
   ],
   "source": [
    "print(labels_df.describe)"
   ]
  },
  {
   "cell_type": "code",
   "execution_count": null,
   "id": "f40ea354",
   "metadata": {},
   "outputs": [],
   "source": [
    "# def fraud_rate_by_num_days(col, df, days):\n",
    "#     \"\"\"\n",
    "#     Computes the fraud_rate.\n",
    "#     \"\"\"\n",
    "#     day = 86400\n",
    "\n",
    "#     # Define a window that looks at the last 30 days for each merchant, sliding 1 day at a time\n",
    "#     window_spec = Window.partitionBy(f\"{col}\").orderBy(F.col(\"transaction_time\").cast(\"long\")).rangeBetween(-days * day, 0)\n",
    "\n",
    "#     # Compute total transactions and fraud transactions within the 7-day window\n",
    "#     df = df.withColumn(f\"total_transactions_{days}d\", F.count(\"t_id\").over(window_spec)) \\\n",
    "#            .withColumn(f\"fraud_transactions_{days}d\", F.sum(\"is_fraud\").over(window_spec)) \\\n",
    "#            .withColumn(f\"{col}_fraud_rate_last_{days}_days\", F.col(f\"fraud_transactions_{days}d\") / F.col(f\"total_transactions_{days}d\"))\n",
    "    \n",
    "#     return df.drop(f\"total_transactions_{days}d\", f\"fraud_transactions_{days}d\")\n",
    "    \n"
   ]
  },
  {
   "cell_type": "code",
   "execution_count": 15,
   "id": "49f9e356-633c-4be7-95fa-f75db6408ff5",
   "metadata": {},
   "outputs": [],
   "source": [
    "import polars as pl\n",
    "from datetime import timedelta\n",
    "\n",
    "def fraud_rate_by_num_days(col, df, ts_column, days):\n",
    "    \"\"\"\n",
    "    Computes the fraud_rate over a sliding window of `days` days.\n",
    "    \"\"\"\n",
    "    # Ensure the transaction_time column is in datetime format\n",
    "    df = df.with_columns(\n",
    "        pl.col(ts_column).cast(pl.Datetime)\n",
    "    )\n",
    "\n",
    "    df = df.sort(ts_column)\n",
    "\n",
    "    # Calculate the rolling window aggregations\n",
    "    rolling_df = (\n",
    "        df.rolling(\n",
    "            index_column=ts_column,\n",
    "            period=f\"{days}d\",\n",
    "            group_by=col,  # Group by the specified column\n",
    "            closed=\"right\"\n",
    "        )\n",
    "        .agg([\n",
    "            pl.count(\"t_id\").alias(f\"total_transactions_{days}d\"),\n",
    "            pl.sum(\"is_fraud\").alias(f\"fraud_transactions_{days}d\"),\n",
    "        ])\n",
    "    )\n",
    "\n",
    "    # Compute fraud rate\n",
    "    rolling_df = rolling_df.with_columns(\n",
    "        (\n",
    "            pl.col(f\"fraud_transactions_{days}d\") / pl.col(f\"total_transactions_{days}d\")\n",
    "        ).alias(f\"{col}_fraud_rate_last_{days}_days\")\n",
    "    )\n",
    "\n",
    "    # Drop intermediate columns\n",
    "    rolling_df = rolling_df.drop(\n",
    "        [f\"total_transactions_{days}d\", f\"fraud_transactions_{days}d\"]\n",
    "    )\n",
    "\n",
    "    return rolling_df\n"
   ]
  },
  {
   "cell_type": "code",
   "execution_count": 16,
   "id": "9effbdd0",
   "metadata": {},
   "outputs": [
    {
     "data": {
      "text/html": [
       "<div><style>\n",
       ".dataframe > thead > tr,\n",
       ".dataframe > tbody > tr {\n",
       "  text-align: right;\n",
       "  white-space: pre-wrap;\n",
       "}\n",
       "</style>\n",
       "<small>shape: (5, 3)</small><table border=\"1\" class=\"dataframe\"><thead><tr><th>merchant_id</th><th>ts</th><th>merchant_id_fraud_rate_last_3_days</th></tr><tr><td>str</td><td>datetime[μs]</td><td>f64</td></tr></thead><tbody><tr><td>&quot;42&quot;</td><td>2024-12-16 19:45:48.058492</td><td>0.0</td></tr><tr><td>&quot;42&quot;</td><td>2024-12-16 21:54:25.058492</td><td>0.0</td></tr><tr><td>&quot;42&quot;</td><td>2024-12-17 00:34:08.058492</td><td>0.0</td></tr><tr><td>&quot;42&quot;</td><td>2024-12-17 02:18:17.058492</td><td>0.0</td></tr><tr><td>&quot;42&quot;</td><td>2024-12-17 02:42:19.058492</td><td>0.0</td></tr></tbody></table></div>"
      ],
      "text/plain": [
       "shape: (5, 3)\n",
       "┌─────────────┬────────────────────────────┬─────────────────────────────────┐\n",
       "│ merchant_id ┆ ts                         ┆ merchant_id_fraud_rate_last_3_… │\n",
       "│ ---         ┆ ---                        ┆ ---                             │\n",
       "│ str         ┆ datetime[μs]               ┆ f64                             │\n",
       "╞═════════════╪════════════════════════════╪═════════════════════════════════╡\n",
       "│ 42          ┆ 2024-12-16 19:45:48.058492 ┆ 0.0                             │\n",
       "│ 42          ┆ 2024-12-16 21:54:25.058492 ┆ 0.0                             │\n",
       "│ 42          ┆ 2024-12-17 00:34:08.058492 ┆ 0.0                             │\n",
       "│ 42          ┆ 2024-12-17 02:18:17.058492 ┆ 0.0                             │\n",
       "│ 42          ┆ 2024-12-17 02:42:19.058492 ┆ 0.0                             │\n",
       "└─────────────┴────────────────────────────┴─────────────────────────────────┘"
      ]
     },
     "execution_count": 16,
     "metadata": {},
     "output_type": "execute_result"
    }
   ],
   "source": [
    "merchant_df = labels_df\n",
    "merchant_df = fraud_rate_by_num_days(\"merchant_id\", merchant_df, \"ts\", 3)\n",
    "# merchant_df = merchant_df.drop([\"t_id\", \"customer_id\", \"card_id\", \"location\", \"amount\", \"transaction_category_name\", \"is_fraud\"])\n",
    "merchant_df.head()"
   ]
  },
  {
   "cell_type": "code",
   "execution_count": 17,
   "id": "28b32ce6",
   "metadata": {},
   "outputs": [
    {
     "data": {
      "text/html": [
       "<div><style>\n",
       ".dataframe > thead > tr,\n",
       ".dataframe > tbody > tr {\n",
       "  text-align: right;\n",
       "  white-space: pre-wrap;\n",
       "}\n",
       "</style>\n",
       "<small>shape: (1, 3)</small><table border=\"1\" class=\"dataframe\"><thead><tr><th>merchant_id</th><th>ts</th><th>merchant_id_fraud_rate_last_3_days</th></tr><tr><td>u32</td><td>u32</td><td>u32</td></tr></thead><tbody><tr><td>510000</td><td>510000</td><td>510000</td></tr></tbody></table></div>"
      ],
      "text/plain": [
       "shape: (1, 3)\n",
       "┌─────────────┬────────┬─────────────────────────────────┐\n",
       "│ merchant_id ┆ ts     ┆ merchant_id_fraud_rate_last_3_… │\n",
       "│ ---         ┆ ---    ┆ ---                             │\n",
       "│ u32         ┆ u32    ┆ u32                             │\n",
       "╞═════════════╪════════╪═════════════════════════════════╡\n",
       "│ 510000      ┆ 510000 ┆ 510000                          │\n",
       "└─────────────┴────────┴─────────────────────────────────┘"
      ]
     },
     "execution_count": 17,
     "metadata": {},
     "output_type": "execute_result"
    }
   ],
   "source": [
    "merchant_df.count()"
   ]
  },
  {
   "cell_type": "code",
   "execution_count": null,
   "id": "cf40902a",
   "metadata": {},
   "outputs": [],
   "source": [
    "# merchant_df = merchant_df.withColumn(\"transaction_date\", F.to_date(F.col(\"transaction_time\")))\n",
    "\n",
    "# merchant_df = merchant_df.groupBy(\"transaction_date\", \"merchant_id\") \\\n",
    "#     .agg(\n",
    "#         F.avg(\"merchant_id_fraud_rate_last_3_days\").alias(\"avg_fraud_rate_last_3_days\"),\n",
    "#     )\n",
    "\n",
    "# merchant_df.show()"
   ]
  },
  {
   "cell_type": "code",
   "execution_count": null,
   "id": "b8d14837-d2e7-421f-aaba-a864d5cdaf43",
   "metadata": {},
   "outputs": [],
   "source": [
    "# Add a column for transaction_date by extracting the date part of transaction_time\n",
    "merchant_df = merchant_df.with_columns(\n",
    "    pl.col(\"ts\").cast(pl.Datetime).dt.date().alias(\"transaction_date\")\n",
    ")\n",
    "\n",
    "# Group by transaction_date and merchant_id and calculate the average fraud rate\n",
    "merchant_df = merchant_df.group_by([\"transaction_date\", \"merchant_id\"]).agg(\n",
    "    pl.col(\"merchant_id_fraud_rate_last_3_days\").mean().alias(\"avg_fraud_rate_last_3_days\")\n",
    ")\n",
    "\n",
    "# Display the resulting DataFrame\n",
    "print(merchant_df)"
   ]
  },
  {
   "cell_type": "code",
   "execution_count": null,
   "id": "aad879f9",
   "metadata": {},
   "outputs": [],
   "source": [
    "print(merchant_df.schema)"
   ]
  },
  {
   "cell_type": "code",
   "execution_count": null,
   "id": "476d8deb",
   "metadata": {},
   "outputs": [],
   "source": [
    "merchant_df.count()"
   ]
  },
  {
   "cell_type": "code",
   "execution_count": null,
   "id": "27dfde78",
   "metadata": {},
   "outputs": [],
   "source": [
    "# filtered_df = merchant_df.filter(\n",
    "#     (F.col(\"avg_fraud_rate_last_3_days\") != 0)\n",
    "#     #& (F.col(\"avg_fraud_rate_last_30_days\") != 0)\n",
    "# )\n",
    "# filtered_df.show()"
   ]
  },
  {
   "cell_type": "code",
   "execution_count": null,
   "id": "6deda5dc-e608-41f8-b274-f0943cea9f8a",
   "metadata": {},
   "outputs": [],
   "source": [
    "filtered_df = merchant_df.filter(\n",
    "    pl.col(\"avg_fraud_rate_last_3_days\") != 0\n",
    ")\n",
    "\n",
    "print(filtered_df)"
   ]
  },
  {
   "cell_type": "code",
   "execution_count": null,
   "id": "88579726",
   "metadata": {},
   "outputs": [],
   "source": [
    "filtered_df.count()"
   ]
  },
  {
   "cell_type": "code",
   "execution_count": null,
   "id": "330cee71-2a58-49de-8656-74550900e96e",
   "metadata": {},
   "outputs": [],
   "source": [
    "print(labels_df)"
   ]
  },
  {
   "cell_type": "code",
   "execution_count": null,
   "id": "1cad09a4",
   "metadata": {},
   "outputs": [],
   "source": [
    "location_df = labels_df\n",
    "\n",
    "location_df = fraud_rate_by_num_days(\"ip_address\", location_df, \"ts\", 3)\n",
    "location_df.head()"
   ]
  },
  {
   "cell_type": "code",
   "execution_count": null,
   "id": "f4444a28",
   "metadata": {},
   "outputs": [],
   "source": [
    "# location_df = location_df.withColumn(\"transaction_date\", F.to_date(F.col(\"transaction_time\")))\n",
    "\n",
    "# location_df = location_df.groupBy(\"transaction_date\", \"location\") \\\n",
    "#     .agg(\n",
    "#         F.avg(\"location_fraud_rate_last_3_days\").alias(\"location_fraud_rate_last_3_days\"),\n",
    "#     )\n",
    "\n",
    "# location_df.show()\n",
    "\n",
    "# # Add a column for transaction_date by extracting the date part of transaction_time\n",
    "# location_df = location_df.with_columns(\n",
    "#     pl.col(\"ts\").cast(pl.Datetime).dt.date().alias(\"transaction_date\")\n",
    "# )\n",
    "\n",
    "# # Group by transaction_date and location and calculate the average fraud rate\n",
    "# location_df = location_df.group_by([\"transaction_date\", \"ip_address\"]).agg(\n",
    "#     pl.col(\"location_fraud_rate_last_3_days\").mean().alias(\"location_fraud_rate_last_3_days\")\n",
    "# )\n",
    "\n",
    "# print(location_df)"
   ]
  },
  {
   "cell_type": "code",
   "execution_count": null,
   "id": "7c28397f",
   "metadata": {},
   "outputs": [],
   "source": [
    "# Eye-ball the fraud rates for correctness\n",
    "# filtered_df = location_df.filter(F.col(\"location_fraud_rate_last_3_days\") > 0)\n",
    "# filtered_df.select(\"transaction_date\", \"location\", \"location_fraud_rate_last_3_days\").show()\n",
    "\n",
    "# filtered_df = location_df.filter(\n",
    "#     pl.col(\"location_fraud_rate_last_3_days\") > 0\n",
    "# ).select(\n",
    "#     [\"transaction_date\", \"location\", \"location_fraud_rate_last_3_days\"]\n",
    "# )\n",
    "\n",
    "# print(filtered_df)"
   ]
  },
  {
   "cell_type": "code",
   "execution_count": null,
   "id": "c684f2ca",
   "metadata": {},
   "outputs": [],
   "source": [
    "# # Define a window partitioned by credit_card_id and ordered by transaction_time\n",
    "# window_spec = Window.partitionBy(\"card_id\").orderBy(\"transaction_time\")\n",
    "# # Add a new column 'prev_transaction_time' using the lag function\n",
    "# labels_df = labels_df.withColumn(\"prev_transaction_time\", F.lag(F.col(\"transaction_time\"), 1).over(window_spec))\n",
    "# # Show the resulting DataFrame\n",
    "# labels_df.show()\n",
    "\n",
    "labels_df = labels_df.sort([\"cc_num\", \"ts\"]).with_columns(\n",
    "    pl.col(\"ts\")\n",
    "    .shift(1)\n",
    "    .over(\"cc_num\")\n",
    "    .alias(\"prev_transaction_ts\")\n",
    ")\n",
    "\n",
    "print(labels_df)"
   ]
  },
  {
   "cell_type": "code",
   "execution_count": null,
   "id": "5e919963",
   "metadata": {},
   "outputs": [],
   "source": [
    "# Some transactions have no previous transaction\n",
    "# labels_df.filter(F.isnull(F.col(\"prev_transaction_time\"))).count()\n",
    "null_count = labels_df.filter(\n",
    "    pl.col(\"prev_transaction_ts\").is_null()\n",
    ").height\n",
    "\n",
    "print(null_count)"
   ]
  },
  {
   "cell_type": "code",
   "execution_count": null,
   "id": "7e11b478",
   "metadata": {},
   "outputs": [],
   "source": [
    "# For transactions with no previous transaction, set timestamp for prev transaction to be 7 days beforehand\n",
    "# labels_df = labels_df.withColumn(\n",
    "#     \"prev_transaction_time\", \n",
    "#     F.when(F.col(\"prev_transaction_time\").isNull(), F.date_sub(F.col(\"transaction_time\"), 3))\n",
    "#     .otherwise(F.col(\"prev_transaction_time\"))\n",
    "# )\n",
    "\n",
    "# labels_df.filter(F.isnull(F.col(\"prev_transaction_time\"))).count()\n",
    "\n",
    "# Replace null values in 'prev_transaction_time' with 'transaction_time' minus 3 days\n",
    "labels_df = labels_df.with_columns(\n",
    "    pl.when(pl.col(\"prev_transaction_ts\").is_null())\n",
    "    .then(pl.col(\"ts\") - pl.duration(days=3))\n",
    "    .otherwise(pl.col(\"prev_transaction_ts\"))\n",
    "    .alias(\"prev_transaction_ts\")\n",
    ")\n",
    "\n",
    "# Count rows where 'prev_transaction_time' is still null\n",
    "null_count = labels_df.filter(\n",
    "    pl.col(\"prev_transaction_ts\").is_null()\n",
    ").height\n",
    "\n",
    "print(null_count)\n"
   ]
  },
  {
   "cell_type": "code",
   "execution_count": null,
   "id": "e3290c1a",
   "metadata": {},
   "outputs": [],
   "source": [
    "print(labels_df.schema)"
   ]
  },
  {
   "cell_type": "code",
   "execution_count": null,
   "id": "1f562118",
   "metadata": {},
   "outputs": [],
   "source": [
    "# transactions_df = transactions_fg.read() \n",
    "\n",
    "# customer_lifetime_spend_df = transactions_df.groupBy(\"customer_id\").agg(F.sum(\"amount\").alias(\"total_spend\"))\n",
    "\n",
    "# customer_lifetime_spend_df = customer_lifetime_spend_df.drop(\"t_id\", \"cc_num\", \"amount\", \"transaction_category_name\")\n",
    "\n",
    "# customer_lifetime_spend_df.show()\n",
    "\n",
    "# Read the transactions DataFrame\n",
    "transactions_df = transactions_fg.read()\n",
    "transactions_df = pl.from_pandas(transactions_df)\n",
    "\n",
    "# Calculate the total spend per customer\n",
    "customer_lifetime_spend_df = transactions_df.group_by(\"cc_num\").agg(\n",
    "    pl.col(\"amount\").sum().alias(\"total_spend\")\n",
    ")\n",
    "\n",
    "# Drop unnecessary columns (no-op since they are not in the grouped DataFrame)\n",
    "customer_lifetime_spend_df = customer_lifetime_spend_df.select([\"cc_num\", \"total_spend\"])\n",
    "\n",
    "# Display the resulting DataFrame\n",
    "print(customer_lifetime_spend_df)\n"
   ]
  },
  {
   "cell_type": "code",
   "execution_count": null,
   "id": "1dc38242",
   "metadata": {},
   "outputs": [],
   "source": [
    "# No event-time for this feature group\n",
    "customer_features_fg = fs.get_or_create_feature_group(\n",
    "    name=\"customer_fg\",\n",
    "    version=1,\n",
    "    primary_key=['cc_num'],\n",
    "    event_time='last_modified',\n",
    "    online_enabled=True,\n",
    "    description=\"Customer batch fetaures\"\n",
    ")\n",
    "\n",
    "customer_features_fg.insert(customer_lifetime_spend_df)"
   ]
  },
  {
   "cell_type": "code",
   "execution_count": null,
   "id": "722db29d",
   "metadata": {},
   "outputs": [],
   "source": [
    "merchant_features_fg = fs.get_or_create_feature_group(\n",
    "    name=\"merchant_fgc\",\n",
    "    version=1,\n",
    "    primary_key=['merchant_id'],\n",
    "    event_time=\"last_modified\",\n",
    "    online_enabled=True,\n",
    "    description=\"Merchant batch features\"\n",
    ")\n",
    "\n",
    "merchant_features_fg.insert(merchant_df)"
   ]
  },
  {
   "cell_type": "code",
   "execution_count": null,
   "id": "1a79a007",
   "metadata": {},
   "outputs": [],
   "source": [
    "# Add the event_time (7 days ago) for the time window (days 14-7 ago) for measuring fraud at locations\n",
    "\n",
    "# location_features_fg = fs.get_or_create_feature_group(\n",
    "#     name=\"batch_location_features\",\n",
    "#     version=1,\n",
    "#     primary_key=['location'],\n",
    "#     event_time=\"transaction_date\",\n",
    "#     online_enabled=True,\n",
    "#     description=\"Transaction location batch features\"\n",
    "# )\n",
    "# location_features_fg.insert(location_df, wait=True)"
   ]
  },
  {
   "cell_type": "code",
   "execution_count": null,
   "id": "cb012e31",
   "metadata": {},
   "outputs": [],
   "source": [
    "import great_expectations as ge\n",
    "\n",
    "expectation_suite = ge.core.ExpectationSuite(\n",
    "    \"new_expectation_suite\",\n",
    "    expectations=[\n",
    "        ge.core.ExpectationConfiguration(\n",
    "            expectation_type=\"expect_column_values_to_be_between\",\n",
    "            kwargs={\n",
    "                \"column\": \"amount\",\n",
    "                \"min_value\": 0,\n",
    "                \"max_value\": 100_000\n",
    "            }\n",
    "        )\n",
    "    ]\n",
    ")"
   ]
  },
  {
   "cell_type": "code",
   "execution_count": null,
   "id": "e42f6544",
   "metadata": {},
   "outputs": [],
   "source": [
    "\n",
    "#\n",
    "# ON-DEMAND TRANSFORMATIONS\n",
    "#\n",
    "@hopsworks.udf(int, drop=['prev_transaction_ts'])\n",
    "def time_since_last_transaction_secs(prev_transaction_ts: pd.Series, ts: pd.Series) -> pd.Series:\n",
    "    return (ts - prev_transaction_ts).dt.total_seconds().astype(int)\n",
    "\n"
   ]
  },
  {
   "cell_type": "code",
   "execution_count": null,
   "id": "51e998e4",
   "metadata": {},
   "outputs": [],
   "source": [
    "labels_fg = fs.create_feature_group(\n",
    "    name=\"cc_trans_fg\",\n",
    "    version=1,\n",
    "    primary_key=['t_id'],\n",
    "    event_time = 'ts',\n",
    "    description=\"Transaction fraud labels\",\n",
    "    online_enabled=True,\n",
    "    parents=[transactions_fg],\n",
    "    transformation_functions=[time_since_last_transaction_secs],\n",
    "    expectation_suite=expectation_suite\n",
    ")\n",
    "\n",
    "labels_fg.insert(labels_df)"
   ]
  },
  {
   "cell_type": "code",
   "execution_count": null,
   "id": "4c309a5f",
   "metadata": {},
   "outputs": [],
   "source": [
    "bank_fg = fs.create_feature_group(\n",
    "    name=\"bank_fg\",\n",
    "    version=1,\n",
    "    primary_key=['bank_id'],\n",
    "    event_time = 'last_modified',\n",
    "    description=\"Bank feature data\",\n",
    "    online_enabled=True\n",
    ")\n",
    "\n",
    "bank_fg.insert(banks_df)"
   ]
  }
 ],
 "metadata": {
  "celltoolbar": "Tags",
  "kernelspec": {
   "display_name": "Python 3 (ipykernel)",
   "language": "python",
   "name": "python3"
  },
  "language_info": {
   "codemirror_mode": {
    "name": "ipython",
    "version": 3
   },
   "file_extension": ".py",
   "mimetype": "text/x-python",
   "name": "python",
   "nbconvert_exporter": "python",
   "pygments_lexer": "ipython3",
   "version": "3.10.0"
  }
 },
 "nbformat": 4,
 "nbformat_minor": 5
}
