{
 "cells": [
  {
   "cell_type": "markdown",
   "id": "f4ff2fa5-011d-4fb2-8198-da68bfc5abe6",
   "metadata": {},
   "source": [
    "### Setup PythonPath for either local execution or execution in Colab"
   ]
  },
  {
   "cell_type": "code",
   "execution_count": 1,
   "id": "baf9e1c0",
   "metadata": {},
   "outputs": [
    {
     "name": "stdout",
     "output_type": "stream",
     "text": [
      "Local environment\n",
      "Adding the following directory to the PYTHONPATH: /home/jdowling/Projects/mlfs-book\n",
      "HopsworksSettings initialized!\n"
     ]
    }
   ],
   "source": [
    "import sys\n",
    "from pathlib import Path\n",
    "\n",
    "def is_google_colab() -> bool:\n",
    "    if \"google.colab\" in str(get_ipython()):\n",
    "        return True\n",
    "    return False\n",
    "\n",
    "def clone_repository() -> None:\n",
    "    !git clone https://github.com/featurestorebook/mlfs-book.git\n",
    "    %cd mlfs-book\n",
    "\n",
    "def install_dependencies() -> None:\n",
    "    !pip install --upgrade uv\n",
    "    !uv pip install --all-extras --system --requirement pyproject.toml\n",
    "\n",
    "if is_google_colab():\n",
    "    clone_repository()\n",
    "    install_dependencies()\n",
    "    root_dir = str(Path().absolute())\n",
    "    print(\"Google Colab environment\")\n",
    "else:\n",
    "    root_dir = Path().absolute()\n",
    "    # Strip ~/notebooks/ccfraud from PYTHON_PATH if notebook started in one of these subdirectories\n",
    "    if root_dir.parts[-1:] == ('ccfraud',):\n",
    "        root_dir = Path(*root_dir.parts[:-1])\n",
    "    if root_dir.parts[-1:] == ('notebooks',):\n",
    "        root_dir = Path(*root_dir.parts[:-1])\n",
    "    root_dir = str(root_dir) \n",
    "    print(\"Local environment\")\n",
    "\n",
    "# Add the root directory to the `PYTHONPATH` to use the `mlfs` Python module from the notebook.\n",
    "if root_dir not in sys.path:\n",
    "    print(f\"Adding the following directory to the PYTHONPATH: {root_dir}\")\n",
    "    sys.path.append(root_dir)\n",
    "    \n",
    "# Set the environment variables from the file <root_dir>/.env\n",
    "from mlfs import config\n",
    "settings = config.HopsworksSettings(_env_file=f\"{root_dir}/.env\")"
   ]
  },
  {
   "cell_type": "markdown",
   "id": "7a5675f7-93fe-4f9a-9b31-1a989b4f7b19",
   "metadata": {},
   "source": [
    "## Synthetic Data Generator for Credit Card Transaction Data"
   ]
  },
  {
   "cell_type": "code",
   "execution_count": 2,
   "id": "36877780",
   "metadata": {},
   "outputs": [
    {
     "name": "stdout",
     "output_type": "stream",
     "text": [
      "2025-04-08 08:47:37,637 WARNING: MapWithoutReturnDtypeWarning: Calling `map_elements` without specifying `return_dtype` can lead to unpredictable results. Specify `return_dtype` to silence this warning.\n",
      "\n",
      "Time taken=0:00:29.573198\n"
     ]
    }
   ],
   "source": [
    "import polars as pl\n",
    "import numpy as np\n",
    "from datetime import datetime, timedelta\n",
    "from faker import Faker\n",
    "import random\n",
    "import json\n",
    "import ipaddress\n",
    "import os\n",
    "import hopsworks\n",
    "import pandas as pd\n",
    "import json\n",
    "\n",
    "\n",
    "fake = Faker('en_US')\n",
    "\n",
    "# Helper functions\n",
    "def random_date_vec(start, end, size):\n",
    "    \"\"\"Generate a vector of random datetimes between `start` and `end`.\"\"\"\n",
    "    delta_seconds = (end - start).total_seconds()\n",
    "    random_seconds = np.random.randint(0, int(delta_seconds), size)\n",
    "    return pl.Series([start + timedelta(seconds=int(s)) for s in random_seconds])\n",
    "\n",
    "def right_skewed_amount(size, mean=200, median=50):\n",
    "    \"\"\"Generate a right-skewed amount with mean and median.\"\"\"\n",
    "    return pl.Series(np.random.gamma(2, 100, size).clip(0.01, 10000).round(2))\n",
    "\n",
    "def random_risk_score(size):\n",
    "    \"\"\"Generate right-skewed risk scores.\"\"\"\n",
    "    return pl.Series(np.random.beta(2, 8, size))\n",
    "\n",
    "\n",
    "def random_amazon_ip():\n",
    "    network = ipaddress.IPv4Network('3.0.0.0/8')\n",
    "    return str(fake.ipv4(network=network))\n",
    "\n",
    "def random_ip():\n",
    "    return fake.ipv4()\n",
    "\n",
    "def generate_ip():\n",
    "    if random.choice([True, False]):\n",
    "        return random_amazon_ip()  # 50% Amazon IP\n",
    "    else:\n",
    "        return random_ip()  \n",
    "\n",
    "def is_amazon_ip(ip):\n",
    "    network = ipaddress.IPv4Network('3.0.0.0/8')\n",
    "    try:\n",
    "        return ipaddress.IPv4Address(ip) in network\n",
    "    except ipaddress.AddressValueError:\n",
    "        return False\n",
    "\n",
    "def generate_exponential_value(scale, max_value):\n",
    "    value = np.random.exponential(scale)\n",
    "    return min(value, max_value) \n",
    "\n",
    "# Generate Transactions Table\n",
    "n_transactions = 500_000\n",
    "n_cards = 10_000\n",
    "n_customers = 8_000\n",
    "n_merchants = 2_000\n",
    "n_banks = 1_000\n",
    "n_days = 10\n",
    "\n",
    "now = datetime.now()\n",
    "\n",
    "transaction_df = pl.DataFrame({\n",
    "    \"t_id\": pl.Series([fake.uuid4() for _ in range(n_transactions)]),\n",
    "    \"cc_num\": pl.Series(np.random.randint(1, n_cards, n_transactions).astype(str)),\n",
    "    \"merchant_id\": pl.Series(np.random.randint(1, n_merchants, n_transactions).astype(str)),\n",
    "    \"amount\": right_skewed_amount(n_transactions),\n",
    "    \"ip_address\": pl.Series([generate_ip() for _ in range(n_transactions)]),\n",
    "    \"ts\": random_date_vec(now - timedelta(days=n_days), now, n_transactions),\n",
    "})\n",
    "\n",
    "# card_present is computed using an existing column\n",
    "transaction_df = transaction_df.with_columns( pl.col(\"ip_address\").map_elements(is_amazon_ip).alias(\"card_present\"))\n",
    "\n",
    "# Generate Cards Table\n",
    "issue_dates = random_date_vec(now - timedelta(days=5*365), now, n_cards)\n",
    "expiry_dates = issue_dates + pl.Series(np.random.randint(3*365, 5*365, n_cards)).cast(pl.Duration)\n",
    "card_df = pl.DataFrame({\n",
    "    \"cc_num\": pl.Series(np.arange(1, n_cards+1).astype(str)),\n",
    "    \"account_id\": pl.Series(np.random.randint(1, n_cards, n_cards).astype(str)),\n",
    "    \"bank_id\": pl.Series(np.random.randint(1, n_banks, n_cards).astype(str)),\n",
    "    \"card_type\": pl.Series(np.random.choice(['Credit', 'Debit', 'Prepaid'], n_cards, p=[0.6, 0.35, 0.05])),\n",
    "    \"issue_date\": issue_dates,\n",
    "    \"expiry_date\": expiry_dates,\n",
    "    \"status\": pl.Series(np.random.choice(['Active', 'Blocked', 'Lost/Stolen'], n_cards, p=[0.95, 0.04, 0.01]))\n",
    "})\n",
    "\n",
    "# Generate Customers Table\n",
    "customer_df = pl.DataFrame({\n",
    "    \"account_id\": pl.Series(np.arange(1, n_customers+1).astype(str)),\n",
    "    \"name\": pl.Series(fake.name() for _ in range(n_customers)),\n",
    "    \"address\": pl.Series(fake.address() for _ in range(n_customers)),\n",
    "    \"email\": pl.Series(fake.email() for _ in range(n_customers)),\n",
    "    \"creation_date\": random_date_vec(now - timedelta(days=10*365), now, n_customers),\n",
    "    \"debt_end_prev_month\": pl.Series(generate_exponential_value(0, 50000) for _ in range(n_customers)),\n",
    "    \"last_modified\": random_date_vec(now - timedelta(days=30), now - timedelta(days=1), n_customers),\n",
    "})\n",
    "\n",
    "# Generate Merchants Table\n",
    "merchant_df = pl.DataFrame({\n",
    "    \"merchant_id\": pl.Series(np.arange(1, n_merchants+1).astype(str)),\n",
    "    \"merchant_name\": pl.Series(fake.company() for _ in range(n_merchants)),\n",
    "    \"category\": pl.Series(np.random.choice(['Grocery', 'Electronics', 'Clothing', 'Entertainment', 'Restaurants'], n_merchants)),\n",
    "    \"country\": pl.Series(fake.country() for _ in range(n_merchants)),\n",
    "    \"last_modified\": random_date_vec(now - timedelta(days=8), now - timedelta(days=7), n_merchants)\n",
    "})\n",
    "\n",
    "# Generate random chargeback percentages\n",
    "percentages = np.random.normal(loc=0.0055, scale=0.002, size=n_merchants)\n",
    "percentages = np.clip(percentages, 0.001, 0.01)  # Clamp values to be between 0.001 and 0.01\n",
    "\n",
    "# Assume a fixed number of transactions per merchant (e.g., 10,000 for all merchants)\n",
    "fixed_transactions = 10000\n",
    "chargebacks = (fixed_transactions * percentages).round()\n",
    "\n",
    "# Add cnt_chargeback_prev_week column to the merchants DataFrame\n",
    "merchant_df = merchant_df.with_columns(\n",
    "    pl.Series(chargebacks).alias(\"cnt_chargeback_prev_week\")\n",
    ")\n",
    "    # \"average_transaction_amount\": right_skewed_amount(n_merchants, 100, 50)\n",
    "\n",
    "# Generate Banks Table\n",
    "bank_df = pl.DataFrame({\n",
    "    \"bank_id\": pl.Series(np.arange(1, n_banks+1).astype(str)),\n",
    "    \"country\": pl.Series(fake.country() for _ in range(n_banks)),\n",
    "    \"credit_rating\": pl.Series(np.random.choice(['AAA', 'AA', 'A', 'BBB', 'BB', 'B', 'C'], n_banks)),\n",
    "    \"last_modified\": random_date_vec(now - timedelta(days=7), now - timedelta(days=6), n_banks),\n",
    "})\n",
    "\n",
    "# Check time taken\n",
    "time_taken = datetime.now() - now\n",
    "print(f\"Time taken={time_taken}\")"
   ]
  },
  {
   "cell_type": "code",
   "execution_count": 3,
   "id": "de73f265-a6d7-4242-9bec-faad7f2bb652",
   "metadata": {},
   "outputs": [
    {
     "data": {
      "text/html": [
       "<div><style>\n",
       ".dataframe > thead > tr,\n",
       ".dataframe > tbody > tr {\n",
       "  text-align: right;\n",
       "  white-space: pre-wrap;\n",
       "}\n",
       "</style>\n",
       "<small>shape: (5, 7)</small><table border=\"1\" class=\"dataframe\"><thead><tr><th>t_id</th><th>cc_num</th><th>merchant_id</th><th>amount</th><th>ip_address</th><th>ts</th><th>card_present</th></tr><tr><td>str</td><td>str</td><td>str</td><td>f64</td><td>str</td><td>datetime[μs]</td><td>bool</td></tr></thead><tbody><tr><td>&quot;8a203141-5885-4ef4-9e46-a3e0f7…</td><td>&quot;6369&quot;</td><td>&quot;528&quot;</td><td>404.49</td><td>&quot;212.187.89.224/27&quot;</td><td>2025-04-01 08:08:19.865393</td><td>false</td></tr><tr><td>&quot;042add6b-b08b-43f2-9102-162952…</td><td>&quot;9499&quot;</td><td>&quot;1733&quot;</td><td>68.79</td><td>&quot;26.0.0.0/8&quot;</td><td>2025-04-07 17:46:27.865393</td><td>false</td></tr><tr><td>&quot;1db63244-8c0f-48fe-9cca-699410…</td><td>&quot;5465&quot;</td><td>&quot;308&quot;</td><td>51.66</td><td>&quot;172.114.54.155&quot;</td><td>2025-04-06 19:58:22.865393</td><td>false</td></tr><tr><td>&quot;b94c7d38-7c25-49b1-aa36-17d3f1…</td><td>&quot;6024&quot;</td><td>&quot;418&quot;</td><td>306.61</td><td>&quot;46.34.233.196/32&quot;</td><td>2025-04-05 18:15:24.865393</td><td>false</td></tr><tr><td>&quot;d2df1e0f-d52a-4847-90cd-dbec4d…</td><td>&quot;9348&quot;</td><td>&quot;1449&quot;</td><td>142.27</td><td>&quot;73.80.0.0/12&quot;</td><td>2025-03-29 17:05:31.865393</td><td>false</td></tr></tbody></table></div>"
      ],
      "text/plain": [
       "shape: (5, 7)\n",
       "┌─────────────────┬────────┬─────────────┬────────┬────────────────┬────────────────┬──────────────┐\n",
       "│ t_id            ┆ cc_num ┆ merchant_id ┆ amount ┆ ip_address     ┆ ts             ┆ card_present │\n",
       "│ ---             ┆ ---    ┆ ---         ┆ ---    ┆ ---            ┆ ---            ┆ ---          │\n",
       "│ str             ┆ str    ┆ str         ┆ f64    ┆ str            ┆ datetime[μs]   ┆ bool         │\n",
       "╞═════════════════╪════════╪═════════════╪════════╪════════════════╪════════════════╪══════════════╡\n",
       "│ 8a203141-5885-4 ┆ 6369   ┆ 528         ┆ 404.49 ┆ 212.187.89.224 ┆ 2025-04-01 08: ┆ false        │\n",
       "│ ef4-9e46-a3e0f7 ┆        ┆             ┆        ┆ /27            ┆ 08:19.865393   ┆              │\n",
       "│ …               ┆        ┆             ┆        ┆                ┆                ┆              │\n",
       "│ 042add6b-b08b-4 ┆ 9499   ┆ 1733        ┆ 68.79  ┆ 26.0.0.0/8     ┆ 2025-04-07 17: ┆ false        │\n",
       "│ 3f2-9102-162952 ┆        ┆             ┆        ┆                ┆ 46:27.865393   ┆              │\n",
       "│ …               ┆        ┆             ┆        ┆                ┆                ┆              │\n",
       "│ 1db63244-8c0f-4 ┆ 5465   ┆ 308         ┆ 51.66  ┆ 172.114.54.155 ┆ 2025-04-06 19: ┆ false        │\n",
       "│ 8fe-9cca-699410 ┆        ┆             ┆        ┆                ┆ 58:22.865393   ┆              │\n",
       "│ …               ┆        ┆             ┆        ┆                ┆                ┆              │\n",
       "│ b94c7d38-7c25-4 ┆ 6024   ┆ 418         ┆ 306.61 ┆ 46.34.233.196/ ┆ 2025-04-05 18: ┆ false        │\n",
       "│ 9b1-aa36-17d3f1 ┆        ┆             ┆        ┆ 32             ┆ 15:24.865393   ┆              │\n",
       "│ …               ┆        ┆             ┆        ┆                ┆                ┆              │\n",
       "│ d2df1e0f-d52a-4 ┆ 9348   ┆ 1449        ┆ 142.27 ┆ 73.80.0.0/12   ┆ 2025-03-29 17: ┆ false        │\n",
       "│ 847-90cd-dbec4d ┆        ┆             ┆        ┆                ┆ 05:31.865393   ┆              │\n",
       "│ …               ┆        ┆             ┆        ┆                ┆                ┆              │\n",
       "└─────────────────┴────────┴─────────────┴────────┴────────────────┴────────────────┴──────────────┘"
      ]
     },
     "execution_count": 3,
     "metadata": {},
     "output_type": "execute_result"
    }
   ],
   "source": [
    "transaction_df.head()"
   ]
  },
  {
   "cell_type": "code",
   "execution_count": 4,
   "id": "ed23e6e8-af23-4250-9641-952a0b633b67",
   "metadata": {},
   "outputs": [
    {
     "data": {
      "text/html": [
       "<div><style>\n",
       ".dataframe > thead > tr,\n",
       ".dataframe > tbody > tr {\n",
       "  text-align: right;\n",
       "  white-space: pre-wrap;\n",
       "}\n",
       "</style>\n",
       "<small>shape: (5, 7)</small><table border=\"1\" class=\"dataframe\"><thead><tr><th>t_id</th><th>cc_num</th><th>merchant_id</th><th>amount</th><th>ip_address</th><th>ts</th><th>card_present</th></tr><tr><td>str</td><td>str</td><td>str</td><td>f64</td><td>str</td><td>datetime[μs]</td><td>bool</td></tr></thead><tbody><tr><td>&quot;6fcfa58a-164e-4aaf-982b-b89d4e…</td><td>&quot;170&quot;</td><td>&quot;592&quot;</td><td>29.019346</td><td>&quot;250.208.73.238&quot;</td><td>2025-03-29 08:54:18.120894</td><td>false</td></tr><tr><td>&quot;9ac64db5-f0df-4f82-9aac-36185c…</td><td>&quot;170&quot;</td><td>&quot;1826&quot;</td><td>39.029056</td><td>&quot;129.215.28.249&quot;</td><td>2025-03-29 08:54:24.099680</td><td>false</td></tr><tr><td>&quot;6fe52dfc-a81b-47bc-bcba-efc478…</td><td>&quot;170&quot;</td><td>&quot;466&quot;</td><td>358.342005</td><td>&quot;179.189.73.253&quot;</td><td>2025-03-29 08:54:25.570040</td><td>false</td></tr><tr><td>&quot;9fb035d9-918c-46cb-877c-390066…</td><td>&quot;170&quot;</td><td>&quot;1879&quot;</td><td>54.912648</td><td>&quot;93.29.238.253&quot;</td><td>2025-03-29 08:54:25.140682</td><td>false</td></tr><tr><td>&quot;f68685b1-6765-42df-ac32-2d7258…</td><td>&quot;170&quot;</td><td>&quot;1271&quot;</td><td>166.116783</td><td>&quot;106.234.96.216&quot;</td><td>2025-03-29 08:54:28.618975</td><td>false</td></tr></tbody></table></div>"
      ],
      "text/plain": [
       "shape: (5, 7)\n",
       "┌───────────────┬────────┬─────────────┬────────────┬───────────────┬───────────────┬──────────────┐\n",
       "│ t_id          ┆ cc_num ┆ merchant_id ┆ amount     ┆ ip_address    ┆ ts            ┆ card_present │\n",
       "│ ---           ┆ ---    ┆ ---         ┆ ---        ┆ ---           ┆ ---           ┆ ---          │\n",
       "│ str           ┆ str    ┆ str         ┆ f64        ┆ str           ┆ datetime[μs]  ┆ bool         │\n",
       "╞═══════════════╪════════╪═════════════╪════════════╪═══════════════╪═══════════════╪══════════════╡\n",
       "│ 6fcfa58a-164e ┆ 170    ┆ 592         ┆ 29.019346  ┆ 250.208.73.23 ┆ 2025-03-29    ┆ false        │\n",
       "│ -4aaf-982b-b8 ┆        ┆             ┆            ┆ 8             ┆ 08:54:18.1208 ┆              │\n",
       "│ 9d4e…         ┆        ┆             ┆            ┆               ┆ 94            ┆              │\n",
       "│ 9ac64db5-f0df ┆ 170    ┆ 1826        ┆ 39.029056  ┆ 129.215.28.24 ┆ 2025-03-29    ┆ false        │\n",
       "│ -4f82-9aac-36 ┆        ┆             ┆            ┆ 9             ┆ 08:54:24.0996 ┆              │\n",
       "│ 185c…         ┆        ┆             ┆            ┆               ┆ 80            ┆              │\n",
       "│ 6fe52dfc-a81b ┆ 170    ┆ 466         ┆ 358.342005 ┆ 179.189.73.25 ┆ 2025-03-29    ┆ false        │\n",
       "│ -47bc-bcba-ef ┆        ┆             ┆            ┆ 3             ┆ 08:54:25.5700 ┆              │\n",
       "│ c478…         ┆        ┆             ┆            ┆               ┆ 40            ┆              │\n",
       "│ 9fb035d9-918c ┆ 170    ┆ 1879        ┆ 54.912648  ┆ 93.29.238.253 ┆ 2025-03-29    ┆ false        │\n",
       "│ -46cb-877c-39 ┆        ┆             ┆            ┆               ┆ 08:54:25.1406 ┆              │\n",
       "│ 0066…         ┆        ┆             ┆            ┆               ┆ 82            ┆              │\n",
       "│ f68685b1-6765 ┆ 170    ┆ 1271        ┆ 166.116783 ┆ 106.234.96.21 ┆ 2025-03-29    ┆ false        │\n",
       "│ -42df-ac32-2d ┆        ┆             ┆            ┆ 6             ┆ 08:54:28.6189 ┆              │\n",
       "│ 7258…         ┆        ┆             ┆            ┆               ┆ 75            ┆              │\n",
       "└───────────────┴────────┴─────────────┴────────────┴───────────────┴───────────────┴──────────────┘"
      ]
     },
     "execution_count": 4,
     "metadata": {},
     "output_type": "execute_result"
    }
   ],
   "source": [
    "n_fraud_transactions = 5000\n",
    "\n",
    "# Function to generate random IP addresses\n",
    "def generate_fraud_ip():\n",
    "    return f\"{np.random.randint(0, 256)}.{np.random.randint(0, 256)}.{np.random.randint(0, 256)}.{np.random.randint(0, 256)}\"\n",
    "\n",
    "# Simulate right-skewed transaction amounts\n",
    "def right_skewed_amount(n):\n",
    "    return np.random.gamma(shape=2, scale=50, size=n)\n",
    "\n",
    "# Generate random boolean values\n",
    "def random_boolean(size=None):\n",
    "    return np.random.choice([True, False], size=size)\n",
    "\n",
    "# Generate random timestamps in a vectorized way\n",
    "def random_date_vec(start, end, n):\n",
    "    delta = (end - start).total_seconds()\n",
    "    return [start + timedelta(seconds=np.random.randint(0, delta)) for _ in range(n)]\n",
    "\n",
    "# Generate grouped transactions\n",
    "def generate_grouped_transactions(n_transactions, min_group=4, max_group=10, window=30, two_ip=False, card_present_val=False):\n",
    "    transactions = []\n",
    "    current_time = now - timedelta(days=n_days)\n",
    "    cc_nums = np.random.randint(1, n_cards, n_transactions).astype(str)\n",
    "    \n",
    "    while len(transactions) < n_fraud_transactions:\n",
    "        group_size = np.random.randint(min_group, max_group + 1)\n",
    "        group_size = min(group_size, n_transactions - len(transactions))\n",
    "        \n",
    "        base_time = current_time + timedelta(minutes=np.random.randint(0, window))\n",
    "        time_offsets = np.random.normal(loc=15, scale=5, size=group_size)\n",
    "        time_offsets = np.clip(time_offsets, 0, window * 60)\n",
    "        cc_num = np.random.choice(cc_nums)\n",
    "        \n",
    "        for i, offset in enumerate(time_offsets):\n",
    "            transactions.append({\n",
    "                \"t_id\": fake.uuid4(),\n",
    "                \"cc_num\": cc_num,\n",
    "                \"merchant_id\": str(np.random.randint(1, n_merchants)),\n",
    "                \"amount\": np.random.gamma(2, 50),\n",
    "                \"ip_address\": generate_fraud_ip() if not two_ip or i % 2 == 0 else generate_fraud_ip(),\n",
    "                \"ts\": base_time + timedelta(seconds=offset),\n",
    "                \"card_present\": card_present_val if not two_ip else True\n",
    "            })\n",
    "        \n",
    "        # Move to next window\n",
    "        current_time += timedelta(minutes=window)\n",
    "    \n",
    "    return transactions\n",
    "\n",
    "# Generate 5000 transactions (4-10 per group)\n",
    "transactions_chain = generate_grouped_transactions(n_fraud_transactions, 4, 10, 30)\n",
    "\n",
    "# Generate 2000 transactions (2 per group, different IPs, card_present=True)\n",
    "transactions_loc = generate_grouped_transactions(n_fraud_transactions, 2, 2, 10, two_ip=True, card_present_val=True)\n",
    "\n",
    "transactions_fraud = pl.DataFrame(transactions_chain + transactions_loc)\n",
    "# Combine and create DataFrame\n",
    "transactions_fraud.head()"
   ]
  },
  {
   "cell_type": "code",
   "execution_count": 5,
   "id": "e58317be-a283-4e9f-91ad-adbc89a2b94d",
   "metadata": {},
   "outputs": [
    {
     "name": "stdout",
     "output_type": "stream",
     "text": [
      "shape: (5, 7)\n",
      "┌─────────────────┬────────┬─────────────┬────────┬────────────────┬────────────────┬──────────────┐\n",
      "│ t_id            ┆ cc_num ┆ merchant_id ┆ amount ┆ ip_address     ┆ ts             ┆ card_present │\n",
      "│ ---             ┆ ---    ┆ ---         ┆ ---    ┆ ---            ┆ ---            ┆ ---          │\n",
      "│ str             ┆ str    ┆ str         ┆ f64    ┆ str            ┆ datetime[μs]   ┆ bool         │\n",
      "╞═════════════════╪════════╪═════════════╪════════╪════════════════╪════════════════╪══════════════╡\n",
      "│ 8a203141-5885-4 ┆ 6369   ┆ 528         ┆ 404.49 ┆ 212.187.89.224 ┆ 2025-04-01 08: ┆ false        │\n",
      "│ ef4-9e46-a3e0f7 ┆        ┆             ┆        ┆ /27            ┆ 08:19.865393   ┆              │\n",
      "│ …               ┆        ┆             ┆        ┆                ┆                ┆              │\n",
      "│ 042add6b-b08b-4 ┆ 9499   ┆ 1733        ┆ 68.79  ┆ 26.0.0.0/8     ┆ 2025-04-07 17: ┆ false        │\n",
      "│ 3f2-9102-162952 ┆        ┆             ┆        ┆                ┆ 46:27.865393   ┆              │\n",
      "│ …               ┆        ┆             ┆        ┆                ┆                ┆              │\n",
      "│ 1db63244-8c0f-4 ┆ 5465   ┆ 308         ┆ 51.66  ┆ 172.114.54.155 ┆ 2025-04-06 19: ┆ false        │\n",
      "│ 8fe-9cca-699410 ┆        ┆             ┆        ┆                ┆ 58:22.865393   ┆              │\n",
      "│ …               ┆        ┆             ┆        ┆                ┆                ┆              │\n",
      "│ b94c7d38-7c25-4 ┆ 6024   ┆ 418         ┆ 306.61 ┆ 46.34.233.196/ ┆ 2025-04-05 18: ┆ false        │\n",
      "│ 9b1-aa36-17d3f1 ┆        ┆             ┆        ┆ 32             ┆ 15:24.865393   ┆              │\n",
      "│ …               ┆        ┆             ┆        ┆                ┆                ┆              │\n",
      "│ d2df1e0f-d52a-4 ┆ 9348   ┆ 1449        ┆ 142.27 ┆ 73.80.0.0/12   ┆ 2025-03-29 17: ┆ false        │\n",
      "│ 847-90cd-dbec4d ┆        ┆             ┆        ┆                ┆ 05:31.865393   ┆              │\n",
      "│ …               ┆        ┆             ┆        ┆                ┆                ┆              │\n",
      "└─────────────────┴────────┴─────────────┴────────┴────────────────┴────────────────┴──────────────┘\n"
     ]
    }
   ],
   "source": [
    "transaction_df = pl.concat([transaction_df, transactions_fraud])\n",
    "print(transaction_df.head())"
   ]
  },
  {
   "cell_type": "code",
   "execution_count": 6,
   "id": "0c0b196f-dba7-46f1-9585-ff9a5f603f55",
   "metadata": {},
   "outputs": [],
   "source": [
    "\n",
    "# Generate Historical Transaction Fraud Reports Table\n",
    "n_fraud_reports = int(n_fraud_transactions * 2)\n",
    "fraud_df = pl.DataFrame({\n",
    "    \"report_id\": pl.Series([fake.uuid4() for _ in range(n_fraud_reports)]),\n",
    "    \"t_id\": transactions_fraud[\"t_id\"],\n",
    "    \"report_time\": random_date_vec(now, now + timedelta(days=1), n_fraud_reports),\n",
    "    \"fraud_type\": pl.Series(np.random.choice(['Card Not Present', 'Skimming', 'Lost/Stolen'], n_fraud_reports, p=[0.5, 0.3, 0.2]))\n",
    "})\n",
    "\n"
   ]
  },
  {
   "cell_type": "code",
   "execution_count": 7,
   "id": "51aba77b-fa81-4a88-8818-f12c66af3ce2",
   "metadata": {},
   "outputs": [
    {
     "name": "stdout",
     "output_type": "stream",
     "text": [
      "shape: (10_000, 4)\n",
      "┌──────────────────────────────┬──────────────────────────────┬─────────────────┬──────────────────┐\n",
      "│ report_id                    ┆ t_id                         ┆ report_time     ┆ fraud_type       │\n",
      "│ ---                          ┆ ---                          ┆ ---             ┆ ---              │\n",
      "│ str                          ┆ str                          ┆ datetime[μs]    ┆ str              │\n",
      "╞══════════════════════════════╪══════════════════════════════╪═════════════════╪══════════════════╡\n",
      "│ 1c3449d4-14e1-4602-9566-e4b6 ┆ 6fcfa58a-164e-4aaf-982b-b89d ┆ 2025-04-08      ┆ Skimming         │\n",
      "│ 22…                          ┆ 4e…                          ┆ 16:02:16.865393 ┆                  │\n",
      "│ f90d543c-60db-4821-837b-f336 ┆ 9ac64db5-f0df-4f82-9aac-3618 ┆ 2025-04-08      ┆ Lost/Stolen      │\n",
      "│ 76…                          ┆ 5c…                          ┆ 15:13:29.865393 ┆                  │\n",
      "│ dc2ac2e1-87e0-42ee-baa8-b9eb ┆ 6fe52dfc-a81b-47bc-bcba-efc4 ┆ 2025-04-08      ┆ Skimming         │\n",
      "│ 24…                          ┆ 78…                          ┆ 09:22:24.865393 ┆                  │\n",
      "│ 1372e181-d2cd-46f6-88bc-7663 ┆ 9fb035d9-918c-46cb-877c-3900 ┆ 2025-04-08      ┆ Skimming         │\n",
      "│ 20…                          ┆ 66…                          ┆ 11:34:52.865393 ┆                  │\n",
      "│ 51626bfc-9d38-45aa-ab07-babf ┆ f68685b1-6765-42df-ac32-2d72 ┆ 2025-04-08      ┆ Skimming         │\n",
      "│ dd…                          ┆ 58…                          ┆ 14:18:59.865393 ┆                  │\n",
      "│ …                            ┆ …                            ┆ …               ┆ …                │\n",
      "│ c9c9616b-6885-4ee2-818f-928e ┆ 7ec2d6df-b25e-4011-8ad5-1342 ┆ 2025-04-08      ┆ Skimming         │\n",
      "│ ba…                          ┆ b1…                          ┆ 12:06:44.865393 ┆                  │\n",
      "│ 75a4002a-c18b-4979-a12b-8f41 ┆ eb714bdd-ba0a-41e5-a7d0-9de9 ┆ 2025-04-08      ┆ Card Not Present │\n",
      "│ 9e…                          ┆ 43…                          ┆ 23:27:58.865393 ┆                  │\n",
      "│ 1e514eb5-505f-464f-9b73-8e3f ┆ fd13c7f1-141a-40d6-89a0-a885 ┆ 2025-04-08      ┆ Card Not Present │\n",
      "│ 43…                          ┆ fc…                          ┆ 10:07:58.865393 ┆                  │\n",
      "│ fd80d0f6-c120-4d2d-ac6b-1c0b ┆ 3196483c-1fc8-468e-8c29-7280 ┆ 2025-04-09      ┆ Lost/Stolen      │\n",
      "│ ee…                          ┆ 38…                          ┆ 04:17:17.865393 ┆                  │\n",
      "│ e400ca7f-5b7c-4305-bbf7-1907 ┆ 96a7f060-3ada-47d1-9e95-ac34 ┆ 2025-04-09      ┆ Skimming         │\n",
      "│ 66…                          ┆ e1…                          ┆ 00:00:27.865393 ┆                  │\n",
      "└──────────────────────────────┴──────────────────────────────┴─────────────────┴──────────────────┘\n"
     ]
    }
   ],
   "source": [
    "print(fraud_df)"
   ]
  },
  {
   "cell_type": "code",
   "execution_count": 8,
   "id": "3d857091-bce8-4fd9-8a65-7895292cddbd",
   "metadata": {},
   "outputs": [
    {
     "name": "stdout",
     "output_type": "stream",
     "text": [
      "2025-04-08 08:47:43,016 WARNING: DeprecationWarning: The default coalesce behavior of left join will change to `False` in the next breaking release. Pass `coalesce=True` to keep the current behavior and silence this warning.\n",
      "\n",
      "NaN count in weekly_fraud_rate: 0\n"
     ]
    }
   ],
   "source": [
    "weekly_fraud = (\n",
    "    transactions_fraud\n",
    "    .with_columns(\n",
    "        pl.col(\"ts\").dt.week().alias(\"week\"),\n",
    "        pl.col(\"ts\").dt.year().alias(\"year\")\n",
    "    )\n",
    "    .group_by([\"merchant_id\", \"year\", \"week\"])\n",
    "    .agg(\n",
    "        pl.sum(\"amount\").alias(\"total_fraud_amount\")\n",
    "    )\n",
    ")\n",
    "\n",
    "# Calculate total transactions per merchant per week and month\n",
    "weekly_transactions = (\n",
    "    transaction_df\n",
    "    .with_columns(\n",
    "        pl.col(\"ts\").dt.week().alias(\"week\"),\n",
    "        pl.col(\"ts\").dt.year().alias(\"year\")\n",
    "    )\n",
    "    .group_by([\"merchant_id\", \"year\", \"week\"])\n",
    "    .agg(\n",
    "        pl.sum(\"amount\").alias(\"total_amount\")\n",
    "    )\n",
    ")\n",
    "\n",
    "# Calculate fraud rate by week and month\n",
    "weekly_fraud_rate = (\n",
    "    weekly_fraud.join(\n",
    "        weekly_transactions, on=[\"merchant_id\", \"year\", \"week\"], how=\"inner\"\n",
    "    )\n",
    "    .with_columns(\n",
    "        (pl.col(\"total_fraud_amount\") / pl.col(\"total_amount\")).alias(\"weekly_fraud_rate\")\n",
    "    )\n",
    "    .join(\n",
    "        merchant_df, on=\"merchant_id\", how=\"inner\"\n",
    "    )\n",
    "    .filter(\n",
    "        (pl.col(\"year\") == pl.col(\"last_modified\").dt.year()) &\n",
    "        (pl.col(\"week\") == pl.col(\"last_modified\").dt.week())\n",
    "    )\n",
    ")\n",
    "\n",
    "merchant_df = merchant_df.join(weekly_fraud_rate.select([\"merchant_id\", \"weekly_fraud_rate\"]), on=\"merchant_id\", how=\"left\")\n",
    "\n",
    "nan_count = merchant_df[\"weekly_fraud_rate\"].is_nan().sum()\n",
    "\n",
    "print(\"NaN count in weekly_fraud_rate:\", nan_count)"
   ]
  },
  {
   "cell_type": "code",
   "execution_count": 9,
   "id": "b0301012-b55c-412c-9b26-d3cceef3d1dd",
   "metadata": {},
   "outputs": [
    {
     "name": "stdout",
     "output_type": "stream",
     "text": [
      "shape: (2_000, 7)\n",
      "┌─────────────┬──────────────┬─────────────┬─────────────┬─────────────┬─────────────┬─────────────┐\n",
      "│ merchant_id ┆ merchant_nam ┆ category    ┆ country     ┆ last_modifi ┆ cnt_chargeb ┆ weekly_frau │\n",
      "│ ---         ┆ e            ┆ ---         ┆ ---         ┆ ed          ┆ ack_prev_we ┆ d_rate      │\n",
      "│ str         ┆ ---          ┆ str         ┆ str         ┆ ---         ┆ ek          ┆ ---         │\n",
      "│             ┆ str          ┆             ┆             ┆ datetime[μs ┆ ---         ┆ f64         │\n",
      "│             ┆              ┆             ┆             ┆ ]           ┆ f64         ┆             │\n",
      "╞═════════════╪══════════════╪═════════════╪═════════════╪═════════════╪═════════════╪═════════════╡\n",
      "│ 1           ┆ French PLC   ┆ Grocery     ┆ Iceland     ┆ 2025-03-31  ┆ 58.0        ┆ 0.020632    │\n",
      "│             ┆              ┆             ┆             ┆ 23:09:18.86 ┆             ┆             │\n",
      "│             ┆              ┆             ┆             ┆ 5393        ┆             ┆             │\n",
      "│ 2           ┆ Hall,        ┆ Restaurants ┆ Saint       ┆ 2025-04-01  ┆ 44.0        ┆ 0.014444    │\n",
      "│             ┆ Alvarado and ┆             ┆ Martin      ┆ 03:49:45.86 ┆             ┆             │\n",
      "│             ┆ Weber        ┆             ┆             ┆ 5393        ┆             ┆             │\n",
      "│ 3           ┆ Walls,       ┆ Restaurants ┆ Sudan       ┆ 2025-03-31  ┆ 37.0        ┆ 0.00375     │\n",
      "│             ┆ Elliott and  ┆             ┆             ┆ 19:07:05.86 ┆             ┆             │\n",
      "│             ┆ Bryan        ┆             ┆             ┆ 5393        ┆             ┆             │\n",
      "│ 4           ┆ Ross and     ┆ Electronics ┆ South       ┆ 2025-04-01  ┆ 62.0        ┆ 0.0         │\n",
      "│             ┆ Sons         ┆             ┆ Georgia and ┆ 05:45:19.86 ┆             ┆             │\n",
      "│             ┆              ┆             ┆ the South   ┆ 5393        ┆             ┆             │\n",
      "│             ┆              ┆             ┆ Sa…         ┆             ┆             ┆             │\n",
      "│ 5           ┆ Garcia,      ┆ Grocery     ┆ United      ┆ 2025-03-31  ┆ 73.0        ┆ 0.006878    │\n",
      "│             ┆ Murillo and  ┆             ┆ States of   ┆ 21:23:29.86 ┆             ┆             │\n",
      "│             ┆ Bennett      ┆             ┆ America     ┆ 5393        ┆             ┆             │\n",
      "│ …           ┆ …            ┆ …           ┆ …           ┆ …           ┆ …           ┆ …           │\n",
      "│ 1996        ┆ Weaver-Miles ┆ Electronics ┆ Monaco      ┆ 2025-03-31  ┆ 50.0        ┆ 0.005651    │\n",
      "│             ┆              ┆             ┆             ┆ 23:28:57.86 ┆             ┆             │\n",
      "│             ┆              ┆             ┆             ┆ 5393        ┆             ┆             │\n",
      "│ 1997        ┆ Wang Ltd     ┆ Entertainme ┆ French      ┆ 2025-04-01  ┆ 51.0        ┆ 0.016269    │\n",
      "│             ┆              ┆ nt          ┆ Southern    ┆ 00:02:42.86 ┆             ┆             │\n",
      "│             ┆              ┆             ┆ Territories ┆ 5393        ┆             ┆             │\n",
      "│ 1998        ┆ Rojas-Robert ┆ Grocery     ┆ Monaco      ┆ 2025-03-31  ┆ 67.0        ┆ 0.008307    │\n",
      "│             ┆ s            ┆             ┆             ┆ 11:59:19.86 ┆             ┆             │\n",
      "│             ┆              ┆             ┆             ┆ 5393        ┆             ┆             │\n",
      "│ 1999        ┆ Nguyen,      ┆ Clothing    ┆ Saint       ┆ 2025-03-31  ┆ 87.0        ┆ 0.00884     │\n",
      "│             ┆ Parsons and  ┆             ┆ Vincent and ┆ 10:15:47.86 ┆             ┆             │\n",
      "│             ┆ Williams     ┆             ┆ the         ┆ 5393        ┆             ┆             │\n",
      "│             ┆              ┆             ┆ Grenadin…   ┆             ┆             ┆             │\n",
      "│ 2000        ┆ Malone LLC   ┆ Entertainme ┆ Saint       ┆ 2025-03-31  ┆ 100.0       ┆ 0.0         │\n",
      "│             ┆              ┆ nt          ┆ Martin      ┆ 18:29:13.86 ┆             ┆             │\n",
      "│             ┆              ┆             ┆             ┆ 5393        ┆             ┆             │\n",
      "└─────────────┴──────────────┴─────────────┴─────────────┴─────────────┴─────────────┴─────────────┘\n"
     ]
    }
   ],
   "source": [
    "merchant_df = merchant_df.with_columns(\n",
    "    pl.col(\"weekly_fraud_rate\").fill_null(0)\n",
    ")\n",
    "print(merchant_df)"
   ]
  },
  {
   "cell_type": "code",
   "execution_count": 10,
   "id": "a6533009",
   "metadata": {},
   "outputs": [
    {
     "name": "stdout",
     "output_type": "stream",
     "text": [
      "2025-04-08 08:47:43,046 INFO: Initializing external client\n",
      "2025-04-08 08:47:43,046 INFO: Base URL: https://c.app.hopsworks.ai:443\n",
      "2025-04-08 08:47:44,437 INFO: Python Engine initialized.\n",
      "\n",
      "Logged in to project, explore it here https://c.app.hopsworks.ai:443/p/398\n"
     ]
    }
   ],
   "source": [
    "# Check if HOPSWORKS_API_KEY env variable is set or if it is set in ~/.env\n",
    "if 'HOPSWORKS_API_KEY' not in os.environ and settings.HOPSWORKS_API_KEY:\n",
    "    api_key = settings.HOPSWORKS_API_KEY.get_secret_value()\n",
    "    os.environ['HOPSWORKS_API_KEY'] = api_key\n",
    "\n",
    "# Initialize Hopsworks connection and get a reference to the feature store using the project\n",
    "project = hopsworks.login()\n",
    "fs = project.get_feature_store()\n"
   ]
  },
  {
   "cell_type": "code",
   "execution_count": 11,
   "id": "dac04a41",
   "metadata": {},
   "outputs": [],
   "source": [
    "# Define descriptions for each table schema's features\n",
    "feature_descriptions = {\n",
    "    \"credit_card_transactions\": {\n",
    "        \"t_id\": \"Unique identifier for each transaction.\",\n",
    "        \"cc_num\": \"Identifier for the card used in the transaction.\",\n",
    "        \"merchant_id\": \"Identifier for the merchant where the transaction took place.\",\n",
    "        \"ts\": \"Timestamp for when the transaction occurred.\",\n",
    "        \"amount\": \"Monetary amount of the transaction, right-skewed, median $50, mean $200.\",\n",
    "        \"ip_address\": \"IP address for  the credit terminal that executed the transaction\",\n",
    "        \"card_present\": \"Point-of-sale terminal (true) or an online transaction (false).\"\n",
    "    },\n",
    "    \"card_details\": {\n",
    "        \"cc_num\": \"Unique identifier for each card.\",\n",
    "        \"account_id\": \"Owner of the card.\",\n",
    "        \"bank_id\": \"Issuer of the card.\",\n",
    "        \"card_type\": \"Type of card ('Credit', 'Debit', 'Prepaid').\",\n",
    "        \"issue_date\": \"Date when the card was issued.\",\n",
    "        \"expiry_date\": \"Card's expiration date, typically 3 to 5 years after issue.\",\n",
    "        \"status\": \"Current status of the card ('Active', 'Blocked', 'Lost/Stolen').\"\n",
    "    },\n",
    "    \"account_details\": {\n",
    "        \"account_id\": \"Unique identifier for each customer.\",\n",
    "        \"name\": \"First and last name of the customer.\",\n",
    "        \"email\": \"Email address of the customer.\",\n",
    "        \"address\": \"Address of the customer.\",\n",
    "        \"debt_end_prev_month\": \"Outstanding credit card debt at end of most recent month\",        \n",
    "        \"creation_date\": \"Date when the customer joined.\",\n",
    "        \"last_modified\": \"Timestamp of last update for this row.\"\n",
    "    },\n",
    "    \"merchant_details\": {\n",
    "        \"merchant_id\": \"Unique identifier for each merchant.\",\n",
    "        \"merchant_name\": \"Name of the merchant.\",\n",
    "        \"category\": \"Category of the merchant (e.g., 'Grocery', 'Electronics').\",\n",
    "        \"country\": \"Location of the merchant.\",\n",
    "        \"last_modified\": \"Timestamp of last update for this row.\"\n",
    "    },\n",
    "    \"bank_details\": {\n",
    "        \"bank_id\": \"Unique identifier for each merchant.\",\n",
    "        \"country\": \"Home country for the bank.\",\n",
    "        \"credit_rating\": \"Bank credit rating (from AAA to C)\",\n",
    "        \"last_modified\": \"Timestamp of last update for this row.\"\n",
    "    },\n",
    "    \"cc_fraud\": {\n",
    "        \"report_id\": \"Unique identifier for each fraud report.\",\n",
    "        \"t_id\": \"The transaction reported as fraudulent.\",\n",
    "        \"report_time\": \"Timestamp when the fraud was reported.\",\n",
    "        \"fraud_type\": \"Type of fraud ('Card Not Present', 'Skimming', 'Lost/Stolen').\"\n",
    "    },\n",
    "}\n",
    "\n",
    "# Function to create and insert DataFrame into a feature group\n",
    "def create_feature_group(feature_group_name, description, df, feature_descriptions, event_time, online, wait):\n",
    "    # Create feature group in the Hopsworks feature store\n",
    "    feature_group = fs.get_or_create_feature_group(\n",
    "        name=feature_group_name,\n",
    "        version=1,\n",
    "        description=description,\n",
    "        primary_key=list(df.columns[:1]),\n",
    "        event_time=event_time,\n",
    "        online_enabled=online\n",
    "    )\n",
    "    \n",
    "    # Insert data into the feature group\n",
    "    feature_group.insert(df, wait=wait)\n",
    "    \n",
    "    # Update feature descriptions\n",
    "    for feature, desc in feature_descriptions.items():\n",
    "        feature_group.update_feature_description(feature, desc)\n"
   ]
  },
  {
   "cell_type": "code",
   "execution_count": 12,
   "id": "c2ebe44b-17f0-4ad7-b8cf-26b63a3c7d17",
   "metadata": {},
   "outputs": [
    {
     "name": "stdout",
     "output_type": "stream",
     "text": [
      "Feature Group created successfully, explore it at \n",
      "https://c.app.hopsworks.ai:443/p/398/fs/335/fg/1435043\n"
     ]
    },
    {
     "name": "stderr",
     "output_type": "stream",
     "text": [
      "Uploading Dataframe: 100.00% |███████████████████████████████████████████████████████████████████████████████████| Rows 510000/510000 | Elapsed Time: 00:15 | Remaining Time: 00:00\n"
     ]
    },
    {
     "name": "stdout",
     "output_type": "stream",
     "text": [
      "Launching job: credit_card_transactions_1_offline_fg_materialization\n",
      "Job started successfully, you can follow the progress at \n",
      "https://c.app.hopsworks.ai:443/p/398/jobs/named/credit_card_transactions_1_offline_fg_materialization/executions\n"
     ]
    }
   ],
   "source": [
    "# Create and insert data into feature groups\n",
    "create_feature_group(\n",
    "    \"credit_card_transactions\",\n",
    "    \"Records of all financial transactions made using cards.\",\n",
    "    transaction_df,\n",
    "    feature_descriptions[\"credit_card_transactions\"],\n",
    "    \"ts\",\n",
    "    False,\n",
    "    False\n",
    ")\n"
   ]
  },
  {
   "cell_type": "code",
   "execution_count": 13,
   "id": "053e1f34",
   "metadata": {},
   "outputs": [
    {
     "name": "stdout",
     "output_type": "stream",
     "text": [
      "Feature Group created successfully, explore it at \n",
      "https://c.app.hopsworks.ai:443/p/398/fs/335/fg/1434028\n"
     ]
    },
    {
     "name": "stderr",
     "output_type": "stream",
     "text": [
      "Uploading Dataframe: 100.00% |█████████████████████████████████████████████████████████████████████████████████████| Rows 10000/10000 | Elapsed Time: 00:02 | Remaining Time: 00:00\n"
     ]
    },
    {
     "name": "stdout",
     "output_type": "stream",
     "text": [
      "Launching job: card_details_1_offline_fg_materialization\n",
      "Job started successfully, you can follow the progress at \n",
      "https://c.app.hopsworks.ai:443/p/398/jobs/named/card_details_1_offline_fg_materialization/executions\n"
     ]
    }
   ],
   "source": [
    "create_feature_group(\n",
    "    \"card_details\",\n",
    "    \"Information about the cards used by customers.\",\n",
    "    card_df,\n",
    "    feature_descriptions[\"card_details\"],\n",
    "    None,\n",
    "    True, # We need these features in Kafka, so that Feldera can join on them\n",
    "    False\n",
    ")\n"
   ]
  },
  {
   "cell_type": "code",
   "execution_count": 14,
   "id": "e7317d2c",
   "metadata": {},
   "outputs": [
    {
     "name": "stdout",
     "output_type": "stream",
     "text": [
      "Feature Group created successfully, explore it at \n",
      "https://c.app.hopsworks.ai:443/p/398/fs/335/fg/1434029\n"
     ]
    },
    {
     "name": "stderr",
     "output_type": "stream",
     "text": [
      "Uploading Dataframe: 100.00% |███████████████████████████████████████████████████████████████████████████████████████| Rows 8000/8000 | Elapsed Time: 00:01 | Remaining Time: 00:00\n"
     ]
    },
    {
     "name": "stdout",
     "output_type": "stream",
     "text": [
      "Launching job: account_details_1_offline_fg_materialization\n",
      "Job started successfully, you can follow the progress at \n",
      "https://c.app.hopsworks.ai:443/p/398/jobs/named/account_details_1_offline_fg_materialization/executions\n"
     ]
    }
   ],
   "source": [
    "\n",
    "create_feature_group(\n",
    "    \"account_details\",\n",
    "    \"Personal information about the customer acoounts.\",\n",
    "    customer_df,\n",
    "    feature_descriptions[\"account_details\"],\n",
    "    None,\n",
    "    False,\n",
    "    False\n",
    ")\n"
   ]
  },
  {
   "cell_type": "code",
   "execution_count": 15,
   "id": "b5affdcb",
   "metadata": {},
   "outputs": [
    {
     "name": "stdout",
     "output_type": "stream",
     "text": [
      "Feature Group created successfully, explore it at \n",
      "https://c.app.hopsworks.ai:443/p/398/fs/335/fg/1434030\n"
     ]
    },
    {
     "name": "stderr",
     "output_type": "stream",
     "text": [
      "Uploading Dataframe: 100.00% |███████████████████████████████████████████████████████████████████████████████████████| Rows 2000/2000 | Elapsed Time: 00:01 | Remaining Time: 00:00\n"
     ]
    },
    {
     "name": "stdout",
     "output_type": "stream",
     "text": [
      "Launching job: merchant_details_1_offline_fg_materialization\n",
      "Job started successfully, you can follow the progress at \n",
      "https://c.app.hopsworks.ai:443/p/398/jobs/named/merchant_details_1_offline_fg_materialization/executions\n"
     ]
    }
   ],
   "source": [
    "\n",
    "create_feature_group(\n",
    "    \"merchant_details\",\n",
    "    \"Details about merchants who execute credit card transactions.\",\n",
    "    merchant_df,\n",
    "    feature_descriptions[\"merchant_details\"],\n",
    "    None,\n",
    "    False,\n",
    "    False    \n",
    ")\n",
    "\n"
   ]
  },
  {
   "cell_type": "code",
   "execution_count": 16,
   "id": "65f10ad1-b92b-4662-a9df-2a29d9052db2",
   "metadata": {},
   "outputs": [
    {
     "name": "stdout",
     "output_type": "stream",
     "text": [
      "Feature Group created successfully, explore it at \n",
      "https://c.app.hopsworks.ai:443/p/398/fs/335/fg/1434031\n"
     ]
    },
    {
     "name": "stderr",
     "output_type": "stream",
     "text": [
      "Uploading Dataframe: 100.00% |███████████████████████████████████████████████████████████████████████████████████████| Rows 1000/1000 | Elapsed Time: 00:01 | Remaining Time: 00:00\n"
     ]
    },
    {
     "name": "stdout",
     "output_type": "stream",
     "text": [
      "Launching job: bank_details_1_offline_fg_materialization\n",
      "Job started successfully, you can follow the progress at \n",
      "https://c.app.hopsworks.ai:443/p/398/jobs/named/bank_details_1_offline_fg_materialization/executions\n",
      "2025-04-08 08:50:15,666 INFO: Waiting for execution to finish. Current state: SUBMITTED. Final status: UNDEFINED\n",
      "2025-04-08 08:50:18,828 INFO: Waiting for execution to finish. Current state: RUNNING. Final status: UNDEFINED\n",
      "2025-04-08 08:51:47,255 INFO: Waiting for execution to finish. Current state: AGGREGATING_LOGS. Final status: SUCCEEDED\n",
      "2025-04-08 08:51:47,399 INFO: Waiting for log aggregation to finish.\n",
      "2025-04-08 08:51:55,937 INFO: Execution finished successfully.\n"
     ]
    }
   ],
   "source": [
    "\n",
    "create_feature_group(\n",
    "    \"bank_details\",\n",
    "    \"Details about banks - credit card issuers.\",\n",
    "    bank_df,\n",
    "    feature_descriptions[\"bank_details\"],\n",
    "    None,\n",
    "    False,\n",
    "    True    \n",
    ")\n",
    "\n"
   ]
  },
  {
   "cell_type": "code",
   "execution_count": 17,
   "id": "14a77079",
   "metadata": {},
   "outputs": [
    {
     "name": "stdout",
     "output_type": "stream",
     "text": [
      "Feature Group created successfully, explore it at \n",
      "https://c.app.hopsworks.ai:443/p/398/fs/335/fg/1434032\n"
     ]
    },
    {
     "name": "stderr",
     "output_type": "stream",
     "text": [
      "Uploading Dataframe: 100.00% |█████████████████████████████████████████████████████████████████████████████████████| Rows 10000/10000 | Elapsed Time: 00:01 | Remaining Time: 00:00\n"
     ]
    },
    {
     "name": "stdout",
     "output_type": "stream",
     "text": [
      "Launching job: cc_fraud_1_offline_fg_materialization\n",
      "Job started successfully, you can follow the progress at \n",
      "https://c.app.hopsworks.ai:443/p/398/jobs/named/cc_fraud_1_offline_fg_materialization/executions\n"
     ]
    }
   ],
   "source": [
    "create_feature_group(\n",
    "    \"cc_fraud\",\n",
    "    \"Records of past fraudulent activities reported.\",\n",
    "    fraud_df,\n",
    "    feature_descriptions[\"cc_fraud\"],\n",
    "    \"report_time\",\n",
    "    False,\n",
    "    False    \n",
    ")\n",
    "\n"
   ]
  },
  {
   "cell_type": "code",
   "execution_count": 18,
   "id": "7b7011e1",
   "metadata": {},
   "outputs": [
    {
     "name": "stdout",
     "output_type": "stream",
     "text": [
      "2025-04-08 08:52:14,427 INFO: Closing external client and cleaning up certificates.\n",
      "Connection closed.\n",
      "2025-04-08 08:52:14,446 INFO: Initializing external client\n",
      "2025-04-08 08:52:14,448 INFO: Base URL: https://c.app.hopsworks.ai:443\n",
      "2025-04-08 08:52:15,721 INFO: Python Engine initialized.\n",
      "\n",
      "Logged in to project, explore it here https://c.app.hopsworks.ai:443/p/398\n"
     ]
    }
   ],
   "source": [
    "import json\n",
    "import os\n",
    "from confluent_kafka import Producer\n",
    "\n",
    "project = hopsworks.login()\n",
    "fs = project.get_feature_store()"
   ]
  },
  {
   "cell_type": "code",
   "execution_count": 19,
   "id": "69744bfd",
   "metadata": {},
   "outputs": [],
   "source": [
    "KAFKA_TOPIC_NAME = f\"{project.name}_real_time_live_transactions\"\n",
    "SCHEMA_NAME = \"live_transactions_schema\"\n",
    "kafka_api = project.get_kafka_api()"
   ]
  },
  {
   "cell_type": "code",
   "execution_count": 20,
   "id": "bffd78ef",
   "metadata": {},
   "outputs": [
    {
     "name": "stdout",
     "output_type": "stream",
     "text": [
      "Created topic\n"
     ]
    }
   ],
   "source": [
    "schema = {\n",
    "    \"type\": \"record\",\n",
    "    \"name\": SCHEMA_NAME,\n",
    "    \"namespace\": \"ai.hopsworks.examples.feldera.fraud\",\n",
    "    \"fields\": [\n",
    "        {\n",
    "            \"name\": \"t_id\",\n",
    "            \"type\": [\n",
    "                \"null\",\n",
    "                \"string\"\n",
    "            ]\n",
    "        },\n",
    "        {\n",
    "            \"name\": \"ts\",\n",
    "            \"type\": [\n",
    "                \"null\",\n",
    "                {\n",
    "                    \"type\": \"long\",\n",
    "                    \"logicalType\": \"timestamp-micros\"\n",
    "                }\n",
    "            ]\n",
    "        },\n",
    "        {\n",
    "            \"name\": \"cc_num\",\n",
    "            \"type\": [\n",
    "                \"null\",\n",
    "                \"string\"\n",
    "            ]\n",
    "        },\n",
    "        {\n",
    "            \"name\": \"merchant_id\",\n",
    "            \"type\": [\n",
    "                \"null\",\n",
    "                \"string\"\n",
    "            ]\n",
    "        },\n",
    "        {\n",
    "            \"name\": \"amount\",\n",
    "            \"type\": [\n",
    "                \"null\",\n",
    "                \"double\"\n",
    "            ]\n",
    "        },\n",
    "        {\n",
    "            \"name\": \"ip_addr\",\n",
    "            \"type\": [\n",
    "                \"null\",\n",
    "                \"string\"\n",
    "            ]\n",
    "        },\n",
    "        {\n",
    "            \"name\": \"card_present\",\n",
    "            \"type\": [\n",
    "                \"null\",\n",
    "                \"boolean\"\n",
    "            ]\n",
    "        }\n",
    "    ]\n",
    "}\n",
    "\n",
    "if KAFKA_TOPIC_NAME not in [topic.name for topic in kafka_api.get_topics()]:\n",
    "    kafka_api.create_schema(SCHEMA_NAME, schema)\n",
    "    kafka_api.create_topic(KAFKA_TOPIC_NAME, SCHEMA_NAME, 1, replicas=1, partitions=1)\n",
    "    print(\"Created topic\")\n",
    "else:\n",
    "    print(\"Did not create topic\")"
   ]
  },
  {
   "cell_type": "code",
   "execution_count": 21,
   "id": "8082baea-230d-4fd8-9f81-23be355a073c",
   "metadata": {},
   "outputs": [
    {
     "name": "stdout",
     "output_type": "stream",
     "text": [
      "Deleting schema live_transactions_schema\n",
      "Could not find schema to delete\n"
     ]
    }
   ],
   "source": [
    "# Uncomment and run this cell to delete the schema and topic\n",
    "\n",
    "topics = kafka_api.get_topics()\n",
    "if topics[0].name == KAFKA_TOPIC_NAME:\n",
    "    try:\n",
    "        topics[0].delete()\n",
    "        print(f\"Deleted topic {KAFKA_TOPIC_NAME}\")\n",
    "    except hopsworks.RestAPIError:\n",
    "        print(\"Could not find topic to delete\")\n",
    "\n",
    "try:\n",
    "    schema = kafka_api.get_schema(SCHEMA_NAME, 1)\n",
    "    print(f\"Deleting schema {SCHEMA_NAME}\")\n",
    "    schema.delete()\n",
    "except hopsworks.RestAPIError:\n",
    "    print(\"Could not find schema to delete\")"
   ]
  },
  {
   "cell_type": "code",
   "execution_count": 22,
   "id": "94430492",
   "metadata": {},
   "outputs": [
    {
     "name": "stdout",
     "output_type": "stream",
     "text": [
      "{'bootstrap.servers': '51.161.81.188:9093,51.161.81.208:9093,51.161.80.189:9093', 'security.protocol': 'SSL', 'ssl.endpoint.identification.algorithm': 'none', 'ssl.ca.location': '/tmp/kafka_sc_398_-1_ca_chain.pem', 'ssl.certificate.location': '/tmp/kafka_sc_398_-1_client_cert.pem', 'ssl.key.location': '/tmp/kafka_sc_398_-1_client_key.pem'}\n",
      "Finished sending index 0\n",
      "Finished sending index 50000\n",
      "Finished sending index 100000\n",
      "Finished sending index 150000\n",
      "Finished sending index 200000\n",
      "Finished sending index 250000\n",
      "Finished sending index 300000\n",
      "Finished sending index 350000\n",
      "Finished sending index 400000\n",
      "Finished sending index 450000\n",
      "Finished sending index 500000\n"
     ]
    },
    {
     "data": {
      "text/plain": [
       "0"
      ]
     },
     "execution_count": 22,
     "metadata": {},
     "output_type": "execute_result"
    }
   ],
   "source": [
    "# Get kafka config, so that you can produce to the Topic\n",
    "kafka_config = fs._storage_connector_api.get_kafka_connector(fs.id, True).confluent_options()\n",
    "\n",
    "print(kafka_config)\n",
    "producer = Producer(kafka_config)\n",
    "\n",
    "# for index, transaction in transaction_df.iterrows():\n",
    "#     producer.produce(KAFKA_TOPIC_NAME, transaction.to_json())\n",
    "    \n",
    "#     if index % 50000 == 0:\n",
    "#         producer.flush()\n",
    "#         print(f'Finished sending index {index}')\n",
    "\n",
    "# Convert datetime column to string so that it is json serializable in Polars\n",
    "transaction_df = transaction_df.with_columns(\n",
    "    transaction_df[\"ts\"].dt.strftime(\"%Y-%m-%d\").alias(\"ts\")\n",
    ")\n",
    "\n",
    "for index, row in enumerate(transaction_df.to_dicts()):  # Convert Polars DataFrame to dicts\n",
    "    producer.produce(KAFKA_TOPIC_NAME, json.dumps(row))  # Send each row as a JSON message\n",
    "    \n",
    "    if index % 50000 == 0:\n",
    "        producer.flush()\n",
    "        print(f'Finished sending index {index}')\n",
    "\n",
    "\n",
    "producer.flush()"
   ]
  },
  {
   "cell_type": "code",
   "execution_count": null,
   "id": "aa18c42f-7191-487f-a643-f9a755332f8b",
   "metadata": {},
   "outputs": [],
   "source": []
  }
 ],
 "metadata": {
  "kernelspec": {
   "display_name": "Python 3 (ipykernel)",
   "language": "python",
   "name": "python3"
  },
  "language_info": {
   "codemirror_mode": {
    "name": "ipython",
    "version": 3
   },
   "file_extension": ".py",
   "mimetype": "text/x-python",
   "name": "python",
   "nbconvert_exporter": "python",
   "pygments_lexer": "ipython3",
   "version": "3.10.0"
  }
 },
 "nbformat": 4,
 "nbformat_minor": 5
}
