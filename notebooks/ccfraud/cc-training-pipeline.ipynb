{
 "cells": [
  {
   "cell_type": "code",
   "execution_count": 1,
   "id": "448d85db-9048-49aa-91cc-b8d68efcc613",
   "metadata": {},
   "outputs": [
    {
     "name": "stdout",
     "output_type": "stream",
     "text": [
      "2025-10-20 20:33:30,604 INFO: Initializing external client\n",
      "2025-10-20 20:33:30,604 INFO: Base URL: https://stagingmain.devnet.hops.works:443\n",
      "2025-10-20 20:33:30,893 WARNING: UserWarning: The installed hopsworks client version 4.4.2 may not be compatible with the connected Hopsworks backend version 4.6.0. \n",
      "To ensure compatibility please install the latest bug fix release matching the minor version of your backend (4.6) by running 'pip install hopsworks==4.6.*'\n",
      "\n"
     ]
    },
    {
     "name": "stderr",
     "output_type": "stream",
     "text": [
      "\n",
      "\n"
     ]
    },
    {
     "name": "stdout",
     "output_type": "stream",
     "text": [
      "2025-10-20 20:33:31,444 INFO: Python Engine initialized.\n",
      "\n",
      "Logged in to project, explore it here https://stagingmain.devnet.hops.works:443/p/119\n"
     ]
    }
   ],
   "source": [
    "import hopsworks\n",
    "\n",
    "proj = hopsworks.login()\n",
    "fs = proj.get_feature_store()\n",
    "mr = proj.get_model_registry()"
   ]
  },
  {
   "cell_type": "code",
   "execution_count": null,
   "id": "e7ae47e2-2ebb-46c0-809b-e375a1bc5a71",
   "metadata": {},
   "outputs": [],
   "source": [
    "merchant_fg = fs.get_feature_group(\"merchant_details\")\n",
    "account_fg = fs.get_feature_group(\"account_details\")\n",
    "bank_fg = fs.get_feature_group(\"bank_details\")\n",
    "card_fg = fs.get_feature_group(\"card_details\")\n",
    "cc_trans_aggs_fg = fs.get_feature_group(\"cc_trans_aggs_fg\")\n",
    "fraud_fg = fs.get_feature_group(\"fraud_fg\")\n"
   ]
  }
 ],
 "metadata": {
  "kernelspec": {
   "display_name": "Python 3 (ipykernel)",
   "language": "python",
   "name": "python3"
  },
  "language_info": {
   "codemirror_mode": {
    "name": "ipython",
    "version": 3
   },
   "file_extension": ".py",
   "mimetype": "text/x-python",
   "name": "python",
   "nbconvert_exporter": "python",
   "pygments_lexer": "ipython3",
   "version": "3.10.12"
  }
 },
 "nbformat": 4,
 "nbformat_minor": 5
}
