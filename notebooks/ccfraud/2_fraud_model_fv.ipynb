{
 "cells": [
  {
   "cell_type": "code",
   "execution_count": null,
   "id": "be809dbe-85ac-4828-b641-4f050d2053d4",
   "metadata": {},
   "outputs": [],
   "source": [
    "import sys\n",
    "from pathlib import Path\n",
    "\n",
    "def is_google_colab() -> bool:\n",
    "    if \"google.colab\" in str(get_ipython()):\n",
    "        return True\n",
    "    return False\n",
    "\n",
    "def clone_repository() -> None:\n",
    "    !git clone https://github.com/featurestorebook/mlfs-book.git\n",
    "    %cd mlfs-book\n",
    "\n",
    "def install_dependencies() -> None:\n",
    "    !pip install --upgrade uv\n",
    "    !uv pip install --all-extras --system --requirement pyproject.toml\n",
    "\n",
    "if is_google_colab():\n",
    "    clone_repository()\n",
    "    install_dependencies()\n",
    "    root_dir = str(Path().absolute())\n",
    "    print(\"⛳️ Google Colab environment\")\n",
    "else:\n",
    "    root_dir = str(Path().absolute().parent.parent.parent)\n",
    "    print(\"⛳️ Local environment\")\n",
    "\n",
    "# Add the root directory to the `PYTHONPATH` to use the `mlfs` Python module from the notebook.\n",
    "if root_dir not in sys.path:\n",
    "    print(f\"Adding the following directory to the PYTHONPATH: {root_dir}\")\n",
    "    sys.path.append(root_dir)"
   ]
  },
  {
   "cell_type": "code",
   "execution_count": 2,
   "id": "e3bd2216",
   "metadata": {},
   "outputs": [],
   "source": [
    "import hopsworks\n",
    "from datetime import datetime"
   ]
  },
  {
   "cell_type": "code",
   "execution_count": 3,
   "id": "3d663b11",
   "metadata": {},
   "outputs": [
    {
     "name": "stdout",
     "output_type": "stream",
     "text": [
      "2024-12-18 15:00:46,726 INFO: Initializing external client\n",
      "2024-12-18 15:00:46,727 INFO: Base URL: https://c.app.hopsworks.ai:443\n",
      "2024-12-18 15:00:48,787 INFO: Python Engine initialized.\n",
      "\n",
      "Logged in to project, explore it here https://c.app.hopsworks.ai:443/p/398\n"
     ]
    }
   ],
   "source": [
    "project = hopsworks.login()\n",
    "fs = project.get_feature_store()"
   ]
  },
  {
   "cell_type": "code",
   "execution_count": 3,
   "id": "85ff968d",
   "metadata": {},
   "outputs": [],
   "source": [
    "transactions = fs.get_feature_group(\"transactions\", version=1)\n",
    "profiles = fs.get_feature_group(\"profiles\", version=1)\n",
    "profiles_activity_5m = fs.get_feature_group(\"profiles_activity_5m\", version=1)\n",
    "profiles_last_transaction = fs.get_feature_group(\"profiles_last_transaction\", version=1)"
   ]
  },
  {
   "cell_type": "code",
   "execution_count": 4,
   "id": "0e2c3d65",
   "metadata": {},
   "outputs": [],
   "source": [
    "query = transactions.select(['fraud_label', 'amount', 'category', 'time_delta_t_minus_1', 'loc_delta_t_minus_1', 'outside_city']).join(\n",
    "    profiles.select_all(include_primary_key=False, include_event_time=False), on='account_id'\n",
    ").join(\n",
    "    profiles_activity_5m.select_all(include_primary_key=False, include_event_time=False), on='account_id'\n",
    ").join(\n",
    "    # Use Left join type as we don't need this data in the training dataset. This is only here to populate the inference helper columns\n",
    "    profiles_last_transaction.select_all(include_primary_key=False), on='account_id', join_type=\"left\"\n",
    ")"
   ]
  },
  {
   "cell_type": "code",
   "execution_count": 5,
   "id": "85fb9f79",
   "metadata": {},
   "outputs": [
    {
     "name": "stdout",
     "output_type": "stream",
     "text": [
      "Finished: Reading data from Hopsworks, using Hopsworks Feature Query Service (19.68s) \n"
     ]
    },
    {
     "data": {
      "text/html": [
       "<div>\n",
       "<style scoped>\n",
       "    .dataframe tbody tr th:only-of-type {\n",
       "        vertical-align: middle;\n",
       "    }\n",
       "\n",
       "    .dataframe tbody tr th {\n",
       "        vertical-align: top;\n",
       "    }\n",
       "\n",
       "    .dataframe thead th {\n",
       "        text-align: right;\n",
       "    }\n",
       "</style>\n",
       "<table border=\"1\" class=\"dataframe\">\n",
       "  <thead>\n",
       "    <tr style=\"text-align: right;\">\n",
       "      <th></th>\n",
       "      <th>fraud_label</th>\n",
       "      <th>amount</th>\n",
       "      <th>category</th>\n",
       "      <th>time_delta_t_minus_1</th>\n",
       "      <th>loc_delta_t_minus_1</th>\n",
       "      <th>outside_city</th>\n",
       "      <th>cc_provider</th>\n",
       "      <th>cc_type</th>\n",
       "      <th>city</th>\n",
       "      <th>age</th>\n",
       "      <th>cc_expiration_days</th>\n",
       "      <th>count</th>\n",
       "      <th>min_amount</th>\n",
       "      <th>max_amount</th>\n",
       "      <th>mean</th>\n",
       "      <th>last_transaction_datetime</th>\n",
       "      <th>latitude</th>\n",
       "      <th>longitude</th>\n",
       "    </tr>\n",
       "  </thead>\n",
       "  <tbody>\n",
       "    <tr>\n",
       "      <th>0</th>\n",
       "      <td>0</td>\n",
       "      <td>70.99</td>\n",
       "      <td>Clothing</td>\n",
       "      <td>13.732755</td>\n",
       "      <td>0.209705</td>\n",
       "      <td>1</td>\n",
       "      <td>mastercard</td>\n",
       "      <td>debit</td>\n",
       "      <td>Lower West Side</td>\n",
       "      <td>39.589041</td>\n",
       "      <td>858</td>\n",
       "      <td>1</td>\n",
       "      <td>70.989998</td>\n",
       "      <td>70.989998</td>\n",
       "      <td>70.989998</td>\n",
       "      <td>2024-06-20 14:18:57+00:00</td>\n",
       "      <td>41.75338</td>\n",
       "      <td>-86.11084</td>\n",
       "    </tr>\n",
       "    <tr>\n",
       "      <th>1</th>\n",
       "      <td>0</td>\n",
       "      <td>99.20</td>\n",
       "      <td>Grocery</td>\n",
       "      <td>9.005637</td>\n",
       "      <td>0.164352</td>\n",
       "      <td>1</td>\n",
       "      <td>mastercard</td>\n",
       "      <td>debit</td>\n",
       "      <td>Lompoc</td>\n",
       "      <td>87.298630</td>\n",
       "      <td>1589</td>\n",
       "      <td>1</td>\n",
       "      <td>99.199997</td>\n",
       "      <td>99.199997</td>\n",
       "      <td>99.199997</td>\n",
       "      <td>2024-06-19 08:03:09+00:00</td>\n",
       "      <td>33.54428</td>\n",
       "      <td>-84.23381</td>\n",
       "    </tr>\n",
       "    <tr>\n",
       "      <th>2</th>\n",
       "      <td>0</td>\n",
       "      <td>32.60</td>\n",
       "      <td>Health/Beauty</td>\n",
       "      <td>0.763137</td>\n",
       "      <td>0.066322</td>\n",
       "      <td>1</td>\n",
       "      <td>visa</td>\n",
       "      <td>credit</td>\n",
       "      <td>Evergreen Park</td>\n",
       "      <td>29.413699</td>\n",
       "      <td>309</td>\n",
       "      <td>1</td>\n",
       "      <td>32.599998</td>\n",
       "      <td>32.599998</td>\n",
       "      <td>32.599998</td>\n",
       "      <td>2024-06-21 23:46:55+00:00</td>\n",
       "      <td>40.55760</td>\n",
       "      <td>-74.28459</td>\n",
       "    </tr>\n",
       "    <tr>\n",
       "      <th>3</th>\n",
       "      <td>0</td>\n",
       "      <td>88.61</td>\n",
       "      <td>Grocery</td>\n",
       "      <td>2.731215</td>\n",
       "      <td>0.193062</td>\n",
       "      <td>1</td>\n",
       "      <td>visa</td>\n",
       "      <td>credit</td>\n",
       "      <td>Martinsburg</td>\n",
       "      <td>54.627397</td>\n",
       "      <td>1284</td>\n",
       "      <td>1</td>\n",
       "      <td>88.610001</td>\n",
       "      <td>88.610001</td>\n",
       "      <td>88.610001</td>\n",
       "      <td>2024-06-22 13:13:04+00:00</td>\n",
       "      <td>41.75338</td>\n",
       "      <td>-86.11084</td>\n",
       "    </tr>\n",
       "    <tr>\n",
       "      <th>4</th>\n",
       "      <td>0</td>\n",
       "      <td>191.32</td>\n",
       "      <td>Electronics</td>\n",
       "      <td>2.942025</td>\n",
       "      <td>0.318032</td>\n",
       "      <td>1</td>\n",
       "      <td>visa</td>\n",
       "      <td>debit</td>\n",
       "      <td>Santa Maria</td>\n",
       "      <td>59.717808</td>\n",
       "      <td>97</td>\n",
       "      <td>1</td>\n",
       "      <td>191.320007</td>\n",
       "      <td>191.320007</td>\n",
       "      <td>191.320007</td>\n",
       "      <td>2024-06-24 12:59:11+00:00</td>\n",
       "      <td>39.32288</td>\n",
       "      <td>-76.72803</td>\n",
       "    </tr>\n",
       "  </tbody>\n",
       "</table>\n",
       "</div>"
      ],
      "text/plain": [
       "   fraud_label  amount       category  time_delta_t_minus_1  \\\n",
       "0            0   70.99       Clothing             13.732755   \n",
       "1            0   99.20        Grocery              9.005637   \n",
       "2            0   32.60  Health/Beauty              0.763137   \n",
       "3            0   88.61        Grocery              2.731215   \n",
       "4            0  191.32    Electronics              2.942025   \n",
       "\n",
       "   loc_delta_t_minus_1  outside_city cc_provider cc_type             city  \\\n",
       "0             0.209705             1  mastercard   debit  Lower West Side   \n",
       "1             0.164352             1  mastercard   debit           Lompoc   \n",
       "2             0.066322             1        visa  credit   Evergreen Park   \n",
       "3             0.193062             1        visa  credit      Martinsburg   \n",
       "4             0.318032             1        visa   debit      Santa Maria   \n",
       "\n",
       "         age  cc_expiration_days  count  min_amount  max_amount        mean  \\\n",
       "0  39.589041                 858      1   70.989998   70.989998   70.989998   \n",
       "1  87.298630                1589      1   99.199997   99.199997   99.199997   \n",
       "2  29.413699                 309      1   32.599998   32.599998   32.599998   \n",
       "3  54.627397                1284      1   88.610001   88.610001   88.610001   \n",
       "4  59.717808                  97      1  191.320007  191.320007  191.320007   \n",
       "\n",
       "  last_transaction_datetime  latitude  longitude  \n",
       "0 2024-06-20 14:18:57+00:00  41.75338  -86.11084  \n",
       "1 2024-06-19 08:03:09+00:00  33.54428  -84.23381  \n",
       "2 2024-06-21 23:46:55+00:00  40.55760  -74.28459  \n",
       "3 2024-06-22 13:13:04+00:00  41.75338  -86.11084  \n",
       "4 2024-06-24 12:59:11+00:00  39.32288  -76.72803  "
      ]
     },
     "execution_count": 5,
     "metadata": {},
     "output_type": "execute_result"
    }
   ],
   "source": [
    "query.show(5)"
   ]
  },
  {
   "cell_type": "code",
   "execution_count": 6,
   "id": "5c00ad46",
   "metadata": {},
   "outputs": [],
   "source": [
    "# Load transformation functions to encode categorical features\n",
    "label_encoder = fs.get_transformation_function(name=\"label_encoder\")"
   ]
  },
  {
   "cell_type": "code",
   "execution_count": 8,
   "id": "02bd8f84",
   "metadata": {},
   "outputs": [
    {
     "name": "stdout",
     "output_type": "stream",
     "text": [
      "Feature view created successfully, explore it at \n",
      "https://snurran.hops.works/p/15479/fs/15427/fv/fraud_model_fv/version/1\n"
     ]
    }
   ],
   "source": [
    "# Register the feature view with the feature store\n",
    "fraud_model_fv = fs.get_or_create_feature_view(\n",
    "    name=\"fraud_model_fv\",\n",
    "    version=1,\n",
    "    description=\"Fraud model feature view\",\n",
    "    query=query,\n",
    "    labels=['fraud_label'],\n",
    "    inference_helper_columns=['city', 'last_transaction_datetime', 'latitude', 'longitude'],\n",
    "    transformation_functions = {\n",
    "        \"category\": label_encoder,\n",
    "        \"cc_provider\": label_encoder,\n",
    "        \"cc_type\": label_encoder\n",
    "    },\n",
    ")"
   ]
  },
  {
   "cell_type": "code",
   "execution_count": 9,
   "id": "f8542e82",
   "metadata": {},
   "outputs": [
    {
     "name": "stdout",
     "output_type": "stream",
     "text": [
      "Training dataset job started successfully, you can follow the progress at \n",
      "https://snurran.hops.works/p/15479/jobs/named/fraud_model_fv_1_create_fv_td_26062024144050/executions\n",
      "2024-06-26 12:43:41,057 WARNING: VersionWarning: Incremented version to `1`.\n",
      "\n"
     ]
    },
    {
     "data": {
      "text/plain": [
       "(1, <hsfs.core.job.Job at 0x7fd71c1c82e0>)"
      ]
     },
     "execution_count": 9,
     "metadata": {},
     "output_type": "execute_result"
    }
   ],
   "source": [
    "# Create training dataset for the model. \n",
    "# Split train and test data by time\n",
    "train_start = datetime(year=2023, month=8, day=1, hour=0, minute=0, second=0)\n",
    "train_end = datetime(year=2024, month=3, day=31, hour=0, minute=0, second=0)\n",
    "test_start = datetime(year=2024, month=4, day=1, hour=0, minute=0, second=0)\n",
    "test_end = datetime(year=2024, month=4, day=10, hour=0, minute=0, second=0)\n",
    "\n",
    "fraud_model_fv.create_train_test_split(\n",
    "    train_start = train_start,\n",
    "    train_end = train_end,\n",
    "    test_start = test_start,\n",
    "    test_end = test_end,\n",
    "    data_format = \"csv\",\n",
    "    coalesce = True,\n",
    "    statistics_config = {'histograms': True, 'correlations': True}\n",
    ")"
   ]
  },
  {
   "cell_type": "code",
   "execution_count": null,
   "id": "9bec416f",
   "metadata": {},
   "outputs": [],
   "source": []
  }
 ],
 "metadata": {
  "kernelspec": {
   "display_name": "Python 3 (ipykernel)",
   "language": "python",
   "name": "python3"
  },
  "language_info": {
   "codemirror_mode": {
    "name": "ipython",
    "version": 3
   },
   "file_extension": ".py",
   "mimetype": "text/x-python",
   "name": "python",
   "nbconvert_exporter": "python",
   "pygments_lexer": "ipython3",
   "version": "3.10.0"
  }
 },
 "nbformat": 4,
 "nbformat_minor": 5
}
