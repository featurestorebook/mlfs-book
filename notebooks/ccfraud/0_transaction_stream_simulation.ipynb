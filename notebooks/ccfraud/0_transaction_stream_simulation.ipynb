{
 "cells": [
  {
   "cell_type": "code",
   "execution_count": null,
   "id": "fc7021e0",
   "metadata": {},
   "outputs": [],
   "source": [
    "import hopsworks\n",
    "import json\n",
    "import os\n",
    "import pandas as pd\n",
    "from confluent_kafka import Producer"
   ]
  },
  {
   "cell_type": "code",
   "execution_count": null,
   "id": "9e5954a3",
   "metadata": {},
   "outputs": [],
   "source": [
    "project = hopsworks.login()"
   ]
  },
  {
   "cell_type": "code",
   "execution_count": null,
   "id": "07c09d81",
   "metadata": {},
   "outputs": [],
   "source": [
    "# create kafka topic\n",
    "KAFKA_TOPIC_NAME = f\"{project.name}_real_time_live_transactions\"\n",
    "SCHEMA_NAME = \"live_transactions_schema\"\n",
    "\n",
    "kafka_api = project.get_kafka_api()\n",
    "\n",
    "schema = {\n",
    "    \"type\": \"record\",\n",
    "    \"name\": SCHEMA_NAME,\n",
    "    \"namespace\": \"ai.hopsworks.examples.feldera.fraud\",\n",
    "    \"fields\": [\n",
    "        {\n",
    "            \"name\": \"transaction_id\",\n",
    "            \"type\": [\n",
    "                \"null\",\n",
    "                \"string\"\n",
    "            ]\n",
    "        },\n",
    "        {\n",
    "            \"name\": \"transaction_time\",\n",
    "            \"type\": [\n",
    "                \"null\",\n",
    "                {\n",
    "                    \"type\": \"long\",\n",
    "                    \"logicalType\": \"timestamp-micros\"\n",
    "                }\n",
    "            ]\n",
    "        },\n",
    "        {\n",
    "            \"name\": \"card_id\",\n",
    "            \"type\": [\n",
    "                \"null\",\n",
    "                \"string\"\n",
    "            ]\n",
    "        },\n",
    "        {\n",
    "            \"name\": \"customer_id\",\n",
    "            \"type\": [\n",
    "                \"null\",\n",
    "                \"string\"\n",
    "            ]\n",
    "        },\n",
    "        {\n",
    "            \"name\": \"merchant_id\",\n",
    "            \"type\": [\n",
    "                \"null\",\n",
    "                \"string\"\n",
    "            ]\n",
    "        },\n",
    "        {\n",
    "            \"name\": \"amount\",\n",
    "            \"type\": [\n",
    "                \"null\",\n",
    "                \"double\"\n",
    "            ]\n",
    "        },\n",
    "        {\n",
    "            \"name\": \"transaction_category_name\",\n",
    "            \"type\": [\n",
    "                \"null\",\n",
    "                \"string\"\n",
    "            ]\n",
    "        },\n",
    "        {\n",
    "            \"name\": \"location\",\n",
    "            \"type\": [\n",
    "                \"null\",\n",
    "                \"string\"\n",
    "            ]\n",
    "        }\n",
    "    ]\n",
    "}\n",
    "\n",
    "if KAFKA_TOPIC_NAME not in [topic.name for topic in kafka_api.get_topics()]:\n",
    "    kafka_api.create_schema(SCHEMA_NAME, schema)\n",
    "    kafka_api.create_topic(KAFKA_TOPIC_NAME, SCHEMA_NAME, 1, replicas=1, partitions=1)"
   ]
  },
  {
   "cell_type": "code",
   "execution_count": null,
   "id": "4bb4a42a",
   "metadata": {},
   "outputs": [],
   "source": [
    "# create kafka topic\n",
    "KAFKA_TOPIC_NAME = f\"{project.name}_real_time_live_transactions\"\n",
    "SCHEMA_NAME = \"live_transactions_schema\"\n",
    "\n",
    "kafka_api = project.get_kafka_api()\n",
    "\n",
    "# setup kafka producer\n",
    "\n",
    "fs = project.get_feature_store()\n",
    "kafka_config = fs._storage_connector_api.get_kafka_connector(fs.id, True).confluent_options()\n",
    "\n",
    "print(kafka_config)\n",
    "producer = Producer(kafka_config)"
   ]
  },
  {
   "cell_type": "code",
   "execution_count": null,
   "id": "3a770cfc",
   "metadata": {},
   "outputs": [],
   "source": [
    "# read histrorical transactions from the batch feature group and produce records\n",
    "transactions_pdf = fs.get_feature_group(name=\"transactions\", version=1).read()\n",
    "transactions_pdf[\"transaction_time\"] = transactions_pdf[\"transaction_time\"].dt.strftime('%Y-%m-%d %H:%M:%S')"
   ]
  },
  {
   "cell_type": "code",
   "execution_count": null,
   "id": "c9088ff8",
   "metadata": {},
   "outputs": [],
   "source": [
    "transactions_pdf.info()"
   ]
  },
  {
   "cell_type": "code",
   "execution_count": null,
   "id": "4a33495b",
   "metadata": {},
   "outputs": [],
   "source": [
    "transactions_pdf"
   ]
  },
  {
   "cell_type": "code",
   "execution_count": null,
   "id": "3b49dda0",
   "metadata": {},
   "outputs": [],
   "source": [
    "for index, transaction in transactions_pdf.iterrows():\n",
    "    producer.produce(KAFKA_TOPIC_NAME, transaction.to_json())\n",
    "    \n",
    "    if index % 50000 == 0:\n",
    "        producer.flush()\n",
    "        print(f'Finished sending index {index}')\n",
    "\n",
    "producer.flush()"
   ]
  },
  {
   "cell_type": "code",
   "execution_count": null,
   "id": "09e71dfd",
   "metadata": {},
   "outputs": [],
   "source": []
  }
 ],
 "metadata": {
  "kernelspec": {
   "display_name": "Python 3 (ipykernel)",
   "language": "python",
   "name": "python3"
  },
  "language_info": {
   "codemirror_mode": {
    "name": "ipython",
    "version": 3
   },
   "file_extension": ".py",
   "mimetype": "text/x-python",
   "name": "python",
   "nbconvert_exporter": "python",
   "pygments_lexer": "ipython3",
   "version": "3.10.0"
  }
 },
 "nbformat": 4,
 "nbformat_minor": 5
}
