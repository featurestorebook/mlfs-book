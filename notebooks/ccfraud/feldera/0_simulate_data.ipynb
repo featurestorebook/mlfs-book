{
 "cells": [
  {
   "cell_type": "markdown",
   "id": "61ddebdd-eb15-42c9-8211-304522742e4f",
   "metadata": {},
   "source": [
    "# Step 0. Data Preparation"
   ]
  },
  {
   "cell_type": "code",
   "execution_count": 2,
   "id": "ccc8b87a-3661-42ef-a845-7b82045b3360",
   "metadata": {
    "tags": []
   },
   "outputs": [],
   "source": [
    "!pip install Faker --quiet\n",
    "!pip install httpimport --quiet"
   ]
  },
  {
   "cell_type": "code",
   "execution_count": 3,
   "id": "0e84ef9a-b1c1-46da-9497-2c41f706b76a",
   "metadata": {
    "tags": []
   },
   "outputs": [],
   "source": [
    "import httpimport\n",
    "\n",
    "url = \"https://raw.githubusercontent.com/logicalclocks/hopsworks-tutorials/master/integrations/pyspark_streaming/synthetic_data\"\n",
    "\n",
    "synthetic_data = httpimport.load(\"synthetic_data\", url)"
   ]
  },
  {
   "cell_type": "code",
   "execution_count": 4,
   "id": "d67bf392-d6c5-4664-8e7b-bbc374c0f64c",
   "metadata": {
    "tags": []
   },
   "outputs": [],
   "source": [
    "from confluent_kafka import Producer"
   ]
  },
  {
   "cell_type": "markdown",
   "id": "27857e35-b798-4937-a4cb-5709e378ad6f",
   "metadata": {},
   "source": [
    "## Creating Simulated Data"
   ]
  },
  {
   "cell_type": "code",
   "execution_count": 5,
   "id": "3a6f4e12-b051-4c5b-8984-5eefed1ec9ff",
   "metadata": {
    "tags": []
   },
   "outputs": [],
   "source": [
    "data_simulator = synthetic_data.synthetic_data()\n",
    "\n",
    "profiles_df, trans_df = data_simulator.create_simulated_transactions()"
   ]
  },
  {
   "cell_type": "markdown",
   "id": "b93c8a1d-7378-4922-873d-f1475dfebde8",
   "metadata": {},
   "source": [
    "## Connecting to Hopsworks Feature Store"
   ]
  },
  {
   "cell_type": "code",
   "execution_count": 6,
   "id": "80f0f8ea-655e-447e-b36a-ed5a513b63df",
   "metadata": {
    "tags": []
   },
   "outputs": [
    {
     "name": "stdout",
     "output_type": "stream",
     "text": [
      "2025-10-02 22:55:58,053 INFO: Initializing external client\n",
      "2025-10-02 22:55:58,054 INFO: Base URL: https://c.app.hopsworks.ai:443\n"
     ]
    },
    {
     "name": "stderr",
     "output_type": "stream",
     "text": [
      "\n",
      "\n",
      "UserWarning: The installed hopsworks client version 4.3.2 may not be compatible with the connected Hopsworks backend version 4.2.2. \n",
      "To ensure compatibility please install the latest bug fix release matching the minor version of your backend (4.2) by running 'pip install hopsworks==4.2.*'\n"
     ]
    },
    {
     "name": "stdout",
     "output_type": "stream",
     "text": [
      "2025-10-02 22:55:59,816 INFO: Python Engine initialized.\n",
      "\n",
      "Logged in to project, explore it here https://c.app.hopsworks.ai:443/p/398\n"
     ]
    }
   ],
   "source": [
    "import hopsworks\n",
    "project = hopsworks.login()"
   ]
  },
  {
   "cell_type": "code",
   "execution_count": 7,
   "id": "163e4352-09b2-46ee-9a84-eb1ed0136492",
   "metadata": {
    "tags": []
   },
   "outputs": [],
   "source": [
    "kafka_api = project.get_kafka_api()\n",
    "\n",
    "fs = project.get_feature_store()"
   ]
  },
  {
   "cell_type": "code",
   "execution_count": 9,
   "id": "7ea41bdd-dd98-4bf5-b32d-b31b86233159",
   "metadata": {},
   "outputs": [
    {
     "data": {
      "text/html": [
       "<div>\n",
       "<style scoped>\n",
       "    .dataframe tbody tr th:only-of-type {\n",
       "        vertical-align: middle;\n",
       "    }\n",
       "\n",
       "    .dataframe tbody tr th {\n",
       "        vertical-align: top;\n",
       "    }\n",
       "\n",
       "    .dataframe thead th {\n",
       "        text-align: right;\n",
       "    }\n",
       "</style>\n",
       "<table border=\"1\" class=\"dataframe\">\n",
       "  <thead>\n",
       "    <tr style=\"text-align: right;\">\n",
       "      <th></th>\n",
       "      <th>cc_num</th>\n",
       "      <th>cc_provider</th>\n",
       "      <th>cc_type</th>\n",
       "      <th>cc_expiration_date</th>\n",
       "      <th>name</th>\n",
       "      <th>mail</th>\n",
       "      <th>birthdate</th>\n",
       "      <th>age</th>\n",
       "      <th>city</th>\n",
       "      <th>country_of_residence</th>\n",
       "    </tr>\n",
       "  </thead>\n",
       "  <tbody>\n",
       "    <tr>\n",
       "      <th>0</th>\n",
       "      <td>4561945063212434</td>\n",
       "      <td>mastercard</td>\n",
       "      <td>credit</td>\n",
       "      <td>02/27</td>\n",
       "      <td>Andrea Watson</td>\n",
       "      <td>Andrea Watson</td>\n",
       "      <td>1950-04-02</td>\n",
       "      <td>75</td>\n",
       "      <td>Collinwood</td>\n",
       "      <td>US</td>\n",
       "    </tr>\n",
       "    <tr>\n",
       "      <th>1</th>\n",
       "      <td>4270311811493341</td>\n",
       "      <td>mastercard</td>\n",
       "      <td>debit</td>\n",
       "      <td>07/26</td>\n",
       "      <td>Barbara Mendez</td>\n",
       "      <td>Barbara Mendez</td>\n",
       "      <td>1976-05-18</td>\n",
       "      <td>49</td>\n",
       "      <td>Palestine</td>\n",
       "      <td>US</td>\n",
       "    </tr>\n",
       "    <tr>\n",
       "      <th>2</th>\n",
       "      <td>4798484817726015</td>\n",
       "      <td>visa</td>\n",
       "      <td>debit</td>\n",
       "      <td>04/29</td>\n",
       "      <td>James Lewis</td>\n",
       "      <td>James Lewis</td>\n",
       "      <td>1955-05-18</td>\n",
       "      <td>70</td>\n",
       "      <td>Woodbridge</td>\n",
       "      <td>US</td>\n",
       "    </tr>\n",
       "    <tr>\n",
       "      <th>3</th>\n",
       "      <td>4100614711627579</td>\n",
       "      <td>mastercard</td>\n",
       "      <td>credit</td>\n",
       "      <td>04/29</td>\n",
       "      <td>John Garcia</td>\n",
       "      <td>John Garcia</td>\n",
       "      <td>1977-07-28</td>\n",
       "      <td>48</td>\n",
       "      <td>Independence</td>\n",
       "      <td>US</td>\n",
       "    </tr>\n",
       "    <tr>\n",
       "      <th>4</th>\n",
       "      <td>4809183942269373</td>\n",
       "      <td>mastercard</td>\n",
       "      <td>credit</td>\n",
       "      <td>01/27</td>\n",
       "      <td>Katelyn Cochran</td>\n",
       "      <td>Katelyn Cochran</td>\n",
       "      <td>2002-11-21</td>\n",
       "      <td>22</td>\n",
       "      <td>Thomasville</td>\n",
       "      <td>US</td>\n",
       "    </tr>\n",
       "    <tr>\n",
       "      <th>...</th>\n",
       "      <td>...</td>\n",
       "      <td>...</td>\n",
       "      <td>...</td>\n",
       "      <td>...</td>\n",
       "      <td>...</td>\n",
       "      <td>...</td>\n",
       "      <td>...</td>\n",
       "      <td>...</td>\n",
       "      <td>...</td>\n",
       "      <td>...</td>\n",
       "    </tr>\n",
       "    <tr>\n",
       "      <th>95</th>\n",
       "      <td>4999241535506310</td>\n",
       "      <td>visa</td>\n",
       "      <td>credit</td>\n",
       "      <td>05/25</td>\n",
       "      <td>Maurice Simpson</td>\n",
       "      <td>Maurice Simpson</td>\n",
       "      <td>1984-09-05</td>\n",
       "      <td>41</td>\n",
       "      <td>Searcy</td>\n",
       "      <td>US</td>\n",
       "    </tr>\n",
       "    <tr>\n",
       "      <th>96</th>\n",
       "      <td>4295351106565222</td>\n",
       "      <td>visa</td>\n",
       "      <td>debit</td>\n",
       "      <td>04/29</td>\n",
       "      <td>Jason Jones</td>\n",
       "      <td>Jason Jones</td>\n",
       "      <td>2005-03-30</td>\n",
       "      <td>20</td>\n",
       "      <td>Cypress Hills</td>\n",
       "      <td>US</td>\n",
       "    </tr>\n",
       "    <tr>\n",
       "      <th>97</th>\n",
       "      <td>4473353116781546</td>\n",
       "      <td>visa</td>\n",
       "      <td>credit</td>\n",
       "      <td>07/29</td>\n",
       "      <td>Amanda Sanders</td>\n",
       "      <td>Amanda Sanders</td>\n",
       "      <td>1927-07-06</td>\n",
       "      <td>98</td>\n",
       "      <td>Venice</td>\n",
       "      <td>US</td>\n",
       "    </tr>\n",
       "    <tr>\n",
       "      <th>98</th>\n",
       "      <td>4065232444199817</td>\n",
       "      <td>mastercard</td>\n",
       "      <td>debit</td>\n",
       "      <td>04/25</td>\n",
       "      <td>Andrew Franco</td>\n",
       "      <td>Andrew Franco</td>\n",
       "      <td>1987-06-05</td>\n",
       "      <td>38</td>\n",
       "      <td>Copperas Cove</td>\n",
       "      <td>US</td>\n",
       "    </tr>\n",
       "    <tr>\n",
       "      <th>99</th>\n",
       "      <td>4736465423461704</td>\n",
       "      <td>visa</td>\n",
       "      <td>debit</td>\n",
       "      <td>10/29</td>\n",
       "      <td>Thomas Wheeler</td>\n",
       "      <td>Thomas Wheeler</td>\n",
       "      <td>1941-06-28</td>\n",
       "      <td>84</td>\n",
       "      <td>Iron River</td>\n",
       "      <td>US</td>\n",
       "    </tr>\n",
       "  </tbody>\n",
       "</table>\n",
       "<p>100 rows × 10 columns</p>\n",
       "</div>"
      ],
      "text/plain": [
       "              cc_num cc_provider cc_type cc_expiration_date             name  \\\n",
       "0   4561945063212434  mastercard  credit              02/27    Andrea Watson   \n",
       "1   4270311811493341  mastercard   debit              07/26   Barbara Mendez   \n",
       "2   4798484817726015        visa   debit              04/29      James Lewis   \n",
       "3   4100614711627579  mastercard  credit              04/29      John Garcia   \n",
       "4   4809183942269373  mastercard  credit              01/27  Katelyn Cochran   \n",
       "..               ...         ...     ...                ...              ...   \n",
       "95  4999241535506310        visa  credit              05/25  Maurice Simpson   \n",
       "96  4295351106565222        visa   debit              04/29      Jason Jones   \n",
       "97  4473353116781546        visa  credit              07/29   Amanda Sanders   \n",
       "98  4065232444199817  mastercard   debit              04/25    Andrew Franco   \n",
       "99  4736465423461704        visa   debit              10/29   Thomas Wheeler   \n",
       "\n",
       "               mail   birthdate  age           city country_of_residence  \n",
       "0     Andrea Watson  1950-04-02   75     Collinwood                   US  \n",
       "1    Barbara Mendez  1976-05-18   49      Palestine                   US  \n",
       "2       James Lewis  1955-05-18   70     Woodbridge                   US  \n",
       "3       John Garcia  1977-07-28   48   Independence                   US  \n",
       "4   Katelyn Cochran  2002-11-21   22    Thomasville                   US  \n",
       "..              ...         ...  ...            ...                  ...  \n",
       "95  Maurice Simpson  1984-09-05   41         Searcy                   US  \n",
       "96      Jason Jones  2005-03-30   20  Cypress Hills                   US  \n",
       "97   Amanda Sanders  1927-07-06   98         Venice                   US  \n",
       "98    Andrew Franco  1987-06-05   38  Copperas Cove                   US  \n",
       "99   Thomas Wheeler  1941-06-28   84     Iron River                   US  \n",
       "\n",
       "[100 rows x 10 columns]"
      ]
     },
     "execution_count": 9,
     "metadata": {},
     "output_type": "execute_result"
    }
   ],
   "source": [
    "profiles_df"
   ]
  },
  {
   "cell_type": "markdown",
   "id": "b4d2cbef-68a3-4684-9456-6e2218aa59fc",
   "metadata": {},
   "source": [
    "## Creating Feature Groups"
   ]
  },
  {
   "cell_type": "code",
   "execution_count": 11,
   "id": "23d638d7-91ee-4f10-bb54-3c56a5070be0",
   "metadata": {
    "tags": []
   },
   "outputs": [
    {
     "name": "stderr",
     "output_type": "stream",
     "text": [
      "%6|1759438772.650|FAIL|rdkafka#producer-1| [thrd:ssl://51.161.81.188:9093/bootstrap]: ssl://51.161.81.188:9093/1: Disconnected (after 48246ms in state UP, 1 identical error(s) suppressed)\n"
     ]
    }
   ],
   "source": [
    "profile_fg = fs.get_or_create_feature_group(\n",
    "    name=\"profile\",\n",
    "    primary_key=[\"cc_num\"],\n",
    "    partition_key=[\"cc_provider\"],\n",
    "    online_enabled=True,\n",
    "    version=1,\n",
    ")"
   ]
  },
  {
   "cell_type": "code",
   "execution_count": 12,
   "id": "71bae035-a7cd-4c6c-a7a6-53691dd73daf",
   "metadata": {},
   "outputs": [
    {
     "name": "stdout",
     "output_type": "stream",
     "text": [
      "Feature Group created successfully, explore it at \n",
      "https://c.app.hopsworks.ai:443/p/398/fs/335/fg/1534427\n"
     ]
    },
    {
     "name": "stderr",
     "output_type": "stream",
     "text": [
      "Uploading Dataframe: 100.00% |█████████████████████████████████████████████████████████████████████████████████████████| Rows 100/100 | Elapsed Time: 00:01 | Remaining Time: 00:00\n"
     ]
    },
    {
     "name": "stdout",
     "output_type": "stream",
     "text": [
      "Launching job: profile_1_offline_fg_materialization\n",
      "Job started successfully, you can follow the progress at \n",
      "https://c.app.hopsworks.ai:443/p/398/jobs/named/profile_1_offline_fg_materialization/executions\n"
     ]
    },
    {
     "data": {
      "text/plain": [
       "(Job('profile_1_offline_fg_materialization', 'SPARK'), None)"
      ]
     },
     "execution_count": 12,
     "metadata": {},
     "output_type": "execute_result"
    }
   ],
   "source": [
    "profile_fg.insert(profiles_df)"
   ]
  },
  {
   "cell_type": "code",
   "execution_count": 13,
   "id": "8034c83e-3239-4026-bc87-d306d806f352",
   "metadata": {
    "tags": []
   },
   "outputs": [
    {
     "data": {
      "text/html": [
       "<div>\n",
       "<style scoped>\n",
       "    .dataframe tbody tr th:only-of-type {\n",
       "        vertical-align: middle;\n",
       "    }\n",
       "\n",
       "    .dataframe tbody tr th {\n",
       "        vertical-align: top;\n",
       "    }\n",
       "\n",
       "    .dataframe thead th {\n",
       "        text-align: right;\n",
       "    }\n",
       "</style>\n",
       "<table border=\"1\" class=\"dataframe\">\n",
       "  <thead>\n",
       "    <tr style=\"text-align: right;\">\n",
       "      <th></th>\n",
       "      <th>cc_num</th>\n",
       "      <th>cc_provider</th>\n",
       "      <th>cc_type</th>\n",
       "      <th>cc_expiration_date</th>\n",
       "      <th>name</th>\n",
       "      <th>mail</th>\n",
       "      <th>birthdate</th>\n",
       "      <th>age</th>\n",
       "      <th>city</th>\n",
       "      <th>country_of_residence</th>\n",
       "    </tr>\n",
       "  </thead>\n",
       "  <tbody>\n",
       "    <tr>\n",
       "      <th>0</th>\n",
       "      <td>4561945063212434</td>\n",
       "      <td>mastercard</td>\n",
       "      <td>credit</td>\n",
       "      <td>02/27</td>\n",
       "      <td>Andrea Watson</td>\n",
       "      <td>Andrea Watson</td>\n",
       "      <td>1950-04-02</td>\n",
       "      <td>75</td>\n",
       "      <td>Collinwood</td>\n",
       "      <td>US</td>\n",
       "    </tr>\n",
       "    <tr>\n",
       "      <th>1</th>\n",
       "      <td>4270311811493341</td>\n",
       "      <td>mastercard</td>\n",
       "      <td>debit</td>\n",
       "      <td>07/26</td>\n",
       "      <td>Barbara Mendez</td>\n",
       "      <td>Barbara Mendez</td>\n",
       "      <td>1976-05-18</td>\n",
       "      <td>49</td>\n",
       "      <td>Palestine</td>\n",
       "      <td>US</td>\n",
       "    </tr>\n",
       "    <tr>\n",
       "      <th>2</th>\n",
       "      <td>4798484817726015</td>\n",
       "      <td>visa</td>\n",
       "      <td>debit</td>\n",
       "      <td>04/29</td>\n",
       "      <td>James Lewis</td>\n",
       "      <td>James Lewis</td>\n",
       "      <td>1955-05-18</td>\n",
       "      <td>70</td>\n",
       "      <td>Woodbridge</td>\n",
       "      <td>US</td>\n",
       "    </tr>\n",
       "    <tr>\n",
       "      <th>3</th>\n",
       "      <td>4100614711627579</td>\n",
       "      <td>mastercard</td>\n",
       "      <td>credit</td>\n",
       "      <td>04/29</td>\n",
       "      <td>John Garcia</td>\n",
       "      <td>John Garcia</td>\n",
       "      <td>1977-07-28</td>\n",
       "      <td>48</td>\n",
       "      <td>Independence</td>\n",
       "      <td>US</td>\n",
       "    </tr>\n",
       "    <tr>\n",
       "      <th>4</th>\n",
       "      <td>4809183942269373</td>\n",
       "      <td>mastercard</td>\n",
       "      <td>credit</td>\n",
       "      <td>01/27</td>\n",
       "      <td>Katelyn Cochran</td>\n",
       "      <td>Katelyn Cochran</td>\n",
       "      <td>2002-11-21</td>\n",
       "      <td>22</td>\n",
       "      <td>Thomasville</td>\n",
       "      <td>US</td>\n",
       "    </tr>\n",
       "  </tbody>\n",
       "</table>\n",
       "</div>"
      ],
      "text/plain": [
       "             cc_num cc_provider cc_type cc_expiration_date             name  \\\n",
       "0  4561945063212434  mastercard  credit              02/27    Andrea Watson   \n",
       "1  4270311811493341  mastercard   debit              07/26   Barbara Mendez   \n",
       "2  4798484817726015        visa   debit              04/29      James Lewis   \n",
       "3  4100614711627579  mastercard  credit              04/29      John Garcia   \n",
       "4  4809183942269373  mastercard  credit              01/27  Katelyn Cochran   \n",
       "\n",
       "              mail   birthdate  age          city country_of_residence  \n",
       "0    Andrea Watson  1950-04-02   75    Collinwood                   US  \n",
       "1   Barbara Mendez  1976-05-18   49     Palestine                   US  \n",
       "2      James Lewis  1955-05-18   70    Woodbridge                   US  \n",
       "3      John Garcia  1977-07-28   48  Independence                   US  \n",
       "4  Katelyn Cochran  2002-11-21   22   Thomasville                   US  "
      ]
     },
     "execution_count": 13,
     "metadata": {},
     "output_type": "execute_result"
    }
   ],
   "source": [
    "profiles_df.head()"
   ]
  },
  {
   "cell_type": "markdown",
   "id": "a7f2e11c-9bd2-4500-a0aa-3d5e6ac50173",
   "metadata": {},
   "source": [
    "## Kafka Topic and Schema Creation"
   ]
  },
  {
   "cell_type": "code",
   "execution_count": 14,
   "id": "e9716cab-1ccc-4ab6-a34c-c5257c5b41df",
   "metadata": {
    "tags": []
   },
   "outputs": [],
   "source": [
    "# create kafka topic\n",
    "KAFKA_INPUT_TOPIC = \"transactions_topic_\" + str(project.id)\n",
    "SCHEMA_NAME = \"transactions_schema_\" + str(project.id)"
   ]
  },
  {
   "cell_type": "code",
   "execution_count": 15,
   "id": "73710de8-225d-411f-a684-3ac89ec262bd",
   "metadata": {
    "tags": []
   },
   "outputs": [],
   "source": [
    "schema = {\n",
    "    \"type\": \"record\",\n",
    "    \"name\": KAFKA_INPUT_TOPIC,\n",
    "    \"namespace\": \"io.hops.examples.feldera.example\",\n",
    "    \"fields\": [\n",
    "        {\"name\": \"tid\", \"type\": [\"null\", \"string\"]},\n",
    "        {\n",
    "            \"name\": \"date_time\",\n",
    "            \"type\": [\"null\", {\"type\": \"string\", \"logicalType\": \"timestamp-micros\"}],\n",
    "        },\n",
    "        {\"name\": \"cc_num\", \"type\": [\"null\", \"string\"]},\n",
    "        {\"name\": \"category\", \"type\": [\"null\", \"string\"]},\n",
    "        {\"name\": \"amount\", \"type\": [\"null\", \"double\"]},\n",
    "        {\"name\": \"latitude\", \"type\": [\"null\", \"double\"]},\n",
    "        {\"name\": \"longitude\", \"type\": [\"null\", \"double\"]},\n",
    "        {\"name\": \"city\", \"type\": [\"null\", \"string\"]},\n",
    "        {\"name\": \"country\", \"type\": [\"null\", \"string\"]},\n",
    "        {\"name\": \"fraud_label\", \"type\": [\"null\", \"int\"]},\n",
    "    ],\n",
    "}"
   ]
  },
  {
   "cell_type": "code",
   "execution_count": 16,
   "id": "d1c8bcf6-ea41-49e3-b95d-342cb7a49bff",
   "metadata": {
    "tags": []
   },
   "outputs": [
    {
     "name": "stderr",
     "output_type": "stream",
     "text": [
      "%6|1759438822.733|FAIL|rdkafka#producer-1| [thrd:ssl://51.161.81.188:9093/bootstrap]: ssl://51.161.81.188:9093/1: Disconnected (after 47786ms in state UP, 1 identical error(s) suppressed)\n"
     ]
    }
   ],
   "source": [
    "if KAFKA_INPUT_TOPIC not in [topic.name for topic in kafka_api.get_topics()]:\n",
    "    kafka_api.create_schema(KAFKA_INPUT_TOPIC, schema)\n",
    "    kafka_api.create_topic(\n",
    "        KAFKA_INPUT_TOPIC, KAFKA_INPUT_TOPIC, 1, replicas=1, partitions=1\n",
    "    )"
   ]
  },
  {
   "cell_type": "code",
   "execution_count": 18,
   "id": "7430b2f1-b9d0-40ad-80bc-cb6ee191a767",
   "metadata": {
    "tags": []
   },
   "outputs": [
    {
     "data": {
      "text/plain": [
       "{'security.protocol': 'SSL',\n",
       " 'ssl.ca.location': '/tmp/c.app.hopsworks.ai/dowlingj/ca_chain.pem',\n",
       " 'ssl.certificate.location': '/tmp/c.app.hopsworks.ai/dowlingj/client_cert.pem',\n",
       " 'ssl.key.location': '/tmp/c.app.hopsworks.ai/dowlingj/client_key.pem',\n",
       " 'client.id': 'LAPTOP-7SJ0Q078',\n",
       " 'group.id': 'my-group-id',\n",
       " 'ssl.endpoint.identification.algorithm': 'none',\n",
       " 'bootstrap.servers': '51.161.81.188:9093,51.161.81.208:9093,51.161.80.189:9093'}"
      ]
     },
     "execution_count": 18,
     "metadata": {},
     "output_type": "execute_result"
    }
   ],
   "source": [
    "# from hsfs import engine\n",
    "# kafka_config = engine.get_instance()._get_kafka_config(fs.id, {})\n",
    "\n",
    "kafka_config = kafka_api.get_default_config()\n",
    "kafka_config"
   ]
  },
  {
   "cell_type": "markdown",
   "id": "14d01b4a-ec78-48b7-b8ad-5bc5b3875c84",
   "metadata": {},
   "source": [
    "## Sending Data using created Kafka Topic"
   ]
  },
  {
   "cell_type": "code",
   "execution_count": 19,
   "id": "f38b59d0-494d-4827-be57-19c5893a905b",
   "metadata": {
    "tags": []
   },
   "outputs": [],
   "source": [
    "trans_df = trans_df.rename(columns={\"datetime\": \"date_time\"})\n",
    "\n",
    "trans_df[\"tid\"] = trans_df[\"tid\"].astype(\"string\")\n",
    "trans_df[\"date_time\"] = trans_df[\"date_time\"].astype(\"datetime64[s]\").astype(\"string\")\n",
    "trans_df[\"cc_num\"] = trans_df[\"cc_num\"].astype(\"string\")\n",
    "trans_df[\"category\"] = trans_df[\"category\"].astype(\"string\")\n",
    "trans_df[\"amount\"] = trans_df[\"amount\"].astype(\"double\")\n",
    "trans_df[\"latitude\"] = trans_df[\"latitude\"].astype(\"double\")\n",
    "trans_df[\"longitude\"] = trans_df[\"longitude\"].astype(\"double\")\n",
    "trans_df[\"city\"] = trans_df[\"city\"].astype(\"string\")\n",
    "trans_df[\"country\"] = trans_df[\"country\"].astype(\"string\")\n",
    "trans_df[\"fraud_label\"] = trans_df[\"fraud_label\"].astype(\"int\")"
   ]
  },
  {
   "cell_type": "code",
   "execution_count": 20,
   "id": "6747774e-bac3-4463-a2ea-556e78e65b96",
   "metadata": {
    "scrolled": true,
    "tags": []
   },
   "outputs": [
    {
     "name": "stderr",
     "output_type": "stream",
     "text": [
      "%4|1759438903.226|CONFWARN|LAPTOP-7SJ0Q078#producer-4| [thrd:app]: Configuration property group.id is a consumer property and will be ignored by this producer instance\n"
     ]
    },
    {
     "name": "stdout",
     "output_type": "stream",
     "text": [
      "Finished sending index 0\n",
      "Finished sending index 5000\n",
      "Finished sending index 10000\n",
      "Finished sending index 15000\n",
      "Finished sending index 20000\n",
      "Finished sending index 25000\n",
      "Finished sending index 30000\n",
      "Finished sending index 35000\n",
      "Finished sending index 40000\n",
      "Finished sending index 45000\n",
      "Finished sending index 50000\n",
      "Finished sending index 55000\n"
     ]
    },
    {
     "data": {
      "text/plain": [
       "0"
      ]
     },
     "execution_count": 20,
     "metadata": {},
     "output_type": "execute_result"
    }
   ],
   "source": [
    "producer = Producer(kafka_config)\n",
    "\n",
    "for index, transaction in trans_df.iterrows():\n",
    "    producer.produce(KAFKA_INPUT_TOPIC, transaction.to_json())\n",
    "\n",
    "    if index % 5000 == 0:\n",
    "        producer.flush()\n",
    "        print(f\"Finished sending index {index}\")\n",
    "\n",
    "producer.flush()"
   ]
  },
  {
   "cell_type": "code",
   "execution_count": null,
   "id": "aa4eb310-d44a-48c7-afa6-eea149efade4",
   "metadata": {},
   "outputs": [],
   "source": []
  }
 ],
 "metadata": {
  "kernelspec": {
   "display_name": "Python 3 (ipykernel)",
   "language": "python",
   "name": "python3"
  },
  "language_info": {
   "codemirror_mode": {
    "name": "ipython",
    "version": 3
   },
   "file_extension": ".py",
   "mimetype": "text/x-python",
   "name": "python",
   "nbconvert_exporter": "python",
   "pygments_lexer": "ipython3",
   "version": "3.10.12"
  }
 },
 "nbformat": 4,
 "nbformat_minor": 5
}
