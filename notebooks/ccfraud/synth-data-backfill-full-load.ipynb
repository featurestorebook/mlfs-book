{
 "cells": [
  {
   "cell_type": "code",
   "execution_count": 1,
   "id": "278ec99b-fdd3-41b9-808a-c2dbe3f89326",
   "metadata": {},
   "outputs": [
    {
     "name": "stdout",
     "output_type": "stream",
     "text": [
      "2025-10-20 15:27:27,948 INFO: Initializing external client\n",
      "2025-10-20 15:27:27,950 INFO: Base URL: https://stagingmain.devnet.hops.works:443\n",
      "2025-10-20 15:27:28,250 WARNING: UserWarning: The installed hopsworks client version 4.4.2 may not be compatible with the connected Hopsworks backend version 4.6.0. \n",
      "To ensure compatibility please install the latest bug fix release matching the minor version of your backend (4.6) by running 'pip install hopsworks==4.6.*'\n",
      "\n"
     ]
    },
    {
     "name": "stderr",
     "output_type": "stream",
     "text": [
      "\n",
      "\n"
     ]
    },
    {
     "name": "stdout",
     "output_type": "stream",
     "text": [
      "2025-10-20 15:27:28,839 INFO: Python Engine initialized.\n",
      "\n",
      "Logged in to project, explore it here https://stagingmain.devnet.hops.works:443/p/119\n",
      "Starting data generation process...\n",
      "Generating merchant details...\n",
      "Creating feature group: merchant_details\n",
      "Feature Group created successfully, explore it at \n",
      "https://stagingmain.devnet.hops.works:443/p/119/fs/67/fg/13\n"
     ]
    },
    {
     "name": "stderr",
     "output_type": "stream",
     "text": [
      "Uploading Dataframe: 100.00% |█████████████████████████████████████████████████████████████████████████████████████████| Rows 500/500 | Elapsed Time: 00:01 | Remaining Time: 00:00\n"
     ]
    },
    {
     "name": "stdout",
     "output_type": "stream",
     "text": [
      "Launching job: merchant_details_1_offline_fg_materialization\n",
      "Job started successfully, you can follow the progress at \n",
      "https://stagingmain.devnet.hops.works:443/p/119/jobs/named/merchant_details_1_offline_fg_materialization/executions\n",
      "  Added description for: merchant_id\n",
      "  Added description for: category\n",
      "  Added description for: country\n",
      "  Added description for: cnt_chrgeback_prev_day\n",
      "  Added description for: last_modified\n",
      "Generating bank details...\n",
      "Creating feature group: bank_details\n",
      "Feature Group created successfully, explore it at \n",
      "https://stagingmain.devnet.hops.works:443/p/119/fs/67/fg/14\n"
     ]
    },
    {
     "name": "stderr",
     "output_type": "stream",
     "text": [
      "Uploading Dataframe: 100.00% |███████████████████████████████████████████████████████████████████████████████████████| Rows 1000/1000 | Elapsed Time: 00:00 | Remaining Time: 00:00\n"
     ]
    },
    {
     "name": "stdout",
     "output_type": "stream",
     "text": [
      "Launching job: bank_details_1_offline_fg_materialization\n",
      "Job started successfully, you can follow the progress at \n",
      "https://stagingmain.devnet.hops.works:443/p/119/jobs/named/bank_details_1_offline_fg_materialization/executions\n",
      "  Added description for: bank_id\n",
      "  Added description for: country\n",
      "  Added description for: credit_rating\n",
      "  Added description for: last_modified\n",
      "Generating account details...\n",
      "Creating feature group: account_details\n",
      "Feature Group created successfully, explore it at \n",
      "https://stagingmain.devnet.hops.works:443/p/119/fs/67/fg/15\n"
     ]
    },
    {
     "name": "stderr",
     "output_type": "stream",
     "text": [
      "Uploading Dataframe: 100.00% |█████████████████████████████████████████████████████████████████████████████████████| Rows 10000/10000 | Elapsed Time: 00:02 | Remaining Time: 00:00\n"
     ]
    },
    {
     "name": "stdout",
     "output_type": "stream",
     "text": [
      "Launching job: account_details_1_offline_fg_materialization\n",
      "Job started successfully, you can follow the progress at \n",
      "https://stagingmain.devnet.hops.works:443/p/119/jobs/named/account_details_1_offline_fg_materialization/executions\n",
      "  Added description for: account_id\n",
      "  Added description for: name\n",
      "  Added description for: address\n",
      "  Added description for: debt_end_prev_month\n",
      "  Added description for: last_modified\n",
      "  Added description for: creation_date\n",
      "  Added description for: end_date\n",
      "Generating card details...\n",
      "Creating feature group: card_details\n",
      "Feature Group created successfully, explore it at \n",
      "https://stagingmain.devnet.hops.works:443/p/119/fs/67/fg/16\n"
     ]
    },
    {
     "name": "stderr",
     "output_type": "stream",
     "text": [
      "Uploading Dataframe: 100.00% |█████████████████████████████████████████████████████████████████████████████████████| Rows 20000/20000 | Elapsed Time: 00:06 | Remaining Time: 00:00\n"
     ]
    },
    {
     "name": "stdout",
     "output_type": "stream",
     "text": [
      "Launching job: card_details_1_offline_fg_materialization\n",
      "Job started successfully, you can follow the progress at \n",
      "https://stagingmain.devnet.hops.works:443/p/119/jobs/named/card_details_1_offline_fg_materialization/executions\n",
      "  Added description for: cc_num\n",
      "  Added description for: cc_expiry_date\n",
      "  Added description for: account_id\n",
      "  Added description for: bank_id\n",
      "  Added description for: issue_date\n",
      "  Added description for: card_type\n",
      "  Added description for: status\n",
      "  Added description for: last_modified\n",
      "Generating credit card transactions from existing card + merchant tables...\n",
      "Creating feature group: credit_card_transactions\n",
      "Feature Group created successfully, explore it at \n",
      "https://stagingmain.devnet.hops.works:443/p/119/fs/67/fg/17\n"
     ]
    },
    {
     "name": "stderr",
     "output_type": "stream",
     "text": [
      "Uploading Dataframe: 100.00% |███████████████████████████████████████████████████████████████████████████████████| Rows 500000/500000 | Elapsed Time: 01:43 | Remaining Time: 00:00\n"
     ]
    },
    {
     "name": "stdout",
     "output_type": "stream",
     "text": [
      "Launching job: credit_card_transactions_1_offline_fg_materialization\n",
      "Job started successfully, you can follow the progress at \n",
      "https://stagingmain.devnet.hops.works:443/p/119/jobs/named/credit_card_transactions_1_offline_fg_materialization/executions\n",
      "  Added description for: t_id\n",
      "  Added description for: cc_num\n",
      "  Added description for: account_id\n",
      "  Added description for: merchant_id\n",
      "  Added description for: amount\n",
      "  Added description for: ip_address\n",
      "  Added description for: card_present\n",
      "  Added description for: ts\n",
      "All feature groups created successfully!\n",
      "\n",
      "Summary Statistics:\n",
      "Merchant Details: 500 rows\n",
      "Bank Details: 1000 rows\n",
      "Account Details: 10000 rows\n",
      "Card Details: 20000 rows\n",
      "Credit Card Transactions: 500000 rows\n"
     ]
    }
   ],
   "source": [
    "import hopsworks\n",
    "from datetime import datetime, timedelta\n",
    "import synth_transactions as st  # if you keep module separation, else import functions directly\n",
    "\n",
    "# parameters (adjust as needed)\n",
    "num_merchants = 500\n",
    "num_banks = 1000\n",
    "num_accounts = 10000\n",
    "num_cards = 20000\n",
    "num_transactions = 500_000  # set lower for testing if needed\n",
    "\n",
    "current_date = datetime(2025, 10, 5)\n",
    "transactions_start_date = current_date - timedelta(days=30)\n",
    "issue_date = current_date - timedelta(days=365 * 3)\n",
    "expiry_date = current_date + timedelta(days=365 * 3)\n",
    "account_creation_start_date = current_date - timedelta(days=365 * 5)\n",
    "account_last_modified_start_date = current_date - timedelta(days=365)\n",
    "bank_last_modified_start_date = current_date - timedelta(days=365)\n",
    "merchant_last_modified_start_date = current_date - timedelta(days=365)\n",
    "\n",
    "# Connect to Hopsworks (keeps original flow)\n",
    "project = hopsworks.login()\n",
    "fs = project.get_feature_store()\n",
    "\n",
    "print(\"Starting data generation process...\")\n",
    "\n",
    "# 1. Merchants\n",
    "merchant_df = st.generate_merchant_details(rows=num_merchants, start_date=merchant_last_modified_start_date, end_date=current_date)\n",
    "merchant_fg = st.create_feature_group_with_descriptions(\n",
    "    fs,\n",
    "    merchant_df,\n",
    "    \"merchant_details\",\n",
    "    \"Details about merchants that execute transactions\",\n",
    "    [\"merchant_id\"],\n",
    "    \"last_modified\"\n",
    ")\n",
    "\n",
    "# 2. Banks\n",
    "bank_df = st.generate_bank_details(rows=num_banks, start_date=bank_last_modified_start_date, end_date=current_date)\n",
    "bank_fg = st.create_feature_group_with_descriptions(\n",
    "    fs,\n",
    "    bank_df,\n",
    "    \"bank_details\",\n",
    "    \"Details about banks that issue credit cards\",\n",
    "    [\"bank_id\"],\n",
    "    \"last_modified\"\n",
    ")\n",
    "\n",
    "# 3. Accounts\n",
    "account_df = st.generate_account_details(rows=num_accounts,\n",
    "                                      account_creation_start_date=account_creation_start_date,\n",
    "                                      current_date=current_date,\n",
    "                                      account_last_modified_start_date=account_last_modified_start_date)\n",
    "account_fg = st.create_feature_group_with_descriptions(\n",
    "    fs,\n",
    "    account_df,\n",
    "    \"account_details\",\n",
    "    \"Information about the account and card\",\n",
    "    [\"account_id\"],\n",
    "    \"last_modified\"\n",
    ")\n",
    "\n",
    "# 4. Cards\n",
    "card_df = st.generate_card_details(rows=num_cards,\n",
    "                                num_accounts=num_accounts,\n",
    "                                num_banks=num_banks,\n",
    "                                current_date=current_date,\n",
    "                                issue_date=issue_date,\n",
    "                                expiry_date=expiry_date)\n",
    "card_fg = st.create_feature_group_with_descriptions(\n",
    "    fs,\n",
    "    card_df,\n",
    "    \"card_details\",\n",
    "    \"Information about the account and card\",\n",
    "    [\"cc_num\"],\n",
    "    \"last_modified\",\n",
    "    topic_name=f\"{project.name}_card_details\"\n",
    ")\n",
    "\n",
    "# 5. Transactions (FROM existing card + merchant)\n",
    "transactions_df = st.generate_credit_card_transactions_from_existing(\n",
    "    card_df=card_df,\n",
    "    merchant_df=merchant_df,\n",
    "    start_date=transactions_start_date,\n",
    "    end_date=current_date,\n",
    "    rows=num_transactions,\n",
    "    tid_offset=0,\n",
    "    seed=42\n",
    ")\n",
    "transactions_fg = st.create_feature_group_with_descriptions(\n",
    "    fs,\n",
    "    transactions_df,\n",
    "    \"credit_card_transactions\",\n",
    "    \"Details about credit card transactions\",\n",
    "    [\"t_id\"],\n",
    "    \"ts\",\n",
    "    topic_name=f\"{project.name}_credit_card_transactions\",\n",
    "    online_enabled=False\n",
    ")\n",
    "\n",
    "\n",
    "fraud_df = st.generate_fraud\n",
    "    transactions_df=transactions_df,\n",
    "    start_date=transactions_start_date,\n",
    "    end_date=current_date,\n",
    "    rows=num_transactions,\n",
    "    tid_offset=0,\n",
    "    seed=42\n",
    ")\n",
    "\n",
    "fraud_fg = st.create_feature_group_with_descriptions(\n",
    "    fs,\n",
    "    fraud_df,\n",
    "    \"cc_fraud\",\n",
    "    \"Credit card transaction fraud\",\n",
    "    [\"t_id\"],\n",
    "    \"ts\",\n",
    "    online_enabled=False\n",
    ")\n",
    "\n",
    "\n",
    "print(\"All feature groups created successfully!\")\n",
    "print(\"\\nSummary Statistics:\")\n",
    "print(f\"Merchant Details: {len(merchant_df)} rows\")\n",
    "print(f\"Bank Details: {len(bank_df)} rows\")\n",
    "print(f\"Account Details: {len(account_df)} rows\")\n",
    "print(f\"Card Details: {len(card_df)} rows\")\n",
    "print(f\"Credit Card Transactions: {len(transactions_df)} rows\")\n",
    "print(f\"Fraudulent Credit Card Transactions: {len(fraud_df)} rows\")\n"
   ]
  },
  {
   "cell_type": "code",
   "execution_count": null,
   "id": "f21aa4b2-5cb7-4497-bfd7-4e01ad3c9edb",
   "metadata": {},
   "outputs": [],
   "source": []
  }
 ],
 "metadata": {
  "kernelspec": {
   "display_name": "Python 3 (ipykernel)",
   "language": "python",
   "name": "python3"
  },
  "language_info": {
   "codemirror_mode": {
    "name": "ipython",
    "version": 3
   },
   "file_extension": ".py",
   "mimetype": "text/x-python",
   "name": "python",
   "nbconvert_exporter": "python",
   "pygments_lexer": "ipython3",
   "version": "3.10.12"
  }
 },
 "nbformat": 4,
 "nbformat_minor": 5
}
