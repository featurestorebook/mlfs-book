{
 "cells": [
  {
   "cell_type": "code",
   "execution_count": null,
   "id": "5efe7c85-7a23-40ec-b3bc-0bbc2d961891",
   "metadata": {},
   "outputs": [],
   "source": [
    "import hopsworks\n",
    "from datetime import datetime, timedelta\n",
    "import synth_transactions as st  # if you keep module separation, else import functions directly\n",
    "\n",
    "last_processed_date = datetime(2025, 9, 5)\n",
    "current_date = datetime(2025, 10, 5)\n",
    "\n",
    "project = hopsworks.login()\n",
    "fs = project.get_feature_store()\n",
    "\n",
    "name = \"cc_trans_fg\"\n",
    "\n",
    "trans = fs.get_feature_group(\"credit_card_transactions\")\n",
    "cc_trans_aggs_fg = fs.get_feature_group(\"cc_trans_aggs_fg\")\n",
    "cc_fraud_fg = fs.get_feature_group(\"cc_fraud_fg\")\n",
    "\n",
    "cc_trans_fg = fs.get_or_create_feature_group(\n",
    "    name=name,\n",
    "    primary_key=[\"tid\"],\n",
    "    online_enabled=True,\n",
    "    version=1,\n",
    "    event_time=\"event_time\",\n",
    "    features=[        \n",
    "        Feature(\"tid\", type=\"bigint\"),\n",
    "        Feature(\"cc_num\", type=\"string\"),\n",
    "        Feature(\"merchant_id\", type=\"string\"),\n",
    "        Feature(\"amount\", type=\"double\"),\n",
    "        Feature(\"ip_address\", type=\"string\"),\n",
    "        Feature(\"card_present\", type=\"double\"),\n",
    "        Feature(\"haversine_distance\", type=\"bool\"),\n",
    "        Feature(\"time_since_last_trans\", type=\"bigint\"),\n",
    "        Feature(\"days_to_card_expiry\", type=\"bigint\"),\n",
    "        Feature(\"is_fraud\", type=\"boolean\"),\n",
    "        Feature(\"event_time\", type=\"timestamp\"),\n",
    "    ],    \n",
    ")\n",
    "\n"
   ]
  },
  {
   "cell_type": "code",
   "execution_count": null,
   "id": "c3487817-68d8-4c6f-b99f-002488142bac",
   "metadata": {},
   "outputs": [],
   "source": [
    "try:\n",
    "    cc_trans_fg.save()\n",
    "except Exception as e:\n",
    "    print(e)"
   ]
  },
  {
   "cell_type": "code",
   "execution_count": null,
   "id": "715d43c4-734e-462a-9440-e378d1a4dad9",
   "metadata": {},
   "outputs": [],
   "source": [
    "trans_df = trans.read(start_time=last_processed_date)\n"
   ]
  },
  {
   "cell_type": "code",
   "execution_count": null,
   "id": "6a185f11-15cb-4a88-a95b-2e90de2ceba1",
   "metadata": {},
   "outputs": [],
   "source": [
    "cc_trans_fg.insert(df)"
   ]
  }
 ],
 "metadata": {
  "kernelspec": {
   "display_name": "Python 3 (ipykernel)",
   "language": "python",
   "name": "python3"
  },
  "language_info": {
   "codemirror_mode": {
    "name": "ipython",
    "version": 3
   },
   "file_extension": ".py",
   "mimetype": "text/x-python",
   "name": "python",
   "nbconvert_exporter": "python",
   "pygments_lexer": "ipython3",
   "version": "3.10.12"
  }
 },
 "nbformat": 4,
 "nbformat_minor": 5
}
