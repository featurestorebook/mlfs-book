{
 "cells": [
  {
   "cell_type": "code",
   "execution_count": 1,
   "id": "3e3f0882",
   "metadata": {},
   "outputs": [
    {
     "name": "stdout",
     "output_type": "stream",
     "text": [
      "Starting Spark application\n"
     ]
    },
    {
     "data": {
      "text/html": [
       "<table>\n",
       "<tr><th>ID</th><th>Application ID</th><th>Kind</th><th>State</th><th>Spark UI</th><th>Driver log</th></tr><tr><td>16</td><td>application_1710157917162_1233</td><td>pyspark</td><td>idle</td><td><a target=\"_blank\" href=\"/hopsworks-api/yarnui/https://ip-172-16-4-54.us-east-2.compute.internal:8089/proxy/application_1710157917162_1233/\">Link</a></td><td><a target=\"_blank\" href=\"/hopsworks-api/yarnui/https://ip-172-16-4-159.us-east-2.compute.internal:8044/node/containerlogs/container_e01_1710157917162_1233_01_000001/transformation_funcs__manujose\">Link</a></td></tr></table>"
      ],
      "text/plain": [
       "<IPython.core.display.HTML object>"
      ]
     },
     "metadata": {},
     "output_type": "display_data"
    },
    {
     "name": "stdout",
     "output_type": "stream",
     "text": [
      "SparkSession available as 'spark'.\n"
     ]
    }
   ],
   "source": [
    "from pyspark.sql.functions import *\n",
    "from pyspark.sql.types import *"
   ]
  },
  {
   "cell_type": "code",
   "execution_count": 2,
   "id": "00036f98",
   "metadata": {},
   "outputs": [],
   "source": [
    "import hopsworks\n",
    "import random\n",
    "import pandas as pd"
   ]
  },
  {
   "cell_type": "code",
   "execution_count": 3,
   "id": "3de06831",
   "metadata": {},
   "outputs": [
    {
     "name": "stdout",
     "output_type": "stream",
     "text": [
      "Connected. Call `.close()` to terminate connection gracefully.\n",
      "\n",
      "Logged in to project, explore it here https://staging.cloud.hopsworks.ai/p/124\n",
      "Connected. Call `.close()` to terminate connection gracefully."
     ]
    }
   ],
   "source": [
    "fs = hopsworks.login().get_feature_store()"
   ]
  },
  {
   "cell_type": "markdown",
   "id": "2ac789bc",
   "metadata": {},
   "source": [
    "# Setup data "
   ]
  },
  {
   "cell_type": "code",
   "execution_count": 4,
   "id": "a6ab8a15",
   "metadata": {},
   "outputs": [],
   "source": [
    "transactions_df = pd.read_csv(\"https://repo.hops.works/master/hopsworks-tutorials/data/card_fraud_data/transactions.csv\", parse_dates=[\"datetime\"])"
   ]
  },
  {
   "cell_type": "code",
   "execution_count": 5,
   "id": "d4db8a21",
   "metadata": {},
   "outputs": [],
   "source": [
    "transactions_fg = fs.get_or_create_feature_group(\n",
    "    name=\"transactions_fg\",\n",
    "    version=1,\n",
    "    description=\"Transactions data\",\n",
    "    primary_key=[\"tid\"],\n",
    "    online_enabled=True,\n",
    ")"
   ]
  },
  {
   "cell_type": "code",
   "execution_count": 6,
   "id": "4e706631",
   "metadata": {},
   "outputs": [
    {
     "name": "stdout",
     "output_type": "stream",
     "text": [
      "Feature Group created successfully, explore it at \n",
      "https://staging.cloud.hopsworks.ai/p/124/fs/72/fg/71\n",
      "(None, None)\n",
      "UserWarning: Can not find any timezone configuration, defaulting to UTC.\n",
      "DeprecationWarning: distutils Version classes are deprecated. Use packaging.version instead.\n",
      "DeprecationWarning: is_datetime64tz_dtype is deprecated and will be removed in a future version. Check `isinstance(dtype, pd.DatetimeTZDtype)` instead."
     ]
    }
   ],
   "source": [
    "transactions_fg.insert(transactions_df, write_options = {\"wait_for_job\": True})"
   ]
  },
  {
   "cell_type": "code",
   "execution_count": 12,
   "id": "809ddc32",
   "metadata": {},
   "outputs": [],
   "source": [
    "spark_dataframe = transactions_fg.read()"
   ]
  },
  {
   "cell_type": "markdown",
   "id": "c3a68c6d",
   "metadata": {},
   "source": [
    "## Cleaning categories so that it does not have \"/\" or \" \" in the text "
   ]
  },
  {
   "cell_type": "code",
   "execution_count": 13,
   "id": "785f6720",
   "metadata": {},
   "outputs": [
    {
     "name": "stdout",
     "output_type": "stream",
     "text": [
      "DeprecationWarning: invalid escape sequence '\\s'"
     ]
    }
   ],
   "source": [
    "cleaned_data = spark_dataframe.withColumn('category_parsed', trim(regexp_replace('category', '[\\s/]', '_')))"
   ]
  },
  {
   "cell_type": "markdown",
   "id": "2c8b62b5",
   "metadata": {},
   "source": [
    "## Creating Schema for Pandas udf"
   ]
  },
  {
   "cell_type": "code",
   "execution_count": 14,
   "id": "44e21c61",
   "metadata": {},
   "outputs": [],
   "source": [
    "categories = cleaned_data.select(\"category_parsed\").distinct().collect()\n",
    "schema = [f'{cat.category_parsed} int' for cat in categories]\n",
    "schema = \", \".join(schema)"
   ]
  },
  {
   "cell_type": "markdown",
   "id": "cbcc42cc",
   "metadata": {},
   "source": [
    "## Pandas Udf for one hot encoding"
   ]
  },
  {
   "cell_type": "code",
   "execution_count": 15,
   "id": "1d8c7a6b",
   "metadata": {},
   "outputs": [
    {
     "name": "stdout",
     "output_type": "stream",
     "text": [
      "DeprecationWarning: distutils Version classes are deprecated. Use packaging.version instead."
     ]
    }
   ],
   "source": [
    "@pandas_udf(schema)\n",
    "def one_hot(category: pd.Series) -> pd.DataFrame :\n",
    "    one_hot = pd.get_dummies(category)\n",
    "    return one_hot"
   ]
  },
  {
   "cell_type": "code",
   "execution_count": 16,
   "id": "e46a2d88",
   "metadata": {},
   "outputs": [
    {
     "name": "stdout",
     "output_type": "stream",
     "text": [
      "+--------------------+--------------------+---------------+-------+-----------+--------+-------------+---------------+--------+--------------------+---------------+------------------+\n",
      "|            category|     category_parsed|Sports_Outdoors|Grocery|Electronics|Clothing|Health_Beauty|Holliday_Travel|Jewelery|Restaurant_Cafeteria|Cash_Withdrawal|Domestic_Transport|\n",
      "+--------------------+--------------------+---------------+-------+-----------+--------+-------------+---------------+--------+--------------------+---------------+------------------+\n",
      "|             Grocery|             Grocery|              0|      1|          0|       0|            0|              0|       0|                   0|              0|                 0|\n",
      "|Restaurant/Cafeteria|Restaurant_Cafeteria|              0|      0|          0|       0|            0|              0|       0|                   1|              0|                 0|\n",
      "|Restaurant/Cafeteria|Restaurant_Cafeteria|              0|      0|          0|       0|            0|              0|       0|                   1|              0|                 0|\n",
      "|             Grocery|             Grocery|              0|      1|          0|       0|            0|              0|       0|                   0|              0|                 0|\n",
      "|             Grocery|             Grocery|              0|      1|          0|       0|            0|              0|       0|                   0|              0|                 0|\n",
      "|             Grocery|             Grocery|              0|      1|          0|       0|            0|              0|       0|                   0|              0|                 0|\n",
      "|             Grocery|             Grocery|              0|      1|          0|       0|            0|              0|       0|                   0|              0|                 0|\n",
      "|         Electronics|         Electronics|              0|      0|          1|       0|            0|              0|       0|                   0|              0|                 0|\n",
      "|     Cash Withdrawal|     Cash_Withdrawal|              0|      0|          0|       0|            0|              0|       0|                   0|              1|                 0|\n",
      "|             Grocery|             Grocery|              0|      1|          0|       0|            0|              0|       0|                   0|              0|                 0|\n",
      "|             Grocery|             Grocery|              0|      1|          0|       0|            0|              0|       0|                   0|              0|                 0|\n",
      "|     Cash Withdrawal|     Cash_Withdrawal|              0|      0|          0|       0|            0|              0|       0|                   0|              1|                 0|\n",
      "|     Cash Withdrawal|     Cash_Withdrawal|              0|      0|          0|       0|            0|              0|       0|                   0|              1|                 0|\n",
      "|     Cash Withdrawal|     Cash_Withdrawal|              0|      0|          0|       0|            0|              0|       0|                   0|              1|                 0|\n",
      "|             Grocery|             Grocery|              0|      1|          0|       0|            0|              0|       0|                   0|              0|                 0|\n",
      "|Restaurant/Cafeteria|Restaurant_Cafeteria|              0|      0|          0|       0|            0|              0|       0|                   1|              0|                 0|\n",
      "|             Grocery|             Grocery|              0|      1|          0|       0|            0|              0|       0|                   0|              0|                 0|\n",
      "|     Cash Withdrawal|     Cash_Withdrawal|              0|      0|          0|       0|            0|              0|       0|                   0|              1|                 0|\n",
      "|             Grocery|             Grocery|              0|      1|          0|       0|            0|              0|       0|                   0|              0|                 0|\n",
      "|  Domestic Transport|  Domestic_Transport|              0|      0|          0|       0|            0|              0|       0|                   0|              0|                 1|\n",
      "+--------------------+--------------------+---------------+-------+-----------+--------+-------------+---------------+--------+--------------------+---------------+------------------+\n",
      "only showing top 20 rows"
     ]
    }
   ],
   "source": [
    "(cleaned_data.select(\"*\", one_hot(\"category_parsed\").alias(\"one_hot\"))\n",
    "             .select(\"category\", \"category_parsed\", \"one_hot.*\")\n",
    "             .show())"
   ]
  },
  {
   "cell_type": "code",
   "execution_count": null,
   "id": "dff4a9b4",
   "metadata": {},
   "outputs": [],
   "source": []
  }
 ],
 "metadata": {
  "kernelspec": {
   "display_name": "Python 3 (ipykernel)",
   "language": "python",
   "name": "python3"
  },
  "language_info": {
   "codemirror_mode": {
    "name": "ipython",
    "version": 3
   },
   "file_extension": ".py",
   "mimetype": "text/x-python",
   "name": "python",
   "nbconvert_exporter": "python",
   "pygments_lexer": "ipython3",
   "version": "3.10.0"
  }
 },
 "nbformat": 4,
 "nbformat_minor": 5
}
