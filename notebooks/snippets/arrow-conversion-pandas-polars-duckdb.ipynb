{
 "cells": [
  {
   "cell_type": "code",
   "execution_count": 21,
   "id": "35916c15-ac9a-49c3-a903-191b68e4f8dd",
   "metadata": {},
   "outputs": [
    {
     "name": "stdout",
     "output_type": "stream",
     "text": [
      "shape: (4, 4)\n",
      "┌─────────┬─────┬────────┬──────────────┐\n",
      "│ name    ┆ age ┆ salary ┆ age_category │\n",
      "│ ---     ┆ --- ┆ ---    ┆ ---          │\n",
      "│ str     ┆ i64 ┆ i64    ┆ str          │\n",
      "╞═════════╪═════╪════════╪══════════════╡\n",
      "│ Alice   ┆ 25  ┆ 50000  ┆ Young        │\n",
      "│ Bob     ┆ 30  ┆ 60000  ┆ Young        │\n",
      "│ Charlie ┆ 35  ┆ 75000  ┆ Senior       │\n",
      "│ David   ┆ 40  ┆ 90000  ┆ Senior       │\n",
      "└─────────┴─────┴────────┴──────────────┘\n",
      "      name age_category salary_band\n",
      "0    Alice        Young      Junior\n",
      "1      Bob        Young   Mid-level\n",
      "2  Charlie       Senior   Mid-level\n",
      "3    David       Senior      Senior\n"
     ]
    }
   ],
   "source": [
    "import pandas as pd\n",
    "import polars as pl\n",
    "import duckdb\n",
    "import pyarrow as pa\n",
    "\n",
    "# Create a sample Pandas DataFrame backed by Arrow\n",
    "pdf = pd.DataFrame({\n",
    "    'name': ['Alice', 'Bob', 'Charlie', 'David'],\n",
    "    'age': [25, 30, 35, 40],\n",
    "    'salary': [50000, 60000, 75000, 90000]\n",
    "})\n",
    "\n",
    "# Convert Pandas DataFrame to PyArrow Table (zero-copy)\n",
    "arrow_table = pa.Table.from_pandas(pdf)\n",
    "\n",
    "# Convert to Polars DataFrame (zero-copy)\n",
    "pldf = pl.from_arrow(arrow_table)\n",
    "\n",
    "pldf_transformed = pldf.with_columns([\n",
    "    pl.when(pl.col('age') < 35)\n",
    "    .then(pl.lit('Junior'))  # Use pl.lit() for string literals\n",
    "    .otherwise(pl.lit('Senior'))  # Use pl.lit() for string literals\n",
    "    .alias('age_category')\n",
    "])\n",
    "print(pldf_transformed)\n",
    "arrow_table_transformed = pldf_transformed.to_arrow()\n",
    "\n",
    "# Connect to an in-memory DuckDB database\n",
    "con = duckdb.connect(':memory:')\n",
    "\n",
    "# Register the Arrow table as a DuckDB table (zero-copy)\n",
    "con.register('employee_table', arrow_table_transformed)\n",
    "\n",
    "# Perform a transformation in DuckDB\n",
    "result_df = con.execute(\"\"\"\n",
    "    SELECT name, age_category, \n",
    "        CASE \n",
    "            WHEN salary < 60000 THEN 'Junior'\n",
    "            WHEN salary BETWEEN 60000 AND 80000 THEN 'Mid-level'\n",
    "            ELSE 'Senior'\n",
    "        END as salary_band\n",
    "    FROM employee_table\n",
    "\"\"\").df()\n",
    "con.close()\n",
    "\n",
    "print(result_df)"
   ]
  },
  {
   "cell_type": "code",
   "execution_count": null,
   "id": "56f18092-77e9-4835-9782-6334990ee044",
   "metadata": {},
   "outputs": [],
   "source": []
  }
 ],
 "metadata": {
  "kernelspec": {
   "display_name": "Python 3 (ipykernel)",
   "language": "python",
   "name": "python3"
  },
  "language_info": {
   "codemirror_mode": {
    "name": "ipython",
    "version": 3
   },
   "file_extension": ".py",
   "mimetype": "text/x-python",
   "name": "python",
   "nbconvert_exporter": "python",
   "pygments_lexer": "ipython3",
   "version": "3.10.0"
  }
 },
 "nbformat": 4,
 "nbformat_minor": 5
}
