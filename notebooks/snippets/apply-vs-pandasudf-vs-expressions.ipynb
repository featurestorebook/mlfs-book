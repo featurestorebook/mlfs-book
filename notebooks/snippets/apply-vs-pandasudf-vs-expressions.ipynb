{
 "cells": [
  {
   "cell_type": "code",
   "execution_count": null,
   "id": "281cd06a",
   "metadata": {},
   "outputs": [],
   "source": [
    "!pip install --upgrade polars\n",
    "!pip install --upgrade pandas"
   ]
  },
  {
   "cell_type": "code",
   "execution_count": null,
   "id": "241af6fe-510a-4607-816a-b3111c0ae24d",
   "metadata": {},
   "outputs": [],
   "source": [
    "!pip install pandasql"
   ]
  },
  {
   "cell_type": "code",
   "execution_count": null,
   "id": "7e17c6d0",
   "metadata": {},
   "outputs": [],
   "source": [
    "import pandas as pd\n",
    "import numpy as np\n",
    "import time\n",
    "import math\n",
    "\n",
    "# Generate a large Pandas DataFrame\n",
    "num_rows = 250_000_000  \n",
    "df = pd.DataFrame({\n",
    "    'value': np.random.rand(num_rows) * 100\n",
    "})\n",
    "\n",
    "def python_udf(value: float) -> float:\n",
    "    \"\"\"Python UDF that operates on a single float value.\"\"\"\n",
    "    return value * 1.1 + math.sin(value)\n",
    "\n",
    "# Define a Python UDF for Pandas apply\n",
    "def pandas_udf(series: pd.Series) -> pd.Series:\n",
    "    return series * 1.1 + np.sin(series)\n",
    "\n",
    "# Measure time for Pandas apply with Python UDF\n",
    "start_time = time.time()\n",
    "df['apply_result'] = df['value'].apply(python_udf)\n",
    "apply_time = time.time() - start_time\n",
    "print(f\"Time taken for Pandas apply with Python UDF: {apply_time:.2f} seconds\")\n",
    "\n",
    "# Measure time for Pandas UDF\n",
    "start_time = time.time()\n",
    "df['pandas_udf_result'] = pandas_udf(df['value'])\n",
    "pandas_udf_time = time.time() - start_time\n",
    "print(f\"Time taken for Pandas UDF: {pandas_udf_time:.2f} seconds\")\n",
    "\n",
    "# Compare the results\n",
    "# print(f\"Pandas apply with Python UDF is {apply_time / pandas_udf_time:.2f} times slower than Pandas UDF.\")\n"
   ]
  },
  {
   "cell_type": "code",
   "execution_count": 2,
   "id": "6dc113aa",
   "metadata": {},
   "outputs": [
    {
     "name": "stdout",
     "output_type": "stream",
     "text": [
      "Time taken for Polars expression: 14.10 seconds\n"
     ]
    }
   ],
   "source": [
    "import polars as pl\n",
    "import numpy as np\n",
    "import time\n",
    "\n",
    "# Generate sample data (10M rows)\n",
    "np.random.seed(42)\n",
    "num_rows = 500_000_000 \n",
    "polars_df = pl.DataFrame({\n",
    "    'value': np.random.rand(num_rows) * 100\n",
    "})\n",
    "\n",
    "# Measure time for Polars expression (vectorized computation)\n",
    "start_time = time.time()\n",
    "df_polars_expr = polars_df.with_columns(\n",
    "    (pl.col(\"value\") * 1.1 + pl.col(\"value\").sin()).alias(\"pandas_udf_result\")\n",
    ")\n",
    "polars_expr_time = time.time() - start_time\n",
    "print(f\"Time taken for Polars expression: {polars_expr_time:.2f} seconds\")\n"
   ]
  },
  {
   "cell_type": "code",
   "execution_count": null,
   "id": "d9bf98f3-9ed5-4278-836e-af34a3d76c52",
   "metadata": {
    "slideshow": {
     "slide_type": ""
    },
    "tags": [
     "parameters"
    ]
   },
   "outputs": [],
   "source": [
    "import numpy as np\n",
    "import pandas as pd\n",
    "import polars as pl\n",
    "import pyarrow as pa\n",
    "import pyarrow.parquet as pq\n",
    "import time\n",
    "import math\n",
    "from typing import Callable\n",
    "\n",
    "# Generate sample data (10M rows)\n",
    "np.random.seed(42)\n",
    "N_ROWS = 100_000_000\n",
    "num_rows = 100_000_000  # 100 million rows\n",
    "df = pl.DataFrame({\n",
    "    'value': np.random.rand(num_rows) * 100\n",
    "})\n",
    "\n",
    "def create_test_data():\n",
    "    data = {\n",
    "        'val1': np.random.normal(100, 15, N_ROWS),\n",
    "        'val2': np.random.normal(50, 10, N_ROWS),\n",
    "    }\n",
    "    \n",
    "    # Create pandas DataFrame and save as Arrow\n",
    "    df_pd = pd.DataFrame(data)\n",
    "    table = pa.Table.from_pandas(df_pd)\n",
    "    pq.write_table(table, \"large_dataset.parquet\")\n",
    "    \n",
    "    return \"large_dataset.parquet\"\n",
    "\n",
    "def complex_calculation(x: float, y: float) -> float:\n",
    "    \"\"\"Computationally intensive calculation\"\"\"\n",
    "    return math.exp(-(x-y)**2/100) * math.sin(x/10) * math.cos(y/5)\n",
    "\n",
    "def pd_complex_calculation(x: pd.Series, y: pd.Series) -> pd.Series:\n",
    "    \"\"\"Computationally intensive calculation\"\"\"\n",
    "    return np.exp(-(x - y)**2 / 100) * np.sin(x / 10) * np.cos(y / 5)\n",
    "\n",
    "# 1. Standard Pandas Implementation\n",
    "def pandas_transform(file_path: str) -> pd.DataFrame:\n",
    "    # Pyarrow backend if much slower for some reason\n",
    "    # df = pd.read_parquet(file_path, dtype_backend=\"pyarrow\")\n",
    "    df = pd.read_parquet(file_path)\n",
    "    \n",
    "    start_time = time.time()\n",
    "    \n",
    "    # Complex transformations\n",
    "    # df['complex_val'] = df.apply(\n",
    "    #     lambda row: complex_calculation(row['val1'], row['val2']), \n",
    "    #     axis=1\n",
    "    # )\n",
    "    df['complex_val'] = pd_complex_calculation(df['val1'], df['val2'])\n",
    "        \n",
    "    execution_time = time.time() - start_time\n",
    "    print(f\"Standard Pandas execution time: {execution_time:.2f} seconds\")\n",
    "    \n",
    "    return df\n",
    "\n",
    "# 2. Polars Implementation\n",
    "def polars_transform(file_path: str) -> pl.DataFrame:\n",
    "    start_time = time.time()\n",
    "    \n",
    "    df = pl.scan_parquet(file_path)\n",
    "    \n",
    "    result = (\n",
    "        df.with_columns([\n",
    "            # Complex calculation\n",
    "            pl.struct(['val1', 'val2'])\n",
    "            .map_elements(lambda x: complex_calculation(x['val1'], x['val2']))\n",
    "            .alias('complex_val'),            \n",
    "        ])\n",
    "        .collect()\n",
    "    )\n",
    "    \n",
    "    execution_time = time.time() - start_time\n",
    "    print(f\"Polars execution time: {execution_time:.2f} seconds\")\n",
    "    \n",
    "    return result\n",
    "\n",
    "file_path = create_test_data()\n",
    "\n",
    "# Run implementations\n",
    "# print(\"Running standard Pandas implementation...\")\n",
    "# pandas_result = pandas_transform(file_path)\n",
    "\n",
    "print(\"\\nRunning Polars implementation...\")\n",
    "polars_result = polars_transform(file_path)\n",
    "\n",
    "# Verify results match\n",
    "# pd_sample = pandas_result.head(1000)\n",
    "pl_sample = polars_result.head(1000).to_pandas()\n",
    "\n",
    "print(\"\\nVerifying results...\")\n",
    "# print(f\"Pandas vs Polars max diff: {(pd_sample['complex_val'] - pl_sample['complex_val']).abs().max()}\")\n"
   ]
  },
  {
   "cell_type": "code",
   "execution_count": null,
   "id": "71554702-d861-4e03-a6ff-c38339c66fba",
   "metadata": {},
   "outputs": [],
   "source": [
    "import pandas as pd\n",
    "print(pd.__version__)"
   ]
  },
  {
   "cell_type": "code",
   "execution_count": null,
   "id": "6de23b12",
   "metadata": {},
   "outputs": [],
   "source": []
  }
 ],
 "metadata": {
  "kernelspec": {
   "display_name": "Python 3 (ipykernel)",
   "language": "python",
   "name": "python3"
  },
  "language_info": {
   "codemirror_mode": {
    "name": "ipython",
    "version": 3
   },
   "file_extension": ".py",
   "mimetype": "text/x-python",
   "name": "python",
   "nbconvert_exporter": "python",
   "pygments_lexer": "ipython3",
   "version": "3.10.0"
  }
 },
 "nbformat": 4,
 "nbformat_minor": 5
}
