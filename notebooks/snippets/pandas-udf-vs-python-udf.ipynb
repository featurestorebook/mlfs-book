{
 "cells": [
  {
   "cell_type": "code",
   "execution_count": 37,
   "id": "76d12ec7-77d5-4645-ad00-37f12d932d04",
   "metadata": {},
   "outputs": [],
   "source": [
    "import os\n",
    "import pandas as pd\n",
    "from time import time\n",
    "import numpy as np"
   ]
  },
  {
   "cell_type": "code",
   "execution_count": 38,
   "id": "1d831eb2-3739-459a-be5c-eed84e7afc86",
   "metadata": {},
   "outputs": [],
   "source": [
    "def pdsqd(x: pd.Series) -> pd.Series:\n",
    "    return x**2"
   ]
  },
  {
   "cell_type": "code",
   "execution_count": 39,
   "id": "4dfb1ac6-3689-4fa9-8379-b252bb6968ac",
   "metadata": {},
   "outputs": [],
   "source": [
    "def udfsqd(x):\n",
    "    return x**2"
   ]
  },
  {
   "cell_type": "code",
   "execution_count": 40,
   "id": "f347adf5-9f6d-401c-9b06-197bf45d1f5f",
   "metadata": {},
   "outputs": [],
   "source": [
    "size=250"
   ]
  },
  {
   "cell_type": "code",
   "execution_count": 41,
   "id": "d8f0dcfe-12d0-4ad8-9a7d-9e5f184f059a",
   "metadata": {},
   "outputs": [
    {
     "name": "stdout",
     "output_type": "stream",
     "text": [
      "Took 0.0001 seconds\n"
     ]
    }
   ],
   "source": [
    "time_start = time()\n",
    "\n",
    "for i in range(size):\n",
    "    udfsqd(i)\n",
    "\n",
    "time_end = time()\n",
    "time_duration = time_end - time_start\n",
    "print(f'Took {time_duration:.4f} seconds')"
   ]
  },
  {
   "cell_type": "code",
   "execution_count": 43,
   "id": "ae9f0dc5-3c1b-42ec-89cd-c9f0cf2240f8",
   "metadata": {},
   "outputs": [
    {
     "name": "stdout",
     "output_type": "stream",
     "text": [
      "Took 0.0007 seconds\n"
     ]
    }
   ],
   "source": [
    "df = pd.DataFrame({\n",
    "    'id' : np.random.randint(1000,size=size),\n",
    "})\n",
    "\n",
    "time_start = time()\n",
    "pdsqd(df['id'])\n",
    "\n",
    "time_end = time()\n",
    "time_duration = time_end - time_start\n",
    "print(f'Took {time_duration:.4f} seconds')"
   ]
  },
  {
   "cell_type": "code",
   "execution_count": null,
   "id": "6a955cec-51f1-4dcd-9e46-633c741c1f16",
   "metadata": {},
   "outputs": [],
   "source": []
  },
  {
   "cell_type": "code",
   "execution_count": null,
   "id": "7d0395c8-acd5-4437-b7fa-25aeca619829",
   "metadata": {},
   "outputs": [],
   "source": []
  }
 ],
 "metadata": {
  "kernelspec": {
   "display_name": "Python 3 (ipykernel)",
   "language": "python",
   "name": "python3"
  },
  "language_info": {
   "codemirror_mode": {
    "name": "ipython",
    "version": 3
   },
   "file_extension": ".py",
   "mimetype": "text/x-python",
   "name": "python",
   "nbconvert_exporter": "python",
   "pygments_lexer": "ipython3",
   "version": "3.10.0"
  }
 },
 "nbformat": 4,
 "nbformat_minor": 5
}
