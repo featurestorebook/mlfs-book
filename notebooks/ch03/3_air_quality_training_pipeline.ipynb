{
 "cells": [
  {
   "cell_type": "markdown",
   "id": "86c7881d",
   "metadata": {
    "tags": []
   },
   "source": [
    "# <span style=\"font-width:bold; font-size: 3rem; color:#333;\">Training Pipeline</span>\n",
    "\n",
    "## 🗒️ This notebook is divided into the following sections:\n",
    "\n",
    "1. Select features for the model and create a Feature View with the selected features\n",
    "2. Create training data using the feature view\n",
    "3. Train model\n",
    "4. Evaluate model performance\n",
    "5. Save model to model registry"
   ]
  },
  {
   "cell_type": "markdown",
   "id": "a498f102",
   "metadata": {},
   "source": [
    "### <span style='color:#ff5f27'> 📝 Imports"
   ]
  },
  {
   "cell_type": "code",
   "execution_count": 1,
   "id": "fbb7e97d",
   "metadata": {
    "tags": []
   },
   "outputs": [],
   "source": [
    "import os\n",
    "from datetime import datetime, timedelta\n",
    "import pandas as pd\n",
    "import matplotlib.pyplot as plt\n",
    "from xgboost import XGBRegressor\n",
    "from xgboost import plot_importance\n",
    "from sklearn.metrics import mean_squared_error, r2_score\n",
    "import hopsworks\n",
    "from functions import util\n",
    "import json\n",
    "\n",
    "import warnings\n",
    "warnings.filterwarnings(\"ignore\")"
   ]
  },
  {
   "cell_type": "markdown",
   "id": "610de819",
   "metadata": {},
   "source": [
    "## <span style=\"color:#ff5f27;\"> 📡 Connect to Hopsworks Feature Store </span>"
   ]
  },
  {
   "cell_type": "code",
   "execution_count": 2,
   "id": "be0f8518",
   "metadata": {},
   "outputs": [
    {
     "name": "stdout",
     "output_type": "stream",
     "text": [
      "Connected. Call `.close()` to terminate connection gracefully.\n",
      "\n",
      "Logged in to project, explore it here https://c.app.hopsworks.ai:443/p/1164445\n",
      "Connected. Call `.close()` to terminate connection gracefully.\n",
      "Connected. Call `.close()` to terminate connection gracefully.\n"
     ]
    }
   ],
   "source": [
    "# If you haven't set the env variable 'HOPSWORKS_API_KEY', then uncomment the next line and enter your API key\n",
    "# os.environ[\"HOPSWORKS_API_KEY\"] = \"\"\n",
    "with open('../../data/hopsworks-api-key.txt', 'r') as file:\n",
    "    os.environ[\"HOPSWORKS_API_KEY\"] = file.read().rstrip()\n",
    "project = hopsworks.login()\n",
    "fs = project.get_feature_store() \n",
    "\n",
    "secrets = util.secrets_api(project.name)\n",
    "location_str = secrets.get_secret(\"SENSOR_LOCATION_JSON\").value\n",
    "location = json.loads(location_str)\n",
    "country=location['country']\n",
    "city=location['city']\n",
    "street=location['street']"
   ]
  },
  {
   "cell_type": "code",
   "execution_count": 3,
   "id": "72daba1f",
   "metadata": {},
   "outputs": [],
   "source": [
    "# Retrieve feature groups\n",
    "air_quality_fg = fs.get_feature_group(\n",
    "    name='air_quality',\n",
    "    version=1,\n",
    ")\n",
    "weather_fg = fs.get_feature_group(\n",
    "    name='weather',\n",
    "    version=1,\n",
    ")"
   ]
  },
  {
   "cell_type": "markdown",
   "id": "9a96454a",
   "metadata": {},
   "source": [
    "--- \n",
    "\n",
    "## <span style=\"color:#ff5f27;\"> 🖍 Feature View Creation and Retrieving </span>"
   ]
  },
  {
   "cell_type": "code",
   "execution_count": 5,
   "id": "8542a8d3",
   "metadata": {},
   "outputs": [
    {
     "name": "stdout",
     "output_type": "stream",
     "text": [
      "Finished: Reading data from Hopsworks, using Hopsworks Feature Query Service (1.73s) \n"
     ]
    },
    {
     "data": {
      "text/html": [
       "<div>\n",
       "<style scoped>\n",
       "    .dataframe tbody tr th:only-of-type {\n",
       "        vertical-align: middle;\n",
       "    }\n",
       "\n",
       "    .dataframe tbody tr th {\n",
       "        vertical-align: top;\n",
       "    }\n",
       "\n",
       "    .dataframe thead th {\n",
       "        text-align: right;\n",
       "    }\n",
       "</style>\n",
       "<table border=\"1\" class=\"dataframe\">\n",
       "  <thead>\n",
       "    <tr style=\"text-align: right;\">\n",
       "      <th></th>\n",
       "      <th>pm25</th>\n",
       "      <th>date</th>\n",
       "      <th>temperature_2m_mean</th>\n",
       "      <th>precipitation_sum</th>\n",
       "      <th>wind_speed_10m_max</th>\n",
       "      <th>wind_direction_10m_dominant</th>\n",
       "      <th>city</th>\n",
       "    </tr>\n",
       "  </thead>\n",
       "  <tbody>\n",
       "    <tr>\n",
       "      <th>0</th>\n",
       "      <td>17.0</td>\n",
       "      <td>2014-05-02 00:00:00+00:00</td>\n",
       "      <td>4.318667</td>\n",
       "      <td>2.1</td>\n",
       "      <td>16.203999</td>\n",
       "      <td>293.160156</td>\n",
       "      <td>helsinki</td>\n",
       "    </tr>\n",
       "    <tr>\n",
       "      <th>1</th>\n",
       "      <td>13.0</td>\n",
       "      <td>2014-05-03 00:00:00+00:00</td>\n",
       "      <td>4.906167</td>\n",
       "      <td>0.9</td>\n",
       "      <td>19.586117</td>\n",
       "      <td>255.580917</td>\n",
       "      <td>helsinki</td>\n",
       "    </tr>\n",
       "    <tr>\n",
       "      <th>2</th>\n",
       "      <td>11.0</td>\n",
       "      <td>2014-05-04 00:00:00+00:00</td>\n",
       "      <td>3.927001</td>\n",
       "      <td>6.7</td>\n",
       "      <td>17.673029</td>\n",
       "      <td>291.862366</td>\n",
       "      <td>helsinki</td>\n",
       "    </tr>\n",
       "    <tr>\n",
       "      <th>3</th>\n",
       "      <td>16.0</td>\n",
       "      <td>2014-05-05 00:00:00+00:00</td>\n",
       "      <td>4.110334</td>\n",
       "      <td>4.3</td>\n",
       "      <td>20.380579</td>\n",
       "      <td>9.058706</td>\n",
       "      <td>helsinki</td>\n",
       "    </tr>\n",
       "    <tr>\n",
       "      <th>4</th>\n",
       "      <td>20.0</td>\n",
       "      <td>2014-05-06 00:00:00+00:00</td>\n",
       "      <td>4.889500</td>\n",
       "      <td>0.7</td>\n",
       "      <td>13.339445</td>\n",
       "      <td>325.417084</td>\n",
       "      <td>helsinki</td>\n",
       "    </tr>\n",
       "    <tr>\n",
       "      <th>5</th>\n",
       "      <td>32.0</td>\n",
       "      <td>2014-05-07 00:00:00+00:00</td>\n",
       "      <td>6.074916</td>\n",
       "      <td>0.0</td>\n",
       "      <td>20.523155</td>\n",
       "      <td>118.529991</td>\n",
       "      <td>helsinki</td>\n",
       "    </tr>\n",
       "    <tr>\n",
       "      <th>6</th>\n",
       "      <td>33.0</td>\n",
       "      <td>2014-05-08 00:00:00+00:00</td>\n",
       "      <td>5.237416</td>\n",
       "      <td>6.1</td>\n",
       "      <td>28.080000</td>\n",
       "      <td>91.480278</td>\n",
       "      <td>helsinki</td>\n",
       "    </tr>\n",
       "    <tr>\n",
       "      <th>7</th>\n",
       "      <td>36.0</td>\n",
       "      <td>2014-05-09 00:00:00+00:00</td>\n",
       "      <td>8.545750</td>\n",
       "      <td>15.0</td>\n",
       "      <td>20.683559</td>\n",
       "      <td>152.533325</td>\n",
       "      <td>helsinki</td>\n",
       "    </tr>\n",
       "    <tr>\n",
       "      <th>8</th>\n",
       "      <td>19.0</td>\n",
       "      <td>2014-05-10 00:00:00+00:00</td>\n",
       "      <td>8.362417</td>\n",
       "      <td>3.9</td>\n",
       "      <td>13.830749</td>\n",
       "      <td>202.181427</td>\n",
       "      <td>helsinki</td>\n",
       "    </tr>\n",
       "    <tr>\n",
       "      <th>9</th>\n",
       "      <td>21.0</td>\n",
       "      <td>2014-05-11 00:00:00+00:00</td>\n",
       "      <td>8.535334</td>\n",
       "      <td>4.9</td>\n",
       "      <td>17.068707</td>\n",
       "      <td>229.028336</td>\n",
       "      <td>helsinki</td>\n",
       "    </tr>\n",
       "  </tbody>\n",
       "</table>\n",
       "</div>"
      ],
      "text/plain": [
       "   pm25                      date  temperature_2m_mean  precipitation_sum  \\\n",
       "0  17.0 2014-05-02 00:00:00+00:00             4.318667                2.1   \n",
       "1  13.0 2014-05-03 00:00:00+00:00             4.906167                0.9   \n",
       "2  11.0 2014-05-04 00:00:00+00:00             3.927001                6.7   \n",
       "3  16.0 2014-05-05 00:00:00+00:00             4.110334                4.3   \n",
       "4  20.0 2014-05-06 00:00:00+00:00             4.889500                0.7   \n",
       "5  32.0 2014-05-07 00:00:00+00:00             6.074916                0.0   \n",
       "6  33.0 2014-05-08 00:00:00+00:00             5.237416                6.1   \n",
       "7  36.0 2014-05-09 00:00:00+00:00             8.545750               15.0   \n",
       "8  19.0 2014-05-10 00:00:00+00:00             8.362417                3.9   \n",
       "9  21.0 2014-05-11 00:00:00+00:00             8.535334                4.9   \n",
       "\n",
       "   wind_speed_10m_max  wind_direction_10m_dominant       city  \n",
       "0           16.203999                   293.160156  helsinki   \n",
       "1           19.586117                   255.580917  helsinki   \n",
       "2           17.673029                   291.862366  helsinki   \n",
       "3           20.380579                     9.058706  helsinki   \n",
       "4           13.339445                   325.417084  helsinki   \n",
       "5           20.523155                   118.529991  helsinki   \n",
       "6           28.080000                    91.480278  helsinki   \n",
       "7           20.683559                   152.533325  helsinki   \n",
       "8           13.830749                   202.181427  helsinki   \n",
       "9           17.068707                   229.028336  helsinki   "
      ]
     },
     "execution_count": 5,
     "metadata": {},
     "output_type": "execute_result"
    }
   ],
   "source": [
    "# Select features for training data.\n",
    "selected_features = air_quality_fg.select(['pm25']).join(weather_fg.select_all(), on=['city'])\n",
    "selected_features.show(10)"
   ]
  },
  {
   "cell_type": "markdown",
   "id": "e24e7d24",
   "metadata": {},
   "source": [
    "### Feature Views\n",
    "\n",
    "`Feature Views` are selections of features from different **Feature Groups** that make up the input and output API (or schema) for a model. A **Feature Views** can create **Training Data** and also be used in Inference to retrieve inference data.\n",
    "\n",
    "The Feature Views allows a schema in form of a query with filters, defining a model target feature/label and additional transformation functions (declarative feature encoding).\n",
    "\n",
    "In order to create Feature View we can use `FeatureStore.get_or_create_feature_view()` method.\n",
    "\n",
    "You can specify the following parameters:\n",
    "\n",
    "- `name` - name of a feature group.\n",
    "\n",
    "- `version` - version of a feature group.\n",
    "\n",
    "- `labels`- our target variable.\n",
    "\n",
    "- `transformation_functions` - declarative feature encoding (not used here)\n",
    "\n",
    "- `query` - selected features/labels for the model "
   ]
  },
  {
   "cell_type": "code",
   "execution_count": 6,
   "id": "1e9d3b7a",
   "metadata": {},
   "outputs": [],
   "source": [
    "feature_view = fs.get_or_create_feature_view(\n",
    "    name='air_quality_fv',\n",
    "    description=\"weather features with air quality as the target\",\n",
    "    version=1,\n",
    "    labels=['pm25'],\n",
    "    query=selected_features,\n",
    ")"
   ]
  },
  {
   "cell_type": "markdown",
   "id": "707ab9f4",
   "metadata": {},
   "source": [
    "## <span style=\"color:#ff5f27;\">🪝 Split the training data into train/test data sets </span>\n",
    "\n",
    "We use a time-series split here, with training data before this date `start_date_test_data` and test data after this date"
   ]
  },
  {
   "cell_type": "code",
   "execution_count": 10,
   "id": "7c79be00",
   "metadata": {},
   "outputs": [],
   "source": [
    "start_date_test_data = \"2024-10-15\"\n",
    "# Convert string to datetime object\n",
    "test_start = datetime.strptime(start_date_test_data, \"%Y-%m-%d\")"
   ]
  },
  {
   "cell_type": "code",
   "execution_count": null,
   "id": "1af43a52",
   "metadata": {},
   "outputs": [
    {
     "name": "stdout",
     "output_type": "stream",
     "text": [
      "Reading data from Hopsworks, using Hopsworks Feature Query Service..    \r"
     ]
    }
   ],
   "source": [
    "X_train, X_test, y_train, y_test = feature_view.train_test_split(\n",
    "    test_start=test_start\n",
    ")"
   ]
  },
  {
   "cell_type": "code",
   "execution_count": null,
   "id": "d6ccd92b",
   "metadata": {},
   "outputs": [],
   "source": [
    "X_train"
   ]
  },
  {
   "cell_type": "code",
   "execution_count": 9,
   "id": "ddce1066-c35b-4f8b-9998-4d7426ba8687",
   "metadata": {},
   "outputs": [
    {
     "data": {
      "text/html": [
       "<div>\n",
       "<style scoped>\n",
       "    .dataframe tbody tr th:only-of-type {\n",
       "        vertical-align: middle;\n",
       "    }\n",
       "\n",
       "    .dataframe tbody tr th {\n",
       "        vertical-align: top;\n",
       "    }\n",
       "\n",
       "    .dataframe thead th {\n",
       "        text-align: right;\n",
       "    }\n",
       "</style>\n",
       "<table border=\"1\" class=\"dataframe\">\n",
       "  <thead>\n",
       "    <tr style=\"text-align: right;\">\n",
       "      <th></th>\n",
       "      <th>date</th>\n",
       "      <th>temperature_2m_mean</th>\n",
       "      <th>precipitation_sum</th>\n",
       "      <th>wind_speed_10m_max</th>\n",
       "      <th>wind_direction_10m_dominant</th>\n",
       "      <th>city</th>\n",
       "    </tr>\n",
       "  </thead>\n",
       "  <tbody>\n",
       "    <tr>\n",
       "      <th>3765</th>\n",
       "      <td>2024-10-15 00:00:00+00:00</td>\n",
       "      <td>6.579500</td>\n",
       "      <td>0.400000</td>\n",
       "      <td>24.851082</td>\n",
       "      <td>323.088989</td>\n",
       "      <td>helsinki</td>\n",
       "    </tr>\n",
       "    <tr>\n",
       "      <th>3766</th>\n",
       "      <td>2024-10-16 00:00:00+00:00</td>\n",
       "      <td>8.467000</td>\n",
       "      <td>0.000000</td>\n",
       "      <td>28.715500</td>\n",
       "      <td>263.843201</td>\n",
       "      <td>helsinki</td>\n",
       "    </tr>\n",
       "    <tr>\n",
       "      <th>3767</th>\n",
       "      <td>2024-10-17 00:00:00+00:00</td>\n",
       "      <td>11.058666</td>\n",
       "      <td>0.000000</td>\n",
       "      <td>33.718185</td>\n",
       "      <td>234.989639</td>\n",
       "      <td>helsinki</td>\n",
       "    </tr>\n",
       "    <tr>\n",
       "      <th>3768</th>\n",
       "      <td>2024-10-18 00:00:00+00:00</td>\n",
       "      <td>11.123250</td>\n",
       "      <td>0.000000</td>\n",
       "      <td>34.147381</td>\n",
       "      <td>209.610275</td>\n",
       "      <td>helsinki</td>\n",
       "    </tr>\n",
       "    <tr>\n",
       "      <th>3769</th>\n",
       "      <td>2024-10-19 00:00:00+00:00</td>\n",
       "      <td>11.439918</td>\n",
       "      <td>0.000000</td>\n",
       "      <td>26.807915</td>\n",
       "      <td>211.013397</td>\n",
       "      <td>helsinki</td>\n",
       "    </tr>\n",
       "    <tr>\n",
       "      <th>3770</th>\n",
       "      <td>2024-10-20 00:00:00+00:00</td>\n",
       "      <td>10.691998</td>\n",
       "      <td>0.000000</td>\n",
       "      <td>30.652895</td>\n",
       "      <td>206.408661</td>\n",
       "      <td>helsinki</td>\n",
       "    </tr>\n",
       "    <tr>\n",
       "      <th>3771</th>\n",
       "      <td>2024-10-21 00:00:00+00:00</td>\n",
       "      <td>11.848248</td>\n",
       "      <td>0.600000</td>\n",
       "      <td>44.173775</td>\n",
       "      <td>219.922089</td>\n",
       "      <td>helsinki</td>\n",
       "    </tr>\n",
       "    <tr>\n",
       "      <th>3772</th>\n",
       "      <td>2024-10-22 00:00:00+00:00</td>\n",
       "      <td>11.246166</td>\n",
       "      <td>0.000000</td>\n",
       "      <td>38.478760</td>\n",
       "      <td>248.945221</td>\n",
       "      <td>helsinki</td>\n",
       "    </tr>\n",
       "    <tr>\n",
       "      <th>3773</th>\n",
       "      <td>2024-10-23 00:00:00+00:00</td>\n",
       "      <td>10.200333</td>\n",
       "      <td>0.100000</td>\n",
       "      <td>34.925568</td>\n",
       "      <td>265.638977</td>\n",
       "      <td>helsinki</td>\n",
       "    </tr>\n",
       "    <tr>\n",
       "      <th>3774</th>\n",
       "      <td>2024-10-24 00:00:00+00:00</td>\n",
       "      <td>10.075334</td>\n",
       "      <td>0.000000</td>\n",
       "      <td>28.347570</td>\n",
       "      <td>263.494843</td>\n",
       "      <td>helsinki</td>\n",
       "    </tr>\n",
       "    <tr>\n",
       "      <th>3775</th>\n",
       "      <td>2024-10-25 00:00:00+00:00</td>\n",
       "      <td>10.310750</td>\n",
       "      <td>0.000000</td>\n",
       "      <td>32.955730</td>\n",
       "      <td>249.523605</td>\n",
       "      <td>helsinki</td>\n",
       "    </tr>\n",
       "    <tr>\n",
       "      <th>3776</th>\n",
       "      <td>2024-10-26 00:00:00+00:00</td>\n",
       "      <td>10.744082</td>\n",
       "      <td>0.100000</td>\n",
       "      <td>27.041965</td>\n",
       "      <td>233.519119</td>\n",
       "      <td>helsinki</td>\n",
       "    </tr>\n",
       "    <tr>\n",
       "      <th>3777</th>\n",
       "      <td>2024-10-27 00:00:00+00:00</td>\n",
       "      <td>10.608666</td>\n",
       "      <td>3.100000</td>\n",
       "      <td>42.089218</td>\n",
       "      <td>191.542770</td>\n",
       "      <td>helsinki</td>\n",
       "    </tr>\n",
       "    <tr>\n",
       "      <th>3778</th>\n",
       "      <td>2024-10-28 00:00:00+00:00</td>\n",
       "      <td>8.646167</td>\n",
       "      <td>3.200000</td>\n",
       "      <td>31.796885</td>\n",
       "      <td>270.174683</td>\n",
       "      <td>helsinki</td>\n",
       "    </tr>\n",
       "    <tr>\n",
       "      <th>3779</th>\n",
       "      <td>2024-10-29 00:00:00+00:00</td>\n",
       "      <td>7.060750</td>\n",
       "      <td>0.700000</td>\n",
       "      <td>41.797226</td>\n",
       "      <td>256.158173</td>\n",
       "      <td>helsinki</td>\n",
       "    </tr>\n",
       "    <tr>\n",
       "      <th>3780</th>\n",
       "      <td>2024-10-30 00:00:00+00:00</td>\n",
       "      <td>8.071168</td>\n",
       "      <td>0.400000</td>\n",
       "      <td>39.344311</td>\n",
       "      <td>282.702454</td>\n",
       "      <td>helsinki</td>\n",
       "    </tr>\n",
       "    <tr>\n",
       "      <th>3781</th>\n",
       "      <td>2024-10-31 00:00:00+00:00</td>\n",
       "      <td>5.710751</td>\n",
       "      <td>1.900000</td>\n",
       "      <td>24.193098</td>\n",
       "      <td>294.299744</td>\n",
       "      <td>helsinki</td>\n",
       "    </tr>\n",
       "    <tr>\n",
       "      <th>3782</th>\n",
       "      <td>2024-11-01 00:00:00+00:00</td>\n",
       "      <td>4.754500</td>\n",
       "      <td>23.500004</td>\n",
       "      <td>34.149281</td>\n",
       "      <td>73.990349</td>\n",
       "      <td>helsinki</td>\n",
       "    </tr>\n",
       "    <tr>\n",
       "      <th>3783</th>\n",
       "      <td>2024-11-02 00:00:00+00:00</td>\n",
       "      <td>3.060750</td>\n",
       "      <td>2.900000</td>\n",
       "      <td>41.505516</td>\n",
       "      <td>316.333679</td>\n",
       "      <td>helsinki</td>\n",
       "    </tr>\n",
       "    <tr>\n",
       "      <th>3784</th>\n",
       "      <td>2024-11-03 00:00:00+00:00</td>\n",
       "      <td>2.873250</td>\n",
       "      <td>6.200000</td>\n",
       "      <td>34.131718</td>\n",
       "      <td>315.855560</td>\n",
       "      <td>helsinki</td>\n",
       "    </tr>\n",
       "    <tr>\n",
       "      <th>3785</th>\n",
       "      <td>2024-11-04 00:00:00+00:00</td>\n",
       "      <td>3.052417</td>\n",
       "      <td>0.600000</td>\n",
       "      <td>34.855919</td>\n",
       "      <td>309.647827</td>\n",
       "      <td>helsinki</td>\n",
       "    </tr>\n",
       "    <tr>\n",
       "      <th>3786</th>\n",
       "      <td>2024-11-05 00:00:00+00:00</td>\n",
       "      <td>6.817000</td>\n",
       "      <td>2.700000</td>\n",
       "      <td>24.903179</td>\n",
       "      <td>289.555939</td>\n",
       "      <td>helsinki</td>\n",
       "    </tr>\n",
       "    <tr>\n",
       "      <th>3787</th>\n",
       "      <td>2024-11-06 00:00:00+00:00</td>\n",
       "      <td>6.629501</td>\n",
       "      <td>0.000000</td>\n",
       "      <td>22.057894</td>\n",
       "      <td>280.148499</td>\n",
       "      <td>helsinki</td>\n",
       "    </tr>\n",
       "    <tr>\n",
       "      <th>3788</th>\n",
       "      <td>2024-11-07 00:00:00+00:00</td>\n",
       "      <td>5.973250</td>\n",
       "      <td>0.000000</td>\n",
       "      <td>21.674870</td>\n",
       "      <td>302.317810</td>\n",
       "      <td>helsinki</td>\n",
       "    </tr>\n",
       "    <tr>\n",
       "      <th>3789</th>\n",
       "      <td>2024-11-08 00:00:00+00:00</td>\n",
       "      <td>6.512833</td>\n",
       "      <td>0.000000</td>\n",
       "      <td>24.932438</td>\n",
       "      <td>269.195099</td>\n",
       "      <td>helsinki</td>\n",
       "    </tr>\n",
       "    <tr>\n",
       "      <th>3790</th>\n",
       "      <td>2024-11-09 00:00:00+00:00</td>\n",
       "      <td>6.175333</td>\n",
       "      <td>0.000000</td>\n",
       "      <td>31.518507</td>\n",
       "      <td>284.684875</td>\n",
       "      <td>helsinki</td>\n",
       "    </tr>\n",
       "    <tr>\n",
       "      <th>3791</th>\n",
       "      <td>2024-11-10 00:00:00+00:00</td>\n",
       "      <td>3.783667</td>\n",
       "      <td>0.000000</td>\n",
       "      <td>17.325876</td>\n",
       "      <td>134.999878</td>\n",
       "      <td>helsinki</td>\n",
       "    </tr>\n",
       "    <tr>\n",
       "      <th>3792</th>\n",
       "      <td>2024-11-11 00:00:00+00:00</td>\n",
       "      <td>5.754500</td>\n",
       "      <td>2.500000</td>\n",
       "      <td>22.274227</td>\n",
       "      <td>194.727158</td>\n",
       "      <td>helsinki</td>\n",
       "    </tr>\n",
       "    <tr>\n",
       "      <th>3793</th>\n",
       "      <td>2024-11-12 00:00:00+00:00</td>\n",
       "      <td>5.360750</td>\n",
       "      <td>0.100000</td>\n",
       "      <td>21.946718</td>\n",
       "      <td>278.235138</td>\n",
       "      <td>helsinki</td>\n",
       "    </tr>\n",
       "    <tr>\n",
       "      <th>3794</th>\n",
       "      <td>2024-11-13 00:00:00+00:00</td>\n",
       "      <td>6.485750</td>\n",
       "      <td>0.400000</td>\n",
       "      <td>36.868374</td>\n",
       "      <td>252.954224</td>\n",
       "      <td>helsinki</td>\n",
       "    </tr>\n",
       "    <tr>\n",
       "      <th>3795</th>\n",
       "      <td>2024-11-14 00:00:00+00:00</td>\n",
       "      <td>5.519083</td>\n",
       "      <td>0.000000</td>\n",
       "      <td>24.272650</td>\n",
       "      <td>286.568237</td>\n",
       "      <td>helsinki</td>\n",
       "    </tr>\n",
       "    <tr>\n",
       "      <th>3796</th>\n",
       "      <td>2024-11-14 00:00:00+00:00</td>\n",
       "      <td>5.519083</td>\n",
       "      <td>0.000000</td>\n",
       "      <td>24.272650</td>\n",
       "      <td>286.568237</td>\n",
       "      <td>helsinki</td>\n",
       "    </tr>\n",
       "    <tr>\n",
       "      <th>3797</th>\n",
       "      <td>2024-11-16 00:00:00+00:00</td>\n",
       "      <td>9.550000</td>\n",
       "      <td>0.000000</td>\n",
       "      <td>30.261421</td>\n",
       "      <td>237.633377</td>\n",
       "      <td>helsinki</td>\n",
       "    </tr>\n",
       "  </tbody>\n",
       "</table>\n",
       "</div>"
      ],
      "text/plain": [
       "                           date  temperature_2m_mean  precipitation_sum  \\\n",
       "3765  2024-10-15 00:00:00+00:00             6.579500           0.400000   \n",
       "3766  2024-10-16 00:00:00+00:00             8.467000           0.000000   \n",
       "3767  2024-10-17 00:00:00+00:00            11.058666           0.000000   \n",
       "3768  2024-10-18 00:00:00+00:00            11.123250           0.000000   \n",
       "3769  2024-10-19 00:00:00+00:00            11.439918           0.000000   \n",
       "3770  2024-10-20 00:00:00+00:00            10.691998           0.000000   \n",
       "3771  2024-10-21 00:00:00+00:00            11.848248           0.600000   \n",
       "3772  2024-10-22 00:00:00+00:00            11.246166           0.000000   \n",
       "3773  2024-10-23 00:00:00+00:00            10.200333           0.100000   \n",
       "3774  2024-10-24 00:00:00+00:00            10.075334           0.000000   \n",
       "3775  2024-10-25 00:00:00+00:00            10.310750           0.000000   \n",
       "3776  2024-10-26 00:00:00+00:00            10.744082           0.100000   \n",
       "3777  2024-10-27 00:00:00+00:00            10.608666           3.100000   \n",
       "3778  2024-10-28 00:00:00+00:00             8.646167           3.200000   \n",
       "3779  2024-10-29 00:00:00+00:00             7.060750           0.700000   \n",
       "3780  2024-10-30 00:00:00+00:00             8.071168           0.400000   \n",
       "3781  2024-10-31 00:00:00+00:00             5.710751           1.900000   \n",
       "3782  2024-11-01 00:00:00+00:00             4.754500          23.500004   \n",
       "3783  2024-11-02 00:00:00+00:00             3.060750           2.900000   \n",
       "3784  2024-11-03 00:00:00+00:00             2.873250           6.200000   \n",
       "3785  2024-11-04 00:00:00+00:00             3.052417           0.600000   \n",
       "3786  2024-11-05 00:00:00+00:00             6.817000           2.700000   \n",
       "3787  2024-11-06 00:00:00+00:00             6.629501           0.000000   \n",
       "3788  2024-11-07 00:00:00+00:00             5.973250           0.000000   \n",
       "3789  2024-11-08 00:00:00+00:00             6.512833           0.000000   \n",
       "3790  2024-11-09 00:00:00+00:00             6.175333           0.000000   \n",
       "3791  2024-11-10 00:00:00+00:00             3.783667           0.000000   \n",
       "3792  2024-11-11 00:00:00+00:00             5.754500           2.500000   \n",
       "3793  2024-11-12 00:00:00+00:00             5.360750           0.100000   \n",
       "3794  2024-11-13 00:00:00+00:00             6.485750           0.400000   \n",
       "3795  2024-11-14 00:00:00+00:00             5.519083           0.000000   \n",
       "3796  2024-11-14 00:00:00+00:00             5.519083           0.000000   \n",
       "3797  2024-11-16 00:00:00+00:00             9.550000           0.000000   \n",
       "\n",
       "      wind_speed_10m_max  wind_direction_10m_dominant       city  \n",
       "3765           24.851082                   323.088989  helsinki   \n",
       "3766           28.715500                   263.843201  helsinki   \n",
       "3767           33.718185                   234.989639  helsinki   \n",
       "3768           34.147381                   209.610275  helsinki   \n",
       "3769           26.807915                   211.013397  helsinki   \n",
       "3770           30.652895                   206.408661  helsinki   \n",
       "3771           44.173775                   219.922089  helsinki   \n",
       "3772           38.478760                   248.945221  helsinki   \n",
       "3773           34.925568                   265.638977  helsinki   \n",
       "3774           28.347570                   263.494843  helsinki   \n",
       "3775           32.955730                   249.523605  helsinki   \n",
       "3776           27.041965                   233.519119  helsinki   \n",
       "3777           42.089218                   191.542770  helsinki   \n",
       "3778           31.796885                   270.174683  helsinki   \n",
       "3779           41.797226                   256.158173  helsinki   \n",
       "3780           39.344311                   282.702454  helsinki   \n",
       "3781           24.193098                   294.299744  helsinki   \n",
       "3782           34.149281                    73.990349  helsinki   \n",
       "3783           41.505516                   316.333679  helsinki   \n",
       "3784           34.131718                   315.855560  helsinki   \n",
       "3785           34.855919                   309.647827  helsinki   \n",
       "3786           24.903179                   289.555939  helsinki   \n",
       "3787           22.057894                   280.148499  helsinki   \n",
       "3788           21.674870                   302.317810  helsinki   \n",
       "3789           24.932438                   269.195099  helsinki   \n",
       "3790           31.518507                   284.684875  helsinki   \n",
       "3791           17.325876                   134.999878  helsinki   \n",
       "3792           22.274227                   194.727158  helsinki   \n",
       "3793           21.946718                   278.235138  helsinki   \n",
       "3794           36.868374                   252.954224  helsinki   \n",
       "3795           24.272650                   286.568237  helsinki   \n",
       "3796           24.272650                   286.568237  helsinki   \n",
       "3797           30.261421                   237.633377  helsinki   "
      ]
     },
     "execution_count": 9,
     "metadata": {},
     "output_type": "execute_result"
    }
   ],
   "source": [
    "X_test"
   ]
  },
  {
   "cell_type": "code",
   "execution_count": 19,
   "id": "b728eb10",
   "metadata": {},
   "outputs": [],
   "source": [
    "# Drop the index columns - 'date' (event_time) and 'city' (primary key)\n",
    "\n",
    "train_features = X_train.drop(['date', 'city'], axis=1)\n",
    "test_features = X_test.drop(['date', 'city'], axis=1)"
   ]
  },
  {
   "cell_type": "code",
   "execution_count": 11,
   "id": "70bed512",
   "metadata": {},
   "outputs": [
    {
     "data": {
      "text/html": [
       "<div>\n",
       "<style scoped>\n",
       "    .dataframe tbody tr th:only-of-type {\n",
       "        vertical-align: middle;\n",
       "    }\n",
       "\n",
       "    .dataframe tbody tr th {\n",
       "        vertical-align: top;\n",
       "    }\n",
       "\n",
       "    .dataframe thead th {\n",
       "        text-align: right;\n",
       "    }\n",
       "</style>\n",
       "<table border=\"1\" class=\"dataframe\">\n",
       "  <thead>\n",
       "    <tr style=\"text-align: right;\">\n",
       "      <th></th>\n",
       "      <th>pm25</th>\n",
       "    </tr>\n",
       "  </thead>\n",
       "  <tbody>\n",
       "    <tr>\n",
       "      <th>0</th>\n",
       "      <td>17.0</td>\n",
       "    </tr>\n",
       "    <tr>\n",
       "      <th>1</th>\n",
       "      <td>13.0</td>\n",
       "    </tr>\n",
       "    <tr>\n",
       "      <th>2</th>\n",
       "      <td>11.0</td>\n",
       "    </tr>\n",
       "    <tr>\n",
       "      <th>3</th>\n",
       "      <td>16.0</td>\n",
       "    </tr>\n",
       "    <tr>\n",
       "      <th>4</th>\n",
       "      <td>20.0</td>\n",
       "    </tr>\n",
       "    <tr>\n",
       "      <th>...</th>\n",
       "      <td>...</td>\n",
       "    </tr>\n",
       "    <tr>\n",
       "      <th>3760</th>\n",
       "      <td>18.0</td>\n",
       "    </tr>\n",
       "    <tr>\n",
       "      <th>3761</th>\n",
       "      <td>24.0</td>\n",
       "    </tr>\n",
       "    <tr>\n",
       "      <th>3762</th>\n",
       "      <td>16.0</td>\n",
       "    </tr>\n",
       "    <tr>\n",
       "      <th>3763</th>\n",
       "      <td>13.0</td>\n",
       "    </tr>\n",
       "    <tr>\n",
       "      <th>3764</th>\n",
       "      <td>15.0</td>\n",
       "    </tr>\n",
       "  </tbody>\n",
       "</table>\n",
       "<p>3765 rows × 1 columns</p>\n",
       "</div>"
      ],
      "text/plain": [
       "      pm25\n",
       "0     17.0\n",
       "1     13.0\n",
       "2     11.0\n",
       "3     16.0\n",
       "4     20.0\n",
       "...    ...\n",
       "3760  18.0\n",
       "3761  24.0\n",
       "3762  16.0\n",
       "3763  13.0\n",
       "3764  15.0\n",
       "\n",
       "[3765 rows x 1 columns]"
      ]
     },
     "execution_count": 11,
     "metadata": {},
     "output_type": "execute_result"
    }
   ],
   "source": [
    "y_train"
   ]
  },
  {
   "cell_type": "markdown",
   "id": "be2f7b68",
   "metadata": {},
   "source": [
    "The `Feature View` is now saved in Hopsworks and you can retrieve it using `FeatureStore.get_feature_view(name='...', version=1)`."
   ]
  },
  {
   "cell_type": "markdown",
   "id": "20b12d6a",
   "metadata": {},
   "source": [
    "---"
   ]
  },
  {
   "cell_type": "markdown",
   "id": "0c46611b",
   "metadata": {},
   "source": [
    "## <span style=\"color:#ff5f27;\">🧬 Modeling</span>\n",
    "\n",
    "We will train a regression model to predict pm25 using our 4 features (wind_speed, wind_dir, temp, precipitation)"
   ]
  },
  {
   "cell_type": "code",
   "execution_count": 20,
   "id": "8be358ed",
   "metadata": {
    "tags": []
   },
   "outputs": [
    {
     "data": {
      "text/plain": [
       "XGBRegressor(base_score=None, booster=None, callbacks=None,\n",
       "             colsample_bylevel=None, colsample_bynode=None,\n",
       "             colsample_bytree=None, device=None, early_stopping_rounds=None,\n",
       "             enable_categorical=False, eval_metric=None, feature_types=None,\n",
       "             gamma=None, grow_policy=None, importance_type=None,\n",
       "             interaction_constraints=None, learning_rate=None, max_bin=None,\n",
       "             max_cat_threshold=None, max_cat_to_onehot=None,\n",
       "             max_delta_step=None, max_depth=None, max_leaves=None,\n",
       "             min_child_weight=None, missing=nan, monotone_constraints=None,\n",
       "             multi_strategy=None, n_estimators=None, n_jobs=None,\n",
       "             num_parallel_tree=None, random_state=None, ...)"
      ]
     },
     "execution_count": 20,
     "metadata": {},
     "output_type": "execute_result"
    }
   ],
   "source": [
    "# Creating an instance of the XGBoost Regressor\n",
    "xgb_regressor = XGBRegressor()\n",
    "\n",
    "# Fitting the XGBoost Regressor to the training data\n",
    "xgb_regressor.fit(train_features, y_train)\n"
   ]
  },
  {
   "cell_type": "code",
   "execution_count": 21,
   "id": "18e1beaa",
   "metadata": {},
   "outputs": [
    {
     "name": "stdout",
     "output_type": "stream",
     "text": [
      "MSE: 73.02123\n",
      "R squared: -0.10233684374797014\n"
     ]
    }
   ],
   "source": [
    "# Predicting target values on the test set\n",
    "y_pred = xgb_regressor.predict(test_features)\n",
    "\n",
    "# Calculating Mean Squared Error (MSE) using sklearn\n",
    "mse = mean_squared_error(y_test.iloc[:,0], y_pred)\n",
    "print(\"MSE:\", mse)\n",
    "\n",
    "# Calculating R squared using sklearn\n",
    "r2 = r2_score(y_test.iloc[:,0], y_pred)\n",
    "print(\"R squared:\", r2)"
   ]
  },
  {
   "cell_type": "code",
   "execution_count": 22,
   "id": "f33a8418",
   "metadata": {},
   "outputs": [],
   "source": [
    "df = y_test\n",
    "df['predicted_pm25'] = y_pred"
   ]
  },
  {
   "cell_type": "code",
   "execution_count": 23,
   "id": "9ea1f4ac",
   "metadata": {},
   "outputs": [
    {
     "data": {
      "text/html": [
       "<div>\n",
       "<style scoped>\n",
       "    .dataframe tbody tr th:only-of-type {\n",
       "        vertical-align: middle;\n",
       "    }\n",
       "\n",
       "    .dataframe tbody tr th {\n",
       "        vertical-align: top;\n",
       "    }\n",
       "\n",
       "    .dataframe thead th {\n",
       "        text-align: right;\n",
       "    }\n",
       "</style>\n",
       "<table border=\"1\" class=\"dataframe\">\n",
       "  <thead>\n",
       "    <tr style=\"text-align: right;\">\n",
       "      <th></th>\n",
       "      <th>pm25</th>\n",
       "      <th>predicted_pm25</th>\n",
       "      <th>date</th>\n",
       "    </tr>\n",
       "  </thead>\n",
       "  <tbody>\n",
       "    <tr>\n",
       "      <th>3765</th>\n",
       "      <td>16.0</td>\n",
       "      <td>12.216898</td>\n",
       "      <td>2024-10-15 00:00:00+00:00</td>\n",
       "    </tr>\n",
       "    <tr>\n",
       "      <th>3766</th>\n",
       "      <td>13.0</td>\n",
       "      <td>13.348131</td>\n",
       "      <td>2024-10-16 00:00:00+00:00</td>\n",
       "    </tr>\n",
       "    <tr>\n",
       "      <th>3767</th>\n",
       "      <td>14.0</td>\n",
       "      <td>29.371447</td>\n",
       "      <td>2024-10-17 00:00:00+00:00</td>\n",
       "    </tr>\n",
       "    <tr>\n",
       "      <th>3768</th>\n",
       "      <td>21.0</td>\n",
       "      <td>36.324398</td>\n",
       "      <td>2024-10-18 00:00:00+00:00</td>\n",
       "    </tr>\n",
       "    <tr>\n",
       "      <th>3769</th>\n",
       "      <td>24.0</td>\n",
       "      <td>32.998035</td>\n",
       "      <td>2024-10-19 00:00:00+00:00</td>\n",
       "    </tr>\n",
       "  </tbody>\n",
       "</table>\n",
       "</div>"
      ],
      "text/plain": [
       "      pm25  predicted_pm25                       date\n",
       "3765  16.0       12.216898  2024-10-15 00:00:00+00:00\n",
       "3766  13.0       13.348131  2024-10-16 00:00:00+00:00\n",
       "3767  14.0       29.371447  2024-10-17 00:00:00+00:00\n",
       "3768  21.0       36.324398  2024-10-18 00:00:00+00:00\n",
       "3769  24.0       32.998035  2024-10-19 00:00:00+00:00"
      ]
     },
     "execution_count": 23,
     "metadata": {},
     "output_type": "execute_result"
    }
   ],
   "source": [
    "df['date'] = X_test['date']\n",
    "df = df.sort_values(by=['date'])\n",
    "df.head(5)"
   ]
  },
  {
   "cell_type": "code",
   "execution_count": 24,
   "id": "3100f9a8",
   "metadata": {},
   "outputs": [],
   "source": [
    "# Creating a directory for the model artifacts if it doesn't exist\n",
    "model_dir = \"air_quality_model\"\n",
    "if not os.path.exists(model_dir):\n",
    "    os.mkdir(model_dir)\n",
    "images_dir = model_dir + \"/images\"\n",
    "if not os.path.exists(images_dir):\n",
    "    os.mkdir(images_dir)"
   ]
  },
  {
   "cell_type": "code",
   "execution_count": 25,
   "id": "c4485b41",
   "metadata": {},
   "outputs": [
    {
     "data": {
      "image/png": "[encoded data removed]",
      "text/plain": [
       "<Figure size 1000x600 with 1 Axes>"
      ]
     },
     "metadata": {},
     "output_type": "display_data"
    }
   ],
   "source": [
    "file_path = images_dir + \"/pm25_hindcast.png\"\n",
    "plt = util.plot_air_quality_forecast(city, street, df, file_path, hindcast=True) \n",
    "plt.show()"
   ]
  },
  {
   "cell_type": "code",
   "execution_count": 26,
   "id": "38888e42",
   "metadata": {
    "tags": []
   },
   "outputs": [
    {
     "data": {
      "image/png": "[encoded data removed]",
      "text/plain": [
       "<Figure size 640x480 with 1 Axes>"
      ]
     },
     "metadata": {},
     "output_type": "display_data"
    }
   ],
   "source": [
    "# Plotting feature importances using the plot_importance function from XGBoost\n",
    "plot_importance(xgb_regressor, max_num_features=4)\n",
    "feature_importance_path = images_dir + \"/feature_importance.png\"\n",
    "plt.savefig(feature_importance_path)\n",
    "plt.show()"
   ]
  },
  {
   "cell_type": "markdown",
   "id": "378c69ae",
   "metadata": {},
   "source": [
    "---"
   ]
  },
  {
   "cell_type": "markdown",
   "id": "1b177983",
   "metadata": {
    "tags": []
   },
   "source": [
    "## <span style='color:#ff5f27'>🗄 Model Registry</span>\n",
    "\n",
    "One of the features in Hopsworks is the model registry. This is where you can store different versions of models and compare their performance. Models from the registry can then be served as API endpoints."
   ]
  },
  {
   "cell_type": "markdown",
   "id": "db096e82",
   "metadata": {},
   "source": [
    "### <span style=\"color:#ff5f27;\">⚙️ Model Schema</span>"
   ]
  },
  {
   "cell_type": "markdown",
   "id": "82881cab",
   "metadata": {},
   "source": [
    "The model needs to be set up with a [Model Schema](https://docs.hopsworks.ai/machine-learning-api/latest/generated/model_schema/), which describes the inputs and outputs for a model.\n",
    "\n",
    "A Model Schema can be automatically generated from training examples, as shown below."
   ]
  },
  {
   "cell_type": "code",
   "execution_count": 27,
   "id": "271f1ca2",
   "metadata": {
    "scrolled": true
   },
   "outputs": [],
   "source": [
    "from hsml.schema import Schema\n",
    "from hsml.model_schema import ModelSchema\n",
    "\n",
    "# Creating input and output schemas using the 'Schema' class for features (X) and target variable (y)\n",
    "input_schema = Schema(X_train)\n",
    "output_schema = Schema(y_train)\n",
    "\n",
    "# Creating a model schema using 'ModelSchema' with the input and output schemas\n",
    "model_schema = ModelSchema(input_schema=input_schema, output_schema=output_schema)\n",
    "\n",
    "# Converting the model schema to a dictionary representation\n",
    "schema_dict = model_schema.to_dict()"
   ]
  },
  {
   "cell_type": "code",
   "execution_count": 28,
   "id": "011e3fad",
   "metadata": {
    "scrolled": true
   },
   "outputs": [],
   "source": [
    "# Saving the XGBoost regressor object as a json file in the model directory\n",
    "xgb_regressor.save_model(model_dir + \"/model.json\")"
   ]
  },
  {
   "cell_type": "code",
   "execution_count": 29,
   "id": "549b4785",
   "metadata": {},
   "outputs": [],
   "source": [
    "res_dict = { \n",
    "        \"MSE\": str(mse),\n",
    "        \"R squared\": str(r2),\n",
    "    }"
   ]
  },
  {
   "cell_type": "code",
   "execution_count": 31,
   "id": "81434864",
   "metadata": {},
   "outputs": [
    {
     "name": "stdout",
     "output_type": "stream",
     "text": [
      "Connected. Call `.close()` to terminate connection gracefully.\n"
     ]
    },
    {
     "data": {
      "application/vnd.jupyter.widget-view+json": {
       "model_id": "3b4368a3598941668a13d43e44057574",
       "version_major": 2,
       "version_minor": 0
      },
      "text/plain": [
       "  0%|          | 0/6 [00:00<?, ?it/s]"
      ]
     },
     "metadata": {},
     "output_type": "display_data"
    },
    {
     "data": {
      "application/vnd.jupyter.widget-view+json": {
       "model_id": "f51eb11a967f4abf8b8000e0c7ab653b",
       "version_major": 2,
       "version_minor": 0
      },
      "text/plain": [
       "Uploading: 0.000%|          | 0/543443 elapsed<00:00 remaining<?"
      ]
     },
     "metadata": {},
     "output_type": "display_data"
    },
    {
     "data": {
      "application/vnd.jupyter.widget-view+json": {
       "model_id": "7bf66adfdaa645c6b32e9b9d99b61c9c",
       "version_major": 2,
       "version_minor": 0
      },
      "text/plain": [
       "Uploading: 0.000%|          | 0/6148 elapsed<00:00 remaining<?"
      ]
     },
     "metadata": {},
     "output_type": "display_data"
    },
    {
     "data": {
      "application/vnd.jupyter.widget-view+json": {
       "model_id": "3020c158bad847979f006faf6e8ac69c",
       "version_major": 2,
       "version_minor": 0
      },
      "text/plain": [
       "Uploading: 0.000%|          | 0/19841 elapsed<00:00 remaining<?"
      ]
     },
     "metadata": {},
     "output_type": "display_data"
    },
    {
     "data": {
      "application/vnd.jupyter.widget-view+json": {
       "model_id": "afb6056d0b6e4187b1226125cde0035c",
       "version_major": 2,
       "version_minor": 0
      },
      "text/plain": [
       "Uploading: 0.000%|          | 0/78887 elapsed<00:00 remaining<?"
      ]
     },
     "metadata": {},
     "output_type": "display_data"
    },
    {
     "data": {
      "application/vnd.jupyter.widget-view+json": {
       "model_id": "85d6441012274729aa046c1fa5d9d854",
       "version_major": 2,
       "version_minor": 0
      },
      "text/plain": [
       "Uploading: 0.000%|          | 0/124 elapsed<00:00 remaining<?"
      ]
     },
     "metadata": {},
     "output_type": "display_data"
    },
    {
     "data": {
      "application/vnd.jupyter.widget-view+json": {
       "model_id": "9d62670adb284910a7291b0cefa3d20e",
       "version_major": 2,
       "version_minor": 0
      },
      "text/plain": [
       "Uploading: 0.000%|          | 0/645 elapsed<00:00 remaining<?"
      ]
     },
     "metadata": {},
     "output_type": "display_data"
    },
    {
     "name": "stdout",
     "output_type": "stream",
     "text": [
      "Model created, explore it at https://c.app.hopsworks.ai:443/p/1164445/models/air_quality_xgboost_model/5\n"
     ]
    },
    {
     "data": {
      "text/plain": [
       "Model(name: 'air_quality_xgboost_model', version: 5)"
      ]
     },
     "execution_count": 31,
     "metadata": {},
     "output_type": "execute_result"
    }
   ],
   "source": [
    "mr = project.get_model_registry()\n",
    "\n",
    "# Creating a Python model in the model registry named 'air_quality_xgboost_model'\n",
    "\n",
    "aq_model = mr.python.create_model(\n",
    "    name=\"air_quality_xgboost_model\", \n",
    "    metrics= res_dict,\n",
    "    model_schema=model_schema,\n",
    "    input_example=X_test.sample().values, \n",
    "    description=\"Air Quality (PM2.5) predictor\",\n",
    ")\n",
    "\n",
    "# Saving the model artifacts to the 'air_quality_model' directory in the model registry\n",
    "aq_model.save(model_dir)"
   ]
  },
  {
   "cell_type": "markdown",
   "id": "ae3b3088",
   "metadata": {},
   "source": [
    "---\n",
    "## <span style=\"color:#ff5f27;\">⏭️ **Next:** Part 04: Batch Inference</span>\n",
    "\n",
    "In the following notebook you will use your model for Batch Inference.\n"
   ]
  },
  {
   "cell_type": "code",
   "execution_count": null,
   "id": "f3dd9154",
   "metadata": {},
   "outputs": [],
   "source": []
  }
 ],
 "metadata": {
  "kernelspec": {
   "display_name": "Python 3 (ipykernel)",
   "language": "python",
   "name": "python3"
  },
  "language_info": {
   "codemirror_mode": {
    "name": "ipython",
    "version": 3
   },
   "file_extension": ".py",
   "mimetype": "text/x-python",
   "name": "python",
   "nbconvert_exporter": "python",
   "pygments_lexer": "ipython3",
   "version": "3.8.8"
  },
  "vscode": {
   "interpreter": {
    "hash": "63265f9757e7c73c149a91832e3b2b12ced37a5390b9151ad08a04f276cd5846"
   }
  }
 },
 "nbformat": 4,
 "nbformat_minor": 5
}
