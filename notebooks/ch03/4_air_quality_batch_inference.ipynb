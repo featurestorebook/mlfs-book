{
 "cells": [
  {
   "cell_type": "markdown",
   "id": "f16b7819",
   "metadata": {},
   "source": [
    "# <span style=\"font-width:bold; font-size: 3rem; color:#1EB182;\"> **Air Quality** </span><span style=\"font-width:bold; font-size: 3rem; color:#333;\">- Part 04: Batch Inference</span>\n",
    "\n",
    "## 🗒️ This notebook is divided into the following sections:\n",
    "\n",
    "1. Download model and batch inference data\n",
    "2. Make predictions, generate PNG for forecast\n",
    "3. Store predictions in a monitoring feature group adn generate PNG for hindcast"
   ]
  },
  {
   "cell_type": "markdown",
   "id": "49a84ee9",
   "metadata": {},
   "source": [
    "## <span style='color:#ff5f27'> 📝 Imports"
   ]
  },
  {
   "cell_type": "code",
   "execution_count": 1,
   "id": "1f430c88",
   "metadata": {},
   "outputs": [
    {
     "name": "stdout",
     "output_type": "stream",
     "text": [
      "2024-11-20 18:14:45,076 WARNING: DeprecationWarning: distutils Version classes are deprecated. Use packaging.version instead.\n",
      "\n",
      "2024-11-20 18:14:45,077 WARNING: DeprecationWarning: distutils Version classes are deprecated. Use packaging.version instead.\n",
      "\n"
     ]
    }
   ],
   "source": [
    "import datetime\n",
    "import pandas as pd\n",
    "from xgboost import XGBRegressor\n",
    "import hopsworks\n",
    "import json\n",
    "from functions import util\n",
    "import os\n",
    "import numpy as np"
   ]
  },
  {
   "cell_type": "code",
   "execution_count": 2,
   "id": "bcfd27c1",
   "metadata": {},
   "outputs": [
    {
     "data": {
      "text/plain": [
       "datetime.datetime(2024, 11, 20, 18, 14, 46, 134451)"
      ]
     },
     "execution_count": 2,
     "metadata": {},
     "output_type": "execute_result"
    }
   ],
   "source": [
    "today = datetime.datetime.now() - datetime.timedelta(0)\n",
    "tomorrow = today + datetime.timedelta(days = 1)\n",
    "today"
   ]
  },
  {
   "cell_type": "markdown",
   "id": "4e91e99d",
   "metadata": {},
   "source": [
    "## <span style=\"color:#ff5f27;\"> 📡 Connect to Hopsworks Feature Store </span>"
   ]
  },
  {
   "cell_type": "code",
   "execution_count": 3,
   "id": "74a2c243",
   "metadata": {},
   "outputs": [
    {
     "name": "stdout",
     "output_type": "stream",
     "text": [
      "Connected. Call `.close()` to terminate connection gracefully.\n",
      "\n",
      "Logged in to project, explore it here https://c.app.hopsworks.ai:443/p/1164445\n",
      "2024-11-20 18:14:47,678 WARNING: DeprecationWarning: the imp module is deprecated in favour of importlib; see the module's documentation for alternative uses\n",
      "\n",
      "Connected. Call `.close()` to terminate connection gracefully.\n",
      "Connected. Call `.close()` to terminate connection gracefully.\n"
     ]
    }
   ],
   "source": [
    "with open('../../data/hopsworks-api-key.txt', 'r') as file:\n",
    "    os.environ[\"HOPSWORKS_API_KEY\"] = file.read().rstrip()\n",
    "project = hopsworks.login()\n",
    "fs = project.get_feature_store() \n",
    "\n",
    "secrets = util.secrets_api(project.name)\n",
    "location_str = secrets.get_secret(\"SENSOR_LOCATION_JSON\").value\n",
    "location = json.loads(location_str)\n",
    "country=location['country']\n",
    "city=location['city']\n",
    "street=location['street']"
   ]
  },
  {
   "cell_type": "markdown",
   "id": "4f138859",
   "metadata": {},
   "source": [
    "## <span style=\"color:#ff5f27;\"> ⚙️ Feature View Retrieval</span>\n"
   ]
  },
  {
   "cell_type": "code",
   "execution_count": 4,
   "id": "114b8e87",
   "metadata": {},
   "outputs": [],
   "source": [
    "feature_view = fs.get_feature_view(\n",
    "    name='air_quality_fv',\n",
    "    version=4,\n",
    ")"
   ]
  },
  {
   "cell_type": "markdown",
   "id": "4cead441",
   "metadata": {},
   "source": [
    "## <span style=\"color:#ff5f27;\">🪝 Download the model from Model Registry</span>"
   ]
  },
  {
   "cell_type": "code",
   "execution_count": 5,
   "id": "c6d70a2f",
   "metadata": {},
   "outputs": [
    {
     "name": "stdout",
     "output_type": "stream",
     "text": [
      "Connected. Call `.close()` to terminate connection gracefully.\n",
      "Downloading model artifact (2 dirs, 6 files)... DONE\r"
     ]
    }
   ],
   "source": [
    "mr = project.get_model_registry()\n",
    "\n",
    "retrieved_model = mr.get_model(\n",
    "    name=\"air_quality_xgboost_model_with_lagged_data\",\n",
    "    version=1,\n",
    ")\n",
    "\n",
    "# Download the saved model artifacts to a local directory\n",
    "saved_model_dir = retrieved_model.download()"
   ]
  },
  {
   "cell_type": "code",
   "execution_count": 6,
   "id": "a6cf6c06",
   "metadata": {},
   "outputs": [
    {
     "data": {
      "text/plain": [
       "XGBRegressor(base_score='2.327862E1', booster='gbtree', callbacks=None,\n",
       "             colsample_bylevel=None, colsample_bynode=None,\n",
       "             colsample_bytree=None, device=None, early_stopping_rounds=None,\n",
       "             enable_categorical=False, eval_metric=None,\n",
       "             feature_types=['float', 'float', 'float', 'float', 'float',\n",
       "                            'float', 'float'],\n",
       "             gamma=None, grow_policy=None, importance_type=None,\n",
       "             interaction_constraints=None, learning_rate=None, max_bin=None,\n",
       "             max_cat_threshold=None, max_cat_to_onehot=None,\n",
       "             max_delta_step=None, max_depth=None, max_leaves=None,\n",
       "             min_child_weight=None, missing=nan, monotone_constraints=None,\n",
       "             multi_strategy=None, n_estimators=None, n_jobs=None,\n",
       "             num_parallel_tree=None, random_state=None, ...)"
      ]
     },
     "execution_count": 6,
     "metadata": {},
     "output_type": "execute_result"
    }
   ],
   "source": [
    "# Loading the XGBoost regressor model and label encoder from the saved model directory\n",
    "# retrieved_xgboost_model = joblib.load(saved_model_dir + \"/xgboost_regressor.pkl\")\n",
    "retrieved_xgboost_model = XGBRegressor()\n",
    "\n",
    "retrieved_xgboost_model.load_model(saved_model_dir + \"/model.json\")\n",
    "\n",
    "# Displaying the retrieved XGBoost regressor model\n",
    "retrieved_xgboost_model"
   ]
  },
  {
   "cell_type": "markdown",
   "id": "43ad941a",
   "metadata": {},
   "source": [
    "## <span style=\"color:#ff5f27;\">✨ Get Weather Forecast Features with Feature Group   </span>\n",
    "\n"
   ]
  },
  {
   "cell_type": "code",
   "execution_count": 7,
   "id": "aaacae3c",
   "metadata": {},
   "outputs": [
    {
     "name": "stdout",
     "output_type": "stream",
     "text": [
      "Finished: Reading data from Hopsworks, using Hopsworks Feature Query Service (0.77s) \n"
     ]
    },
    {
     "data": {
      "text/html": [
       "<div>\n",
       "<style scoped>\n",
       "    .dataframe tbody tr th:only-of-type {\n",
       "        vertical-align: middle;\n",
       "    }\n",
       "\n",
       "    .dataframe tbody tr th {\n",
       "        vertical-align: top;\n",
       "    }\n",
       "\n",
       "    .dataframe thead th {\n",
       "        text-align: right;\n",
       "    }\n",
       "</style>\n",
       "<table border=\"1\" class=\"dataframe\">\n",
       "  <thead>\n",
       "    <tr style=\"text-align: right;\">\n",
       "      <th></th>\n",
       "      <th>date</th>\n",
       "      <th>temperature_2m_mean</th>\n",
       "      <th>precipitation_sum</th>\n",
       "      <th>wind_speed_10m_max</th>\n",
       "      <th>wind_direction_10m_dominant</th>\n",
       "      <th>city</th>\n",
       "    </tr>\n",
       "  </thead>\n",
       "  <tbody>\n",
       "    <tr>\n",
       "      <th>0</th>\n",
       "      <td>2024-11-23 00:00:00+00:00</td>\n",
       "      <td>-3.20</td>\n",
       "      <td>0.0</td>\n",
       "      <td>2.741678</td>\n",
       "      <td>113.198624</td>\n",
       "      <td>helsinki</td>\n",
       "    </tr>\n",
       "    <tr>\n",
       "      <th>1</th>\n",
       "      <td>2024-11-25 00:00:00+00:00</td>\n",
       "      <td>6.80</td>\n",
       "      <td>0.3</td>\n",
       "      <td>32.379993</td>\n",
       "      <td>208.559525</td>\n",
       "      <td>helsinki</td>\n",
       "    </tr>\n",
       "    <tr>\n",
       "      <th>2</th>\n",
       "      <td>2024-11-24 00:00:00+00:00</td>\n",
       "      <td>-1.45</td>\n",
       "      <td>0.0</td>\n",
       "      <td>7.594208</td>\n",
       "      <td>238.570480</td>\n",
       "      <td>helsinki</td>\n",
       "    </tr>\n",
       "    <tr>\n",
       "      <th>3</th>\n",
       "      <td>2024-11-22 00:00:00+00:00</td>\n",
       "      <td>-1.45</td>\n",
       "      <td>0.2</td>\n",
       "      <td>14.336861</td>\n",
       "      <td>241.504456</td>\n",
       "      <td>helsinki</td>\n",
       "    </tr>\n",
       "    <tr>\n",
       "      <th>4</th>\n",
       "      <td>2024-11-21 00:00:00+00:00</td>\n",
       "      <td>2.95</td>\n",
       "      <td>0.1</td>\n",
       "      <td>30.652895</td>\n",
       "      <td>192.893738</td>\n",
       "      <td>helsinki</td>\n",
       "    </tr>\n",
       "    <tr>\n",
       "      <th>5</th>\n",
       "      <td>2024-11-26 00:00:00+00:00</td>\n",
       "      <td>7.95</td>\n",
       "      <td>0.2</td>\n",
       "      <td>22.392464</td>\n",
       "      <td>216.501526</td>\n",
       "      <td>helsinki</td>\n",
       "    </tr>\n",
       "    <tr>\n",
       "      <th>6</th>\n",
       "      <td>2024-11-27 00:00:00+00:00</td>\n",
       "      <td>6.95</td>\n",
       "      <td>0.2</td>\n",
       "      <td>18.000000</td>\n",
       "      <td>196.260284</td>\n",
       "      <td>helsinki</td>\n",
       "    </tr>\n",
       "    <tr>\n",
       "      <th>7</th>\n",
       "      <td>2024-11-28 00:00:00+00:00</td>\n",
       "      <td>5.95</td>\n",
       "      <td>0.4</td>\n",
       "      <td>4.349896</td>\n",
       "      <td>245.556061</td>\n",
       "      <td>helsinki</td>\n",
       "    </tr>\n",
       "    <tr>\n",
       "      <th>8</th>\n",
       "      <td>2024-11-29 00:00:00+00:00</td>\n",
       "      <td>-0.35</td>\n",
       "      <td>0.0</td>\n",
       "      <td>5.623380</td>\n",
       "      <td>320.194489</td>\n",
       "      <td>helsinki</td>\n",
       "    </tr>\n",
       "  </tbody>\n",
       "</table>\n",
       "</div>"
      ],
      "text/plain": [
       "                       date  temperature_2m_mean  precipitation_sum  \\\n",
       "0 2024-11-23 00:00:00+00:00                -3.20                0.0   \n",
       "1 2024-11-25 00:00:00+00:00                 6.80                0.3   \n",
       "2 2024-11-24 00:00:00+00:00                -1.45                0.0   \n",
       "3 2024-11-22 00:00:00+00:00                -1.45                0.2   \n",
       "4 2024-11-21 00:00:00+00:00                 2.95                0.1   \n",
       "5 2024-11-26 00:00:00+00:00                 7.95                0.2   \n",
       "6 2024-11-27 00:00:00+00:00                 6.95                0.2   \n",
       "7 2024-11-28 00:00:00+00:00                 5.95                0.4   \n",
       "8 2024-11-29 00:00:00+00:00                -0.35                0.0   \n",
       "\n",
       "   wind_speed_10m_max  wind_direction_10m_dominant       city  \n",
       "0            2.741678                   113.198624  helsinki   \n",
       "1           32.379993                   208.559525  helsinki   \n",
       "2            7.594208                   238.570480  helsinki   \n",
       "3           14.336861                   241.504456  helsinki   \n",
       "4           30.652895                   192.893738  helsinki   \n",
       "5           22.392464                   216.501526  helsinki   \n",
       "6           18.000000                   196.260284  helsinki   \n",
       "7            4.349896                   245.556061  helsinki   \n",
       "8            5.623380                   320.194489  helsinki   "
      ]
     },
     "execution_count": 7,
     "metadata": {},
     "output_type": "execute_result"
    }
   ],
   "source": [
    "weather_fg = fs.get_feature_group(\n",
    "    name='weather',\n",
    "    version=1,\n",
    ")\n",
    "batch_data = weather_fg.filter(weather_fg.date >= today).read()\n",
    "batch_data"
   ]
  },
  {
   "cell_type": "markdown",
   "id": "804e4491",
   "metadata": {},
   "source": [
    "### <span style=\"color:#ff5f27;\">🤖 Making the predictions</span>"
   ]
  },
  {
   "cell_type": "code",
   "execution_count": 8,
   "id": "4566b635",
   "metadata": {},
   "outputs": [
    {
     "name": "stdout",
     "output_type": "stream",
     "text": [
      "Finished: Reading data from Hopsworks, using Hopsworks Feature Query Service (1.33s) \n"
     ]
    }
   ],
   "source": [
    "# Get air_quality data\n",
    "air_quality_fg = fs.get_feature_group(\n",
    "   name='air_quality',\n",
    "   version=2,\n",
    ")\n",
    "historical_data = air_quality_fg.select_all().read()\n",
    "# Remove timezone info and sort\n",
    "historical_data['date'] = pd.to_datetime(historical_data['date']).dt.tz_localize(None)\n",
    "batch_data['date'] = pd.to_datetime(batch_data['date']).dt.tz_localize(None)\n",
    "batch_data = batch_data.sort_values('date').reset_index(drop=True)\n",
    "\n",
    "# Set initial lagged values\n",
    "last_3_pm25 = list(historical_data.tail(3)['pm25'])[::-1]\n",
    "batch_data.loc[0, ['pm25_lag_1','pm25_lag_2','pm25_lag_3']] = last_3_pm25\n",
    "\n",
    "for i in range(len(batch_data)):\n",
    "   features = [\n",
    "       batch_data.at[i, 'pm25_lag_1'],\n",
    "       batch_data.at[i, 'pm25_lag_2'], \n",
    "       batch_data.at[i, 'pm25_lag_3'],\n",
    "       batch_data.at[i, 'temperature_2m_mean'],\n",
    "       batch_data.at[i, 'precipitation_sum'],\n",
    "       batch_data.at[i, 'wind_speed_10m_max'],\n",
    "       batch_data.at[i, 'wind_direction_10m_dominant']\n",
    "   ]\n",
    "   \n",
    "   pred = retrieved_xgboost_model.predict([features])[0]\n",
    "   batch_data.at[i, 'predicted_pm25'] = pred\n",
    "   \n",
    "   if i < len(batch_data) - 1:\n",
    "       batch_data.loc[i+1, ['pm25_lag_1','pm25_lag_2','pm25_lag_3']] = [\n",
    "           pred, \n",
    "           batch_data.at[i, 'pm25_lag_1'],\n",
    "           batch_data.at[i, 'pm25_lag_2']\n",
    "       ]\n",
    "\n",
    "# Convert float columns to float32 once at the end\n",
    "float_columns = batch_data.select_dtypes(include=['float64']).columns\n",
    "batch_data[float_columns] = batch_data[float_columns].astype('float32')"
   ]
  },
  {
   "cell_type": "code",
   "execution_count": 9,
   "id": "95d78ba2",
   "metadata": {},
   "outputs": [
    {
     "name": "stdout",
     "output_type": "stream",
     "text": [
      "<class 'pandas.core.frame.DataFrame'>\n",
      "RangeIndex: 9 entries, 0 to 8\n",
      "Data columns (total 10 columns):\n",
      " #   Column                       Non-Null Count  Dtype         \n",
      "---  ------                       --------------  -----         \n",
      " 0   date                         9 non-null      datetime64[us]\n",
      " 1   temperature_2m_mean          9 non-null      float32       \n",
      " 2   precipitation_sum            9 non-null      float32       \n",
      " 3   wind_speed_10m_max           9 non-null      float32       \n",
      " 4   wind_direction_10m_dominant  9 non-null      float32       \n",
      " 5   city                         9 non-null      object        \n",
      " 6   pm25_lag_1                   9 non-null      float32       \n",
      " 7   pm25_lag_2                   9 non-null      float32       \n",
      " 8   pm25_lag_3                   9 non-null      float32       \n",
      " 9   predicted_pm25               9 non-null      float32       \n",
      "dtypes: datetime64[us](1), float32(8), object(1)\n",
      "memory usage: 560.0+ bytes\n"
     ]
    }
   ],
   "source": [
    "batch_data.info()"
   ]
  },
  {
   "cell_type": "markdown",
   "id": "d23e2b0a",
   "metadata": {},
   "source": [
    "### <span style=\"color:#ff5f27;\">🤖 Saving the predictions (for monitoring) to a Feature Group</span>"
   ]
  },
  {
   "cell_type": "code",
   "execution_count": 10,
   "id": "9d5d9436",
   "metadata": {},
   "outputs": [
    {
     "data": {
      "text/html": [
       "<div>\n",
       "<style scoped>\n",
       "    .dataframe tbody tr th:only-of-type {\n",
       "        vertical-align: middle;\n",
       "    }\n",
       "\n",
       "    .dataframe tbody tr th {\n",
       "        vertical-align: top;\n",
       "    }\n",
       "\n",
       "    .dataframe thead th {\n",
       "        text-align: right;\n",
       "    }\n",
       "</style>\n",
       "<table border=\"1\" class=\"dataframe\">\n",
       "  <thead>\n",
       "    <tr style=\"text-align: right;\">\n",
       "      <th></th>\n",
       "      <th>date</th>\n",
       "      <th>temperature_2m_mean</th>\n",
       "      <th>precipitation_sum</th>\n",
       "      <th>wind_speed_10m_max</th>\n",
       "      <th>wind_direction_10m_dominant</th>\n",
       "      <th>city</th>\n",
       "      <th>pm25_lag_1</th>\n",
       "      <th>pm25_lag_2</th>\n",
       "      <th>pm25_lag_3</th>\n",
       "      <th>predicted_pm25</th>\n",
       "      <th>street</th>\n",
       "      <th>country</th>\n",
       "      <th>days_before_forecast_day</th>\n",
       "    </tr>\n",
       "  </thead>\n",
       "  <tbody>\n",
       "    <tr>\n",
       "      <th>0</th>\n",
       "      <td>2024-11-21</td>\n",
       "      <td>2.95</td>\n",
       "      <td>0.1</td>\n",
       "      <td>30.652895</td>\n",
       "      <td>192.893738</td>\n",
       "      <td>helsinki</td>\n",
       "      <td>39.000000</td>\n",
       "      <td>10.000000</td>\n",
       "      <td>8.000000</td>\n",
       "      <td>50.308029</td>\n",
       "      <td>kallio-2</td>\n",
       "      <td>finland</td>\n",
       "      <td>1</td>\n",
       "    </tr>\n",
       "    <tr>\n",
       "      <th>1</th>\n",
       "      <td>2024-11-22</td>\n",
       "      <td>-1.45</td>\n",
       "      <td>0.2</td>\n",
       "      <td>14.336861</td>\n",
       "      <td>241.504456</td>\n",
       "      <td>helsinki</td>\n",
       "      <td>50.308029</td>\n",
       "      <td>39.000000</td>\n",
       "      <td>10.000000</td>\n",
       "      <td>42.236870</td>\n",
       "      <td>kallio-2</td>\n",
       "      <td>finland</td>\n",
       "      <td>2</td>\n",
       "    </tr>\n",
       "    <tr>\n",
       "      <th>2</th>\n",
       "      <td>2024-11-23</td>\n",
       "      <td>-3.20</td>\n",
       "      <td>0.0</td>\n",
       "      <td>2.741678</td>\n",
       "      <td>113.198624</td>\n",
       "      <td>helsinki</td>\n",
       "      <td>42.236870</td>\n",
       "      <td>50.308029</td>\n",
       "      <td>39.000000</td>\n",
       "      <td>56.989681</td>\n",
       "      <td>kallio-2</td>\n",
       "      <td>finland</td>\n",
       "      <td>3</td>\n",
       "    </tr>\n",
       "    <tr>\n",
       "      <th>3</th>\n",
       "      <td>2024-11-24</td>\n",
       "      <td>-1.45</td>\n",
       "      <td>0.0</td>\n",
       "      <td>7.594208</td>\n",
       "      <td>238.570480</td>\n",
       "      <td>helsinki</td>\n",
       "      <td>56.989681</td>\n",
       "      <td>42.236870</td>\n",
       "      <td>50.308029</td>\n",
       "      <td>55.815067</td>\n",
       "      <td>kallio-2</td>\n",
       "      <td>finland</td>\n",
       "      <td>4</td>\n",
       "    </tr>\n",
       "    <tr>\n",
       "      <th>4</th>\n",
       "      <td>2024-11-25</td>\n",
       "      <td>6.80</td>\n",
       "      <td>0.3</td>\n",
       "      <td>32.379993</td>\n",
       "      <td>208.559525</td>\n",
       "      <td>helsinki</td>\n",
       "      <td>55.815067</td>\n",
       "      <td>56.989681</td>\n",
       "      <td>42.236870</td>\n",
       "      <td>42.849792</td>\n",
       "      <td>kallio-2</td>\n",
       "      <td>finland</td>\n",
       "      <td>5</td>\n",
       "    </tr>\n",
       "    <tr>\n",
       "      <th>5</th>\n",
       "      <td>2024-11-26</td>\n",
       "      <td>7.95</td>\n",
       "      <td>0.2</td>\n",
       "      <td>22.392464</td>\n",
       "      <td>216.501526</td>\n",
       "      <td>helsinki</td>\n",
       "      <td>42.849792</td>\n",
       "      <td>55.815067</td>\n",
       "      <td>56.989681</td>\n",
       "      <td>31.704742</td>\n",
       "      <td>kallio-2</td>\n",
       "      <td>finland</td>\n",
       "      <td>6</td>\n",
       "    </tr>\n",
       "    <tr>\n",
       "      <th>6</th>\n",
       "      <td>2024-11-27</td>\n",
       "      <td>6.95</td>\n",
       "      <td>0.2</td>\n",
       "      <td>18.000000</td>\n",
       "      <td>196.260284</td>\n",
       "      <td>helsinki</td>\n",
       "      <td>31.704742</td>\n",
       "      <td>42.849792</td>\n",
       "      <td>55.815067</td>\n",
       "      <td>38.341618</td>\n",
       "      <td>kallio-2</td>\n",
       "      <td>finland</td>\n",
       "      <td>7</td>\n",
       "    </tr>\n",
       "    <tr>\n",
       "      <th>7</th>\n",
       "      <td>2024-11-28</td>\n",
       "      <td>5.95</td>\n",
       "      <td>0.4</td>\n",
       "      <td>4.349896</td>\n",
       "      <td>245.556061</td>\n",
       "      <td>helsinki</td>\n",
       "      <td>38.341618</td>\n",
       "      <td>31.704742</td>\n",
       "      <td>42.849792</td>\n",
       "      <td>33.584137</td>\n",
       "      <td>kallio-2</td>\n",
       "      <td>finland</td>\n",
       "      <td>8</td>\n",
       "    </tr>\n",
       "    <tr>\n",
       "      <th>8</th>\n",
       "      <td>2024-11-29</td>\n",
       "      <td>-0.35</td>\n",
       "      <td>0.0</td>\n",
       "      <td>5.623380</td>\n",
       "      <td>320.194489</td>\n",
       "      <td>helsinki</td>\n",
       "      <td>33.584137</td>\n",
       "      <td>38.341618</td>\n",
       "      <td>31.704742</td>\n",
       "      <td>39.050220</td>\n",
       "      <td>kallio-2</td>\n",
       "      <td>finland</td>\n",
       "      <td>9</td>\n",
       "    </tr>\n",
       "  </tbody>\n",
       "</table>\n",
       "</div>"
      ],
      "text/plain": [
       "        date  temperature_2m_mean  precipitation_sum  wind_speed_10m_max  \\\n",
       "0 2024-11-21                 2.95                0.1           30.652895   \n",
       "1 2024-11-22                -1.45                0.2           14.336861   \n",
       "2 2024-11-23                -3.20                0.0            2.741678   \n",
       "3 2024-11-24                -1.45                0.0            7.594208   \n",
       "4 2024-11-25                 6.80                0.3           32.379993   \n",
       "5 2024-11-26                 7.95                0.2           22.392464   \n",
       "6 2024-11-27                 6.95                0.2           18.000000   \n",
       "7 2024-11-28                 5.95                0.4            4.349896   \n",
       "8 2024-11-29                -0.35                0.0            5.623380   \n",
       "\n",
       "   wind_direction_10m_dominant       city  pm25_lag_1  pm25_lag_2  pm25_lag_3  \\\n",
       "0                   192.893738  helsinki    39.000000   10.000000    8.000000   \n",
       "1                   241.504456  helsinki    50.308029   39.000000   10.000000   \n",
       "2                   113.198624  helsinki    42.236870   50.308029   39.000000   \n",
       "3                   238.570480  helsinki    56.989681   42.236870   50.308029   \n",
       "4                   208.559525  helsinki    55.815067   56.989681   42.236870   \n",
       "5                   216.501526  helsinki    42.849792   55.815067   56.989681   \n",
       "6                   196.260284  helsinki    31.704742   42.849792   55.815067   \n",
       "7                   245.556061  helsinki    38.341618   31.704742   42.849792   \n",
       "8                   320.194489  helsinki    33.584137   38.341618   31.704742   \n",
       "\n",
       "   predicted_pm25    street  country  days_before_forecast_day  \n",
       "0       50.308029  kallio-2  finland                         1  \n",
       "1       42.236870  kallio-2  finland                         2  \n",
       "2       56.989681  kallio-2  finland                         3  \n",
       "3       55.815067  kallio-2  finland                         4  \n",
       "4       42.849792  kallio-2  finland                         5  \n",
       "5       31.704742  kallio-2  finland                         6  \n",
       "6       38.341618  kallio-2  finland                         7  \n",
       "7       33.584137  kallio-2  finland                         8  \n",
       "8       39.050220  kallio-2  finland                         9  "
      ]
     },
     "execution_count": 10,
     "metadata": {},
     "output_type": "execute_result"
    }
   ],
   "source": [
    "batch_data['street'] = street\n",
    "batch_data['city'] = city\n",
    "batch_data['country'] = country\n",
    "# Fill in the number of days before the date on which you made the forecast (base_date)\n",
    "batch_data['days_before_forecast_day'] = range(1, len(batch_data)+1)\n",
    "batch_data = batch_data.sort_values(by=['date'])\n",
    "batch_data"
   ]
  },
  {
   "cell_type": "code",
   "execution_count": 11,
   "id": "00e6787b",
   "metadata": {},
   "outputs": [
    {
     "name": "stdout",
     "output_type": "stream",
     "text": [
      "<class 'pandas.core.frame.DataFrame'>\n",
      "RangeIndex: 9 entries, 0 to 8\n",
      "Data columns (total 13 columns):\n",
      " #   Column                       Non-Null Count  Dtype         \n",
      "---  ------                       --------------  -----         \n",
      " 0   date                         9 non-null      datetime64[us]\n",
      " 1   temperature_2m_mean          9 non-null      float32       \n",
      " 2   precipitation_sum            9 non-null      float32       \n",
      " 3   wind_speed_10m_max           9 non-null      float32       \n",
      " 4   wind_direction_10m_dominant  9 non-null      float32       \n",
      " 5   city                         9 non-null      object        \n",
      " 6   pm25_lag_1                   9 non-null      float32       \n",
      " 7   pm25_lag_2                   9 non-null      float32       \n",
      " 8   pm25_lag_3                   9 non-null      float32       \n",
      " 9   predicted_pm25               9 non-null      float32       \n",
      " 10  street                       9 non-null      object        \n",
      " 11  country                      9 non-null      object        \n",
      " 12  days_before_forecast_day     9 non-null      int64         \n",
      "dtypes: datetime64[us](1), float32(8), int64(1), object(3)\n",
      "memory usage: 776.0+ bytes\n"
     ]
    }
   ],
   "source": [
    "batch_data.info()"
   ]
  },
  {
   "cell_type": "markdown",
   "id": "6ff10c12",
   "metadata": {},
   "source": [
    "### Create Forecast Graph\n",
    "Draw a graph of the predictions with dates as a PNG and save it to the github repo\n",
    "Show it on github pages"
   ]
  },
  {
   "cell_type": "code",
   "execution_count": 12,
   "id": "9bb0f844",
   "metadata": {},
   "outputs": [
    {
     "name": "stdout",
     "output_type": "stream",
     "text": [
      "DataFrame columns:\n",
      "['date', 'temperature_2m_mean', 'precipitation_sum', 'wind_speed_10m_max', 'wind_direction_10m_dominant', 'city', 'pm25_lag_1', 'pm25_lag_2', 'pm25_lag_3', 'predicted_pm25', 'street', 'country', 'days_before_forecast_day']\n",
      "\n",
      "First rows of DataFrame:\n",
      "        date  temperature_2m_mean  precipitation_sum  wind_speed_10m_max  \\\n",
      "0 2024-11-21                 2.95                0.1           30.652895   \n",
      "1 2024-11-22                -1.45                0.2           14.336861   \n",
      "2 2024-11-23                -3.20                0.0            2.741678   \n",
      "3 2024-11-24                -1.45                0.0            7.594208   \n",
      "4 2024-11-25                 6.80                0.3           32.379993   \n",
      "\n",
      "   wind_direction_10m_dominant       city  pm25_lag_1  pm25_lag_2  pm25_lag_3  \\\n",
      "0                   192.893738  helsinki    39.000000   10.000000    8.000000   \n",
      "1                   241.504456  helsinki    50.308029   39.000000   10.000000   \n",
      "2                   113.198624  helsinki    42.236870   50.308029   39.000000   \n",
      "3                   238.570480  helsinki    56.989681   42.236870   50.308029   \n",
      "4                   208.559525  helsinki    55.815067   56.989681   42.236870   \n",
      "\n",
      "   predicted_pm25    street  country  days_before_forecast_day  \n",
      "0       50.308029  kallio-2  finland                         1  \n",
      "1       42.236870  kallio-2  finland                         2  \n",
      "2       56.989681  kallio-2  finland                         3  \n",
      "3       55.815067  kallio-2  finland                         4  \n",
      "4       42.849792  kallio-2  finland                         5  \n"
     ]
    },
    {
     "data": {
      "image/png": "[encoded data removed]",
      "text/plain": [
       "<Figure size 1000x600 with 1 Axes>"
      ]
     },
     "metadata": {},
     "output_type": "display_data"
    }
   ],
   "source": [
    "file_path = \"../../docs/air-quality/assets/img/pm25_forecast.png\"\n",
    "\n",
    "# Create directories if they don't exist\n",
    "directory = os.path.dirname(file_path)\n",
    "if not os.path.exists(directory):\n",
    "    os.makedirs(directory)\n",
    "\n",
    "# Check DataFrame columns\n",
    "print(\"DataFrame columns:\")\n",
    "print(batch_data.columns.tolist())\n",
    "\n",
    "# Display first few rows\n",
    "print(\"\\nFirst rows of DataFrame:\")\n",
    "print(batch_data.head())\n",
    "\n",
    "plt = util.plot_air_quality_forecast(city, street, batch_data, file_path)\n",
    "plt.show()"
   ]
  },
  {
   "cell_type": "code",
   "execution_count": 13,
   "id": "c418a791",
   "metadata": {},
   "outputs": [],
   "source": [
    "# Get or create feature group\n",
    "monitor_fg = fs.get_or_create_feature_group(\n",
    "    name='aq_predictions',\n",
    "    description='Air Quality prediction monitoring',\n",
    "    version=2,\n",
    "    primary_key=['city','street','date','days_before_forecast_day'],\n",
    "    event_time=\"date\"\n",
    ")"
   ]
  },
  {
   "cell_type": "code",
   "execution_count": 14,
   "id": "8992650a",
   "metadata": {},
   "outputs": [
    {
     "name": "stdout",
     "output_type": "stream",
     "text": [
      "2024-11-20 18:15:00,970 WARNING: DeprecationWarning: The `ipykernel.comm.Comm` class has been deprecated. Please use the `comm` module instead.For creating comms, use the function `from comm import create_comm`.\n",
      "\n"
     ]
    },
    {
     "data": {
      "application/vnd.jupyter.widget-view+json": {
       "model_id": "c106b797fc0848108d8198d876dad403",
       "version_major": 2,
       "version_minor": 0
      },
      "text/plain": [
       "Uploading Dataframe: 0.00% |          | Rows 0/9 | Elapsed Time: 00:00 | Remaining Time: ?"
      ]
     },
     "metadata": {},
     "output_type": "display_data"
    },
    {
     "name": "stdout",
     "output_type": "stream",
     "text": [
      "Launching job: aq_predictions_2_offline_fg_materialization\n",
      "Job started successfully, you can follow the progress at \n",
      "https://c.app.hopsworks.ai/p/1164445/jobs/named/aq_predictions_2_offline_fg_materialization/executions\n"
     ]
    },
    {
     "data": {
      "text/plain": [
       "(<hsfs.core.job.Job at 0x7fbf74d8cfa0>, None)"
      ]
     },
     "execution_count": 14,
     "metadata": {},
     "output_type": "execute_result"
    }
   ],
   "source": [
    "monitor_fg.insert(batch_data, write_options={\"wait_for_job\": True})"
   ]
  },
  {
   "cell_type": "code",
   "execution_count": 15,
   "id": "aa2c1b07",
   "metadata": {},
   "outputs": [
    {
     "name": "stdout",
     "output_type": "stream",
     "text": [
      "Finished: Reading data from Hopsworks, using Hopsworks Feature Query Service (0.80s) \n"
     ]
    },
    {
     "data": {
      "text/html": [
       "<div>\n",
       "<style scoped>\n",
       "    .dataframe tbody tr th:only-of-type {\n",
       "        vertical-align: middle;\n",
       "    }\n",
       "\n",
       "    .dataframe tbody tr th {\n",
       "        vertical-align: top;\n",
       "    }\n",
       "\n",
       "    .dataframe thead th {\n",
       "        text-align: right;\n",
       "    }\n",
       "</style>\n",
       "<table border=\"1\" class=\"dataframe\">\n",
       "  <thead>\n",
       "    <tr style=\"text-align: right;\">\n",
       "      <th></th>\n",
       "      <th>date</th>\n",
       "      <th>temperature_2m_mean</th>\n",
       "      <th>precipitation_sum</th>\n",
       "      <th>wind_speed_10m_max</th>\n",
       "      <th>wind_direction_10m_dominant</th>\n",
       "      <th>city</th>\n",
       "      <th>pm25_lag_1</th>\n",
       "      <th>pm25_lag_2</th>\n",
       "      <th>pm25_lag_3</th>\n",
       "      <th>predicted_pm25</th>\n",
       "      <th>street</th>\n",
       "      <th>country</th>\n",
       "      <th>days_before_forecast_day</th>\n",
       "    </tr>\n",
       "  </thead>\n",
       "  <tbody>\n",
       "    <tr>\n",
       "      <th>0</th>\n",
       "      <td>2024-11-21 00:00:00+00:00</td>\n",
       "      <td>2.95</td>\n",
       "      <td>0.1</td>\n",
       "      <td>30.652895</td>\n",
       "      <td>192.893738</td>\n",
       "      <td>helsinki</td>\n",
       "      <td>39.0</td>\n",
       "      <td>10.0</td>\n",
       "      <td>8.0</td>\n",
       "      <td>50.308029</td>\n",
       "      <td>kallio-2</td>\n",
       "      <td>finland</td>\n",
       "      <td>1</td>\n",
       "    </tr>\n",
       "    <tr>\n",
       "      <th>1</th>\n",
       "      <td>2024-11-20 00:00:00+00:00</td>\n",
       "      <td>1.15</td>\n",
       "      <td>1.7</td>\n",
       "      <td>36.939926</td>\n",
       "      <td>77.047241</td>\n",
       "      <td>helsinki</td>\n",
       "      <td>NaN</td>\n",
       "      <td>NaN</td>\n",
       "      <td>NaN</td>\n",
       "      <td>49.103096</td>\n",
       "      <td>kallio-2</td>\n",
       "      <td>finland</td>\n",
       "      <td>1</td>\n",
       "    </tr>\n",
       "  </tbody>\n",
       "</table>\n",
       "</div>"
      ],
      "text/plain": [
       "                       date  temperature_2m_mean  precipitation_sum  \\\n",
       "0 2024-11-21 00:00:00+00:00                 2.95                0.1   \n",
       "1 2024-11-20 00:00:00+00:00                 1.15                1.7   \n",
       "\n",
       "   wind_speed_10m_max  wind_direction_10m_dominant       city  pm25_lag_1  \\\n",
       "0           30.652895                   192.893738  helsinki         39.0   \n",
       "1           36.939926                    77.047241  helsinki          NaN   \n",
       "\n",
       "   pm25_lag_2  pm25_lag_3  predicted_pm25    street  country  \\\n",
       "0        10.0         8.0       50.308029  kallio-2  finland   \n",
       "1         NaN         NaN       49.103096  kallio-2  finland   \n",
       "\n",
       "   days_before_forecast_day  \n",
       "0                         1  \n",
       "1                         1  "
      ]
     },
     "execution_count": 15,
     "metadata": {},
     "output_type": "execute_result"
    }
   ],
   "source": [
    "# We will create a hindcast chart for  only the forecasts made 1 day beforehand\n",
    "monitoring_df = monitor_fg.filter(monitor_fg.days_before_forecast_day == 1).read()\n",
    "monitoring_df"
   ]
  },
  {
   "cell_type": "code",
   "execution_count": 16,
   "id": "8c3ff020",
   "metadata": {},
   "outputs": [
    {
     "name": "stdout",
     "output_type": "stream",
     "text": [
      "Finished: Reading data from Hopsworks, using Hopsworks Feature Query Service (1.20s) \n"
     ]
    },
    {
     "data": {
      "text/html": [
       "<div>\n",
       "<style scoped>\n",
       "    .dataframe tbody tr th:only-of-type {\n",
       "        vertical-align: middle;\n",
       "    }\n",
       "\n",
       "    .dataframe tbody tr th {\n",
       "        vertical-align: top;\n",
       "    }\n",
       "\n",
       "    .dataframe thead th {\n",
       "        text-align: right;\n",
       "    }\n",
       "</style>\n",
       "<table border=\"1\" class=\"dataframe\">\n",
       "  <thead>\n",
       "    <tr style=\"text-align: right;\">\n",
       "      <th></th>\n",
       "      <th>date</th>\n",
       "      <th>pm25</th>\n",
       "      <th>pm25_lag_1</th>\n",
       "      <th>pm25_lag_2</th>\n",
       "      <th>pm25_lag_3</th>\n",
       "      <th>country</th>\n",
       "      <th>city</th>\n",
       "      <th>street</th>\n",
       "      <th>url</th>\n",
       "    </tr>\n",
       "  </thead>\n",
       "  <tbody>\n",
       "    <tr>\n",
       "      <th>0</th>\n",
       "      <td>2014-05-02 00:00:00+00:00</td>\n",
       "      <td>17.0</td>\n",
       "      <td>25.0</td>\n",
       "      <td>20.0</td>\n",
       "      <td>18.0</td>\n",
       "      <td>finland</td>\n",
       "      <td>helsinki</td>\n",
       "      <td>kallio-2</td>\n",
       "      <td>https://api.waqi.info/feed/@5717</td>\n",
       "    </tr>\n",
       "    <tr>\n",
       "      <th>1</th>\n",
       "      <td>2014-05-03 00:00:00+00:00</td>\n",
       "      <td>13.0</td>\n",
       "      <td>17.0</td>\n",
       "      <td>25.0</td>\n",
       "      <td>20.0</td>\n",
       "      <td>finland</td>\n",
       "      <td>helsinki</td>\n",
       "      <td>kallio-2</td>\n",
       "      <td>https://api.waqi.info/feed/@5717</td>\n",
       "    </tr>\n",
       "    <tr>\n",
       "      <th>2</th>\n",
       "      <td>2014-05-04 00:00:00+00:00</td>\n",
       "      <td>11.0</td>\n",
       "      <td>13.0</td>\n",
       "      <td>17.0</td>\n",
       "      <td>25.0</td>\n",
       "      <td>finland</td>\n",
       "      <td>helsinki</td>\n",
       "      <td>kallio-2</td>\n",
       "      <td>https://api.waqi.info/feed/@5717</td>\n",
       "    </tr>\n",
       "    <tr>\n",
       "      <th>3</th>\n",
       "      <td>2014-05-05 00:00:00+00:00</td>\n",
       "      <td>16.0</td>\n",
       "      <td>11.0</td>\n",
       "      <td>13.0</td>\n",
       "      <td>17.0</td>\n",
       "      <td>finland</td>\n",
       "      <td>helsinki</td>\n",
       "      <td>kallio-2</td>\n",
       "      <td>https://api.waqi.info/feed/@5717</td>\n",
       "    </tr>\n",
       "    <tr>\n",
       "      <th>4</th>\n",
       "      <td>2014-05-06 00:00:00+00:00</td>\n",
       "      <td>20.0</td>\n",
       "      <td>16.0</td>\n",
       "      <td>11.0</td>\n",
       "      <td>13.0</td>\n",
       "      <td>finland</td>\n",
       "      <td>helsinki</td>\n",
       "      <td>kallio-2</td>\n",
       "      <td>https://api.waqi.info/feed/@5717</td>\n",
       "    </tr>\n",
       "    <tr>\n",
       "      <th>...</th>\n",
       "      <td>...</td>\n",
       "      <td>...</td>\n",
       "      <td>...</td>\n",
       "      <td>...</td>\n",
       "      <td>...</td>\n",
       "      <td>...</td>\n",
       "      <td>...</td>\n",
       "      <td>...</td>\n",
       "      <td>...</td>\n",
       "    </tr>\n",
       "    <tr>\n",
       "      <th>3790</th>\n",
       "      <td>2024-11-12 00:00:00+00:00</td>\n",
       "      <td>9.0</td>\n",
       "      <td>9.0</td>\n",
       "      <td>20.0</td>\n",
       "      <td>13.0</td>\n",
       "      <td>finland</td>\n",
       "      <td>helsinki</td>\n",
       "      <td>kallio-2</td>\n",
       "      <td>https://api.waqi.info/feed/@5717</td>\n",
       "    </tr>\n",
       "    <tr>\n",
       "      <th>3791</th>\n",
       "      <td>2024-11-13 00:00:00+00:00</td>\n",
       "      <td>6.0</td>\n",
       "      <td>9.0</td>\n",
       "      <td>9.0</td>\n",
       "      <td>20.0</td>\n",
       "      <td>finland</td>\n",
       "      <td>helsinki</td>\n",
       "      <td>kallio-2</td>\n",
       "      <td>https://api.waqi.info/feed/@5717</td>\n",
       "    </tr>\n",
       "    <tr>\n",
       "      <th>3792</th>\n",
       "      <td>2024-11-14 00:00:00+00:00</td>\n",
       "      <td>14.0</td>\n",
       "      <td>6.0</td>\n",
       "      <td>9.0</td>\n",
       "      <td>9.0</td>\n",
       "      <td>finland</td>\n",
       "      <td>helsinki</td>\n",
       "      <td>kallio-2</td>\n",
       "      <td>https://api.waqi.info/feed/@5717</td>\n",
       "    </tr>\n",
       "    <tr>\n",
       "      <th>3793</th>\n",
       "      <td>2024-11-15 00:00:00+00:00</td>\n",
       "      <td>16.0</td>\n",
       "      <td>14.0</td>\n",
       "      <td>6.0</td>\n",
       "      <td>9.0</td>\n",
       "      <td>finland</td>\n",
       "      <td>helsinki</td>\n",
       "      <td>kallio-2</td>\n",
       "      <td>https://api.waqi.info/feed/@5717</td>\n",
       "    </tr>\n",
       "    <tr>\n",
       "      <th>3794</th>\n",
       "      <td>2024-11-20 00:00:00+00:00</td>\n",
       "      <td>39.0</td>\n",
       "      <td>39.0</td>\n",
       "      <td>16.0</td>\n",
       "      <td>14.0</td>\n",
       "      <td>finland</td>\n",
       "      <td>helsinki</td>\n",
       "      <td>kallio-2</td>\n",
       "      <td>https://api.waqi.info/feed/@5717</td>\n",
       "    </tr>\n",
       "  </tbody>\n",
       "</table>\n",
       "<p>3795 rows × 9 columns</p>\n",
       "</div>"
      ],
      "text/plain": [
       "                          date  pm25  pm25_lag_1  pm25_lag_2  pm25_lag_3  \\\n",
       "0    2014-05-02 00:00:00+00:00  17.0        25.0        20.0        18.0   \n",
       "1    2014-05-03 00:00:00+00:00  13.0        17.0        25.0        20.0   \n",
       "2    2014-05-04 00:00:00+00:00  11.0        13.0        17.0        25.0   \n",
       "3    2014-05-05 00:00:00+00:00  16.0        11.0        13.0        17.0   \n",
       "4    2014-05-06 00:00:00+00:00  20.0        16.0        11.0        13.0   \n",
       "...                        ...   ...         ...         ...         ...   \n",
       "3790 2024-11-12 00:00:00+00:00   9.0         9.0        20.0        13.0   \n",
       "3791 2024-11-13 00:00:00+00:00   6.0         9.0         9.0        20.0   \n",
       "3792 2024-11-14 00:00:00+00:00  14.0         6.0         9.0         9.0   \n",
       "3793 2024-11-15 00:00:00+00:00  16.0        14.0         6.0         9.0   \n",
       "3794 2024-11-20 00:00:00+00:00  39.0        39.0        16.0        14.0   \n",
       "\n",
       "      country       city    street                               url  \n",
       "0     finland  helsinki   kallio-2  https://api.waqi.info/feed/@5717  \n",
       "1     finland  helsinki   kallio-2  https://api.waqi.info/feed/@5717  \n",
       "2     finland  helsinki   kallio-2  https://api.waqi.info/feed/@5717  \n",
       "3     finland  helsinki   kallio-2  https://api.waqi.info/feed/@5717  \n",
       "4     finland  helsinki   kallio-2  https://api.waqi.info/feed/@5717  \n",
       "...       ...        ...       ...                               ...  \n",
       "3790  finland  helsinki   kallio-2  https://api.waqi.info/feed/@5717  \n",
       "3791  finland  helsinki   kallio-2  https://api.waqi.info/feed/@5717  \n",
       "3792  finland  helsinki   kallio-2  https://api.waqi.info/feed/@5717  \n",
       "3793  finland  helsinki   kallio-2  https://api.waqi.info/feed/@5717  \n",
       "3794  finland  helsinki   kallio-2  https://api.waqi.info/feed/@5717  \n",
       "\n",
       "[3795 rows x 9 columns]"
      ]
     },
     "execution_count": 16,
     "metadata": {},
     "output_type": "execute_result"
    }
   ],
   "source": [
    "air_quality_fg = fs.get_feature_group(\n",
    "    name='air_quality',\n",
    "    version=2,\n",
    ")\n",
    "air_quality_df = air_quality_fg.read().sort_values('date').reset_index(drop=True)\n",
    "air_quality_df"
   ]
  },
  {
   "cell_type": "code",
   "execution_count": 17,
   "id": "6763f180",
   "metadata": {},
   "outputs": [
    {
     "data": {
      "text/html": [
       "<div>\n",
       "<style scoped>\n",
       "    .dataframe tbody tr th:only-of-type {\n",
       "        vertical-align: middle;\n",
       "    }\n",
       "\n",
       "    .dataframe tbody tr th {\n",
       "        vertical-align: top;\n",
       "    }\n",
       "\n",
       "    .dataframe thead th {\n",
       "        text-align: right;\n",
       "    }\n",
       "</style>\n",
       "<table border=\"1\" class=\"dataframe\">\n",
       "  <thead>\n",
       "    <tr style=\"text-align: right;\">\n",
       "      <th></th>\n",
       "      <th>date</th>\n",
       "      <th>predicted_pm25</th>\n",
       "      <th>pm25</th>\n",
       "    </tr>\n",
       "  </thead>\n",
       "  <tbody>\n",
       "    <tr>\n",
       "      <th>0</th>\n",
       "      <td>2024-11-20 00:00:00+00:00</td>\n",
       "      <td>49.103096</td>\n",
       "      <td>39.0</td>\n",
       "    </tr>\n",
       "  </tbody>\n",
       "</table>\n",
       "</div>"
      ],
      "text/plain": [
       "                       date  predicted_pm25  pm25\n",
       "0 2024-11-20 00:00:00+00:00       49.103096  39.0"
      ]
     },
     "execution_count": 17,
     "metadata": {},
     "output_type": "execute_result"
    }
   ],
   "source": [
    "outcome_df = air_quality_df[['date', 'pm25']]\n",
    "preds_df =  monitoring_df[['date', 'predicted_pm25']]\n",
    "\n",
    "hindcast_df = pd.merge(preds_df, outcome_df, on=\"date\")\n",
    "hindcast_df = hindcast_df.sort_values(by=['date'])\n",
    "\n",
    "# If there are no outcomes for predictions yet, generate some predictions/outcomes from existing data\n",
    "if len(hindcast_df) == 0:\n",
    "    hindcast_df = util.backfill_predictions_for_monitoring(weather_fg, air_quality_df, monitor_fg, retrieved_xgboost_model)\n",
    "hindcast_df"
   ]
  },
  {
   "cell_type": "markdown",
   "id": "9edb1552",
   "metadata": {},
   "source": [
    "### Plot the Hindcast comparing predicted with forecasted values (1-day prior forecast)\n",
    "\n",
    "__This graph will be empty to begin with - this is normal.__\n",
    "\n",
    "After a few days of predictions and observations, you will get data points in this graph."
   ]
  },
  {
   "cell_type": "code",
   "execution_count": 41,
   "id": "31e62393",
   "metadata": {},
   "outputs": [
    {
     "name": "stdout",
     "output_type": "stream",
     "text": [
      "2024-11-20 22:43:37,082 WARNING: UndefinedMetricWarning: R^2 score is not well-defined with less than two samples.\n",
      "\n"
     ]
    },
    {
     "data": {
      "image/png": "[encoded data removed]",
      "text/plain": [
       "<Figure size 1000x600 with 1 Axes>"
      ]
     },
     "metadata": {},
     "output_type": "display_data"
    }
   ],
   "source": [
    "from sklearn.metrics import mean_squared_error, r2_score\n",
    "mse = mean_squared_error(hindcast_df['pm25'], hindcast_df['predicted_pm25'])\n",
    "r2 = r2_score(hindcast_df['pm25'], hindcast_df['predicted_pm25'])\n",
    "\n",
    "file_path = \"../../docs/air-quality/assets/img/pm25_hindcast_1day.png\"\n",
    "plt = util.plot_air_quality_forecast(city, street, hindcast_df, file_path, hindcast=True)\n",
    "\n",
    "plt.text(0.02, 0.02, f'MSE: {mse:.2f}\\nR²: {r2:.2f}', transform=plt.gca().transAxes)\n",
    "\n",
    "plt.show()"
   ]
  },
  {
   "cell_type": "markdown",
   "id": "c29eb549",
   "metadata": {},
   "source": [
    "---"
   ]
  }
 ],
 "metadata": {
  "kernelspec": {
   "display_name": "Python 3 (ipykernel)",
   "language": "python",
   "name": "python3"
  },
  "language_info": {
   "codemirror_mode": {
    "name": "ipython",
    "version": 3
   },
   "file_extension": ".py",
   "mimetype": "text/x-python",
   "name": "python",
   "nbconvert_exporter": "python",
   "pygments_lexer": "ipython3",
   "version": "3.8.8"
  }
 },
 "nbformat": 4,
 "nbformat_minor": 5
}
