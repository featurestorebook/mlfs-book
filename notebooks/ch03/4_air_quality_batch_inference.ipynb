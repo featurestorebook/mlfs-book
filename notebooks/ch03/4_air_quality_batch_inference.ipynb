{
 "cells": [
  {
   "cell_type": "markdown",
   "id": "f16b7819",
   "metadata": {},
   "source": [
    "# <span style=\"font-width:bold; font-size: 3rem; color:#1EB182;\"> **Air Quality** </span><span style=\"font-width:bold; font-size: 3rem; color:#333;\">- Part 04: Batch Inference</span>\n",
    "\n",
    "## 🗒️ This notebook is divided into the following sections:\n",
    "\n",
    "1. Download model and batch inference data\n",
    "2. Make predictions, generate PNG for forecast\n",
    "3. Store predictions in a monitoring feature group adn generate PNG for hindcast"
   ]
  },
  {
   "cell_type": "markdown",
   "id": "49a84ee9",
   "metadata": {},
   "source": [
    "## <span style='color:#ff5f27'> 📝 Imports"
   ]
  },
  {
   "cell_type": "code",
   "execution_count": 2,
   "id": "1f430c88",
   "metadata": {},
   "outputs": [
    {
     "name": "stdout",
     "output_type": "stream",
     "text": [
      "2024-11-18 02:50:48,012 WARNING: DeprecationWarning: distutils Version classes are deprecated. Use packaging.version instead.\n",
      "\n",
      "2024-11-18 02:50:48,013 WARNING: DeprecationWarning: distutils Version classes are deprecated. Use packaging.version instead.\n",
      "\n"
     ]
    }
   ],
   "source": [
    "import datetime\n",
    "import pandas as pd\n",
    "from xgboost import XGBRegressor\n",
    "import hopsworks\n",
    "import json\n",
    "from functions import util\n",
    "import os"
   ]
  },
  {
   "cell_type": "code",
   "execution_count": 3,
   "id": "bcfd27c1",
   "metadata": {},
   "outputs": [
    {
     "data": {
      "text/plain": [
       "datetime.datetime(2024, 11, 18, 2, 50, 51, 2809)"
      ]
     },
     "execution_count": 3,
     "metadata": {},
     "output_type": "execute_result"
    }
   ],
   "source": [
    "today = datetime.datetime.now() - datetime.timedelta(0)\n",
    "tomorrow = today + datetime.timedelta(days = 1)\n",
    "today"
   ]
  },
  {
   "cell_type": "markdown",
   "id": "4e91e99d",
   "metadata": {},
   "source": [
    "## <span style=\"color:#ff5f27;\"> 📡 Connect to Hopsworks Feature Store </span>"
   ]
  },
  {
   "cell_type": "code",
   "execution_count": 24,
   "id": "74a2c243",
   "metadata": {},
   "outputs": [
    {
     "name": "stdout",
     "output_type": "stream",
     "text": [
      "Connection closed.\n",
      "Connected. Call `.close()` to terminate connection gracefully.\n",
      "\n",
      "Logged in to project, explore it here https://c.app.hopsworks.ai:443/p/1164445\n",
      "Connected. Call `.close()` to terminate connection gracefully.\n",
      "Connected. Call `.close()` to terminate connection gracefully.\n"
     ]
    }
   ],
   "source": [
    "with open('../../data/hopsworks-api-key.txt', 'r') as file:\n",
    "    os.environ[\"HOPSWORKS_API_KEY\"] = file.read().rstrip()\n",
    "project = hopsworks.login()\n",
    "fs = project.get_feature_store() \n",
    "\n",
    "secrets = util.secrets_api(project.name)\n",
    "location_str = secrets.get_secret(\"SENSOR_LOCATION_JSON\").value\n",
    "location = json.loads(location_str)\n",
    "country=location['country']\n",
    "city=location['city']\n",
    "street=location['street']"
   ]
  },
  {
   "cell_type": "markdown",
   "id": "4f138859",
   "metadata": {},
   "source": [
    "## <span style=\"color:#ff5f27;\"> ⚙️ Feature View Retrieval</span>\n"
   ]
  },
  {
   "cell_type": "code",
   "execution_count": 25,
   "id": "114b8e87",
   "metadata": {},
   "outputs": [],
   "source": [
    "feature_view = fs.get_feature_view(\n",
    "    name='air_quality_fv',\n",
    "    version=1,\n",
    ")"
   ]
  },
  {
   "cell_type": "markdown",
   "id": "4cead441",
   "metadata": {},
   "source": [
    "## <span style=\"color:#ff5f27;\">🪝 Download the model from Model Registry</span>"
   ]
  },
  {
   "cell_type": "code",
   "execution_count": 26,
   "id": "c6d70a2f",
   "metadata": {},
   "outputs": [
    {
     "name": "stdout",
     "output_type": "stream",
     "text": [
      "Connected. Call `.close()` to terminate connection gracefully.\n",
      "Downloading model artifact (1 dirs, 4 files)... DONE\r"
     ]
    }
   ],
   "source": [
    "mr = project.get_model_registry()\n",
    "\n",
    "retrieved_model = mr.get_model(\n",
    "    name=\"air_quality_xgboost_model\",\n",
    "    version=1,\n",
    ")\n",
    "\n",
    "# Download the saved model artifacts to a local directory\n",
    "saved_model_dir = retrieved_model.download()"
   ]
  },
  {
   "cell_type": "code",
   "execution_count": 27,
   "id": "a6cf6c06",
   "metadata": {},
   "outputs": [
    {
     "data": {
      "text/plain": [
       "XGBRegressor(base_score='2.327862E1', booster='gbtree', callbacks=None,\n",
       "             colsample_bylevel=None, colsample_bynode=None,\n",
       "             colsample_bytree=None, device=None, early_stopping_rounds=None,\n",
       "             enable_categorical=False, eval_metric=None,\n",
       "             feature_types=['float', 'float', 'float', 'float'], gamma=None,\n",
       "             grow_policy=None, importance_type=None,\n",
       "             interaction_constraints=None, learning_rate=None, max_bin=None,\n",
       "             max_cat_threshold=None, max_cat_to_onehot=None,\n",
       "             max_delta_step=None, max_depth=None, max_leaves=None,\n",
       "             min_child_weight=None, missing=nan, monotone_constraints=None,\n",
       "             multi_strategy=None, n_estimators=None, n_jobs=None,\n",
       "             num_parallel_tree=None, random_state=None, ...)"
      ]
     },
     "execution_count": 27,
     "metadata": {},
     "output_type": "execute_result"
    }
   ],
   "source": [
    "# Loading the XGBoost regressor model and label encoder from the saved model directory\n",
    "# retrieved_xgboost_model = joblib.load(saved_model_dir + \"/xgboost_regressor.pkl\")\n",
    "retrieved_xgboost_model = XGBRegressor()\n",
    "\n",
    "retrieved_xgboost_model.load_model(saved_model_dir + \"/model.json\")\n",
    "\n",
    "# Displaying the retrieved XGBoost regressor model\n",
    "retrieved_xgboost_model"
   ]
  },
  {
   "cell_type": "markdown",
   "id": "43ad941a",
   "metadata": {},
   "source": [
    "## <span style=\"color:#ff5f27;\">✨ Get Weather Forecast Features with Feature View   </span>\n",
    "\n"
   ]
  },
  {
   "cell_type": "code",
   "execution_count": 28,
   "id": "aaacae3c",
   "metadata": {},
   "outputs": [
    {
     "name": "stdout",
     "output_type": "stream",
     "text": [
      "Finished: Reading data from Hopsworks, using Hopsworks Feature Query Service (0.91s) \n"
     ]
    },
    {
     "data": {
      "text/html": [
       "<div>\n",
       "<style scoped>\n",
       "    .dataframe tbody tr th:only-of-type {\n",
       "        vertical-align: middle;\n",
       "    }\n",
       "\n",
       "    .dataframe tbody tr th {\n",
       "        vertical-align: top;\n",
       "    }\n",
       "\n",
       "    .dataframe thead th {\n",
       "        text-align: right;\n",
       "    }\n",
       "</style>\n",
       "<table border=\"1\" class=\"dataframe\">\n",
       "  <thead>\n",
       "    <tr style=\"text-align: right;\">\n",
       "      <th></th>\n",
       "      <th>date</th>\n",
       "      <th>temperature_2m_mean</th>\n",
       "      <th>precipitation_sum</th>\n",
       "      <th>wind_speed_10m_max</th>\n",
       "      <th>wind_direction_10m_dominant</th>\n",
       "      <th>city</th>\n",
       "    </tr>\n",
       "  </thead>\n",
       "  <tbody>\n",
       "    <tr>\n",
       "      <th>0</th>\n",
       "      <td>2024-11-23 00:00:00+00:00</td>\n",
       "      <td>-1.40</td>\n",
       "      <td>0.0</td>\n",
       "      <td>13.779114</td>\n",
       "      <td>250.144699</td>\n",
       "      <td>helsinki</td>\n",
       "    </tr>\n",
       "    <tr>\n",
       "      <th>1</th>\n",
       "      <td>2024-11-25 00:00:00+00:00</td>\n",
       "      <td>2.65</td>\n",
       "      <td>0.2</td>\n",
       "      <td>14.973576</td>\n",
       "      <td>260.311279</td>\n",
       "      <td>helsinki</td>\n",
       "    </tr>\n",
       "    <tr>\n",
       "      <th>2</th>\n",
       "      <td>2024-11-19 00:00:00+00:00</td>\n",
       "      <td>-0.45</td>\n",
       "      <td>0.0</td>\n",
       "      <td>5.634891</td>\n",
       "      <td>296.564972</td>\n",
       "      <td>helsinki</td>\n",
       "    </tr>\n",
       "    <tr>\n",
       "      <th>3</th>\n",
       "      <td>2024-11-24 00:00:00+00:00</td>\n",
       "      <td>2.30</td>\n",
       "      <td>0.0</td>\n",
       "      <td>18.430452</td>\n",
       "      <td>167.592590</td>\n",
       "      <td>helsinki</td>\n",
       "    </tr>\n",
       "    <tr>\n",
       "      <th>4</th>\n",
       "      <td>2024-11-22 00:00:00+00:00</td>\n",
       "      <td>0.10</td>\n",
       "      <td>0.0</td>\n",
       "      <td>18.709612</td>\n",
       "      <td>239.981720</td>\n",
       "      <td>helsinki</td>\n",
       "    </tr>\n",
       "    <tr>\n",
       "      <th>5</th>\n",
       "      <td>2024-11-20 00:00:00+00:00</td>\n",
       "      <td>1.10</td>\n",
       "      <td>0.4</td>\n",
       "      <td>28.883131</td>\n",
       "      <td>67.270233</td>\n",
       "      <td>helsinki</td>\n",
       "    </tr>\n",
       "    <tr>\n",
       "      <th>6</th>\n",
       "      <td>2024-11-21 00:00:00+00:00</td>\n",
       "      <td>3.20</td>\n",
       "      <td>0.5</td>\n",
       "      <td>25.630886</td>\n",
       "      <td>190.520737</td>\n",
       "      <td>helsinki</td>\n",
       "    </tr>\n",
       "    <tr>\n",
       "      <th>7</th>\n",
       "      <td>2024-11-26 00:00:00+00:00</td>\n",
       "      <td>-1.25</td>\n",
       "      <td>0.0</td>\n",
       "      <td>11.570515</td>\n",
       "      <td>264.644257</td>\n",
       "      <td>helsinki</td>\n",
       "    </tr>\n",
       "    <tr>\n",
       "      <th>8</th>\n",
       "      <td>2024-11-27 00:00:00+00:00</td>\n",
       "      <td>-5.30</td>\n",
       "      <td>0.0</td>\n",
       "      <td>13.608762</td>\n",
       "      <td>322.523743</td>\n",
       "      <td>helsinki</td>\n",
       "    </tr>\n",
       "  </tbody>\n",
       "</table>\n",
       "</div>"
      ],
      "text/plain": [
       "                       date  temperature_2m_mean  precipitation_sum  \\\n",
       "0 2024-11-23 00:00:00+00:00                -1.40                0.0   \n",
       "1 2024-11-25 00:00:00+00:00                 2.65                0.2   \n",
       "2 2024-11-19 00:00:00+00:00                -0.45                0.0   \n",
       "3 2024-11-24 00:00:00+00:00                 2.30                0.0   \n",
       "4 2024-11-22 00:00:00+00:00                 0.10                0.0   \n",
       "5 2024-11-20 00:00:00+00:00                 1.10                0.4   \n",
       "6 2024-11-21 00:00:00+00:00                 3.20                0.5   \n",
       "7 2024-11-26 00:00:00+00:00                -1.25                0.0   \n",
       "8 2024-11-27 00:00:00+00:00                -5.30                0.0   \n",
       "\n",
       "   wind_speed_10m_max  wind_direction_10m_dominant       city  \n",
       "0           13.779114                   250.144699  helsinki   \n",
       "1           14.973576                   260.311279  helsinki   \n",
       "2            5.634891                   296.564972  helsinki   \n",
       "3           18.430452                   167.592590  helsinki   \n",
       "4           18.709612                   239.981720  helsinki   \n",
       "5           28.883131                    67.270233  helsinki   \n",
       "6           25.630886                   190.520737  helsinki   \n",
       "7           11.570515                   264.644257  helsinki   \n",
       "8           13.608762                   322.523743  helsinki   "
      ]
     },
     "execution_count": 28,
     "metadata": {},
     "output_type": "execute_result"
    }
   ],
   "source": [
    "weather_fg = fs.get_feature_group(\n",
    "    name='weather',\n",
    "    version=1,\n",
    ")\n",
    "batch_data = weather_fg.filter(weather_fg.date >= today).read()\n",
    "batch_data"
   ]
  },
  {
   "cell_type": "markdown",
   "id": "804e4491",
   "metadata": {},
   "source": [
    "### <span style=\"color:#ff5f27;\">🤖 Making the predictions</span>"
   ]
  },
  {
   "cell_type": "code",
   "execution_count": 29,
   "id": "4566b635",
   "metadata": {},
   "outputs": [
    {
     "data": {
      "text/html": [
       "<div>\n",
       "<style scoped>\n",
       "    .dataframe tbody tr th:only-of-type {\n",
       "        vertical-align: middle;\n",
       "    }\n",
       "\n",
       "    .dataframe tbody tr th {\n",
       "        vertical-align: top;\n",
       "    }\n",
       "\n",
       "    .dataframe thead th {\n",
       "        text-align: right;\n",
       "    }\n",
       "</style>\n",
       "<table border=\"1\" class=\"dataframe\">\n",
       "  <thead>\n",
       "    <tr style=\"text-align: right;\">\n",
       "      <th></th>\n",
       "      <th>date</th>\n",
       "      <th>temperature_2m_mean</th>\n",
       "      <th>precipitation_sum</th>\n",
       "      <th>wind_speed_10m_max</th>\n",
       "      <th>wind_direction_10m_dominant</th>\n",
       "      <th>city</th>\n",
       "      <th>predicted_pm25</th>\n",
       "    </tr>\n",
       "  </thead>\n",
       "  <tbody>\n",
       "    <tr>\n",
       "      <th>0</th>\n",
       "      <td>2024-11-23 00:00:00+00:00</td>\n",
       "      <td>-1.40</td>\n",
       "      <td>0.0</td>\n",
       "      <td>13.779114</td>\n",
       "      <td>250.144699</td>\n",
       "      <td>helsinki</td>\n",
       "      <td>24.443619</td>\n",
       "    </tr>\n",
       "    <tr>\n",
       "      <th>1</th>\n",
       "      <td>2024-11-25 00:00:00+00:00</td>\n",
       "      <td>2.65</td>\n",
       "      <td>0.2</td>\n",
       "      <td>14.973576</td>\n",
       "      <td>260.311279</td>\n",
       "      <td>helsinki</td>\n",
       "      <td>20.991081</td>\n",
       "    </tr>\n",
       "    <tr>\n",
       "      <th>2</th>\n",
       "      <td>2024-11-19 00:00:00+00:00</td>\n",
       "      <td>-0.45</td>\n",
       "      <td>0.0</td>\n",
       "      <td>5.634891</td>\n",
       "      <td>296.564972</td>\n",
       "      <td>helsinki</td>\n",
       "      <td>32.965927</td>\n",
       "    </tr>\n",
       "    <tr>\n",
       "      <th>3</th>\n",
       "      <td>2024-11-24 00:00:00+00:00</td>\n",
       "      <td>2.30</td>\n",
       "      <td>0.0</td>\n",
       "      <td>18.430452</td>\n",
       "      <td>167.592590</td>\n",
       "      <td>helsinki</td>\n",
       "      <td>36.235504</td>\n",
       "    </tr>\n",
       "    <tr>\n",
       "      <th>4</th>\n",
       "      <td>2024-11-22 00:00:00+00:00</td>\n",
       "      <td>0.10</td>\n",
       "      <td>0.0</td>\n",
       "      <td>18.709612</td>\n",
       "      <td>239.981720</td>\n",
       "      <td>helsinki</td>\n",
       "      <td>23.959538</td>\n",
       "    </tr>\n",
       "    <tr>\n",
       "      <th>5</th>\n",
       "      <td>2024-11-20 00:00:00+00:00</td>\n",
       "      <td>1.10</td>\n",
       "      <td>0.4</td>\n",
       "      <td>28.883131</td>\n",
       "      <td>67.270233</td>\n",
       "      <td>helsinki</td>\n",
       "      <td>17.579025</td>\n",
       "    </tr>\n",
       "    <tr>\n",
       "      <th>6</th>\n",
       "      <td>2024-11-21 00:00:00+00:00</td>\n",
       "      <td>3.20</td>\n",
       "      <td>0.5</td>\n",
       "      <td>25.630886</td>\n",
       "      <td>190.520737</td>\n",
       "      <td>helsinki</td>\n",
       "      <td>32.193653</td>\n",
       "    </tr>\n",
       "    <tr>\n",
       "      <th>7</th>\n",
       "      <td>2024-11-26 00:00:00+00:00</td>\n",
       "      <td>-1.25</td>\n",
       "      <td>0.0</td>\n",
       "      <td>11.570515</td>\n",
       "      <td>264.644257</td>\n",
       "      <td>helsinki</td>\n",
       "      <td>35.253021</td>\n",
       "    </tr>\n",
       "    <tr>\n",
       "      <th>8</th>\n",
       "      <td>2024-11-27 00:00:00+00:00</td>\n",
       "      <td>-5.30</td>\n",
       "      <td>0.0</td>\n",
       "      <td>13.608762</td>\n",
       "      <td>322.523743</td>\n",
       "      <td>helsinki</td>\n",
       "      <td>25.617104</td>\n",
       "    </tr>\n",
       "  </tbody>\n",
       "</table>\n",
       "</div>"
      ],
      "text/plain": [
       "                       date  temperature_2m_mean  precipitation_sum  \\\n",
       "0 2024-11-23 00:00:00+00:00                -1.40                0.0   \n",
       "1 2024-11-25 00:00:00+00:00                 2.65                0.2   \n",
       "2 2024-11-19 00:00:00+00:00                -0.45                0.0   \n",
       "3 2024-11-24 00:00:00+00:00                 2.30                0.0   \n",
       "4 2024-11-22 00:00:00+00:00                 0.10                0.0   \n",
       "5 2024-11-20 00:00:00+00:00                 1.10                0.4   \n",
       "6 2024-11-21 00:00:00+00:00                 3.20                0.5   \n",
       "7 2024-11-26 00:00:00+00:00                -1.25                0.0   \n",
       "8 2024-11-27 00:00:00+00:00                -5.30                0.0   \n",
       "\n",
       "   wind_speed_10m_max  wind_direction_10m_dominant       city  predicted_pm25  \n",
       "0           13.779114                   250.144699  helsinki        24.443619  \n",
       "1           14.973576                   260.311279  helsinki        20.991081  \n",
       "2            5.634891                   296.564972  helsinki        32.965927  \n",
       "3           18.430452                   167.592590  helsinki        36.235504  \n",
       "4           18.709612                   239.981720  helsinki        23.959538  \n",
       "5           28.883131                    67.270233  helsinki        17.579025  \n",
       "6           25.630886                   190.520737  helsinki        32.193653  \n",
       "7           11.570515                   264.644257  helsinki        35.253021  \n",
       "8           13.608762                   322.523743  helsinki        25.617104  "
      ]
     },
     "execution_count": 29,
     "metadata": {},
     "output_type": "execute_result"
    }
   ],
   "source": [
    "batch_data['predicted_pm25'] = retrieved_xgboost_model.predict(\n",
    "    batch_data[['temperature_2m_mean', 'precipitation_sum', 'wind_speed_10m_max', 'wind_direction_10m_dominant']])\n",
    "batch_data"
   ]
  },
  {
   "cell_type": "code",
   "execution_count": 30,
   "id": "95d78ba2",
   "metadata": {},
   "outputs": [
    {
     "name": "stdout",
     "output_type": "stream",
     "text": [
      "<class 'pandas.core.frame.DataFrame'>\n",
      "RangeIndex: 9 entries, 0 to 8\n",
      "Data columns (total 7 columns):\n",
      " #   Column                       Non-Null Count  Dtype              \n",
      "---  ------                       --------------  -----              \n",
      " 0   date                         9 non-null      datetime64[us, UTC]\n",
      " 1   temperature_2m_mean          9 non-null      float32            \n",
      " 2   precipitation_sum            9 non-null      float32            \n",
      " 3   wind_speed_10m_max           9 non-null      float32            \n",
      " 4   wind_direction_10m_dominant  9 non-null      float32            \n",
      " 5   city                         9 non-null      object             \n",
      " 6   predicted_pm25               9 non-null      float32            \n",
      "dtypes: datetime64[us, UTC](1), float32(5), object(1)\n",
      "memory usage: 452.0+ bytes\n"
     ]
    }
   ],
   "source": [
    "batch_data.info()"
   ]
  },
  {
   "cell_type": "markdown",
   "id": "d23e2b0a",
   "metadata": {},
   "source": [
    "### <span style=\"color:#ff5f27;\">🤖 Saving the predictions (for monitoring) to a Feature Group</span>"
   ]
  },
  {
   "cell_type": "code",
   "execution_count": 31,
   "id": "9d5d9436",
   "metadata": {},
   "outputs": [
    {
     "data": {
      "text/html": [
       "<div>\n",
       "<style scoped>\n",
       "    .dataframe tbody tr th:only-of-type {\n",
       "        vertical-align: middle;\n",
       "    }\n",
       "\n",
       "    .dataframe tbody tr th {\n",
       "        vertical-align: top;\n",
       "    }\n",
       "\n",
       "    .dataframe thead th {\n",
       "        text-align: right;\n",
       "    }\n",
       "</style>\n",
       "<table border=\"1\" class=\"dataframe\">\n",
       "  <thead>\n",
       "    <tr style=\"text-align: right;\">\n",
       "      <th></th>\n",
       "      <th>date</th>\n",
       "      <th>temperature_2m_mean</th>\n",
       "      <th>precipitation_sum</th>\n",
       "      <th>wind_speed_10m_max</th>\n",
       "      <th>wind_direction_10m_dominant</th>\n",
       "      <th>city</th>\n",
       "      <th>predicted_pm25</th>\n",
       "      <th>street</th>\n",
       "      <th>country</th>\n",
       "      <th>days_before_forecast_day</th>\n",
       "    </tr>\n",
       "  </thead>\n",
       "  <tbody>\n",
       "    <tr>\n",
       "      <th>2</th>\n",
       "      <td>2024-11-19 00:00:00+00:00</td>\n",
       "      <td>-0.45</td>\n",
       "      <td>0.0</td>\n",
       "      <td>5.634891</td>\n",
       "      <td>296.564972</td>\n",
       "      <td>helsinki</td>\n",
       "      <td>32.965927</td>\n",
       "      <td>kallio-2</td>\n",
       "      <td>finland</td>\n",
       "      <td>3</td>\n",
       "    </tr>\n",
       "    <tr>\n",
       "      <th>5</th>\n",
       "      <td>2024-11-20 00:00:00+00:00</td>\n",
       "      <td>1.10</td>\n",
       "      <td>0.4</td>\n",
       "      <td>28.883131</td>\n",
       "      <td>67.270233</td>\n",
       "      <td>helsinki</td>\n",
       "      <td>17.579025</td>\n",
       "      <td>kallio-2</td>\n",
       "      <td>finland</td>\n",
       "      <td>6</td>\n",
       "    </tr>\n",
       "    <tr>\n",
       "      <th>6</th>\n",
       "      <td>2024-11-21 00:00:00+00:00</td>\n",
       "      <td>3.20</td>\n",
       "      <td>0.5</td>\n",
       "      <td>25.630886</td>\n",
       "      <td>190.520737</td>\n",
       "      <td>helsinki</td>\n",
       "      <td>32.193653</td>\n",
       "      <td>kallio-2</td>\n",
       "      <td>finland</td>\n",
       "      <td>7</td>\n",
       "    </tr>\n",
       "    <tr>\n",
       "      <th>4</th>\n",
       "      <td>2024-11-22 00:00:00+00:00</td>\n",
       "      <td>0.10</td>\n",
       "      <td>0.0</td>\n",
       "      <td>18.709612</td>\n",
       "      <td>239.981720</td>\n",
       "      <td>helsinki</td>\n",
       "      <td>23.959538</td>\n",
       "      <td>kallio-2</td>\n",
       "      <td>finland</td>\n",
       "      <td>5</td>\n",
       "    </tr>\n",
       "    <tr>\n",
       "      <th>0</th>\n",
       "      <td>2024-11-23 00:00:00+00:00</td>\n",
       "      <td>-1.40</td>\n",
       "      <td>0.0</td>\n",
       "      <td>13.779114</td>\n",
       "      <td>250.144699</td>\n",
       "      <td>helsinki</td>\n",
       "      <td>24.443619</td>\n",
       "      <td>kallio-2</td>\n",
       "      <td>finland</td>\n",
       "      <td>1</td>\n",
       "    </tr>\n",
       "    <tr>\n",
       "      <th>3</th>\n",
       "      <td>2024-11-24 00:00:00+00:00</td>\n",
       "      <td>2.30</td>\n",
       "      <td>0.0</td>\n",
       "      <td>18.430452</td>\n",
       "      <td>167.592590</td>\n",
       "      <td>helsinki</td>\n",
       "      <td>36.235504</td>\n",
       "      <td>kallio-2</td>\n",
       "      <td>finland</td>\n",
       "      <td>4</td>\n",
       "    </tr>\n",
       "    <tr>\n",
       "      <th>1</th>\n",
       "      <td>2024-11-25 00:00:00+00:00</td>\n",
       "      <td>2.65</td>\n",
       "      <td>0.2</td>\n",
       "      <td>14.973576</td>\n",
       "      <td>260.311279</td>\n",
       "      <td>helsinki</td>\n",
       "      <td>20.991081</td>\n",
       "      <td>kallio-2</td>\n",
       "      <td>finland</td>\n",
       "      <td>2</td>\n",
       "    </tr>\n",
       "    <tr>\n",
       "      <th>7</th>\n",
       "      <td>2024-11-26 00:00:00+00:00</td>\n",
       "      <td>-1.25</td>\n",
       "      <td>0.0</td>\n",
       "      <td>11.570515</td>\n",
       "      <td>264.644257</td>\n",
       "      <td>helsinki</td>\n",
       "      <td>35.253021</td>\n",
       "      <td>kallio-2</td>\n",
       "      <td>finland</td>\n",
       "      <td>8</td>\n",
       "    </tr>\n",
       "    <tr>\n",
       "      <th>8</th>\n",
       "      <td>2024-11-27 00:00:00+00:00</td>\n",
       "      <td>-5.30</td>\n",
       "      <td>0.0</td>\n",
       "      <td>13.608762</td>\n",
       "      <td>322.523743</td>\n",
       "      <td>helsinki</td>\n",
       "      <td>25.617104</td>\n",
       "      <td>kallio-2</td>\n",
       "      <td>finland</td>\n",
       "      <td>9</td>\n",
       "    </tr>\n",
       "  </tbody>\n",
       "</table>\n",
       "</div>"
      ],
      "text/plain": [
       "                       date  temperature_2m_mean  precipitation_sum  \\\n",
       "2 2024-11-19 00:00:00+00:00                -0.45                0.0   \n",
       "5 2024-11-20 00:00:00+00:00                 1.10                0.4   \n",
       "6 2024-11-21 00:00:00+00:00                 3.20                0.5   \n",
       "4 2024-11-22 00:00:00+00:00                 0.10                0.0   \n",
       "0 2024-11-23 00:00:00+00:00                -1.40                0.0   \n",
       "3 2024-11-24 00:00:00+00:00                 2.30                0.0   \n",
       "1 2024-11-25 00:00:00+00:00                 2.65                0.2   \n",
       "7 2024-11-26 00:00:00+00:00                -1.25                0.0   \n",
       "8 2024-11-27 00:00:00+00:00                -5.30                0.0   \n",
       "\n",
       "   wind_speed_10m_max  wind_direction_10m_dominant       city  predicted_pm25  \\\n",
       "2            5.634891                   296.564972  helsinki        32.965927   \n",
       "5           28.883131                    67.270233  helsinki        17.579025   \n",
       "6           25.630886                   190.520737  helsinki        32.193653   \n",
       "4           18.709612                   239.981720  helsinki        23.959538   \n",
       "0           13.779114                   250.144699  helsinki        24.443619   \n",
       "3           18.430452                   167.592590  helsinki        36.235504   \n",
       "1           14.973576                   260.311279  helsinki        20.991081   \n",
       "7           11.570515                   264.644257  helsinki        35.253021   \n",
       "8           13.608762                   322.523743  helsinki        25.617104   \n",
       "\n",
       "     street  country  days_before_forecast_day  \n",
       "2  kallio-2  finland                         3  \n",
       "5  kallio-2  finland                         6  \n",
       "6  kallio-2  finland                         7  \n",
       "4  kallio-2  finland                         5  \n",
       "0  kallio-2  finland                         1  \n",
       "3  kallio-2  finland                         4  \n",
       "1  kallio-2  finland                         2  \n",
       "7  kallio-2  finland                         8  \n",
       "8  kallio-2  finland                         9  "
      ]
     },
     "execution_count": 31,
     "metadata": {},
     "output_type": "execute_result"
    }
   ],
   "source": [
    "batch_data['street'] = street\n",
    "batch_data['city'] = city\n",
    "batch_data['country'] = country\n",
    "# Fill in the number of days before the date on which you made the forecast (base_date)\n",
    "batch_data['days_before_forecast_day'] = range(1, len(batch_data)+1)\n",
    "batch_data = batch_data.sort_values(by=['date'])\n",
    "batch_data"
   ]
  },
  {
   "cell_type": "code",
   "execution_count": 32,
   "id": "00e6787b",
   "metadata": {},
   "outputs": [
    {
     "name": "stdout",
     "output_type": "stream",
     "text": [
      "<class 'pandas.core.frame.DataFrame'>\n",
      "Index: 9 entries, 2 to 8\n",
      "Data columns (total 10 columns):\n",
      " #   Column                       Non-Null Count  Dtype              \n",
      "---  ------                       --------------  -----              \n",
      " 0   date                         9 non-null      datetime64[us, UTC]\n",
      " 1   temperature_2m_mean          9 non-null      float32            \n",
      " 2   precipitation_sum            9 non-null      float32            \n",
      " 3   wind_speed_10m_max           9 non-null      float32            \n",
      " 4   wind_direction_10m_dominant  9 non-null      float32            \n",
      " 5   city                         9 non-null      object             \n",
      " 6   predicted_pm25               9 non-null      float32            \n",
      " 7   street                       9 non-null      object             \n",
      " 8   country                      9 non-null      object             \n",
      " 9   days_before_forecast_day     9 non-null      int64              \n",
      "dtypes: datetime64[us, UTC](1), float32(5), int64(1), object(3)\n",
      "memory usage: 612.0+ bytes\n"
     ]
    }
   ],
   "source": [
    "batch_data.info()"
   ]
  },
  {
   "cell_type": "markdown",
   "id": "6ff10c12",
   "metadata": {},
   "source": [
    "### Create Forecast Graph\n",
    "Draw a graph of the predictions with dates as a PNG and save it to the github repo\n",
    "Show it on github pages"
   ]
  },
  {
   "cell_type": "code",
   "execution_count": 33,
   "id": "9bb0f844",
   "metadata": {},
   "outputs": [
    {
     "name": "stdout",
     "output_type": "stream",
     "text": [
      "DataFrame columns:\n",
      "['date', 'temperature_2m_mean', 'precipitation_sum', 'wind_speed_10m_max', 'wind_direction_10m_dominant', 'city', 'predicted_pm25', 'street', 'country', 'days_before_forecast_day']\n",
      "\n",
      "First rows of DataFrame:\n",
      "                       date  temperature_2m_mean  precipitation_sum  \\\n",
      "2 2024-11-19 00:00:00+00:00                -0.45                0.0   \n",
      "5 2024-11-20 00:00:00+00:00                 1.10                0.4   \n",
      "6 2024-11-21 00:00:00+00:00                 3.20                0.5   \n",
      "4 2024-11-22 00:00:00+00:00                 0.10                0.0   \n",
      "0 2024-11-23 00:00:00+00:00                -1.40                0.0   \n",
      "\n",
      "   wind_speed_10m_max  wind_direction_10m_dominant       city  predicted_pm25  \\\n",
      "2            5.634891                   296.564972  helsinki        32.965927   \n",
      "5           28.883131                    67.270233  helsinki        17.579025   \n",
      "6           25.630886                   190.520737  helsinki        32.193653   \n",
      "4           18.709612                   239.981720  helsinki        23.959538   \n",
      "0           13.779114                   250.144699  helsinki        24.443619   \n",
      "\n",
      "     street  country  days_before_forecast_day  \n",
      "2  kallio-2  finland                         3  \n",
      "5  kallio-2  finland                         6  \n",
      "6  kallio-2  finland                         7  \n",
      "4  kallio-2  finland                         5  \n",
      "0  kallio-2  finland                         1  \n"
     ]
    },
    {
     "data": {
      "image/png": "[encoded data removed]",
      "text/plain": [
       "<Figure size 1000x600 with 1 Axes>"
      ]
     },
     "metadata": {},
     "output_type": "display_data"
    }
   ],
   "source": [
    "file_path = \"../../docs/air-quality/assets/img/pm25_forecast.png\"\n",
    "\n",
    "# Create directories if they don't exist\n",
    "directory = os.path.dirname(file_path)\n",
    "if not os.path.exists(directory):\n",
    "    os.makedirs(directory)\n",
    "\n",
    "# Check DataFrame columns\n",
    "print(\"DataFrame columns:\")\n",
    "print(batch_data.columns.tolist())\n",
    "\n",
    "# Display first few rows\n",
    "print(\"\\nFirst rows of DataFrame:\")\n",
    "print(batch_data.head())\n",
    "\n",
    "plt = util.plot_air_quality_forecast(city, street, batch_data, file_path)\n",
    "plt.show()"
   ]
  },
  {
   "cell_type": "code",
   "execution_count": 37,
   "id": "c418a791",
   "metadata": {},
   "outputs": [],
   "source": [
    "# Get or create feature group\n",
    "monitor_fg = fs.get_or_create_feature_group(\n",
    "    name='aq_predictions',\n",
    "    description='Air Quality prediction monitoring',\n",
    "    version=1,\n",
    "    primary_key=['city','street','date','days_before_forecast_day'],\n",
    "    event_time=\"date\"\n",
    ")"
   ]
  },
  {
   "cell_type": "code",
   "execution_count": 38,
   "id": "8992650a",
   "metadata": {},
   "outputs": [
    {
     "data": {
      "application/vnd.jupyter.widget-view+json": {
       "model_id": "501492d258fb420895f1105c34c34b53",
       "version_major": 2,
       "version_minor": 0
      },
      "text/plain": [
       "Uploading Dataframe: 0.00% |          | Rows 0/9 | Elapsed Time: 00:00 | Remaining Time: ?"
      ]
     },
     "metadata": {},
     "output_type": "display_data"
    },
    {
     "name": "stdout",
     "output_type": "stream",
     "text": [
      "Launching job: aq_predictions_1_offline_fg_materialization\n",
      "Job started successfully, you can follow the progress at \n",
      "https://c.app.hopsworks.ai/p/1164445/jobs/named/aq_predictions_1_offline_fg_materialization/executions\n"
     ]
    },
    {
     "data": {
      "text/plain": [
       "(<hsfs.core.job.Job at 0x7fa415dc8a00>, None)"
      ]
     },
     "execution_count": 38,
     "metadata": {},
     "output_type": "execute_result"
    }
   ],
   "source": [
    "monitor_fg.insert(batch_data, write_options={\"wait_for_job\": True})"
   ]
  },
  {
   "cell_type": "code",
   "execution_count": 39,
   "id": "aa2c1b07",
   "metadata": {},
   "outputs": [
    {
     "name": "stdout",
     "output_type": "stream",
     "text": [
      "Finished: Reading data from Hopsworks, using Hopsworks Feature Query Service (4.07s) \n"
     ]
    },
    {
     "data": {
      "text/html": [
       "<div>\n",
       "<style scoped>\n",
       "    .dataframe tbody tr th:only-of-type {\n",
       "        vertical-align: middle;\n",
       "    }\n",
       "\n",
       "    .dataframe tbody tr th {\n",
       "        vertical-align: top;\n",
       "    }\n",
       "\n",
       "    .dataframe thead th {\n",
       "        text-align: right;\n",
       "    }\n",
       "</style>\n",
       "<table border=\"1\" class=\"dataframe\">\n",
       "  <thead>\n",
       "    <tr style=\"text-align: right;\">\n",
       "      <th></th>\n",
       "      <th>date</th>\n",
       "      <th>temperature_2m_mean</th>\n",
       "      <th>precipitation_sum</th>\n",
       "      <th>wind_speed_10m_max</th>\n",
       "      <th>wind_direction_10m_dominant</th>\n",
       "      <th>city</th>\n",
       "      <th>predicted_pm25</th>\n",
       "      <th>street</th>\n",
       "      <th>country</th>\n",
       "      <th>days_before_forecast_day</th>\n",
       "    </tr>\n",
       "  </thead>\n",
       "  <tbody>\n",
       "    <tr>\n",
       "      <th>0</th>\n",
       "      <td>2024-11-23 00:00:00+00:00</td>\n",
       "      <td>-1.40</td>\n",
       "      <td>0.0</td>\n",
       "      <td>13.779114</td>\n",
       "      <td>250.144699</td>\n",
       "      <td>helsinki</td>\n",
       "      <td>24.443619</td>\n",
       "      <td>kallio-2</td>\n",
       "      <td>finland</td>\n",
       "      <td>1</td>\n",
       "    </tr>\n",
       "    <tr>\n",
       "      <th>1</th>\n",
       "      <td>2024-11-16 00:00:00+00:00</td>\n",
       "      <td>9.55</td>\n",
       "      <td>0.0</td>\n",
       "      <td>30.261421</td>\n",
       "      <td>237.633377</td>\n",
       "      <td>helsinki</td>\n",
       "      <td>28.583731</td>\n",
       "      <td>kallio-2</td>\n",
       "      <td>finland</td>\n",
       "      <td>1</td>\n",
       "    </tr>\n",
       "  </tbody>\n",
       "</table>\n",
       "</div>"
      ],
      "text/plain": [
       "                       date  temperature_2m_mean  precipitation_sum  \\\n",
       "0 2024-11-23 00:00:00+00:00                -1.40                0.0   \n",
       "1 2024-11-16 00:00:00+00:00                 9.55                0.0   \n",
       "\n",
       "   wind_speed_10m_max  wind_direction_10m_dominant       city  predicted_pm25  \\\n",
       "0           13.779114                   250.144699  helsinki        24.443619   \n",
       "1           30.261421                   237.633377  helsinki        28.583731   \n",
       "\n",
       "     street  country  days_before_forecast_day  \n",
       "0  kallio-2  finland                         1  \n",
       "1  kallio-2  finland                         1  "
      ]
     },
     "execution_count": 39,
     "metadata": {},
     "output_type": "execute_result"
    }
   ],
   "source": [
    "# We will create a hindcast chart for  only the forecasts made 1 day beforehand\n",
    "monitoring_df = monitor_fg.filter(monitor_fg.days_before_forecast_day == 1).read()\n",
    "monitoring_df"
   ]
  },
  {
   "cell_type": "code",
   "execution_count": 41,
   "id": "8c3ff020",
   "metadata": {},
   "outputs": [
    {
     "name": "stdout",
     "output_type": "stream",
     "text": [
      "Finished: Reading data from Hopsworks, using Hopsworks Feature Query Service (1.29s) \n"
     ]
    },
    {
     "data": {
      "text/html": [
       "<div>\n",
       "<style scoped>\n",
       "    .dataframe tbody tr th:only-of-type {\n",
       "        vertical-align: middle;\n",
       "    }\n",
       "\n",
       "    .dataframe tbody tr th {\n",
       "        vertical-align: top;\n",
       "    }\n",
       "\n",
       "    .dataframe thead th {\n",
       "        text-align: right;\n",
       "    }\n",
       "</style>\n",
       "<table border=\"1\" class=\"dataframe\">\n",
       "  <thead>\n",
       "    <tr style=\"text-align: right;\">\n",
       "      <th></th>\n",
       "      <th>date</th>\n",
       "      <th>pm25</th>\n",
       "      <th>country</th>\n",
       "      <th>city</th>\n",
       "      <th>street</th>\n",
       "      <th>url</th>\n",
       "    </tr>\n",
       "  </thead>\n",
       "  <tbody>\n",
       "    <tr>\n",
       "      <th>0</th>\n",
       "      <td>2019-12-27 00:00:00+00:00</td>\n",
       "      <td>23.0</td>\n",
       "      <td>finland</td>\n",
       "      <td>helsinki</td>\n",
       "      <td>kallio-2</td>\n",
       "      <td>https://api.waqi.info/feed/@5717</td>\n",
       "    </tr>\n",
       "    <tr>\n",
       "      <th>1</th>\n",
       "      <td>2019-01-25 00:00:00+00:00</td>\n",
       "      <td>26.0</td>\n",
       "      <td>finland</td>\n",
       "      <td>helsinki</td>\n",
       "      <td>kallio-2</td>\n",
       "      <td>https://api.waqi.info/feed/@5717</td>\n",
       "    </tr>\n",
       "    <tr>\n",
       "      <th>2</th>\n",
       "      <td>2016-07-03 00:00:00+00:00</td>\n",
       "      <td>26.0</td>\n",
       "      <td>finland</td>\n",
       "      <td>helsinki</td>\n",
       "      <td>kallio-2</td>\n",
       "      <td>https://api.waqi.info/feed/@5717</td>\n",
       "    </tr>\n",
       "    <tr>\n",
       "      <th>3</th>\n",
       "      <td>2015-08-07 00:00:00+00:00</td>\n",
       "      <td>23.0</td>\n",
       "      <td>finland</td>\n",
       "      <td>helsinki</td>\n",
       "      <td>kallio-2</td>\n",
       "      <td>https://api.waqi.info/feed/@5717</td>\n",
       "    </tr>\n",
       "    <tr>\n",
       "      <th>4</th>\n",
       "      <td>2015-07-18 00:00:00+00:00</td>\n",
       "      <td>25.0</td>\n",
       "      <td>finland</td>\n",
       "      <td>helsinki</td>\n",
       "      <td>kallio-2</td>\n",
       "      <td>https://api.waqi.info/feed/@5717</td>\n",
       "    </tr>\n",
       "    <tr>\n",
       "      <th>...</th>\n",
       "      <td>...</td>\n",
       "      <td>...</td>\n",
       "      <td>...</td>\n",
       "      <td>...</td>\n",
       "      <td>...</td>\n",
       "      <td>...</td>\n",
       "    </tr>\n",
       "    <tr>\n",
       "      <th>3794</th>\n",
       "      <td>2018-09-10 00:00:00+00:00</td>\n",
       "      <td>33.0</td>\n",
       "      <td>finland</td>\n",
       "      <td>helsinki</td>\n",
       "      <td>kallio-2</td>\n",
       "      <td>https://api.waqi.info/feed/@5717</td>\n",
       "    </tr>\n",
       "    <tr>\n",
       "      <th>3795</th>\n",
       "      <td>2021-10-16 00:00:00+00:00</td>\n",
       "      <td>8.0</td>\n",
       "      <td>finland</td>\n",
       "      <td>helsinki</td>\n",
       "      <td>kallio-2</td>\n",
       "      <td>https://api.waqi.info/feed/@5717</td>\n",
       "    </tr>\n",
       "    <tr>\n",
       "      <th>3796</th>\n",
       "      <td>2015-12-04 00:00:00+00:00</td>\n",
       "      <td>10.0</td>\n",
       "      <td>finland</td>\n",
       "      <td>helsinki</td>\n",
       "      <td>kallio-2</td>\n",
       "      <td>https://api.waqi.info/feed/@5717</td>\n",
       "    </tr>\n",
       "    <tr>\n",
       "      <th>3797</th>\n",
       "      <td>2024-11-16 00:00:00+00:00</td>\n",
       "      <td>11.0</td>\n",
       "      <td>finland</td>\n",
       "      <td>helsinki</td>\n",
       "      <td>kallio-2</td>\n",
       "      <td>https://api.waqi.info/feed/@5717</td>\n",
       "    </tr>\n",
       "    <tr>\n",
       "      <th>3798</th>\n",
       "      <td>2024-11-18 00:00:00+00:00</td>\n",
       "      <td>10.0</td>\n",
       "      <td>finland</td>\n",
       "      <td>helsinki</td>\n",
       "      <td>kallio-2</td>\n",
       "      <td>https://api.waqi.info/feed/@5717</td>\n",
       "    </tr>\n",
       "  </tbody>\n",
       "</table>\n",
       "<p>3799 rows × 6 columns</p>\n",
       "</div>"
      ],
      "text/plain": [
       "                          date  pm25  country       city    street  \\\n",
       "0    2019-12-27 00:00:00+00:00  23.0  finland  helsinki   kallio-2   \n",
       "1    2019-01-25 00:00:00+00:00  26.0  finland  helsinki   kallio-2   \n",
       "2    2016-07-03 00:00:00+00:00  26.0  finland  helsinki   kallio-2   \n",
       "3    2015-08-07 00:00:00+00:00  23.0  finland  helsinki   kallio-2   \n",
       "4    2015-07-18 00:00:00+00:00  25.0  finland  helsinki   kallio-2   \n",
       "...                        ...   ...      ...        ...       ...   \n",
       "3794 2018-09-10 00:00:00+00:00  33.0  finland  helsinki   kallio-2   \n",
       "3795 2021-10-16 00:00:00+00:00   8.0  finland  helsinki   kallio-2   \n",
       "3796 2015-12-04 00:00:00+00:00  10.0  finland  helsinki   kallio-2   \n",
       "3797 2024-11-16 00:00:00+00:00  11.0  finland  helsinki   kallio-2   \n",
       "3798 2024-11-18 00:00:00+00:00  10.0  finland  helsinki   kallio-2   \n",
       "\n",
       "                                   url  \n",
       "0     https://api.waqi.info/feed/@5717  \n",
       "1     https://api.waqi.info/feed/@5717  \n",
       "2     https://api.waqi.info/feed/@5717  \n",
       "3     https://api.waqi.info/feed/@5717  \n",
       "4     https://api.waqi.info/feed/@5717  \n",
       "...                                ...  \n",
       "3794  https://api.waqi.info/feed/@5717  \n",
       "3795  https://api.waqi.info/feed/@5717  \n",
       "3796  https://api.waqi.info/feed/@5717  \n",
       "3797  https://api.waqi.info/feed/@5717  \n",
       "3798  https://api.waqi.info/feed/@5717  \n",
       "\n",
       "[3799 rows x 6 columns]"
      ]
     },
     "execution_count": 41,
     "metadata": {},
     "output_type": "execute_result"
    }
   ],
   "source": [
    "air_quality_fg = fs.get_feature_group(\n",
    "    name='air_quality',\n",
    "    version=1,\n",
    ")\n",
    "air_quality_df = air_quality_fg.read()\n",
    "air_quality_df"
   ]
  },
  {
   "cell_type": "code",
   "execution_count": 42,
   "id": "6763f180",
   "metadata": {},
   "outputs": [
    {
     "data": {
      "text/html": [
       "<div>\n",
       "<style scoped>\n",
       "    .dataframe tbody tr th:only-of-type {\n",
       "        vertical-align: middle;\n",
       "    }\n",
       "\n",
       "    .dataframe tbody tr th {\n",
       "        vertical-align: top;\n",
       "    }\n",
       "\n",
       "    .dataframe thead th {\n",
       "        text-align: right;\n",
       "    }\n",
       "</style>\n",
       "<table border=\"1\" class=\"dataframe\">\n",
       "  <thead>\n",
       "    <tr style=\"text-align: right;\">\n",
       "      <th></th>\n",
       "      <th>date</th>\n",
       "      <th>predicted_pm25</th>\n",
       "      <th>pm25</th>\n",
       "    </tr>\n",
       "  </thead>\n",
       "  <tbody>\n",
       "    <tr>\n",
       "      <th>0</th>\n",
       "      <td>2024-11-16 00:00:00+00:00</td>\n",
       "      <td>28.583731</td>\n",
       "      <td>11.0</td>\n",
       "    </tr>\n",
       "  </tbody>\n",
       "</table>\n",
       "</div>"
      ],
      "text/plain": [
       "                       date  predicted_pm25  pm25\n",
       "0 2024-11-16 00:00:00+00:00       28.583731  11.0"
      ]
     },
     "execution_count": 42,
     "metadata": {},
     "output_type": "execute_result"
    }
   ],
   "source": [
    "outcome_df = air_quality_df[['date', 'pm25']]\n",
    "preds_df =  monitoring_df[['date', 'predicted_pm25']]\n",
    "\n",
    "hindcast_df = pd.merge(preds_df, outcome_df, on=\"date\")\n",
    "hindcast_df = hindcast_df.sort_values(by=['date'])\n",
    "\n",
    "# If there are no outcomes for predictions yet, generate some predictions/outcomes from existing data\n",
    "if len(hindcast_df) == 0:\n",
    "    hindcast_df = util.backfill_predictions_for_monitoring(weather_fg, air_quality_df, monitor_fg, retrieved_xgboost_model)\n",
    "hindcast_df"
   ]
  },
  {
   "cell_type": "markdown",
   "id": "9edb1552",
   "metadata": {},
   "source": [
    "### Plot the Hindcast comparing predicted with forecasted values (1-day prior forecast)\n",
    "\n",
    "__This graph will be empty to begin with - this is normal.__\n",
    "\n",
    "After a few days of predictions and observations, you will get data points in this graph."
   ]
  },
  {
   "cell_type": "code",
   "execution_count": 43,
   "id": "31e62393",
   "metadata": {},
   "outputs": [
    {
     "data": {
      "image/png": "[encoded data removed]",
      "text/plain": [
       "<Figure size 1000x600 with 1 Axes>"
      ]
     },
     "metadata": {},
     "output_type": "display_data"
    }
   ],
   "source": [
    "file_path = \"../../docs/air-quality/assets/img/pm25_hindcast_1day.png\"\n",
    "plt = util.plot_air_quality_forecast(city, street, hindcast_df, file_path, hindcast=True)\n",
    "plt.show()"
   ]
  },
  {
   "cell_type": "markdown",
   "id": "c29eb549",
   "metadata": {},
   "source": [
    "---"
   ]
  }
 ],
 "metadata": {
  "kernelspec": {
   "display_name": "Python 3 (ipykernel)",
   "language": "python",
   "name": "python3"
  },
  "language_info": {
   "codemirror_mode": {
    "name": "ipython",
    "version": 3
   },
   "file_extension": ".py",
   "mimetype": "text/x-python",
   "name": "python",
   "nbconvert_exporter": "python",
   "pygments_lexer": "ipython3",
   "version": "3.8.8"
  }
 },
 "nbformat": 4,
 "nbformat_minor": 5
}
