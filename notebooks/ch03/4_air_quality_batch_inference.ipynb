{
 "cells": [
  {
   "cell_type": "markdown",
   "id": "f16b7819",
   "metadata": {},
   "source": [
    "# <span style=\"font-width:bold; font-size: 3rem; color:#1EB182;\"> **Air Quality** </span><span style=\"font-width:bold; font-size: 3rem; color:#333;\">- Part 04: Batch Inference</span>\n",
    "\n",
    "## 🗒️ This notebook is divided into the following sections:\n",
    "\n",
    "1. Download model and batch inference data\n",
    "2. Make predictions, generate PNG for forecast\n",
    "3. Store predictions in a monitoring feature group adn generate PNG for hindcast"
   ]
  },
  {
   "cell_type": "markdown",
   "id": "49a84ee9",
   "metadata": {},
   "source": [
    "## <span style='color:#ff5f27'> 📝 Imports"
   ]
  },
  {
   "cell_type": "code",
   "execution_count": 1,
   "id": "1f430c88",
   "metadata": {},
   "outputs": [
    {
     "name": "stdout",
     "output_type": "stream",
     "text": [
      "2024-11-20 16:45:45,698 WARNING: DeprecationWarning: distutils Version classes are deprecated. Use packaging.version instead.\n",
      "\n",
      "2024-11-20 16:45:45,699 WARNING: DeprecationWarning: distutils Version classes are deprecated. Use packaging.version instead.\n",
      "\n"
     ]
    }
   ],
   "source": [
    "import datetime\n",
    "import pandas as pd\n",
    "from xgboost import XGBRegressor\n",
    "import hopsworks\n",
    "import json\n",
    "from functions import util\n",
    "import os\n",
    "import numpy as np"
   ]
  },
  {
   "cell_type": "code",
   "execution_count": 2,
   "id": "bcfd27c1",
   "metadata": {},
   "outputs": [
    {
     "data": {
      "text/plain": [
       "datetime.datetime(2024, 11, 20, 16, 45, 46, 558184)"
      ]
     },
     "execution_count": 2,
     "metadata": {},
     "output_type": "execute_result"
    }
   ],
   "source": [
    "today = datetime.datetime.now() - datetime.timedelta(0)\n",
    "tomorrow = today + datetime.timedelta(days = 1)\n",
    "today"
   ]
  },
  {
   "cell_type": "markdown",
   "id": "4e91e99d",
   "metadata": {},
   "source": [
    "## <span style=\"color:#ff5f27;\"> 📡 Connect to Hopsworks Feature Store </span>"
   ]
  },
  {
   "cell_type": "code",
   "execution_count": 3,
   "id": "74a2c243",
   "metadata": {},
   "outputs": [
    {
     "name": "stdout",
     "output_type": "stream",
     "text": [
      "Connected. Call `.close()` to terminate connection gracefully.\n",
      "\n",
      "Logged in to project, explore it here https://c.app.hopsworks.ai:443/p/1164445\n",
      "2024-11-20 16:45:48,126 WARNING: DeprecationWarning: the imp module is deprecated in favour of importlib; see the module's documentation for alternative uses\n",
      "\n",
      "Connected. Call `.close()` to terminate connection gracefully.\n",
      "Connected. Call `.close()` to terminate connection gracefully.\n"
     ]
    }
   ],
   "source": [
    "with open('../../data/hopsworks-api-key.txt', 'r') as file:\n",
    "    os.environ[\"HOPSWORKS_API_KEY\"] = file.read().rstrip()\n",
    "project = hopsworks.login()\n",
    "fs = project.get_feature_store() \n",
    "\n",
    "secrets = util.secrets_api(project.name)\n",
    "location_str = secrets.get_secret(\"SENSOR_LOCATION_JSON\").value\n",
    "location = json.loads(location_str)\n",
    "country=location['country']\n",
    "city=location['city']\n",
    "street=location['street']"
   ]
  },
  {
   "cell_type": "markdown",
   "id": "4f138859",
   "metadata": {},
   "source": [
    "## <span style=\"color:#ff5f27;\"> ⚙️ Feature View Retrieval</span>\n"
   ]
  },
  {
   "cell_type": "code",
   "execution_count": 4,
   "id": "114b8e87",
   "metadata": {},
   "outputs": [],
   "source": [
    "feature_view = fs.get_feature_view(\n",
    "    name='air_quality_fv',\n",
    "    version=4,\n",
    ")"
   ]
  },
  {
   "cell_type": "markdown",
   "id": "4cead441",
   "metadata": {},
   "source": [
    "## <span style=\"color:#ff5f27;\">🪝 Download the model from Model Registry</span>"
   ]
  },
  {
   "cell_type": "code",
   "execution_count": 5,
   "id": "c6d70a2f",
   "metadata": {},
   "outputs": [
    {
     "name": "stdout",
     "output_type": "stream",
     "text": [
      "Connected. Call `.close()` to terminate connection gracefully.\n",
      "Downloading model artifact (2 dirs, 6 files)... DONE\r"
     ]
    }
   ],
   "source": [
    "mr = project.get_model_registry()\n",
    "\n",
    "retrieved_model = mr.get_model(\n",
    "    name=\"air_quality_xgboost_model_with_lagged_data\",\n",
    "    version=1,\n",
    ")\n",
    "\n",
    "# Download the saved model artifacts to a local directory\n",
    "saved_model_dir = retrieved_model.download()"
   ]
  },
  {
   "cell_type": "code",
   "execution_count": 6,
   "id": "a6cf6c06",
   "metadata": {},
   "outputs": [
    {
     "data": {
      "text/plain": [
       "XGBRegressor(base_score='2.327862E1', booster='gbtree', callbacks=None,\n",
       "             colsample_bylevel=None, colsample_bynode=None,\n",
       "             colsample_bytree=None, device=None, early_stopping_rounds=None,\n",
       "             enable_categorical=False, eval_metric=None,\n",
       "             feature_types=['float', 'float', 'float', 'float', 'float',\n",
       "                            'float', 'float'],\n",
       "             gamma=None, grow_policy=None, importance_type=None,\n",
       "             interaction_constraints=None, learning_rate=None, max_bin=None,\n",
       "             max_cat_threshold=None, max_cat_to_onehot=None,\n",
       "             max_delta_step=None, max_depth=None, max_leaves=None,\n",
       "             min_child_weight=None, missing=nan, monotone_constraints=None,\n",
       "             multi_strategy=None, n_estimators=None, n_jobs=None,\n",
       "             num_parallel_tree=None, random_state=None, ...)"
      ]
     },
     "execution_count": 6,
     "metadata": {},
     "output_type": "execute_result"
    }
   ],
   "source": [
    "# Loading the XGBoost regressor model and label encoder from the saved model directory\n",
    "# retrieved_xgboost_model = joblib.load(saved_model_dir + \"/xgboost_regressor.pkl\")\n",
    "retrieved_xgboost_model = XGBRegressor()\n",
    "\n",
    "retrieved_xgboost_model.load_model(saved_model_dir + \"/model.json\")\n",
    "\n",
    "# Displaying the retrieved XGBoost regressor model\n",
    "retrieved_xgboost_model"
   ]
  },
  {
   "cell_type": "markdown",
   "id": "43ad941a",
   "metadata": {},
   "source": [
    "## <span style=\"color:#ff5f27;\">✨ Get Weather Forecast Features with Feature Group   </span>\n",
    "\n"
   ]
  },
  {
   "cell_type": "code",
   "execution_count": 7,
   "id": "aaacae3c",
   "metadata": {},
   "outputs": [
    {
     "name": "stdout",
     "output_type": "stream",
     "text": [
      "Finished: Reading data from Hopsworks, using Hopsworks Feature Query Service (0.88s) \n"
     ]
    },
    {
     "data": {
      "text/html": [
       "<div>\n",
       "<style scoped>\n",
       "    .dataframe tbody tr th:only-of-type {\n",
       "        vertical-align: middle;\n",
       "    }\n",
       "\n",
       "    .dataframe tbody tr th {\n",
       "        vertical-align: top;\n",
       "    }\n",
       "\n",
       "    .dataframe thead th {\n",
       "        text-align: right;\n",
       "    }\n",
       "</style>\n",
       "<table border=\"1\" class=\"dataframe\">\n",
       "  <thead>\n",
       "    <tr style=\"text-align: right;\">\n",
       "      <th></th>\n",
       "      <th>date</th>\n",
       "      <th>temperature_2m_mean</th>\n",
       "      <th>precipitation_sum</th>\n",
       "      <th>wind_speed_10m_max</th>\n",
       "      <th>wind_direction_10m_dominant</th>\n",
       "      <th>city</th>\n",
       "    </tr>\n",
       "  </thead>\n",
       "  <tbody>\n",
       "    <tr>\n",
       "      <th>0</th>\n",
       "      <td>2024-11-23 00:00:00+00:00</td>\n",
       "      <td>0.40</td>\n",
       "      <td>0.0</td>\n",
       "      <td>13.397612</td>\n",
       "      <td>239.300354</td>\n",
       "      <td>helsinki</td>\n",
       "    </tr>\n",
       "    <tr>\n",
       "      <th>1</th>\n",
       "      <td>2024-11-25 00:00:00+00:00</td>\n",
       "      <td>6.15</td>\n",
       "      <td>0.1</td>\n",
       "      <td>29.620802</td>\n",
       "      <td>200.637634</td>\n",
       "      <td>helsinki</td>\n",
       "    </tr>\n",
       "    <tr>\n",
       "      <th>2</th>\n",
       "      <td>2024-11-24 00:00:00+00:00</td>\n",
       "      <td>-1.00</td>\n",
       "      <td>0.0</td>\n",
       "      <td>6.763786</td>\n",
       "      <td>244.798904</td>\n",
       "      <td>helsinki</td>\n",
       "    </tr>\n",
       "    <tr>\n",
       "      <th>3</th>\n",
       "      <td>2024-11-22 00:00:00+00:00</td>\n",
       "      <td>-1.50</td>\n",
       "      <td>0.1</td>\n",
       "      <td>19.008547</td>\n",
       "      <td>245.376450</td>\n",
       "      <td>helsinki</td>\n",
       "    </tr>\n",
       "    <tr>\n",
       "      <th>4</th>\n",
       "      <td>2024-11-21 00:00:00+00:00</td>\n",
       "      <td>2.35</td>\n",
       "      <td>0.3</td>\n",
       "      <td>31.700449</td>\n",
       "      <td>195.141037</td>\n",
       "      <td>helsinki</td>\n",
       "    </tr>\n",
       "    <tr>\n",
       "      <th>5</th>\n",
       "      <td>2024-11-26 00:00:00+00:00</td>\n",
       "      <td>8.30</td>\n",
       "      <td>0.1</td>\n",
       "      <td>26.089443</td>\n",
       "      <td>230.599365</td>\n",
       "      <td>helsinki</td>\n",
       "    </tr>\n",
       "    <tr>\n",
       "      <th>6</th>\n",
       "      <td>2024-11-27 00:00:00+00:00</td>\n",
       "      <td>1.10</td>\n",
       "      <td>0.0</td>\n",
       "      <td>9.290511</td>\n",
       "      <td>305.537750</td>\n",
       "      <td>helsinki</td>\n",
       "    </tr>\n",
       "    <tr>\n",
       "      <th>7</th>\n",
       "      <td>2024-11-28 00:00:00+00:00</td>\n",
       "      <td>2.50</td>\n",
       "      <td>0.0</td>\n",
       "      <td>16.418526</td>\n",
       "      <td>254.744827</td>\n",
       "      <td>helsinki</td>\n",
       "    </tr>\n",
       "    <tr>\n",
       "      <th>8</th>\n",
       "      <td>2024-11-29 00:00:00+00:00</td>\n",
       "      <td>1.60</td>\n",
       "      <td>0.0</td>\n",
       "      <td>15.496736</td>\n",
       "      <td>267.337036</td>\n",
       "      <td>helsinki</td>\n",
       "    </tr>\n",
       "  </tbody>\n",
       "</table>\n",
       "</div>"
      ],
      "text/plain": [
       "                       date  temperature_2m_mean  precipitation_sum  \\\n",
       "0 2024-11-23 00:00:00+00:00                 0.40                0.0   \n",
       "1 2024-11-25 00:00:00+00:00                 6.15                0.1   \n",
       "2 2024-11-24 00:00:00+00:00                -1.00                0.0   \n",
       "3 2024-11-22 00:00:00+00:00                -1.50                0.1   \n",
       "4 2024-11-21 00:00:00+00:00                 2.35                0.3   \n",
       "5 2024-11-26 00:00:00+00:00                 8.30                0.1   \n",
       "6 2024-11-27 00:00:00+00:00                 1.10                0.0   \n",
       "7 2024-11-28 00:00:00+00:00                 2.50                0.0   \n",
       "8 2024-11-29 00:00:00+00:00                 1.60                0.0   \n",
       "\n",
       "   wind_speed_10m_max  wind_direction_10m_dominant       city  \n",
       "0           13.397612                   239.300354  helsinki   \n",
       "1           29.620802                   200.637634  helsinki   \n",
       "2            6.763786                   244.798904  helsinki   \n",
       "3           19.008547                   245.376450  helsinki   \n",
       "4           31.700449                   195.141037  helsinki   \n",
       "5           26.089443                   230.599365  helsinki   \n",
       "6            9.290511                   305.537750  helsinki   \n",
       "7           16.418526                   254.744827  helsinki   \n",
       "8           15.496736                   267.337036  helsinki   "
      ]
     },
     "execution_count": 7,
     "metadata": {},
     "output_type": "execute_result"
    }
   ],
   "source": [
    "weather_fg = fs.get_feature_group(\n",
    "    name='weather',\n",
    "    version=1,\n",
    ")\n",
    "batch_data = weather_fg.filter(weather_fg.date >= today).read()\n",
    "batch_data"
   ]
  },
  {
   "cell_type": "markdown",
   "id": "804e4491",
   "metadata": {},
   "source": [
    "### <span style=\"color:#ff5f27;\">🤖 Making the predictions</span>"
   ]
  },
  {
   "cell_type": "code",
   "execution_count": 15,
   "id": "4566b635",
   "metadata": {},
   "outputs": [
    {
     "name": "stdout",
     "output_type": "stream",
     "text": [
      "Finished: Reading data from Hopsworks, using Hopsworks Feature Query Service (1.12s) \n",
      "<class 'numpy.float32'>\n"
     ]
    }
   ],
   "source": [
    "# Get air_quality data\n",
    "air_quality_fg = fs.get_feature_group(\n",
    "   name='air_quality',\n",
    "   version=2,\n",
    ")\n",
    "historical_data = air_quality_fg.select_all().read()\n",
    "# Remove timezone info\n",
    "historical_data['date'] = pd.to_datetime(historical_data['date']).dt.tz_localize(None)\n",
    "batch_data['date'] = pd.to_datetime(batch_data['date']).dt.tz_localize(None)\n",
    "\n",
    "# Sort batch_data\n",
    "batch_data = batch_data.sort_values('date').reset_index(drop=True)\n",
    "\n",
    "float_columns = batch_data.select_dtypes(include=['float64']).columns\n",
    "batch_data[float_columns] = batch_data[float_columns].astype('float32')\n",
    "\n",
    "# Get the last 3 days data\n",
    "last_3_pm25 = list(historical_data.tail(3)['pm25'])\n",
    "last_3_pm25.reverse()  \n",
    "\n",
    "# Set the lagged value of the first day\n",
    "batch_data.at[0, 'pm25_lag_1'] = last_3_pm25[0]\n",
    "batch_data.at[0, 'pm25_lag_2'] = last_3_pm25[1]\n",
    "batch_data.at[0, 'pm25_lag_3'] = last_3_pm25[2]\n",
    "print(type(batch_data.at[0, 'pm25_lag_3']))\n",
    "\n",
    "for i in range(len(batch_data)):\n",
    "   # feature of each row\n",
    "   features = [\n",
    "       batch_data.at[i, 'pm25_lag_1'],\n",
    "       batch_data.at[i, 'pm25_lag_2'], \n",
    "       batch_data.at[i, 'pm25_lag_3'],\n",
    "       batch_data.at[i, 'temperature_2m_mean'],\n",
    "       batch_data.at[i, 'precipitation_sum'],\n",
    "       batch_data.at[i, 'wind_speed_10m_max'],\n",
    "       batch_data.at[i, 'wind_direction_10m_dominant']\n",
    "   ]\n",
    "   \n",
    "   # Predict Current Rows\n",
    "   pred = retrieved_xgboost_model.predict([features])[0]\n",
    "   batch_data.at[i, 'predicted_pm25'] = pred\n",
    "   \n",
    "   # update lagged data\n",
    "   if i < len(batch_data) - 1:\n",
    "       batch_data.at[i+1, 'pm25_lag_1'] = pred\n",
    "       batch_data.at[i+1, 'pm25_lag_2'] = batch_data.at[i, 'pm25_lag_1']\n",
    "       batch_data.at[i+1, 'pm25_lag_3'] = batch_data.at[i, 'pm25_lag_2']"
   ]
  },
  {
   "cell_type": "code",
   "execution_count": 16,
   "id": "95d78ba2",
   "metadata": {},
   "outputs": [
    {
     "name": "stdout",
     "output_type": "stream",
     "text": [
      "<class 'pandas.core.frame.DataFrame'>\n",
      "RangeIndex: 9 entries, 0 to 8\n",
      "Data columns (total 13 columns):\n",
      " #   Column                       Non-Null Count  Dtype         \n",
      "---  ------                       --------------  -----         \n",
      " 0   date                         9 non-null      datetime64[us]\n",
      " 1   temperature_2m_mean          9 non-null      float32       \n",
      " 2   precipitation_sum            9 non-null      float32       \n",
      " 3   wind_speed_10m_max           9 non-null      float32       \n",
      " 4   wind_direction_10m_dominant  9 non-null      float32       \n",
      " 5   city                         9 non-null      object        \n",
      " 6   pm25_lag_1                   9 non-null      float32       \n",
      " 7   pm25_lag_2                   9 non-null      float32       \n",
      " 8   pm25_lag_3                   9 non-null      float32       \n",
      " 9   predicted_pm25               9 non-null      float32       \n",
      " 10  street                       9 non-null      object        \n",
      " 11  country                      9 non-null      object        \n",
      " 12  days_before_forecast_day     9 non-null      int64         \n",
      "dtypes: datetime64[us](1), float32(8), int64(1), object(3)\n",
      "memory usage: 776.0+ bytes\n"
     ]
    }
   ],
   "source": [
    "batch_data.info()"
   ]
  },
  {
   "cell_type": "markdown",
   "id": "d23e2b0a",
   "metadata": {},
   "source": [
    "### <span style=\"color:#ff5f27;\">🤖 Saving the predictions (for monitoring) to a Feature Group</span>"
   ]
  },
  {
   "cell_type": "code",
   "execution_count": 26,
   "id": "9d5d9436",
   "metadata": {},
   "outputs": [
    {
     "data": {
      "text/html": [
       "<div>\n",
       "<style scoped>\n",
       "    .dataframe tbody tr th:only-of-type {\n",
       "        vertical-align: middle;\n",
       "    }\n",
       "\n",
       "    .dataframe tbody tr th {\n",
       "        vertical-align: top;\n",
       "    }\n",
       "\n",
       "    .dataframe thead th {\n",
       "        text-align: right;\n",
       "    }\n",
       "</style>\n",
       "<table border=\"1\" class=\"dataframe\">\n",
       "  <thead>\n",
       "    <tr style=\"text-align: right;\">\n",
       "      <th></th>\n",
       "      <th>date</th>\n",
       "      <th>temperature_2m_mean</th>\n",
       "      <th>precipitation_sum</th>\n",
       "      <th>wind_speed_10m_max</th>\n",
       "      <th>wind_direction_10m_dominant</th>\n",
       "      <th>city</th>\n",
       "      <th>pm25_lag_1</th>\n",
       "      <th>pm25_lag_2</th>\n",
       "      <th>pm25_lag_3</th>\n",
       "      <th>predicted_pm25</th>\n",
       "      <th>street</th>\n",
       "      <th>country</th>\n",
       "      <th>days_before_forecast_day</th>\n",
       "    </tr>\n",
       "  </thead>\n",
       "  <tbody>\n",
       "    <tr>\n",
       "      <th>0</th>\n",
       "      <td>2024-11-21</td>\n",
       "      <td>2.35</td>\n",
       "      <td>0.3</td>\n",
       "      <td>31.700449</td>\n",
       "      <td>195.141037</td>\n",
       "      <td>helsinki</td>\n",
       "      <td>39.000000</td>\n",
       "      <td>10.000000</td>\n",
       "      <td>8.000000</td>\n",
       "      <td>50.154602</td>\n",
       "      <td>kallio-2</td>\n",
       "      <td>finland</td>\n",
       "      <td>1</td>\n",
       "    </tr>\n",
       "    <tr>\n",
       "      <th>1</th>\n",
       "      <td>2024-11-22</td>\n",
       "      <td>-1.50</td>\n",
       "      <td>0.1</td>\n",
       "      <td>19.008547</td>\n",
       "      <td>245.376450</td>\n",
       "      <td>helsinki</td>\n",
       "      <td>50.154602</td>\n",
       "      <td>39.000000</td>\n",
       "      <td>10.000000</td>\n",
       "      <td>42.123806</td>\n",
       "      <td>kallio-2</td>\n",
       "      <td>finland</td>\n",
       "      <td>2</td>\n",
       "    </tr>\n",
       "    <tr>\n",
       "      <th>2</th>\n",
       "      <td>2024-11-23</td>\n",
       "      <td>0.40</td>\n",
       "      <td>0.0</td>\n",
       "      <td>13.397612</td>\n",
       "      <td>239.300354</td>\n",
       "      <td>helsinki</td>\n",
       "      <td>42.123806</td>\n",
       "      <td>50.154602</td>\n",
       "      <td>39.000000</td>\n",
       "      <td>39.137154</td>\n",
       "      <td>kallio-2</td>\n",
       "      <td>finland</td>\n",
       "      <td>3</td>\n",
       "    </tr>\n",
       "    <tr>\n",
       "      <th>3</th>\n",
       "      <td>2024-11-24</td>\n",
       "      <td>-1.00</td>\n",
       "      <td>0.0</td>\n",
       "      <td>6.763786</td>\n",
       "      <td>244.798904</td>\n",
       "      <td>helsinki</td>\n",
       "      <td>39.137154</td>\n",
       "      <td>42.123806</td>\n",
       "      <td>50.154602</td>\n",
       "      <td>40.453400</td>\n",
       "      <td>kallio-2</td>\n",
       "      <td>finland</td>\n",
       "      <td>4</td>\n",
       "    </tr>\n",
       "    <tr>\n",
       "      <th>4</th>\n",
       "      <td>2024-11-25</td>\n",
       "      <td>6.15</td>\n",
       "      <td>0.1</td>\n",
       "      <td>29.620802</td>\n",
       "      <td>200.637634</td>\n",
       "      <td>helsinki</td>\n",
       "      <td>40.453400</td>\n",
       "      <td>39.137154</td>\n",
       "      <td>42.123806</td>\n",
       "      <td>33.731068</td>\n",
       "      <td>kallio-2</td>\n",
       "      <td>finland</td>\n",
       "      <td>5</td>\n",
       "    </tr>\n",
       "    <tr>\n",
       "      <th>5</th>\n",
       "      <td>2024-11-26</td>\n",
       "      <td>8.30</td>\n",
       "      <td>0.1</td>\n",
       "      <td>26.089443</td>\n",
       "      <td>230.599365</td>\n",
       "      <td>helsinki</td>\n",
       "      <td>33.731068</td>\n",
       "      <td>40.453400</td>\n",
       "      <td>39.137154</td>\n",
       "      <td>27.553228</td>\n",
       "      <td>kallio-2</td>\n",
       "      <td>finland</td>\n",
       "      <td>6</td>\n",
       "    </tr>\n",
       "    <tr>\n",
       "      <th>6</th>\n",
       "      <td>2024-11-27</td>\n",
       "      <td>1.10</td>\n",
       "      <td>0.0</td>\n",
       "      <td>9.290511</td>\n",
       "      <td>305.537750</td>\n",
       "      <td>helsinki</td>\n",
       "      <td>27.553228</td>\n",
       "      <td>33.731068</td>\n",
       "      <td>40.453400</td>\n",
       "      <td>30.170069</td>\n",
       "      <td>kallio-2</td>\n",
       "      <td>finland</td>\n",
       "      <td>7</td>\n",
       "    </tr>\n",
       "    <tr>\n",
       "      <th>7</th>\n",
       "      <td>2024-11-28</td>\n",
       "      <td>2.50</td>\n",
       "      <td>0.0</td>\n",
       "      <td>16.418526</td>\n",
       "      <td>254.744827</td>\n",
       "      <td>helsinki</td>\n",
       "      <td>30.170069</td>\n",
       "      <td>27.553228</td>\n",
       "      <td>33.731068</td>\n",
       "      <td>27.196062</td>\n",
       "      <td>kallio-2</td>\n",
       "      <td>finland</td>\n",
       "      <td>8</td>\n",
       "    </tr>\n",
       "    <tr>\n",
       "      <th>8</th>\n",
       "      <td>2024-11-29</td>\n",
       "      <td>1.60</td>\n",
       "      <td>0.0</td>\n",
       "      <td>15.496736</td>\n",
       "      <td>267.337036</td>\n",
       "      <td>helsinki</td>\n",
       "      <td>27.196062</td>\n",
       "      <td>30.170069</td>\n",
       "      <td>27.553228</td>\n",
       "      <td>30.735086</td>\n",
       "      <td>kallio-2</td>\n",
       "      <td>finland</td>\n",
       "      <td>9</td>\n",
       "    </tr>\n",
       "  </tbody>\n",
       "</table>\n",
       "</div>"
      ],
      "text/plain": [
       "        date  temperature_2m_mean  precipitation_sum  wind_speed_10m_max  \\\n",
       "0 2024-11-21                 2.35                0.3           31.700449   \n",
       "1 2024-11-22                -1.50                0.1           19.008547   \n",
       "2 2024-11-23                 0.40                0.0           13.397612   \n",
       "3 2024-11-24                -1.00                0.0            6.763786   \n",
       "4 2024-11-25                 6.15                0.1           29.620802   \n",
       "5 2024-11-26                 8.30                0.1           26.089443   \n",
       "6 2024-11-27                 1.10                0.0            9.290511   \n",
       "7 2024-11-28                 2.50                0.0           16.418526   \n",
       "8 2024-11-29                 1.60                0.0           15.496736   \n",
       "\n",
       "   wind_direction_10m_dominant       city  pm25_lag_1  pm25_lag_2  pm25_lag_3  \\\n",
       "0                   195.141037  helsinki    39.000000   10.000000    8.000000   \n",
       "1                   245.376450  helsinki    50.154602   39.000000   10.000000   \n",
       "2                   239.300354  helsinki    42.123806   50.154602   39.000000   \n",
       "3                   244.798904  helsinki    39.137154   42.123806   50.154602   \n",
       "4                   200.637634  helsinki    40.453400   39.137154   42.123806   \n",
       "5                   230.599365  helsinki    33.731068   40.453400   39.137154   \n",
       "6                   305.537750  helsinki    27.553228   33.731068   40.453400   \n",
       "7                   254.744827  helsinki    30.170069   27.553228   33.731068   \n",
       "8                   267.337036  helsinki    27.196062   30.170069   27.553228   \n",
       "\n",
       "   predicted_pm25    street  country  days_before_forecast_day  \n",
       "0       50.154602  kallio-2  finland                         1  \n",
       "1       42.123806  kallio-2  finland                         2  \n",
       "2       39.137154  kallio-2  finland                         3  \n",
       "3       40.453400  kallio-2  finland                         4  \n",
       "4       33.731068  kallio-2  finland                         5  \n",
       "5       27.553228  kallio-2  finland                         6  \n",
       "6       30.170069  kallio-2  finland                         7  \n",
       "7       27.196062  kallio-2  finland                         8  \n",
       "8       30.735086  kallio-2  finland                         9  "
      ]
     },
     "execution_count": 26,
     "metadata": {},
     "output_type": "execute_result"
    }
   ],
   "source": [
    "batch_data['street'] = street\n",
    "batch_data['city'] = city\n",
    "batch_data['country'] = country\n",
    "# Fill in the number of days before the date on which you made the forecast (base_date)\n",
    "batch_data['days_before_forecast_day'] = range(1, len(batch_data)+1)\n",
    "batch_data = batch_data.sort_values(by=['date'])\n",
    "batch_data"
   ]
  },
  {
   "cell_type": "code",
   "execution_count": 18,
   "id": "00e6787b",
   "metadata": {},
   "outputs": [
    {
     "name": "stdout",
     "output_type": "stream",
     "text": [
      "<class 'pandas.core.frame.DataFrame'>\n",
      "RangeIndex: 9 entries, 0 to 8\n",
      "Data columns (total 13 columns):\n",
      " #   Column                       Non-Null Count  Dtype         \n",
      "---  ------                       --------------  -----         \n",
      " 0   date                         9 non-null      datetime64[us]\n",
      " 1   temperature_2m_mean          9 non-null      float32       \n",
      " 2   precipitation_sum            9 non-null      float32       \n",
      " 3   wind_speed_10m_max           9 non-null      float32       \n",
      " 4   wind_direction_10m_dominant  9 non-null      float32       \n",
      " 5   city                         9 non-null      object        \n",
      " 6   pm25_lag_1                   9 non-null      float32       \n",
      " 7   pm25_lag_2                   9 non-null      float32       \n",
      " 8   pm25_lag_3                   9 non-null      float32       \n",
      " 9   predicted_pm25               9 non-null      float32       \n",
      " 10  street                       9 non-null      object        \n",
      " 11  country                      9 non-null      object        \n",
      " 12  days_before_forecast_day     9 non-null      int64         \n",
      "dtypes: datetime64[us](1), float32(8), int64(1), object(3)\n",
      "memory usage: 776.0+ bytes\n"
     ]
    }
   ],
   "source": [
    "batch_data.info()"
   ]
  },
  {
   "cell_type": "markdown",
   "id": "6ff10c12",
   "metadata": {},
   "source": [
    "### Create Forecast Graph\n",
    "Draw a graph of the predictions with dates as a PNG and save it to the github repo\n",
    "Show it on github pages"
   ]
  },
  {
   "cell_type": "code",
   "execution_count": 19,
   "id": "9bb0f844",
   "metadata": {},
   "outputs": [
    {
     "name": "stdout",
     "output_type": "stream",
     "text": [
      "DataFrame columns:\n",
      "['date', 'temperature_2m_mean', 'precipitation_sum', 'wind_speed_10m_max', 'wind_direction_10m_dominant', 'city', 'pm25_lag_1', 'pm25_lag_2', 'pm25_lag_3', 'predicted_pm25', 'street', 'country', 'days_before_forecast_day']\n",
      "\n",
      "First rows of DataFrame:\n",
      "        date  temperature_2m_mean  precipitation_sum  wind_speed_10m_max  \\\n",
      "0 2024-11-21                 2.35                0.3           31.700449   \n",
      "1 2024-11-22                -1.50                0.1           19.008547   \n",
      "2 2024-11-23                 0.40                0.0           13.397612   \n",
      "3 2024-11-24                -1.00                0.0            6.763786   \n",
      "4 2024-11-25                 6.15                0.1           29.620802   \n",
      "\n",
      "   wind_direction_10m_dominant       city  pm25_lag_1  pm25_lag_2  pm25_lag_3  \\\n",
      "0                   195.141037  helsinki    39.000000   10.000000    8.000000   \n",
      "1                   245.376450  helsinki    50.154602   39.000000   10.000000   \n",
      "2                   239.300354  helsinki    42.123806   50.154602   39.000000   \n",
      "3                   244.798904  helsinki    39.137154   42.123806   50.154602   \n",
      "4                   200.637634  helsinki    40.453400   39.137154   42.123806   \n",
      "\n",
      "   predicted_pm25    street  country  days_before_forecast_day  \n",
      "0       50.154602  kallio-2  finland                         1  \n",
      "1       42.123806  kallio-2  finland                         2  \n",
      "2       39.137154  kallio-2  finland                         3  \n",
      "3       40.453400  kallio-2  finland                         4  \n",
      "4       33.731068  kallio-2  finland                         5  \n"
     ]
    },
    {
     "data": {
      "image/png": "[encoded data removed]",
      "text/plain": [
       "<Figure size 1000x600 with 1 Axes>"
      ]
     },
     "metadata": {},
     "output_type": "display_data"
    }
   ],
   "source": [
    "file_path = \"../../docs/air-quality/assets/img/pm25_forecast.png\"\n",
    "\n",
    "# Create directories if they don't exist\n",
    "directory = os.path.dirname(file_path)\n",
    "if not os.path.exists(directory):\n",
    "    os.makedirs(directory)\n",
    "\n",
    "# Check DataFrame columns\n",
    "print(\"DataFrame columns:\")\n",
    "print(batch_data.columns.tolist())\n",
    "\n",
    "# Display first few rows\n",
    "print(\"\\nFirst rows of DataFrame:\")\n",
    "print(batch_data.head())\n",
    "\n",
    "plt = util.plot_air_quality_forecast(city, street, batch_data, file_path)\n",
    "plt.show()"
   ]
  },
  {
   "cell_type": "code",
   "execution_count": 27,
   "id": "c418a791",
   "metadata": {},
   "outputs": [],
   "source": [
    "# Get or create feature group\n",
    "monitor_fg = fs.get_or_create_feature_group(\n",
    "    name='aq_predictions',\n",
    "    description='Air Quality prediction monitoring',\n",
    "    version=2,\n",
    "    primary_key=['city','street','date','days_before_forecast_day'],\n",
    "    event_time=\"date\"\n",
    ")"
   ]
  },
  {
   "cell_type": "code",
   "execution_count": 28,
   "id": "8992650a",
   "metadata": {},
   "outputs": [
    {
     "name": "stdout",
     "output_type": "stream",
     "text": [
      "2024-11-20 16:51:20,726 WARNING: DeprecationWarning: The `ipykernel.comm.Comm` class has been deprecated. Please use the `comm` module instead.For creating comms, use the function `from comm import create_comm`.\n",
      "\n"
     ]
    },
    {
     "data": {
      "application/vnd.jupyter.widget-view+json": {
       "model_id": "6a485e280b984af289597de8682626dd",
       "version_major": 2,
       "version_minor": 0
      },
      "text/plain": [
       "Uploading Dataframe: 0.00% |          | Rows 0/9 | Elapsed Time: 00:00 | Remaining Time: ?"
      ]
     },
     "metadata": {},
     "output_type": "display_data"
    },
    {
     "name": "stdout",
     "output_type": "stream",
     "text": [
      "Launching job: aq_predictions_2_offline_fg_materialization\n",
      "Job started successfully, you can follow the progress at \n",
      "https://c.app.hopsworks.ai/p/1164445/jobs/named/aq_predictions_2_offline_fg_materialization/executions\n"
     ]
    },
    {
     "data": {
      "text/plain": [
       "(<hsfs.core.job.Job at 0x7f91121d84c0>, None)"
      ]
     },
     "execution_count": 28,
     "metadata": {},
     "output_type": "execute_result"
    }
   ],
   "source": [
    "monitor_fg.insert(batch_data, write_options={\"wait_for_job\": True})"
   ]
  },
  {
   "cell_type": "code",
   "execution_count": 29,
   "id": "aa2c1b07",
   "metadata": {},
   "outputs": [
    {
     "name": "stdout",
     "output_type": "stream",
     "text": [
      "Finished: Reading data from Hopsworks, using Hopsworks Feature Query Service (0.95s) \n"
     ]
    },
    {
     "data": {
      "text/html": [
       "<div>\n",
       "<style scoped>\n",
       "    .dataframe tbody tr th:only-of-type {\n",
       "        vertical-align: middle;\n",
       "    }\n",
       "\n",
       "    .dataframe tbody tr th {\n",
       "        vertical-align: top;\n",
       "    }\n",
       "\n",
       "    .dataframe thead th {\n",
       "        text-align: right;\n",
       "    }\n",
       "</style>\n",
       "<table border=\"1\" class=\"dataframe\">\n",
       "  <thead>\n",
       "    <tr style=\"text-align: right;\">\n",
       "      <th></th>\n",
       "      <th>date</th>\n",
       "      <th>temperature_2m_mean</th>\n",
       "      <th>precipitation_sum</th>\n",
       "      <th>wind_speed_10m_max</th>\n",
       "      <th>wind_direction_10m_dominant</th>\n",
       "      <th>city</th>\n",
       "      <th>pm25_lag_1</th>\n",
       "      <th>pm25_lag_2</th>\n",
       "      <th>pm25_lag_3</th>\n",
       "      <th>predicted_pm25</th>\n",
       "      <th>street</th>\n",
       "      <th>country</th>\n",
       "      <th>days_before_forecast_day</th>\n",
       "    </tr>\n",
       "  </thead>\n",
       "  <tbody>\n",
       "    <tr>\n",
       "      <th>0</th>\n",
       "      <td>2024-11-21 00:00:00+00:00</td>\n",
       "      <td>2.35</td>\n",
       "      <td>0.3</td>\n",
       "      <td>31.700449</td>\n",
       "      <td>195.141037</td>\n",
       "      <td>helsinki</td>\n",
       "      <td>39.0</td>\n",
       "      <td>10.0</td>\n",
       "      <td>8.0</td>\n",
       "      <td>50.154602</td>\n",
       "      <td>kallio-2</td>\n",
       "      <td>finland</td>\n",
       "      <td>1</td>\n",
       "    </tr>\n",
       "    <tr>\n",
       "      <th>1</th>\n",
       "      <td>2024-11-20 00:00:00+00:00</td>\n",
       "      <td>1.15</td>\n",
       "      <td>1.7</td>\n",
       "      <td>36.939926</td>\n",
       "      <td>77.047241</td>\n",
       "      <td>helsinki</td>\n",
       "      <td>NaN</td>\n",
       "      <td>NaN</td>\n",
       "      <td>NaN</td>\n",
       "      <td>49.103096</td>\n",
       "      <td>kallio-2</td>\n",
       "      <td>finland</td>\n",
       "      <td>1</td>\n",
       "    </tr>\n",
       "  </tbody>\n",
       "</table>\n",
       "</div>"
      ],
      "text/plain": [
       "                       date  temperature_2m_mean  precipitation_sum  \\\n",
       "0 2024-11-21 00:00:00+00:00                 2.35                0.3   \n",
       "1 2024-11-20 00:00:00+00:00                 1.15                1.7   \n",
       "\n",
       "   wind_speed_10m_max  wind_direction_10m_dominant       city  pm25_lag_1  \\\n",
       "0           31.700449                   195.141037  helsinki         39.0   \n",
       "1           36.939926                    77.047241  helsinki          NaN   \n",
       "\n",
       "   pm25_lag_2  pm25_lag_3  predicted_pm25    street  country  \\\n",
       "0        10.0         8.0       50.154602  kallio-2  finland   \n",
       "1         NaN         NaN       49.103096  kallio-2  finland   \n",
       "\n",
       "   days_before_forecast_day  \n",
       "0                         1  \n",
       "1                         1  "
      ]
     },
     "execution_count": 29,
     "metadata": {},
     "output_type": "execute_result"
    }
   ],
   "source": [
    "# We will create a hindcast chart for  only the forecasts made 1 day beforehand\n",
    "monitoring_df = monitor_fg.filter(monitor_fg.days_before_forecast_day == 1).read()\n",
    "monitoring_df"
   ]
  },
  {
   "cell_type": "code",
   "execution_count": 30,
   "id": "8c3ff020",
   "metadata": {},
   "outputs": [
    {
     "name": "stdout",
     "output_type": "stream",
     "text": [
      "Finished: Reading data from Hopsworks, using Hopsworks Feature Query Service (1.21s) \n"
     ]
    },
    {
     "data": {
      "text/html": [
       "<div>\n",
       "<style scoped>\n",
       "    .dataframe tbody tr th:only-of-type {\n",
       "        vertical-align: middle;\n",
       "    }\n",
       "\n",
       "    .dataframe tbody tr th {\n",
       "        vertical-align: top;\n",
       "    }\n",
       "\n",
       "    .dataframe thead th {\n",
       "        text-align: right;\n",
       "    }\n",
       "</style>\n",
       "<table border=\"1\" class=\"dataframe\">\n",
       "  <thead>\n",
       "    <tr style=\"text-align: right;\">\n",
       "      <th></th>\n",
       "      <th>date</th>\n",
       "      <th>pm25</th>\n",
       "      <th>pm25_lag_1</th>\n",
       "      <th>pm25_lag_2</th>\n",
       "      <th>pm25_lag_3</th>\n",
       "      <th>country</th>\n",
       "      <th>city</th>\n",
       "      <th>street</th>\n",
       "      <th>url</th>\n",
       "    </tr>\n",
       "  </thead>\n",
       "  <tbody>\n",
       "    <tr>\n",
       "      <th>0</th>\n",
       "      <td>2014-05-02 00:00:00+00:00</td>\n",
       "      <td>17.0</td>\n",
       "      <td>25.0</td>\n",
       "      <td>20.0</td>\n",
       "      <td>18.0</td>\n",
       "      <td>finland</td>\n",
       "      <td>helsinki</td>\n",
       "      <td>kallio-2</td>\n",
       "      <td>https://api.waqi.info/feed/@5717</td>\n",
       "    </tr>\n",
       "    <tr>\n",
       "      <th>1</th>\n",
       "      <td>2014-05-03 00:00:00+00:00</td>\n",
       "      <td>13.0</td>\n",
       "      <td>17.0</td>\n",
       "      <td>25.0</td>\n",
       "      <td>20.0</td>\n",
       "      <td>finland</td>\n",
       "      <td>helsinki</td>\n",
       "      <td>kallio-2</td>\n",
       "      <td>https://api.waqi.info/feed/@5717</td>\n",
       "    </tr>\n",
       "    <tr>\n",
       "      <th>2</th>\n",
       "      <td>2014-05-04 00:00:00+00:00</td>\n",
       "      <td>11.0</td>\n",
       "      <td>13.0</td>\n",
       "      <td>17.0</td>\n",
       "      <td>25.0</td>\n",
       "      <td>finland</td>\n",
       "      <td>helsinki</td>\n",
       "      <td>kallio-2</td>\n",
       "      <td>https://api.waqi.info/feed/@5717</td>\n",
       "    </tr>\n",
       "    <tr>\n",
       "      <th>3</th>\n",
       "      <td>2014-05-05 00:00:00+00:00</td>\n",
       "      <td>16.0</td>\n",
       "      <td>11.0</td>\n",
       "      <td>13.0</td>\n",
       "      <td>17.0</td>\n",
       "      <td>finland</td>\n",
       "      <td>helsinki</td>\n",
       "      <td>kallio-2</td>\n",
       "      <td>https://api.waqi.info/feed/@5717</td>\n",
       "    </tr>\n",
       "    <tr>\n",
       "      <th>4</th>\n",
       "      <td>2014-05-06 00:00:00+00:00</td>\n",
       "      <td>20.0</td>\n",
       "      <td>16.0</td>\n",
       "      <td>11.0</td>\n",
       "      <td>13.0</td>\n",
       "      <td>finland</td>\n",
       "      <td>helsinki</td>\n",
       "      <td>kallio-2</td>\n",
       "      <td>https://api.waqi.info/feed/@5717</td>\n",
       "    </tr>\n",
       "    <tr>\n",
       "      <th>...</th>\n",
       "      <td>...</td>\n",
       "      <td>...</td>\n",
       "      <td>...</td>\n",
       "      <td>...</td>\n",
       "      <td>...</td>\n",
       "      <td>...</td>\n",
       "      <td>...</td>\n",
       "      <td>...</td>\n",
       "      <td>...</td>\n",
       "    </tr>\n",
       "    <tr>\n",
       "      <th>3790</th>\n",
       "      <td>2024-11-12 00:00:00+00:00</td>\n",
       "      <td>9.0</td>\n",
       "      <td>9.0</td>\n",
       "      <td>20.0</td>\n",
       "      <td>13.0</td>\n",
       "      <td>finland</td>\n",
       "      <td>helsinki</td>\n",
       "      <td>kallio-2</td>\n",
       "      <td>https://api.waqi.info/feed/@5717</td>\n",
       "    </tr>\n",
       "    <tr>\n",
       "      <th>3791</th>\n",
       "      <td>2024-11-13 00:00:00+00:00</td>\n",
       "      <td>6.0</td>\n",
       "      <td>9.0</td>\n",
       "      <td>9.0</td>\n",
       "      <td>20.0</td>\n",
       "      <td>finland</td>\n",
       "      <td>helsinki</td>\n",
       "      <td>kallio-2</td>\n",
       "      <td>https://api.waqi.info/feed/@5717</td>\n",
       "    </tr>\n",
       "    <tr>\n",
       "      <th>3792</th>\n",
       "      <td>2024-11-14 00:00:00+00:00</td>\n",
       "      <td>14.0</td>\n",
       "      <td>6.0</td>\n",
       "      <td>9.0</td>\n",
       "      <td>9.0</td>\n",
       "      <td>finland</td>\n",
       "      <td>helsinki</td>\n",
       "      <td>kallio-2</td>\n",
       "      <td>https://api.waqi.info/feed/@5717</td>\n",
       "    </tr>\n",
       "    <tr>\n",
       "      <th>3793</th>\n",
       "      <td>2024-11-15 00:00:00+00:00</td>\n",
       "      <td>16.0</td>\n",
       "      <td>14.0</td>\n",
       "      <td>6.0</td>\n",
       "      <td>9.0</td>\n",
       "      <td>finland</td>\n",
       "      <td>helsinki</td>\n",
       "      <td>kallio-2</td>\n",
       "      <td>https://api.waqi.info/feed/@5717</td>\n",
       "    </tr>\n",
       "    <tr>\n",
       "      <th>3794</th>\n",
       "      <td>2024-11-20 00:00:00+00:00</td>\n",
       "      <td>39.0</td>\n",
       "      <td>39.0</td>\n",
       "      <td>16.0</td>\n",
       "      <td>14.0</td>\n",
       "      <td>finland</td>\n",
       "      <td>helsinki</td>\n",
       "      <td>kallio-2</td>\n",
       "      <td>https://api.waqi.info/feed/@5717</td>\n",
       "    </tr>\n",
       "  </tbody>\n",
       "</table>\n",
       "<p>3795 rows × 9 columns</p>\n",
       "</div>"
      ],
      "text/plain": [
       "                          date  pm25  pm25_lag_1  pm25_lag_2  pm25_lag_3  \\\n",
       "0    2014-05-02 00:00:00+00:00  17.0        25.0        20.0        18.0   \n",
       "1    2014-05-03 00:00:00+00:00  13.0        17.0        25.0        20.0   \n",
       "2    2014-05-04 00:00:00+00:00  11.0        13.0        17.0        25.0   \n",
       "3    2014-05-05 00:00:00+00:00  16.0        11.0        13.0        17.0   \n",
       "4    2014-05-06 00:00:00+00:00  20.0        16.0        11.0        13.0   \n",
       "...                        ...   ...         ...         ...         ...   \n",
       "3790 2024-11-12 00:00:00+00:00   9.0         9.0        20.0        13.0   \n",
       "3791 2024-11-13 00:00:00+00:00   6.0         9.0         9.0        20.0   \n",
       "3792 2024-11-14 00:00:00+00:00  14.0         6.0         9.0         9.0   \n",
       "3793 2024-11-15 00:00:00+00:00  16.0        14.0         6.0         9.0   \n",
       "3794 2024-11-20 00:00:00+00:00  39.0        39.0        16.0        14.0   \n",
       "\n",
       "      country       city    street                               url  \n",
       "0     finland  helsinki   kallio-2  https://api.waqi.info/feed/@5717  \n",
       "1     finland  helsinki   kallio-2  https://api.waqi.info/feed/@5717  \n",
       "2     finland  helsinki   kallio-2  https://api.waqi.info/feed/@5717  \n",
       "3     finland  helsinki   kallio-2  https://api.waqi.info/feed/@5717  \n",
       "4     finland  helsinki   kallio-2  https://api.waqi.info/feed/@5717  \n",
       "...       ...        ...       ...                               ...  \n",
       "3790  finland  helsinki   kallio-2  https://api.waqi.info/feed/@5717  \n",
       "3791  finland  helsinki   kallio-2  https://api.waqi.info/feed/@5717  \n",
       "3792  finland  helsinki   kallio-2  https://api.waqi.info/feed/@5717  \n",
       "3793  finland  helsinki   kallio-2  https://api.waqi.info/feed/@5717  \n",
       "3794  finland  helsinki   kallio-2  https://api.waqi.info/feed/@5717  \n",
       "\n",
       "[3795 rows x 9 columns]"
      ]
     },
     "execution_count": 30,
     "metadata": {},
     "output_type": "execute_result"
    }
   ],
   "source": [
    "air_quality_fg = fs.get_feature_group(\n",
    "    name='air_quality',\n",
    "    version=2,\n",
    ")\n",
    "air_quality_df = air_quality_fg.read().sort_values('date').reset_index(drop=True)\n",
    "air_quality_df"
   ]
  },
  {
   "cell_type": "code",
   "execution_count": 33,
   "id": "6763f180",
   "metadata": {},
   "outputs": [
    {
     "data": {
      "text/html": [
       "<div>\n",
       "<style scoped>\n",
       "    .dataframe tbody tr th:only-of-type {\n",
       "        vertical-align: middle;\n",
       "    }\n",
       "\n",
       "    .dataframe tbody tr th {\n",
       "        vertical-align: top;\n",
       "    }\n",
       "\n",
       "    .dataframe thead th {\n",
       "        text-align: right;\n",
       "    }\n",
       "</style>\n",
       "<table border=\"1\" class=\"dataframe\">\n",
       "  <thead>\n",
       "    <tr style=\"text-align: right;\">\n",
       "      <th></th>\n",
       "      <th>date</th>\n",
       "      <th>predicted_pm25</th>\n",
       "      <th>pm25</th>\n",
       "    </tr>\n",
       "  </thead>\n",
       "  <tbody>\n",
       "    <tr>\n",
       "      <th>0</th>\n",
       "      <td>2024-11-20 00:00:00+00:00</td>\n",
       "      <td>49.103096</td>\n",
       "      <td>39.0</td>\n",
       "    </tr>\n",
       "  </tbody>\n",
       "</table>\n",
       "</div>"
      ],
      "text/plain": [
       "                       date  predicted_pm25  pm25\n",
       "0 2024-11-20 00:00:00+00:00       49.103096  39.0"
      ]
     },
     "execution_count": 33,
     "metadata": {},
     "output_type": "execute_result"
    }
   ],
   "source": [
    "outcome_df = air_quality_df[['date', 'pm25']]\n",
    "preds_df =  monitoring_df[['date', 'predicted_pm25']]\n",
    "\n",
    "hindcast_df = pd.merge(preds_df, outcome_df, on=\"date\")\n",
    "hindcast_df = hindcast_df.sort_values(by=['date'])\n",
    "\n",
    "# If there are no outcomes for predictions yet, generate some predictions/outcomes from existing data\n",
    "if len(hindcast_df) == 0:\n",
    "    hindcast_df = util.backfill_predictions_for_monitoring(weather_fg, air_quality_df, monitor_fg, retrieved_xgboost_model)\n",
    "hindcast_df"
   ]
  },
  {
   "cell_type": "markdown",
   "id": "9edb1552",
   "metadata": {},
   "source": [
    "### Plot the Hindcast comparing predicted with forecasted values (1-day prior forecast)\n",
    "\n",
    "__This graph will be empty to begin with - this is normal.__\n",
    "\n",
    "After a few days of predictions and observations, you will get data points in this graph."
   ]
  },
  {
   "cell_type": "code",
   "execution_count": 32,
   "id": "31e62393",
   "metadata": {},
   "outputs": [
    {
     "data": {
      "image/png": "[encoded data removed]",
      "text/plain": [
       "<Figure size 1000x600 with 1 Axes>"
      ]
     },
     "metadata": {},
     "output_type": "display_data"
    }
   ],
   "source": [
    "file_path = \"../../docs/air-quality/assets/img/pm25_hindcast_1day.png\"\n",
    "plt = util.plot_air_quality_forecast(city, street, hindcast_df, file_path, hindcast=True)\n",
    "plt.show()"
   ]
  },
  {
   "cell_type": "markdown",
   "id": "c29eb549",
   "metadata": {},
   "source": [
    "---"
   ]
  },
  {
   "cell_type": "code",
   "execution_count": null,
   "id": "65afa4b5-ad6b-418a-bea9-5556fa65a775",
   "metadata": {},
   "outputs": [],
   "source": []
  },
  {
   "cell_type": "code",
   "execution_count": null,
   "id": "4575000e-405b-4bcd-99d6-375f9a660a23",
   "metadata": {},
   "outputs": [],
   "source": []
  }
 ],
 "metadata": {
  "kernelspec": {
   "display_name": "Python 3 (ipykernel)",
   "language": "python",
   "name": "python3"
  },
  "language_info": {
   "codemirror_mode": {
    "name": "ipython",
    "version": 3
   },
   "file_extension": ".py",
   "mimetype": "text/x-python",
   "name": "python",
   "nbconvert_exporter": "python",
   "pygments_lexer": "ipython3",
   "version": "3.8.8"
  }
 },
 "nbformat": 4,
 "nbformat_minor": 5
}
