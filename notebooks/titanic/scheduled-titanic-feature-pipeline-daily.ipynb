{
 "cells": [
  {
   "cell_type": "code",
   "execution_count": 1,
   "id": "43a6a08a-3d73-4c10-b086-165218dd97bc",
   "metadata": {},
   "outputs": [
    {
     "name": "stdout",
     "output_type": "stream",
     "text": [
      "Local environment\n",
      "Added the following directory to the PYTHONPATH: /home/jdowling/Projects/mlfs-book\n"
     ]
    }
   ],
   "source": [
    "import sys\n",
    "from pathlib import Path\n",
    "\n",
    "def is_google_colab() -> bool:\n",
    "    if \"google.colab\" in str(get_ipython()):\n",
    "        return True\n",
    "    return False\n",
    "\n",
    "def clone_repository() -> None:\n",
    "    !git clone https://github.com/featurestorebook/mlfs-book.git\n",
    "    %cd mlfs-book\n",
    "\n",
    "def install_dependencies() -> None:\n",
    "    !pip install --upgrade uv\n",
    "    !uv pip install --all-extras --system --requirement pyproject.toml\n",
    "\n",
    "if is_google_colab():\n",
    "    clone_repository()\n",
    "    install_dependencies()\n",
    "    root_dir = str(Path().absolute())\n",
    "    print(\"Google Colab environment\")\n",
    "else:\n",
    "    root_dir = Path().absolute()\n",
    "    # Strip ~/notebooks/ccfraud from PYTHON_PATH if notebook started in one of these subdirectories\n",
    "    if root_dir.parts[-1:] == ('titanic',):\n",
    "        root_dir = Path(*root_dir.parts[:-1])\n",
    "    if root_dir.parts[-1:] == ('notebooks',):\n",
    "        root_dir = Path(*root_dir.parts[:-1])\n",
    "    root_dir = str(root_dir) \n",
    "    print(\"Local environment\")\n",
    "\n",
    "# Add the root directory to the `PYTHONPATH` to use the `recsys` Python module from the notebook.\n",
    "if root_dir not in sys.path:\n",
    "    sys.path.append(root_dir)\n",
    "print(f\"Added the following directory to the PYTHONPATH: {root_dir}\")"
   ]
  },
  {
   "cell_type": "code",
   "execution_count": 2,
   "id": "d35a7bb8",
   "metadata": {},
   "outputs": [],
   "source": [
    "import random\n",
    "import time\n",
    "import os\n",
    "import hopsworks\n",
    "import pandas as pd\n",
    "from mlfs import config\n",
    "\n",
    "random.seed(time.time())"
   ]
  },
  {
   "cell_type": "markdown",
   "id": "4a73891f",
   "metadata": {},
   "source": [
    "#### Function to create a random passenger on the Titanic\n"
   ]
  },
  {
   "cell_type": "code",
   "execution_count": 3,
   "id": "40cb83ae",
   "metadata": {},
   "outputs": [
    {
     "name": "stdout",
     "output_type": "stream",
     "text": [
      "2025-01-08 13:57:15,340 INFO: Initializing external client\n",
      "2025-01-08 13:57:15,341 INFO: Base URL: https://c.app.hopsworks.ai:443\n",
      "2025-01-08 13:57:16,473 INFO: Python Engine initialized.\n",
      "\n",
      "Logged in to project, explore it here https://c.app.hopsworks.ai:443/p/17565\n"
     ]
    }
   ],
   "source": [
    "settings = config.HopsworksSettings(_env_file=f\"{root_dir}/.env\")\n",
    "\n",
    "project = hopsworks.login()\n",
    "fs = project.get_feature_store()"
   ]
  },
  {
   "cell_type": "code",
   "execution_count": 4,
   "id": "b6629b4e",
   "metadata": {},
   "outputs": [],
   "source": [
    "def generate_random_passenger(id):\n",
    "    \"\"\"\n",
    "    Returns a single Titanic passenger as a single row in a DataFrame\n",
    "    \"\"\"\n",
    "\n",
    "    survived = False\n",
    "    pick_random = random.uniform(0,2)\n",
    "    if pick_random >= 1:\n",
    "        print(\"Survivor added\")\n",
    "    else:\n",
    "        print(\"Non-Survivor added\")\n",
    "\n",
    "    if survived:\n",
    "        unif = random.uniform(0, 1)\n",
    "        if unif < 109/342:\n",
    "            sex = 'male'\n",
    "        else:\n",
    "            sex = 'female'\n",
    "        if unif < 136/342:\n",
    "            pclass = 1\n",
    "        elif unif < 223/342:\n",
    "            pclass = 2\n",
    "        else:\n",
    "            pclass = 3\n",
    "        age = random.uniform(0.42, 80.0)\n",
    "        if unif < 25/100:\n",
    "            fare = random.uniform(0.0, 12.47)\n",
    "        elif unif < 50/100:\n",
    "            fare = random.uniform(12.47, 26.0)\n",
    "        elif unif < 75/100:\n",
    "            fare = random.uniform(26.0, 57.0)\n",
    "        else:\n",
    "            fare = random.uniform(57.0, 512.0)\n",
    "        if unif < 233/342:\n",
    "            parch = 0.0\n",
    "        elif unif < (65+233)/342:\n",
    "            parch = 1.0\n",
    "        elif unif < (40+65+233)/342:\n",
    "            parch = 2.0\n",
    "        else:\n",
    "            parch = round(random.uniform(3.0, 5.0))\n",
    "        if unif < 210/342:\n",
    "            sibsp = 0.0\n",
    "        elif unif < (112+210)/342:\n",
    "            sibsp = 1.0\n",
    "        else:\n",
    "            sibsp = round(random.uniform(2.0, 4.0))\n",
    "        if unif < 219/342:\n",
    "            embarked = 'S'\n",
    "        elif unif < (93+210)/342:\n",
    "            embarked = 'C'\n",
    "        else:\n",
    "            embarked = 'Q'\n",
    "    else:\n",
    "        unif = random.uniform(0, 1)\n",
    "        if unif < 468/549:\n",
    "            sex = 'male'\n",
    "        else:\n",
    "            sex = 'female'\n",
    "        if unif < 80/549:\n",
    "            pclass = 1\n",
    "        elif unif < 177/549:\n",
    "            pclass = 2\n",
    "        else:\n",
    "            pclass = 3\n",
    "        age = random.uniform(1.0, 74.0)\n",
    "        if unif < 25/100:\n",
    "            fare = random.uniform(0.0, 7.85)\n",
    "        elif unif < 50/100:\n",
    "            fare = random.uniform(7.85, 10.5)\n",
    "        elif unif < 75/100:\n",
    "            fare = random.uniform(10.5, 26.0)\n",
    "        else:\n",
    "            fare = random.uniform(26.0, 263.0)\n",
    "        if unif < 445/549:\n",
    "            parch = 0.0\n",
    "        elif unif < (53+445)/549:\n",
    "            parch = 1.0\n",
    "        elif unif < (40+53+445)/549:\n",
    "            parch = 2.0\n",
    "        else:\n",
    "            parch = round(random.uniform(3.0, 6.0))\n",
    "        if unif < 398/549:\n",
    "            sibsp = 0.0\n",
    "        elif unif < (97+398)/549:\n",
    "            sibsp = 1.0\n",
    "        else:\n",
    "            sibsp = round(random.uniform(2.0, 6.0))\n",
    "        if unif < 427/549:\n",
    "            embarked = 'S'\n",
    "        elif unif < (75+427)/549:\n",
    "            embarked = 'C'\n",
    "        else:\n",
    "            embarked = 'Q'\n",
    "\n",
    "    df = pd.DataFrame({ \"passengerid\": id, \"sex\": [sex], \"age\": [age], \"pclass\": [pclass], \"fare\": [fare],\n",
    "                       \"parch\":[round(parch)], \"sibsp\": [round(sibsp)], \"embarked\": [embarked]\n",
    "                      })\n",
    "    df['survived'] = round(survived)\n",
    "    return df"
   ]
  },
  {
   "cell_type": "code",
   "execution_count": 5,
   "id": "a2277409",
   "metadata": {},
   "outputs": [
    {
     "name": "stdout",
     "output_type": "stream",
     "text": [
      "Reading data from Hopsworks, using Hopsworks Feature Query Service.   \r"
     ]
    },
    {
     "name": "stderr",
     "output_type": "stream",
     "text": [
      "/arrow/cpp/src/arrow/status.cc:137: DoAction result was not fully consumed: Cancelled: Flight cancelled call, with message: CANCELLED. Detail: Cancelled\n"
     ]
    },
    {
     "name": "stdout",
     "output_type": "stream",
     "text": [
      "Finished: Reading data from Hopsworks, using Hopsworks Feature Query Service (0.71s) \n",
      "Non-Survivor added\n",
      "2025-01-08 13:57:20,175 WARNING: DeprecationWarning: is_sparse is deprecated and will be removed in a future version. Check `isinstance(dtype, pd.SparseDtype)` instead.\n",
      "\n"
     ]
    },
    {
     "name": "stderr",
     "output_type": "stream",
     "text": [
      "Uploading Dataframe: 100.00% |█████████████████████████████████████████████████████████████████████████████████████████████| Rows 1/1 | Elapsed Time: 00:01 | Remaining Time: 00:00\n"
     ]
    },
    {
     "name": "stdout",
     "output_type": "stream",
     "text": [
      "Launching job: titanic_1_offline_fg_materialization\n",
      "Job started successfully, you can follow the progress at \n",
      "https://c.app.hopsworks.ai:443/p/17565/jobs/named/titanic_1_offline_fg_materialization/executions\n",
      "2025-01-08 13:57:34,472 INFO: Waiting for execution to finish. Current state: SUBMITTED. Final status: UNDEFINED\n",
      "2025-01-08 13:57:37,628 INFO: Waiting for execution to finish. Current state: RUNNING. Final status: UNDEFINED\n",
      "2025-01-08 13:59:06,115 INFO: Waiting for execution to finish. Current state: AGGREGATING_LOGS. Final status: SUCCEEDED\n",
      "2025-01-08 13:59:06,288 INFO: Waiting for log aggregation to finish.\n",
      "2025-01-08 13:59:28,027 INFO: Execution finished successfully.\n"
     ]
    },
    {
     "data": {
      "text/plain": [
       "(Job('titanic_1_offline_fg_materialization', 'SPARK'), None)"
      ]
     },
     "execution_count": 5,
     "metadata": {},
     "output_type": "execute_result"
    }
   ],
   "source": [
    "titanic_fg = fs.get_feature_group(name=\"titanic\", version=1)\n",
    "\n",
    "df = titanic_fg.read()\n",
    "id = df['passengerid'].max() + 1 \n",
    "titanic_df = generate_random_passenger(id)\n",
    "titanic_fg.insert(titanic_df, wait=True)"
   ]
  }
 ],
 "metadata": {
  "kernelspec": {
   "display_name": "Python 3 (ipykernel)",
   "language": "python",
   "name": "python3"
  },
  "language_info": {
   "codemirror_mode": {
    "name": "ipython",
    "version": 3
   },
   "file_extension": ".py",
   "mimetype": "text/x-python",
   "name": "python",
   "nbconvert_exporter": "python",
   "pygments_lexer": "ipython3",
   "version": "3.10.0"
  }
 },
 "nbformat": 4,
 "nbformat_minor": 5
}
