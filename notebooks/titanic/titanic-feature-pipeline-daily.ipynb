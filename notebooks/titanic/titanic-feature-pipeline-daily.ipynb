{
 "cells": [
  {
   "cell_type": "code",
   "execution_count": 1,
   "id": "d35a7bb8",
   "metadata": {},
   "outputs": [
    {
     "name": "stderr",
     "output_type": "stream",
     "text": [
      "/home/jdowling/anaconda3/envs/book/lib/python3.10/site-packages/tqdm/auto.py:21: TqdmWarning: IProgress not found. Please update jupyter and ipywidgets. See https://ipywidgets.readthedocs.io/en/stable/user_install.html\n",
      "  from .autonotebook import tqdm as notebook_tqdm\n"
     ]
    }
   ],
   "source": [
    "import hopsworks\n",
    "import pandas as pd\n",
    "import random\n",
    "import time\n",
    "random.seed(time.time())"
   ]
  },
  {
   "cell_type": "markdown",
   "id": "4a73891f",
   "metadata": {},
   "source": [
    "#### Function to create a random passenger on the Titanic\n"
   ]
  },
  {
   "cell_type": "code",
   "execution_count": 2,
   "id": "b6629b4e",
   "metadata": {},
   "outputs": [],
   "source": [
    "def generate_random_passenger():\n",
    "    \"\"\"\n",
    "    Returns a single Titanic passenger as a single row in a DataFrame\n",
    "    \"\"\"\n",
    "\n",
    "    survived = False\n",
    "    pick_random = random.uniform(0,2)\n",
    "    if pick_random >= 1:\n",
    "        print(\"Survivor added\")\n",
    "    else:\n",
    "        print(\"Non-Survivor added\")\n",
    "\n",
    "    if survived:\n",
    "        unif = random.uniform(0, 1)\n",
    "        if unif < 109/342:\n",
    "            sex = 'male'\n",
    "        else:\n",
    "            sex = 'female'\n",
    "        if unif < 136/342:\n",
    "            pclass = 1\n",
    "        elif unif < 223/342:\n",
    "            pclass = 2\n",
    "        else:\n",
    "            pclass = 3\n",
    "        age = random.uniform(0.42, 80.0)\n",
    "        if unif < 25/100:\n",
    "            fare = random.uniform(0.0, 12.47)\n",
    "        elif unif < 50/100:\n",
    "            fare = random.uniform(12.47, 26.0)\n",
    "        elif unif < 75/100:\n",
    "            fare = random.uniform(26.0, 57.0)\n",
    "        else:\n",
    "            fare = random.uniform(57.0, 512.0)\n",
    "        if unif < 233/342:\n",
    "            parch = 0.0\n",
    "        elif unif < (65+233)/342:\n",
    "            parch = 1.0\n",
    "        elif unif < (40+65+233)/342:\n",
    "            parch = 2.0\n",
    "        else:\n",
    "            parch = round(random.uniform(3.0, 5.0))\n",
    "        if unif < 210/342:\n",
    "            sibsp = 0.0\n",
    "        elif unif < (112+210)/342:\n",
    "            sibsp = 1.0\n",
    "        else:\n",
    "            sibsp = round(random.uniform(2.0, 4.0))\n",
    "        if unif < 219/342:\n",
    "            embarked = 'S'\n",
    "        elif unif < (93+210)/342:\n",
    "            embarked = 'C'\n",
    "        else:\n",
    "            embarked = 'Q'\n",
    "    else:\n",
    "        unif = random.uniform(0, 1)\n",
    "        if unif < 468/549:\n",
    "            sex = 'male'\n",
    "        else:\n",
    "            sex = 'female'\n",
    "        if unif < 80/549:\n",
    "            pclass = 1\n",
    "        elif unif < 177/549:\n",
    "            pclass = 2\n",
    "        else:\n",
    "            pclass = 3\n",
    "        age = random.uniform(1.0, 74.0)\n",
    "        if unif < 25/100:\n",
    "            fare = random.uniform(0.0, 7.85)\n",
    "        elif unif < 50/100:\n",
    "            fare = random.uniform(7.85, 10.5)\n",
    "        elif unif < 75/100:\n",
    "            fare = random.uniform(10.5, 26.0)\n",
    "        else:\n",
    "            fare = random.uniform(26.0, 263.0)\n",
    "        if unif < 445/549:\n",
    "            parch = 0.0\n",
    "        elif unif < (53+445)/549:\n",
    "            parch = 1.0\n",
    "        elif unif < (40+53+445)/549:\n",
    "            parch = 2.0\n",
    "        else:\n",
    "            parch = round(random.uniform(3.0, 6.0))\n",
    "        if unif < 398/549:\n",
    "            sibsp = 0.0\n",
    "        elif unif < (97+398)/549:\n",
    "            sibsp = 1.0\n",
    "        else:\n",
    "            sibsp = round(random.uniform(2.0, 6.0))\n",
    "        if unif < 427/549:\n",
    "            embarked = 'S'\n",
    "        elif unif < (75+427)/549:\n",
    "            embarked = 'C'\n",
    "        else:\n",
    "            embarked = 'Q'\n",
    "\n",
    "    df = pd.DataFrame({ \"sex\": [sex], \"age\": [age], \"pclass\": [pclass], \"fare\": [fare],\n",
    "                       \"parch\":[round(parch)], \"sibsp\": [round(sibsp)], \"embarked\": [embarked]\n",
    "                      })\n",
    "    df['survived'] = round(survived)\n",
    "    return df"
   ]
  },
  {
   "cell_type": "code",
   "execution_count": 3,
   "id": "40cb83ae",
   "metadata": {},
   "outputs": [
    {
     "name": "stdout",
     "output_type": "stream",
     "text": [
      "Connected. Call `.close()` to terminate connection gracefully.\n",
      "\n",
      "Logged in to project, explore it here https://snurran.hops.works:443/p/5240\n",
      "Connected. Call `.close()` to terminate connection gracefully.\n"
     ]
    }
   ],
   "source": [
    "project = hopsworks.login()\n",
    "fs = project.get_feature_store()"
   ]
  },
  {
   "cell_type": "code",
   "execution_count": 4,
   "id": "2139e562",
   "metadata": {},
   "outputs": [
    {
     "name": "stdout",
     "output_type": "stream",
     "text": [
      "Non-Survivor added\n"
     ]
    },
    {
     "data": {
      "text/html": [
       "<div>\n",
       "<style scoped>\n",
       "    .dataframe tbody tr th:only-of-type {\n",
       "        vertical-align: middle;\n",
       "    }\n",
       "\n",
       "    .dataframe tbody tr th {\n",
       "        vertical-align: top;\n",
       "    }\n",
       "\n",
       "    .dataframe thead th {\n",
       "        text-align: right;\n",
       "    }\n",
       "</style>\n",
       "<table border=\"1\" class=\"dataframe\">\n",
       "  <thead>\n",
       "    <tr style=\"text-align: right;\">\n",
       "      <th></th>\n",
       "      <th>sex</th>\n",
       "      <th>age</th>\n",
       "      <th>pclass</th>\n",
       "      <th>fare</th>\n",
       "      <th>parch</th>\n",
       "      <th>sibsp</th>\n",
       "      <th>embarked</th>\n",
       "      <th>survived</th>\n",
       "    </tr>\n",
       "  </thead>\n",
       "  <tbody>\n",
       "    <tr>\n",
       "      <th>0</th>\n",
       "      <td>female</td>\n",
       "      <td>20.563611</td>\n",
       "      <td>3</td>\n",
       "      <td>107.13882</td>\n",
       "      <td>1</td>\n",
       "      <td>1</td>\n",
       "      <td>C</td>\n",
       "      <td>0</td>\n",
       "    </tr>\n",
       "  </tbody>\n",
       "</table>\n",
       "</div>"
      ],
      "text/plain": [
       "      sex        age  pclass       fare  parch  sibsp embarked  survived\n",
       "0  female  20.563611       3  107.13882      1      1        C         0"
      ]
     },
     "execution_count": 4,
     "metadata": {},
     "output_type": "execute_result"
    }
   ],
   "source": [
    "titanic_df = generate_random_passenger()\n",
    "titanic_df"
   ]
  },
  {
   "cell_type": "code",
   "execution_count": 5,
   "id": "a2277409",
   "metadata": {},
   "outputs": [
    {
     "name": "stderr",
     "output_type": "stream",
     "text": [
      "Uploading Dataframe: 100.00% |█████████████████████████████████████████████████████████████████████████████████| Rows 1/1 | Elapsed Time: 00:03 | Remaining Time: 00:00\n"
     ]
    },
    {
     "name": "stdout",
     "output_type": "stream",
     "text": [
      "Launching job: titanic_1_offline_fg_materialization\n",
      "Job started successfully, you can follow the progress at \n",
      "https://snurran.hops.works/p/5240/jobs/named/titanic_1_offline_fg_materialization/executions\n"
     ]
    },
    {
     "data": {
      "text/plain": [
       "(<hsfs.core.job.Job at 0x7f05b5bebc70>, None)"
      ]
     },
     "execution_count": 5,
     "metadata": {},
     "output_type": "execute_result"
    }
   ],
   "source": [
    "titanic_fg = fs.get_feature_group(name=\"titanic\", version=1)\n",
    "titanic_fg.insert(titanic_df, wait=True)"
   ]
  },
  {
   "cell_type": "code",
   "execution_count": null,
   "id": "71cc02f3-4924-43e1-8e35-2f5f46b4c240",
   "metadata": {},
   "outputs": [],
   "source": []
  }
 ],
 "metadata": {
  "kernelspec": {
   "display_name": "Python 3 (ipykernel)",
   "language": "python",
   "name": "python3"
  },
  "language_info": {
   "codemirror_mode": {
    "name": "ipython",
    "version": 3
   },
   "file_extension": ".py",
   "mimetype": "text/x-python",
   "name": "python",
   "nbconvert_exporter": "python",
   "pygments_lexer": "ipython3",
   "version": "3.10.0"
  }
 },
 "nbformat": 4,
 "nbformat_minor": 5
}
