{
 "cells": [
  {
   "cell_type": "code",
   "execution_count": 1,
   "id": "8b94c7d3",
   "metadata": {},
   "outputs": [
    {
     "name": "stderr",
     "output_type": "stream",
     "text": [
      "/home/jdowling/anaconda3/envs/book/lib/python3.10/site-packages/tqdm/auto.py:21: TqdmWarning: IProgress not found. Please update jupyter and ipywidgets. See https://ipywidgets.readthedocs.io/en/stable/user_install.html\n",
      "  from .autonotebook import tqdm as notebook_tqdm\n"
     ]
    }
   ],
   "source": [
    "import hopsworks\n",
    "import pandas as pd\n",
    "import joblib\n",
    "from PIL import Image\n",
    "import datetime\n",
    "import requests"
   ]
  },
  {
   "cell_type": "code",
   "execution_count": 2,
   "id": "e33fd410-a66d-4bd5-bf35-78eff8e4b3f5",
   "metadata": {},
   "outputs": [
    {
     "name": "stdout",
     "output_type": "stream",
     "text": [
      "Connected. Call `.close()` to terminate connection gracefully.\n",
      "\n",
      "Logged in to project, explore it here https://snurran.hops.works:443/p/5240\n",
      "Connected. Call `.close()` to terminate connection gracefully.\n"
     ]
    }
   ],
   "source": [
    "project = hopsworks.login()\n",
    "fs = project.get_feature_store()"
   ]
  },
  {
   "cell_type": "code",
   "execution_count": 3,
   "id": "9aee5597",
   "metadata": {},
   "outputs": [
    {
     "name": "stdout",
     "output_type": "stream",
     "text": [
      "External IP not configured for the Istio ingress gateway, the Hopsworks client will be used for model inference instead\n",
      "Connected. Call `.close()` to terminate connection gracefully.\n",
      "Downloading model artifact (1 dirs, 3 files)... DONE\r"
     ]
    }
   ],
   "source": [
    "mr = project.get_model_registry()\n",
    "model = mr.get_model(\"titanic\", version=1)\n",
    "model_dir = model.download()\n",
    "model = joblib.load(model_dir + \"/titanic_model.pkl\")"
   ]
  },
  {
   "cell_type": "code",
   "execution_count": 4,
   "id": "d3964bef-433e-4c34-a2df-f85ee4e4e59f",
   "metadata": {},
   "outputs": [
    {
     "name": "stderr",
     "output_type": "stream",
     "text": [
      "UserWarning: Could not establish connection to ArrowFlight Server. (Flight returned unavailable error, with message: failed to connect to all addresses; last error: UNAVAILABLE: ipv4:167.86.126.111:5005: Socket closed) Will fall back to hive/spark for this session. If the error persists, you can disable using ArrowFlight by changing the cluster configuration (set 'enable_flyingduck'='false').\n",
      "DeprecationWarning: ssl.PROTOCOL_TLS is deprecated\n"
     ]
    },
    {
     "name": "stdout",
     "output_type": "stream",
     "text": [
      "Finished: Reading data from Hopsworks, using Hive (2.50s) \n"
     ]
    },
    {
     "data": {
      "text/html": [
       "<div>\n",
       "<style scoped>\n",
       "    .dataframe tbody tr th:only-of-type {\n",
       "        vertical-align: middle;\n",
       "    }\n",
       "\n",
       "    .dataframe tbody tr th {\n",
       "        vertical-align: top;\n",
       "    }\n",
       "\n",
       "    .dataframe thead th {\n",
       "        text-align: right;\n",
       "    }\n",
       "</style>\n",
       "<table border=\"1\" class=\"dataframe\">\n",
       "  <thead>\n",
       "    <tr style=\"text-align: right;\">\n",
       "      <th></th>\n",
       "      <th>sex</th>\n",
       "      <th>age</th>\n",
       "      <th>pclass</th>\n",
       "      <th>fare</th>\n",
       "      <th>parch</th>\n",
       "      <th>sibsp</th>\n",
       "      <th>embarked</th>\n",
       "    </tr>\n",
       "  </thead>\n",
       "  <tbody>\n",
       "    <tr>\n",
       "      <th>0</th>\n",
       "      <td>0</td>\n",
       "      <td>28.000000</td>\n",
       "      <td>2</td>\n",
       "      <td>13.00000</td>\n",
       "      <td>0</td>\n",
       "      <td>0</td>\n",
       "      <td>0</td>\n",
       "    </tr>\n",
       "    <tr>\n",
       "      <th>1</th>\n",
       "      <td>1</td>\n",
       "      <td>18.000000</td>\n",
       "      <td>2</td>\n",
       "      <td>23.00000</td>\n",
       "      <td>1</td>\n",
       "      <td>0</td>\n",
       "      <td>0</td>\n",
       "    </tr>\n",
       "    <tr>\n",
       "      <th>2</th>\n",
       "      <td>1</td>\n",
       "      <td>29.699118</td>\n",
       "      <td>3</td>\n",
       "      <td>7.22920</td>\n",
       "      <td>0</td>\n",
       "      <td>0</td>\n",
       "      <td>1</td>\n",
       "    </tr>\n",
       "    <tr>\n",
       "      <th>3</th>\n",
       "      <td>0</td>\n",
       "      <td>22.000000</td>\n",
       "      <td>1</td>\n",
       "      <td>135.63330</td>\n",
       "      <td>0</td>\n",
       "      <td>0</td>\n",
       "      <td>1</td>\n",
       "    </tr>\n",
       "    <tr>\n",
       "      <th>4</th>\n",
       "      <td>0</td>\n",
       "      <td>4.000000</td>\n",
       "      <td>3</td>\n",
       "      <td>31.27500</td>\n",
       "      <td>2</td>\n",
       "      <td>4</td>\n",
       "      <td>0</td>\n",
       "    </tr>\n",
       "    <tr>\n",
       "      <th>...</th>\n",
       "      <td>...</td>\n",
       "      <td>...</td>\n",
       "      <td>...</td>\n",
       "      <td>...</td>\n",
       "      <td>...</td>\n",
       "      <td>...</td>\n",
       "      <td>...</td>\n",
       "    </tr>\n",
       "    <tr>\n",
       "      <th>760</th>\n",
       "      <td>1</td>\n",
       "      <td>30.000000</td>\n",
       "      <td>1</td>\n",
       "      <td>106.42500</td>\n",
       "      <td>0</td>\n",
       "      <td>0</td>\n",
       "      <td>1</td>\n",
       "    </tr>\n",
       "    <tr>\n",
       "      <th>761</th>\n",
       "      <td>0</td>\n",
       "      <td>29.000000</td>\n",
       "      <td>2</td>\n",
       "      <td>27.72080</td>\n",
       "      <td>0</td>\n",
       "      <td>1</td>\n",
       "      <td>1</td>\n",
       "    </tr>\n",
       "    <tr>\n",
       "      <th>762</th>\n",
       "      <td>0</td>\n",
       "      <td>18.000000</td>\n",
       "      <td>3</td>\n",
       "      <td>7.77500</td>\n",
       "      <td>0</td>\n",
       "      <td>0</td>\n",
       "      <td>0</td>\n",
       "    </tr>\n",
       "    <tr>\n",
       "      <th>763</th>\n",
       "      <td>1</td>\n",
       "      <td>45.000000</td>\n",
       "      <td>3</td>\n",
       "      <td>7.75000</td>\n",
       "      <td>0</td>\n",
       "      <td>0</td>\n",
       "      <td>0</td>\n",
       "    </tr>\n",
       "    <tr>\n",
       "      <th>764</th>\n",
       "      <td>1</td>\n",
       "      <td>20.563611</td>\n",
       "      <td>3</td>\n",
       "      <td>107.13882</td>\n",
       "      <td>1</td>\n",
       "      <td>1</td>\n",
       "      <td>1</td>\n",
       "    </tr>\n",
       "  </tbody>\n",
       "</table>\n",
       "<p>765 rows × 7 columns</p>\n",
       "</div>"
      ],
      "text/plain": [
       "     sex        age  pclass       fare  parch  sibsp  embarked\n",
       "0      0  28.000000       2   13.00000      0      0         0\n",
       "1      1  18.000000       2   23.00000      1      0         0\n",
       "2      1  29.699118       3    7.22920      0      0         1\n",
       "3      0  22.000000       1  135.63330      0      0         1\n",
       "4      0   4.000000       3   31.27500      2      4         0\n",
       "..   ...        ...     ...        ...    ...    ...       ...\n",
       "760    1  30.000000       1  106.42500      0      0         1\n",
       "761    0  29.000000       2   27.72080      0      1         1\n",
       "762    0  18.000000       3    7.77500      0      0         0\n",
       "763    1  45.000000       3    7.75000      0      0         0\n",
       "764    1  20.563611       3  107.13882      1      1         1\n",
       "\n",
       "[765 rows x 7 columns]"
      ]
     },
     "execution_count": 4,
     "metadata": {},
     "output_type": "execute_result"
    }
   ],
   "source": [
    "feature_view = fs.get_feature_view(name=\"titanic\", version=1)\n",
    "feature_view.init_batch_scoring(training_dataset_version=1)\n",
    "batch_data = feature_view.get_batch_data()\n",
    "batch_data"
   ]
  },
  {
   "cell_type": "code",
   "execution_count": 5,
   "id": "7bc6bfe0",
   "metadata": {},
   "outputs": [
    {
     "data": {
      "text/plain": [
       "0"
      ]
     },
     "execution_count": 5,
     "metadata": {},
     "output_type": "execute_result"
    }
   ],
   "source": [
    "y_pred = model.predict(batch_data)\n",
    "passenger_survived = y_pred[y_pred.size-1]\n",
    "passenger_survived"
   ]
  },
  {
   "cell_type": "code",
   "execution_count": 6,
   "id": "65f6e3be-53e5-4d48-a1ab-e3c30d443c8c",
   "metadata": {},
   "outputs": [],
   "source": [
    "passenger_details = batch_data.iloc[-1]\n",
    "def remove_last_line_from_string(s):\n",
    "    return s[:s.rfind('\\n')]\n",
    "passenger_details = remove_last_line_from_string(str(passenger_details))\n",
    "\n",
    "with open(\"../../docs/_includes/titanic.html\", \"w\", newline=\"\\n\") as file:\n",
    "    file.write(passenger_details)"
   ]
  },
  {
   "cell_type": "code",
   "execution_count": 7,
   "id": "08c3d222-59b5-4a92-aa6e-c7a57801acd1",
   "metadata": {},
   "outputs": [],
   "source": [
    "img_url = \"https://raw.githubusercontent.com/featurestorebook/mlfs-book/main/docs/titanic/assets/img/titanic_\" + str(passenger_survived) + \".jpg\"\n",
    "img = Image.open(requests.get(img_url, stream=True).raw)            \n",
    "img.save(\"../../docs/titanic/assets/img/latest_titanic_survival.jpg\")"
   ]
  },
  {
   "cell_type": "code",
   "execution_count": null,
   "id": "00939fb5-351d-4acc-be2c-e0a271d59ef2",
   "metadata": {},
   "outputs": [],
   "source": []
  }
 ],
 "metadata": {
  "kernelspec": {
   "display_name": "Python 3 (ipykernel)",
   "language": "python",
   "name": "python3"
  },
  "language_info": {
   "codemirror_mode": {
    "name": "ipython",
    "version": 3
   },
   "file_extension": ".py",
   "mimetype": "text/x-python",
   "name": "python",
   "nbconvert_exporter": "python",
   "pygments_lexer": "ipython3",
   "version": "3.10.0"
  }
 },
 "nbformat": 4,
 "nbformat_minor": 5
}
